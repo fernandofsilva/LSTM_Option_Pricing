{
  "nbformat": 4,
  "nbformat_minor": 0,
  "metadata": {
    "colab": {
      "name": "Notebook Options BS.ipynb",
      "provenance": [],
      "collapsed_sections": [],
      "mount_file_id": "1OigzcvxkDHdANZArTk9J2Iugw29G5nHv",
      "authorship_tag": "ABX9TyNwuZlaAnsPcsh6FMVf7Hku",
      "include_colab_link": true
    },
    "kernelspec": {
      "name": "python3",
      "display_name": "Python 3"
    }
  },
  "cells": [
    {
      "cell_type": "markdown",
      "metadata": {
        "id": "view-in-github",
        "colab_type": "text"
      },
      "source": [
        "<a href=\"https://colab.research.google.com/github/fernandofsilva/thesis/blob/main/Notebook_Options_BS.ipynb\" target=\"_parent\"><img src=\"https://colab.research.google.com/assets/colab-badge.svg\" alt=\"Open In Colab\"/></a>"
      ]
    },
    {
      "cell_type": "markdown",
      "metadata": {
        "id": "PWh2w_21DiLx"
      },
      "source": [
        "# Setup "
      ]
    },
    {
      "cell_type": "code",
      "metadata": {
        "id": "9PsvMkYnCdO7"
      },
      "source": [
        "import pandas as pd\n",
        "import numpy as np\n",
        "import math\n",
        "\n",
        "import warnings\n",
        "warnings.simplefilter('ignore')\n",
        "\n",
        "%matplotlib inline\n",
        "import matplotlib.pyplot as plt\n",
        "import seaborn\n",
        "\n",
        "seaborn.set_style('darkgrid')"
      ],
      "execution_count": null,
      "outputs": []
    },
    {
      "cell_type": "markdown",
      "metadata": {
        "id": "RtDSHfD2D3jS"
      },
      "source": [
        "# Load data"
      ]
    },
    {
      "cell_type": "code",
      "metadata": {
        "id": "i_i63UskD4xi",
        "outputId": "d318fee8-9526-482a-f0c3-4c52b7e8e668",
        "colab": {
          "base_uri": "https://localhost:8080/",
          "height": 204
        }
      },
      "source": [
        "data = pd.read_csv('/content/drive/My Drive/Datasets/data_option.csv')\n",
        "data.head()"
      ],
      "execution_count": null,
      "outputs": [
        {
          "output_type": "execute_result",
          "data": {
            "text/html": [
              "<div>\n",
              "<style scoped>\n",
              "    .dataframe tbody tr th:only-of-type {\n",
              "        vertical-align: middle;\n",
              "    }\n",
              "\n",
              "    .dataframe tbody tr th {\n",
              "        vertical-align: top;\n",
              "    }\n",
              "\n",
              "    .dataframe thead th {\n",
              "        text-align: right;\n",
              "    }\n",
              "</style>\n",
              "<table border=\"1\" class=\"dataframe\">\n",
              "  <thead>\n",
              "    <tr style=\"text-align: right;\">\n",
              "      <th></th>\n",
              "      <th>date</th>\n",
              "      <th>option</th>\n",
              "      <th>value</th>\n",
              "      <th>X</th>\n",
              "      <th>expire</th>\n",
              "      <th>option_type</th>\n",
              "      <th>T</th>\n",
              "      <th>S</th>\n",
              "      <th>volume</th>\n",
              "      <th>r</th>\n",
              "      <th>sigma</th>\n",
              "    </tr>\n",
              "  </thead>\n",
              "  <tbody>\n",
              "    <tr>\n",
              "      <th>0</th>\n",
              "      <td>2015-01-05</td>\n",
              "      <td>PETRC53</td>\n",
              "      <td>0.65</td>\n",
              "      <td>9.61</td>\n",
              "      <td>2015-03-16</td>\n",
              "      <td>call</td>\n",
              "      <td>0.190476</td>\n",
              "      <td>8.61</td>\n",
              "      <td>674783884.0</td>\n",
              "      <td>11.57</td>\n",
              "      <td>77.182444</td>\n",
              "    </tr>\n",
              "    <tr>\n",
              "      <th>1</th>\n",
              "      <td>2015-01-05</td>\n",
              "      <td>PETRC50</td>\n",
              "      <td>0.90</td>\n",
              "      <td>9.01</td>\n",
              "      <td>2015-03-16</td>\n",
              "      <td>call</td>\n",
              "      <td>0.190476</td>\n",
              "      <td>8.61</td>\n",
              "      <td>674783884.0</td>\n",
              "      <td>11.57</td>\n",
              "      <td>77.182444</td>\n",
              "    </tr>\n",
              "    <tr>\n",
              "      <th>2</th>\n",
              "      <td>2015-01-05</td>\n",
              "      <td>PETRC51</td>\n",
              "      <td>0.81</td>\n",
              "      <td>9.21</td>\n",
              "      <td>2015-03-16</td>\n",
              "      <td>call</td>\n",
              "      <td>0.190476</td>\n",
              "      <td>8.61</td>\n",
              "      <td>674783884.0</td>\n",
              "      <td>11.57</td>\n",
              "      <td>77.182444</td>\n",
              "    </tr>\n",
              "    <tr>\n",
              "      <th>3</th>\n",
              "      <td>2015-01-05</td>\n",
              "      <td>PETRC52</td>\n",
              "      <td>0.73</td>\n",
              "      <td>9.41</td>\n",
              "      <td>2015-03-16</td>\n",
              "      <td>call</td>\n",
              "      <td>0.190476</td>\n",
              "      <td>8.61</td>\n",
              "      <td>674783884.0</td>\n",
              "      <td>11.57</td>\n",
              "      <td>77.182444</td>\n",
              "    </tr>\n",
              "    <tr>\n",
              "      <th>4</th>\n",
              "      <td>2015-01-05</td>\n",
              "      <td>PETRC54</td>\n",
              "      <td>0.61</td>\n",
              "      <td>9.81</td>\n",
              "      <td>2015-03-16</td>\n",
              "      <td>call</td>\n",
              "      <td>0.190476</td>\n",
              "      <td>8.61</td>\n",
              "      <td>674783884.0</td>\n",
              "      <td>11.57</td>\n",
              "      <td>77.182444</td>\n",
              "    </tr>\n",
              "  </tbody>\n",
              "</table>\n",
              "</div>"
            ],
            "text/plain": [
              "         date   option  value     X  ...     S       volume      r      sigma\n",
              "0  2015-01-05  PETRC53   0.65  9.61  ...  8.61  674783884.0  11.57  77.182444\n",
              "1  2015-01-05  PETRC50   0.90  9.01  ...  8.61  674783884.0  11.57  77.182444\n",
              "2  2015-01-05  PETRC51   0.81  9.21  ...  8.61  674783884.0  11.57  77.182444\n",
              "3  2015-01-05  PETRC52   0.73  9.41  ...  8.61  674783884.0  11.57  77.182444\n",
              "4  2015-01-05  PETRC54   0.61  9.81  ...  8.61  674783884.0  11.57  77.182444\n",
              "\n",
              "[5 rows x 11 columns]"
            ]
          },
          "metadata": {
            "tags": []
          },
          "execution_count": 11
        }
      ]
    },
    {
      "cell_type": "markdown",
      "metadata": {
        "id": "0QwuT2F3C6HX"
      },
      "source": [
        "# Black-Scholes"
      ]
    },
    {
      "cell_type": "code",
      "metadata": {
        "id": "yBS-S3YQDo62",
        "outputId": "8353f282-e44a-4ff9-f2b6-705518a3e423",
        "colab": {
          "base_uri": "https://localhost:8080/",
          "height": 204
        }
      },
      "source": [
        "from scipy.stats import norm\n",
        "\n",
        "# Auxiliary function for d_one risk-adjusted probability\n",
        "def d11(S, X, T, r, sigma):\n",
        "    \"\"\"This is an auxiliary function and is not intended to be called externally.\"\"\"\n",
        "    return (np.log(S/X) + (r + 0.5 * sigma**2)*T) / (sigma * np.sqrt(T))\n",
        "\n",
        "# Auxiliary function for d_two risk-adjusted probability\n",
        "def d21(d1, T, sigma):\n",
        "    \"\"\"This is an auxiliary function and is not intended to be called externally.\"\"\"\n",
        "    return d1 - sigma * np.sqrt(T)\n",
        "\n",
        "# Definition of the Black-Scholes delta function\n",
        "def bs_delta(S, X, T, r, sigma, option_type):\n",
        "    \"\"\"Compute the delta of the Black-Scholes option pricing formula.\n",
        "\n",
        "    Arguments:\n",
        "    S           -- the current spot price of the underlying stock\n",
        "    X           -- the option strike price\n",
        "    T           -- the time until maturity (in fractions of a year)\n",
        "    r           -- the risk-free interest rate\n",
        "    sigma       -- the returns volatility of the underlying stock\n",
        "    option_type -- the option type, either 'call' or 'put'\n",
        "\n",
        "    Returns: a numpy.float_ representing the delta value\n",
        "    Exceptions raised: ValueError if option_type is not 'call' or 'put'\n",
        "    \"\"\"\n",
        "    if option_type == 'call':\n",
        "        return norm.cdf(d11(S, X, T, r, sigma))\n",
        "    elif option_type == 'put':\n",
        "        return norm.cdf(-d11(S, X, T, r, sigma))\n",
        "    else:\n",
        "        # Raise an error if the option_type is neither a call nor a put\n",
        "        raise ValueError(\"Option type is either 'call' or 'put'.\")\n",
        "\n",
        "# Definition of the Black-Scholes European option pricing formula\n",
        "def black_scholes(S, X, T, r, sigma, option_type):\n",
        "    \"\"\"Price a European option using the Black-Scholes option pricing formula.\n",
        "\n",
        "    Arguments:\n",
        "    S           -- the current spot price of the underlying stock\n",
        "    X           -- the option strike price\n",
        "    T           -- the time until maturity (in fractions of a year)\n",
        "    r           -- the risk-free interest rate\n",
        "    sigma       -- the returns volatility of the underlying stock\n",
        "    option_type -- the option type, either 'call' or 'put'\n",
        "\n",
        "    Returns: a numpy.float_ representing the option value\n",
        "    Exceptions raised: ValueError if option_type is not 'call' or 'put'\n",
        "    \"\"\"\n",
        "    d_one = d11(S, X, T, r, sigma)\n",
        "    d_two = d21(d_one, T, sigma)\n",
        "    if option_type == 'call':\n",
        "        return S * norm.cdf(d_one) - np.exp(-r * T) * X * norm.cdf(d_two)\n",
        "    elif option_type == 'put':\n",
        "        return -(S * norm.cdf(-d_one) - np.exp(-r * T) * X * norm.cdf(-d_two))\n",
        "    else:\n",
        "        # Raise an error if the option_type is neither a call nor a put\n",
        "        raise ValueError(\"Option type is either 'call' or 'put'.\")\n",
        "\n",
        "def bs_pandas(row):\n",
        "    value = black_scholes(\n",
        "        row['S'], row['X'], row['T'], row['r']/100, row['sigma']/100, row['option_type']\n",
        "    )\n",
        "    return round(value, 2)\n",
        "\n",
        "def delta_pandas(row):\n",
        "    value = bs_delta(\n",
        "        row['S'], row['X'], row['T'], row['r']/100, row['sigma']/100, row['option_type']\n",
        "    )\n",
        "    return int(round(value * 100, 0))\n",
        "\n",
        "data['bs'] = data.apply(bs_pandas, axis=1)\n",
        "data['delta'] = data.apply(delta_pandas, axis=1)\n",
        "\n",
        "data.head()"
      ],
      "execution_count": null,
      "outputs": [
        {
          "output_type": "execute_result",
          "data": {
            "text/html": [
              "<div>\n",
              "<style scoped>\n",
              "    .dataframe tbody tr th:only-of-type {\n",
              "        vertical-align: middle;\n",
              "    }\n",
              "\n",
              "    .dataframe tbody tr th {\n",
              "        vertical-align: top;\n",
              "    }\n",
              "\n",
              "    .dataframe thead th {\n",
              "        text-align: right;\n",
              "    }\n",
              "</style>\n",
              "<table border=\"1\" class=\"dataframe\">\n",
              "  <thead>\n",
              "    <tr style=\"text-align: right;\">\n",
              "      <th></th>\n",
              "      <th>date</th>\n",
              "      <th>option</th>\n",
              "      <th>value</th>\n",
              "      <th>X</th>\n",
              "      <th>expire</th>\n",
              "      <th>option_type</th>\n",
              "      <th>T</th>\n",
              "      <th>S</th>\n",
              "      <th>volume</th>\n",
              "      <th>r</th>\n",
              "      <th>sigma</th>\n",
              "      <th>bs</th>\n",
              "      <th>delta</th>\n",
              "    </tr>\n",
              "  </thead>\n",
              "  <tbody>\n",
              "    <tr>\n",
              "      <th>0</th>\n",
              "      <td>2015-01-05</td>\n",
              "      <td>PETRC53</td>\n",
              "      <td>0.65</td>\n",
              "      <td>9.61</td>\n",
              "      <td>2015-03-16</td>\n",
              "      <td>call</td>\n",
              "      <td>0.190476</td>\n",
              "      <td>8.61</td>\n",
              "      <td>674783884.0</td>\n",
              "      <td>11.57</td>\n",
              "      <td>77.182444</td>\n",
              "      <td>0.85</td>\n",
              "      <td>46</td>\n",
              "    </tr>\n",
              "    <tr>\n",
              "      <th>1</th>\n",
              "      <td>2015-01-05</td>\n",
              "      <td>PETRC50</td>\n",
              "      <td>0.90</td>\n",
              "      <td>9.01</td>\n",
              "      <td>2015-03-16</td>\n",
              "      <td>call</td>\n",
              "      <td>0.190476</td>\n",
              "      <td>8.61</td>\n",
              "      <td>674783884.0</td>\n",
              "      <td>11.57</td>\n",
              "      <td>77.182444</td>\n",
              "      <td>1.07</td>\n",
              "      <td>54</td>\n",
              "    </tr>\n",
              "    <tr>\n",
              "      <th>2</th>\n",
              "      <td>2015-01-05</td>\n",
              "      <td>PETRC51</td>\n",
              "      <td>0.81</td>\n",
              "      <td>9.21</td>\n",
              "      <td>2015-03-16</td>\n",
              "      <td>call</td>\n",
              "      <td>0.190476</td>\n",
              "      <td>8.61</td>\n",
              "      <td>674783884.0</td>\n",
              "      <td>11.57</td>\n",
              "      <td>77.182444</td>\n",
              "      <td>0.99</td>\n",
              "      <td>51</td>\n",
              "    </tr>\n",
              "    <tr>\n",
              "      <th>3</th>\n",
              "      <td>2015-01-05</td>\n",
              "      <td>PETRC52</td>\n",
              "      <td>0.73</td>\n",
              "      <td>9.41</td>\n",
              "      <td>2015-03-16</td>\n",
              "      <td>call</td>\n",
              "      <td>0.190476</td>\n",
              "      <td>8.61</td>\n",
              "      <td>674783884.0</td>\n",
              "      <td>11.57</td>\n",
              "      <td>77.182444</td>\n",
              "      <td>0.92</td>\n",
              "      <td>49</td>\n",
              "    </tr>\n",
              "    <tr>\n",
              "      <th>4</th>\n",
              "      <td>2015-01-05</td>\n",
              "      <td>PETRC54</td>\n",
              "      <td>0.61</td>\n",
              "      <td>9.81</td>\n",
              "      <td>2015-03-16</td>\n",
              "      <td>call</td>\n",
              "      <td>0.190476</td>\n",
              "      <td>8.61</td>\n",
              "      <td>674783884.0</td>\n",
              "      <td>11.57</td>\n",
              "      <td>77.182444</td>\n",
              "      <td>0.79</td>\n",
              "      <td>44</td>\n",
              "    </tr>\n",
              "  </tbody>\n",
              "</table>\n",
              "</div>"
            ],
            "text/plain": [
              "         date   option  value     X  ...      r      sigma    bs  delta\n",
              "0  2015-01-05  PETRC53   0.65  9.61  ...  11.57  77.182444  0.85     46\n",
              "1  2015-01-05  PETRC50   0.90  9.01  ...  11.57  77.182444  1.07     54\n",
              "2  2015-01-05  PETRC51   0.81  9.21  ...  11.57  77.182444  0.99     51\n",
              "3  2015-01-05  PETRC52   0.73  9.41  ...  11.57  77.182444  0.92     49\n",
              "4  2015-01-05  PETRC54   0.61  9.81  ...  11.57  77.182444  0.79     44\n",
              "\n",
              "[5 rows x 13 columns]"
            ]
          },
          "metadata": {
            "tags": []
          },
          "execution_count": 12
        }
      ]
    },
    {
      "cell_type": "markdown",
      "metadata": {
        "id": "oaxSrcTYFZ9j"
      },
      "source": [
        "## Metrics"
      ]
    },
    {
      "cell_type": "code",
      "metadata": {
        "id": "rzqbIyxrFaPI",
        "outputId": "4c893f1a-a710-4446-a57f-2142ca9f74ff",
        "colab": {
          "base_uri": "https://localhost:8080/",
          "height": 85
        }
      },
      "source": [
        "from sklearn.metrics import mean_squared_error, mean_absolute_error\n",
        "\n",
        "def mean_absolute_percentage_error(y_true, y_pred): \n",
        "    y_true, y_pred = np.array(y_true), np.array(y_pred)\n",
        "    return np.mean(np.abs((y_true - y_pred) / y_true)) * 100\n",
        "\n",
        "mse = mean_squared_error(data['value'], data['bs'])\n",
        "mae = mean_absolute_error(data['value'], data['bs'])\n",
        "mape = mean_absolute_percentage_error(data['value'], data['bs'])\n",
        "\n",
        "print(f'Erro médio {mse:.2f}')\n",
        "print(f'Raís do erro médio {np.sqrt(mse):.2f}')\n",
        "print(f'Erro médio absoluto {mae:.2f}')\n",
        "print(f'Percentual do erro médio absoluto {mape:.2f}')"
      ],
      "execution_count": null,
      "outputs": [
        {
          "output_type": "stream",
          "text": [
            "Erro médio 0.10\n",
            "Raís do erro médio 0.32\n",
            "Erro médio absoluto 0.15\n",
            "Percentual do erro médio absoluto 40.86\n"
          ],
          "name": "stdout"
        }
      ]
    },
    {
      "cell_type": "markdown",
      "metadata": {
        "id": "tJuXl1tuOuVO"
      },
      "source": [
        ""
      ]
    },
    {
      "cell_type": "code",
      "metadata": {
        "id": "x95BROEdQm4a",
        "outputId": "0a733ee4-44dc-45a9-a0fd-11ab1a2d1f8d",
        "colab": {
          "base_uri": "https://localhost:8080/",
          "height": 419
        }
      },
      "source": [
        "data[data['option_type'] == 'put']"
      ],
      "execution_count": null,
      "outputs": [
        {
          "output_type": "execute_result",
          "data": {
            "text/html": [
              "<div>\n",
              "<style scoped>\n",
              "    .dataframe tbody tr th:only-of-type {\n",
              "        vertical-align: middle;\n",
              "    }\n",
              "\n",
              "    .dataframe tbody tr th {\n",
              "        vertical-align: top;\n",
              "    }\n",
              "\n",
              "    .dataframe thead th {\n",
              "        text-align: right;\n",
              "    }\n",
              "</style>\n",
              "<table border=\"1\" class=\"dataframe\">\n",
              "  <thead>\n",
              "    <tr style=\"text-align: right;\">\n",
              "      <th></th>\n",
              "      <th>date</th>\n",
              "      <th>option</th>\n",
              "      <th>value</th>\n",
              "      <th>X</th>\n",
              "      <th>expire</th>\n",
              "      <th>option_type</th>\n",
              "      <th>T</th>\n",
              "      <th>S</th>\n",
              "      <th>volume</th>\n",
              "      <th>r</th>\n",
              "      <th>sigma</th>\n",
              "      <th>bs</th>\n",
              "      <th>delta</th>\n",
              "    </tr>\n",
              "  </thead>\n",
              "  <tbody>\n",
              "    <tr>\n",
              "      <th>17</th>\n",
              "      <td>2015-01-05</td>\n",
              "      <td>PETRO51</td>\n",
              "      <td>1.14</td>\n",
              "      <td>9.21</td>\n",
              "      <td>2015-03-16</td>\n",
              "      <td>put</td>\n",
              "      <td>0.190476</td>\n",
              "      <td>8.61</td>\n",
              "      <td>6.747839e+08</td>\n",
              "      <td>11.57</td>\n",
              "      <td>77.182444</td>\n",
              "      <td>1.39</td>\n",
              "      <td>49</td>\n",
              "    </tr>\n",
              "    <tr>\n",
              "      <th>18</th>\n",
              "      <td>2015-01-05</td>\n",
              "      <td>PETRN65</td>\n",
              "      <td>6.80</td>\n",
              "      <td>15.66</td>\n",
              "      <td>2015-02-09</td>\n",
              "      <td>put</td>\n",
              "      <td>0.099206</td>\n",
              "      <td>8.61</td>\n",
              "      <td>6.747839e+08</td>\n",
              "      <td>11.57</td>\n",
              "      <td>77.182444</td>\n",
              "      <td>6.88</td>\n",
              "      <td>99</td>\n",
              "    </tr>\n",
              "    <tr>\n",
              "      <th>19</th>\n",
              "      <td>2015-01-05</td>\n",
              "      <td>PETRN67</td>\n",
              "      <td>0.96</td>\n",
              "      <td>9.11</td>\n",
              "      <td>2015-02-09</td>\n",
              "      <td>put</td>\n",
              "      <td>0.099206</td>\n",
              "      <td>8.61</td>\n",
              "      <td>6.747839e+08</td>\n",
              "      <td>11.57</td>\n",
              "      <td>77.182444</td>\n",
              "      <td>1.06</td>\n",
              "      <td>53</td>\n",
              "    </tr>\n",
              "    <tr>\n",
              "      <th>20</th>\n",
              "      <td>2015-01-05</td>\n",
              "      <td>PETRN68</td>\n",
              "      <td>0.85</td>\n",
              "      <td>8.91</td>\n",
              "      <td>2015-02-09</td>\n",
              "      <td>put</td>\n",
              "      <td>0.099206</td>\n",
              "      <td>8.61</td>\n",
              "      <td>6.747839e+08</td>\n",
              "      <td>11.57</td>\n",
              "      <td>77.182444</td>\n",
              "      <td>0.95</td>\n",
              "      <td>49</td>\n",
              "    </tr>\n",
              "    <tr>\n",
              "      <th>21</th>\n",
              "      <td>2015-01-05</td>\n",
              "      <td>PETRN70</td>\n",
              "      <td>2.10</td>\n",
              "      <td>10.66</td>\n",
              "      <td>2015-02-09</td>\n",
              "      <td>put</td>\n",
              "      <td>0.099206</td>\n",
              "      <td>8.61</td>\n",
              "      <td>6.747839e+08</td>\n",
              "      <td>11.57</td>\n",
              "      <td>77.182444</td>\n",
              "      <td>2.19</td>\n",
              "      <td>76</td>\n",
              "    </tr>\n",
              "    <tr>\n",
              "      <th>...</th>\n",
              "      <td>...</td>\n",
              "      <td>...</td>\n",
              "      <td>...</td>\n",
              "      <td>...</td>\n",
              "      <td>...</td>\n",
              "      <td>...</td>\n",
              "      <td>...</td>\n",
              "      <td>...</td>\n",
              "      <td>...</td>\n",
              "      <td>...</td>\n",
              "      <td>...</td>\n",
              "      <td>...</td>\n",
              "      <td>...</td>\n",
              "    </tr>\n",
              "    <tr>\n",
              "      <th>234495</th>\n",
              "      <td>2019-12-13</td>\n",
              "      <td>PETRX265</td>\n",
              "      <td>0.01</td>\n",
              "      <td>26.06</td>\n",
              "      <td>2019-12-16</td>\n",
              "      <td>put</td>\n",
              "      <td>0.003968</td>\n",
              "      <td>29.98</td>\n",
              "      <td>3.172882e+09</td>\n",
              "      <td>4.90</td>\n",
              "      <td>28.228712</td>\n",
              "      <td>0.00</td>\n",
              "      <td>0</td>\n",
              "    </tr>\n",
              "    <tr>\n",
              "      <th>234497</th>\n",
              "      <td>2019-12-13</td>\n",
              "      <td>PETRX347</td>\n",
              "      <td>4.35</td>\n",
              "      <td>34.31</td>\n",
              "      <td>2019-12-16</td>\n",
              "      <td>put</td>\n",
              "      <td>0.003968</td>\n",
              "      <td>29.98</td>\n",
              "      <td>3.172882e+09</td>\n",
              "      <td>4.90</td>\n",
              "      <td>28.228712</td>\n",
              "      <td>4.32</td>\n",
              "      <td>100</td>\n",
              "    </tr>\n",
              "    <tr>\n",
              "      <th>234498</th>\n",
              "      <td>2019-12-13</td>\n",
              "      <td>PETRX311</td>\n",
              "      <td>0.84</td>\n",
              "      <td>30.81</td>\n",
              "      <td>2019-12-16</td>\n",
              "      <td>put</td>\n",
              "      <td>0.003968</td>\n",
              "      <td>29.98</td>\n",
              "      <td>3.172882e+09</td>\n",
              "      <td>4.90</td>\n",
              "      <td>28.228712</td>\n",
              "      <td>0.84</td>\n",
              "      <td>94</td>\n",
              "    </tr>\n",
              "    <tr>\n",
              "      <th>234500</th>\n",
              "      <td>2019-12-13</td>\n",
              "      <td>PETRX286</td>\n",
              "      <td>0.02</td>\n",
              "      <td>28.31</td>\n",
              "      <td>2019-12-16</td>\n",
              "      <td>put</td>\n",
              "      <td>0.003968</td>\n",
              "      <td>29.98</td>\n",
              "      <td>3.172882e+09</td>\n",
              "      <td>4.90</td>\n",
              "      <td>28.228712</td>\n",
              "      <td>0.00</td>\n",
              "      <td>0</td>\n",
              "    </tr>\n",
              "    <tr>\n",
              "      <th>234501</th>\n",
              "      <td>2019-12-13</td>\n",
              "      <td>PETRX391</td>\n",
              "      <td>8.68</td>\n",
              "      <td>38.81</td>\n",
              "      <td>2019-12-16</td>\n",
              "      <td>put</td>\n",
              "      <td>0.003968</td>\n",
              "      <td>29.98</td>\n",
              "      <td>3.172882e+09</td>\n",
              "      <td>4.90</td>\n",
              "      <td>28.228712</td>\n",
              "      <td>8.82</td>\n",
              "      <td>100</td>\n",
              "    </tr>\n",
              "  </tbody>\n",
              "</table>\n",
              "<p>88748 rows × 13 columns</p>\n",
              "</div>"
            ],
            "text/plain": [
              "              date    option  value      X  ...      r      sigma    bs  delta\n",
              "17      2015-01-05   PETRO51   1.14   9.21  ...  11.57  77.182444  1.39     49\n",
              "18      2015-01-05   PETRN65   6.80  15.66  ...  11.57  77.182444  6.88     99\n",
              "19      2015-01-05   PETRN67   0.96   9.11  ...  11.57  77.182444  1.06     53\n",
              "20      2015-01-05   PETRN68   0.85   8.91  ...  11.57  77.182444  0.95     49\n",
              "21      2015-01-05   PETRN70   2.10  10.66  ...  11.57  77.182444  2.19     76\n",
              "...            ...       ...    ...    ...  ...    ...        ...   ...    ...\n",
              "234495  2019-12-13  PETRX265   0.01  26.06  ...   4.90  28.228712  0.00      0\n",
              "234497  2019-12-13  PETRX347   4.35  34.31  ...   4.90  28.228712  4.32    100\n",
              "234498  2019-12-13  PETRX311   0.84  30.81  ...   4.90  28.228712  0.84     94\n",
              "234500  2019-12-13  PETRX286   0.02  28.31  ...   4.90  28.228712  0.00      0\n",
              "234501  2019-12-13  PETRX391   8.68  38.81  ...   4.90  28.228712  8.82    100\n",
              "\n",
              "[88748 rows x 13 columns]"
            ]
          },
          "metadata": {
            "tags": []
          },
          "execution_count": 14
        }
      ]
    },
    {
      "cell_type": "code",
      "metadata": {
        "id": "jrbpRFCwQn7x",
        "outputId": "262d3505-85d5-4171-abbe-c3c0dcb6fe4b",
        "colab": {
          "base_uri": "https://localhost:8080/",
          "height": 34
        }
      },
      "source": [
        "bs_delta(8.61, 10.66, 0.099206, 11.57/100, 77.182444/100, 'put')"
      ],
      "execution_count": null,
      "outputs": [
        {
          "output_type": "execute_result",
          "data": {
            "text/plain": [
              "0.7610775316957249"
            ]
          },
          "metadata": {
            "tags": []
          },
          "execution_count": 15
        }
      ]
    },
    {
      "cell_type": "code",
      "metadata": {
        "id": "PHBHZu_YvOL8",
        "outputId": "22a3cd4a-3604-44e5-fbd4-0be014a7b29c",
        "colab": {
          "base_uri": "https://localhost:8080/",
          "height": 34
        }
      },
      "source": [
        "norm.cdf(-d11(8.61, 10.66, 0.099206, 11.57/100, 77.182444/100))"
      ],
      "execution_count": null,
      "outputs": [
        {
          "output_type": "execute_result",
          "data": {
            "text/plain": [
              "0.7610775316957249"
            ]
          },
          "metadata": {
            "tags": []
          },
          "execution_count": 18
        }
      ]
    },
    {
      "cell_type": "code",
      "metadata": {
        "id": "YTHpZCFpvh8O"
      },
      "source": [
        ""
      ],
      "execution_count": null,
      "outputs": []
    }
  ]
}