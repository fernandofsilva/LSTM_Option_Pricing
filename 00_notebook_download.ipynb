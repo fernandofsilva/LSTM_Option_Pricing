{
  "nbformat": 4,
  "nbformat_minor": 0,
  "metadata": {
    "colab": {
      "name": "00_notebook_download.ipynb",
      "provenance": [],
      "toc_visible": true,
      "mount_file_id": "16m5MhaDgcRFhlbUDPncain0olGIxAMyt",
      "authorship_tag": "ABX9TyND8v3Mk2OLmT1d7U+VuRXw",
      "include_colab_link": true
    },
    "kernelspec": {
      "name": "python3",
      "display_name": "Python 3"
    }
  },
  "cells": [
    {
      "cell_type": "markdown",
      "metadata": {
        "id": "view-in-github",
        "colab_type": "text"
      },
      "source": [
        "<a href=\"https://colab.research.google.com/github/fernandofsilva/LSTM_Option_Pricing/blob/main/00_notebook_download.ipynb\" target=\"_parent\"><img src=\"https://colab.research.google.com/assets/colab-badge.svg\" alt=\"Open In Colab\"/></a>"
      ]
    },
    {
      "cell_type": "markdown",
      "metadata": {
        "id": "SJntpJOB1iji"
      },
      "source": [
        "# Setup"
      ]
    },
    {
      "cell_type": "code",
      "metadata": {
        "id": "eaDOnTnswEXg",
        "cellView": "form"
      },
      "source": [
        "#@title Carregar as bibliotecas base\n",
        "import pandas as pd\n",
        "import zipfile\n",
        "import os"
      ],
      "execution_count": 1,
      "outputs": []
    },
    {
      "cell_type": "markdown",
      "metadata": {
        "id": "q1EmEMW323wA"
      },
      "source": [
        "Os dados das cotações de todos os ativos negociadas na [B3](http://www.b3.com.br), estão disponíveis no [link](http://www.b3.com.br/pt_br/market-data-e-indices/servicos-de-dados/market-data/historico/mercado-a-vista/series-historicas/) e precisam ser parseados de acordo com as seguintes instruções [link](http://www.b3.com.br/en_us/market-data-and-indices/data-services/market-data/historical-data/equities/historical-quote-data/).\n",
        "\n",
        "Para essa tarefa é necessário utilizado o pacote [bovespa](https://github.com/fernandofsilva/bovespa), ele é a versão atualizada por mim do pacote desenvolvido a 5 anos atrás [link](https://github.com/thypad/bovespa)."
      ]
    },
    {
      "cell_type": "code",
      "metadata": {
        "id": "SyMn_g2a2dFc",
        "cellView": "form",
        "outputId": "c153a670-2447-48f2-d2ce-a3cf107f591c",
        "colab": {
          "base_uri": "https://localhost:8080/"
        }
      },
      "source": [
        "#@title Instalar pacote Bovespa\n",
        "!pip install git+https://github.com/fernandofsilva/bovespa"
      ],
      "execution_count": 2,
      "outputs": [
        {
          "output_type": "stream",
          "text": [
            "Collecting git+https://github.com/fernandofsilva/bovespa\n",
            "  Cloning https://github.com/fernandofsilva/bovespa to /tmp/pip-req-build-acjegd5x\n",
            "  Running command git clone -q https://github.com/fernandofsilva/bovespa /tmp/pip-req-build-acjegd5x\n",
            "Building wheels for collected packages: bovespa\n",
            "  Building wheel for bovespa (setup.py) ... \u001b[?25l\u001b[?25hdone\n",
            "  Created wheel for bovespa: filename=bovespa-0.1.0-cp36-none-any.whl size=9211 sha256=8cc1c55455269e17f246398b3af55e4008a618c7da35142938e109dfee5c2a19\n",
            "  Stored in directory: /tmp/pip-ephem-wheel-cache-1rn9stne/wheels/cb/3c/9b/27644c70e14f3c2a2dd611dcfcf8f4f6856e4577f3f881eff4\n",
            "Successfully built bovespa\n",
            "Installing collected packages: bovespa\n",
            "Successfully installed bovespa-0.1.0\n"
          ],
          "name": "stdout"
        }
      ]
    },
    {
      "cell_type": "markdown",
      "metadata": {
        "id": "_mYfk11_5-HK"
      },
      "source": [
        "Os dados estão salvos dentro do meu Google Drive, porém estão disponíveis através do site da bovespa e também dentro do [Github](https://github.com/fernandofsilva/LSTM_Option_Pricing/tree/main/data) do projeto."
      ]
    },
    {
      "cell_type": "code",
      "metadata": {
        "id": "wr6IROxu2mMk",
        "cellView": "form"
      },
      "source": [
        "#@title Descompactor os arquivos\n",
        "\n",
        "# Path to the files\n",
        "path = '/content/drive/My Drive/Mestrado/data/'\n",
        "\n",
        "# List files in the directory\n",
        "files = os.listdir(path)\n",
        "\n",
        "# Filter just quotation data\n",
        "files = list(filter(lambda file: 'COTAHIST' in file, files))\n",
        "\n",
        "# Loop over the files, unzip and save then local\n",
        "for file in files:\n",
        "    with zipfile.ZipFile(path + file, 'r') as zip_ref:\n",
        "        zip_ref.extractall('')"
      ],
      "execution_count": 3,
      "outputs": []
    },
    {
      "cell_type": "code",
      "metadata": {
        "id": "cLU0pdsl8T6U",
        "cellView": "form",
        "outputId": "0d3f4314-8e15-40f3-839b-08a5f3219e16",
        "colab": {
          "base_uri": "https://localhost:8080/"
        }
      },
      "source": [
        "#@title Amostra dos dados\n",
        "!head -10 COTAHIST_A2020.TXT"
      ],
      "execution_count": 4,
      "outputs": [
        {
          "output_type": "stream",
          "text": [
            "00COTAHIST.2020BOVESPA 20201113                                                                                                                                                                                                                      \r\n",
            "012020010202AALR3       010ALLIAR      ON      NM   R$  000000000182900000000019000000000001828000000000186800000000019000000000001899000000000190102443000000000000585800000000001094619600000000000000009999123100000010000000000000BRAALRACNOR6101\r\n",
            "012020010202AAPL34      010APPLE       DRN          R$  000000001200000000000121340000000012000000000001207300000000121340000000010550000000001213400009000000000000012700000000000153338000000000000000009999123100000010000000000000BRAAPLBDR004131\r\n",
            "012020010202ABCB4       010ABC BRASIL  PN  EJ  N2   R$  000000000200000000000020300000000001982000000000200500000000020300000000002008000000000203003979000000000000870400000000001745787800000000000000009999123100000010000000000000BRABCBACNPR4133\r\n",
            "012020010202ABEV3       010AMBEV S/A   ON  EJ       R$  000000000188600000000019250000000001878000000000191200000000019200000000001919000000000192031581000000000016011300000000030623479100000000000000009999123100000010000000000000BRABEVACNOR1122\r\n",
            "012020010202ADHM3       010ADVANCED-DH ON           R$  000000000025500000000002550000000000235000000000024400000000002480000000000248000000000024900307000000000000193400000000000047192700000000000000009999123100000010000000000000BRADHMACNOR9101\r\n",
            "012020010202AFLT3       010AFLUENTE T  ON           R$  000000000111300000000011280000000001100000000000111500000000011230000000001101000000000112300024000000000000004300000000000004796200000000000000009999123100000010000000000000BRAFLTACNOR1114\r\n",
            "012020010202AGRO3       010BRASILAGRO  ON      NM   R$  000000000191000000000019300000000001910000000000192100000000019250000000001919000000000192500211000000000000059600000000000114531800000000000000009999123100000010000000000000BRAGROACNOR7109\r\n",
            "012020010202ALPA3       010ALPARGATAS  ON      N1   R$  000000000275800000000027640000000002680000000000271700000000026800000000002675000000000272600048000000000000009700000000000026358000000000000000009999123100000010000000000000BRALPAACNOR0228\r\n",
            "012020010202ALPA4       010ALPARGATAS  PN      N1   R$  000000000329800000000033440000000003247000000000327400000000032580000000003258000000000327007064000000000001355800000000004439489300000000000000009999123100000010000000000000BRALPAACNPR7228\r\n"
          ],
          "name": "stdout"
        }
      ]
    },
    {
      "cell_type": "markdown",
      "metadata": {
        "id": "mWdwClyT_BZs"
      },
      "source": [
        "# Parser dos dados\n",
        "\n",
        "Parsear os dados e salvar em format .Csv"
      ]
    },
    {
      "cell_type": "code",
      "metadata": {
        "id": "NStnRhIw9fkM",
        "cellView": "form",
        "outputId": "a97e1f3a-b993-4f91-932e-c3437321e17d",
        "colab": {
          "base_uri": "https://localhost:8080/"
        }
      },
      "source": [
        "#@title Parser\n",
        "import bovespa\n",
        "\n",
        "# Correct file names\n",
        "files = list(map(lambda file: file.replace('.zip', '.TXT'), files))\n",
        "\n",
        "# Loop over the files\n",
        "for file in files:\n",
        "\n",
        "    # Parse files\n",
        "    bf = bovespa.stock_history([file])\n",
        "\n",
        "    # Save Csv\n",
        "    bf.to_csv(f'{file[:-4]}.csv')"
      ],
      "execution_count": 5,
      "outputs": [
        {
          "output_type": "stream",
          "text": [
            "OrderedDict([('TIPREG', '00'), ('NOMARQ', 'COTAHIST.2019'), ('CODORI', 'BOVESPA'), ('DATGER', datetime.date(2019, 12, 30)), ('RESERV', '')])\n",
            "OrderedDict([('TIPREG', '00'), ('NOMARQ', 'COTAHIST.2020'), ('CODORI', 'BOVESPA'), ('DATGER', datetime.date(2020, 11, 13)), ('RESERV', '')])\n",
            "OrderedDict([('TIPREG', '00'), ('NOMARQ', 'COTAHIST.2018'), ('CODORI', 'BOVESPA'), ('DATGER', datetime.date(2018, 12, 28)), ('RESERV', '')])\n",
            "OrderedDict([('TIPREG', '00'), ('NOMARQ', 'COTAHIST.2017'), ('CODORI', 'BOVESPA'), ('DATGER', datetime.date(2017, 12, 29)), ('RESERV', '')])\n",
            "OrderedDict([('TIPREG', '00'), ('NOMARQ', 'COTAHIST.2016'), ('CODORI', 'BOVESPA'), ('DATGER', datetime.date(2016, 12, 29)), ('RESERV', '')])\n",
            "OrderedDict([('TIPREG', '00'), ('NOMARQ', 'COTAHIST.2015'), ('CODORI', 'BOVESPA'), ('DATGER', datetime.date(2015, 12, 30)), ('RESERV', '')])\n"
          ],
          "name": "stdout"
        }
      ]
    },
    {
      "cell_type": "markdown",
      "metadata": {
        "id": "LOOw8WaTVji6"
      },
      "source": [
        "# Selecionar colunas e salvar Csv"
      ]
    },
    {
      "cell_type": "code",
      "metadata": {
        "id": "kqEkalWUV0if",
        "cellView": "form"
      },
      "source": [
        "#@title Ler os arquivos\n",
        "# Correct file names\n",
        "files = list(map(lambda file: file.replace('.TXT', '.csv'), files))\n",
        "\n",
        "# Cols to filter\n",
        "cols = ['DATPRG', 'CODNEG', 'PREULT', 'PREEXE', 'DATVEN', 'TPMERC']\n",
        "\n",
        "# Instantiate list\n",
        "dataframe_list = []\n",
        "\n",
        "# Loop over the files\n",
        "for file in files:\n",
        "    dataframe_list.append(pd.read_csv(file, usecols=cols))\n",
        "\n",
        "# Concatenate dataframes\n",
        "data = pd.concat(dataframe_list, axis=0)"
      ],
      "execution_count": 6,
      "outputs": []
    },
    {
      "cell_type": "code",
      "metadata": {
        "id": "EyvaRt71WxrM",
        "cellView": "form",
        "outputId": "179927b5-3f14-4202-bd6b-0e776688c1dd",
        "colab": {
          "base_uri": "https://localhost:8080/",
          "height": 204
        }
      },
      "source": [
        "#@title Formatar os dados\n",
        "# Convert to datetime\n",
        "data.loc[data['DATVEN'] == '9999-12-31', 'DATVEN'] = data.loc[data['DATVEN'] == '9999-12-31', 'DATPRG']\n",
        "data[['DATPRG', 'DATVEN']] = data[['DATPRG', 'DATVEN']].apply(pd.to_datetime)\n",
        "\n",
        "# Rename columns\n",
        "dict_ref = {\n",
        "    'DATPRG': 'date',\n",
        "    'CODNEG': 'symbol',\n",
        "    'PREULT': 'price',\n",
        "    'PREEXE': 'strike',\n",
        "    'DATVEN': 'expire',\n",
        "    'TPMERC': 'market'\n",
        "}\n",
        "\n",
        "# Rename the columns\n",
        "data = data.rename(columns=dict_ref)\n",
        "\n",
        "# Dict market type\n",
        "market = {\n",
        "    10: 'VISTA',\n",
        "    12: 'EXERCÍCIO DE OPÇÕES DE COMPRA',\n",
        "    13: 'EXERCÍCIO DE OPÇÕES DE VENDA',\n",
        "    17: 'LEILÃO',\n",
        "    20: 'FRACIONÁRIO',\n",
        "    30: 'TERMO',\n",
        "    50: 'FUTURO COM RETENÇÃO DE GANHO',\n",
        "    60: 'FUTURO COM MOVIMENTAÇÃO CONTÍNUA',\n",
        "    70: 'OPÇÕES DE COMPRA',\n",
        "    80: 'OPÇÕES DE VENDA',\n",
        "}\n",
        "\n",
        "# Replace options types\n",
        "data['market'] = data['market'].replace(market)\n",
        "\n",
        "data.head()"
      ],
      "execution_count": 7,
      "outputs": [
        {
          "output_type": "execute_result",
          "data": {
            "text/html": [
              "<div>\n",
              "<style scoped>\n",
              "    .dataframe tbody tr th:only-of-type {\n",
              "        vertical-align: middle;\n",
              "    }\n",
              "\n",
              "    .dataframe tbody tr th {\n",
              "        vertical-align: top;\n",
              "    }\n",
              "\n",
              "    .dataframe thead th {\n",
              "        text-align: right;\n",
              "    }\n",
              "</style>\n",
              "<table border=\"1\" class=\"dataframe\">\n",
              "  <thead>\n",
              "    <tr style=\"text-align: right;\">\n",
              "      <th></th>\n",
              "      <th>date</th>\n",
              "      <th>symbol</th>\n",
              "      <th>market</th>\n",
              "      <th>price</th>\n",
              "      <th>strike</th>\n",
              "      <th>expire</th>\n",
              "    </tr>\n",
              "  </thead>\n",
              "  <tbody>\n",
              "    <tr>\n",
              "      <th>0</th>\n",
              "      <td>2019-01-02</td>\n",
              "      <td>AALR3</td>\n",
              "      <td>VISTA</td>\n",
              "      <td>13.25</td>\n",
              "      <td>0.0</td>\n",
              "      <td>2019-01-02</td>\n",
              "    </tr>\n",
              "    <tr>\n",
              "      <th>1</th>\n",
              "      <td>2019-01-02</td>\n",
              "      <td>AAPL34</td>\n",
              "      <td>VISTA</td>\n",
              "      <td>60.41</td>\n",
              "      <td>0.0</td>\n",
              "      <td>2019-01-02</td>\n",
              "    </tr>\n",
              "    <tr>\n",
              "      <th>2</th>\n",
              "      <td>2019-01-02</td>\n",
              "      <td>ABBV34</td>\n",
              "      <td>VISTA</td>\n",
              "      <td>342.84</td>\n",
              "      <td>0.0</td>\n",
              "      <td>2019-01-02</td>\n",
              "    </tr>\n",
              "    <tr>\n",
              "      <th>3</th>\n",
              "      <td>2019-01-02</td>\n",
              "      <td>ABCB4</td>\n",
              "      <td>VISTA</td>\n",
              "      <td>17.12</td>\n",
              "      <td>0.0</td>\n",
              "      <td>2019-01-02</td>\n",
              "    </tr>\n",
              "    <tr>\n",
              "      <th>4</th>\n",
              "      <td>2019-01-02</td>\n",
              "      <td>ABEV3</td>\n",
              "      <td>VISTA</td>\n",
              "      <td>16.15</td>\n",
              "      <td>0.0</td>\n",
              "      <td>2019-01-02</td>\n",
              "    </tr>\n",
              "  </tbody>\n",
              "</table>\n",
              "</div>"
            ],
            "text/plain": [
              "        date  symbol market   price  strike     expire\n",
              "0 2019-01-02   AALR3  VISTA   13.25     0.0 2019-01-02\n",
              "1 2019-01-02  AAPL34  VISTA   60.41     0.0 2019-01-02\n",
              "2 2019-01-02  ABBV34  VISTA  342.84     0.0 2019-01-02\n",
              "3 2019-01-02   ABCB4  VISTA   17.12     0.0 2019-01-02\n",
              "4 2019-01-02   ABEV3  VISTA   16.15     0.0 2019-01-02"
            ]
          },
          "metadata": {
            "tags": []
          },
          "execution_count": 7
        }
      ]
    },
    {
      "cell_type": "markdown",
      "metadata": {
        "id": "Aa70j_wHixqf"
      },
      "source": [
        "O arquivo final é salvo no meu google drive, porém uma cópia está disponível no [link](https://github.com/fernandofsilva/LSTM_Option_Pricing/tree/main/data)"
      ]
    },
    {
      "cell_type": "code",
      "metadata": {
        "id": "WjG3i7URiICA",
        "cellView": "form"
      },
      "source": [
        "#@title Salvar Csv\n",
        "data.to_csv(path + 'quotation.csv.gz', index=False, compression='gzip')"
      ],
      "execution_count": 8,
      "outputs": []
    }
  ]
}