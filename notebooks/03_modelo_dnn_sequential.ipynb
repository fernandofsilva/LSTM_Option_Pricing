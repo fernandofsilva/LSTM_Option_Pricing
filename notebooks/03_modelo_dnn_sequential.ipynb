{
  "nbformat": 4,
  "nbformat_minor": 0,
  "metadata": {
    "colab": {
      "name": "03_modelo_dnn_sequential.ipynb",
      "provenance": [],
      "collapsed_sections": [],
      "toc_visible": true,
      "mount_file_id": "1Y7Dcl5z6KJkihBD6ewPwZkKS706zMOKz",
      "authorship_tag": "ABX9TyNM/5o9cq7n37NN/lpP+qvx",
      "include_colab_link": true
    },
    "kernelspec": {
      "name": "python3",
      "display_name": "Python 3"
    },
    "accelerator": "TPU"
  },
  "cells": [
    {
      "cell_type": "markdown",
      "metadata": {
        "id": "view-in-github",
        "colab_type": "text"
      },
      "source": [
        "<a href=\"https://colab.research.google.com/github/fernandofsilva/LSTM_Option_Pricing/blob/main/notebooks/03_modelo_dnn_sequential.ipynb\" target=\"_parent\"><img src=\"https://colab.research.google.com/assets/colab-badge.svg\" alt=\"Open In Colab\"/></a>"
      ]
    },
    {
      "cell_type": "markdown",
      "metadata": {
        "id": "-ygLRzapGrpY"
      },
      "source": [
        "# Setup"
      ]
    },
    {
      "cell_type": "code",
      "metadata": {
        "cellView": "form",
        "id": "9kXVG3GRGiDn"
      },
      "source": [
        "#@title Carregando as bibliotecas base\n",
        "import pandas as pd\n",
        "import numpy as np\n",
        "import tensorflow as tf\n",
        "\n",
        "import warnings\n",
        "warnings.simplefilter('ignore')\n",
        "\n",
        "%matplotlib inline\n",
        "import matplotlib.pyplot as plt\n",
        "import seaborn\n",
        "\n",
        "seaborn.set_style('whitegrid')"
      ],
      "execution_count": 21,
      "outputs": []
    },
    {
      "cell_type": "code",
      "metadata": {
        "colab": {
          "base_uri": "https://localhost:8080/",
          "height": 204
        },
        "cellView": "form",
        "id": "4xb9NkUtG031",
        "outputId": "8d3050c9-b989-4998-aed7-23b793632ae5"
      },
      "source": [
        "#@title Carregando os dados\n",
        "data = pd.read_csv(f'/content/drive/My Drive/Mestrado/data/dados_treino_teste.csv.gz', compression='gzip', index_col=0)\n",
        "data.head()"
      ],
      "execution_count": 22,
      "outputs": [
        {
          "output_type": "execute_result",
          "data": {
            "text/html": [
              "<div>\n",
              "<style scoped>\n",
              "    .dataframe tbody tr th:only-of-type {\n",
              "        vertical-align: middle;\n",
              "    }\n",
              "\n",
              "    .dataframe tbody tr th {\n",
              "        vertical-align: top;\n",
              "    }\n",
              "\n",
              "    .dataframe thead th {\n",
              "        text-align: right;\n",
              "    }\n",
              "</style>\n",
              "<table border=\"1\" class=\"dataframe\">\n",
              "  <thead>\n",
              "    <tr style=\"text-align: right;\">\n",
              "      <th></th>\n",
              "      <th>codigo</th>\n",
              "      <th>mercado</th>\n",
              "      <th>preco_opcao</th>\n",
              "      <th>preco_exercicio</th>\n",
              "      <th>data_vencimento</th>\n",
              "      <th>T</th>\n",
              "      <th>preco_ativo</th>\n",
              "      <th>volatilidade</th>\n",
              "      <th>taxa_juros</th>\n",
              "      <th>black_scholes</th>\n",
              "      <th>delta_black_scholes</th>\n",
              "      <th>base</th>\n",
              "    </tr>\n",
              "  </thead>\n",
              "  <tbody>\n",
              "    <tr>\n",
              "      <th>2015-01-05</th>\n",
              "      <td>PETRM17</td>\n",
              "      <td>OPÇÕES DE VENDA</td>\n",
              "      <td>8.18</td>\n",
              "      <td>16.91</td>\n",
              "      <td>2015-01-19</td>\n",
              "      <td>0.039683</td>\n",
              "      <td>8.61</td>\n",
              "      <td>0.771953</td>\n",
              "      <td>0.1157</td>\n",
              "      <td>8.22</td>\n",
              "      <td>100</td>\n",
              "      <td>treino</td>\n",
              "    </tr>\n",
              "    <tr>\n",
              "      <th>2015-01-05</th>\n",
              "      <td>PETRM28</td>\n",
              "      <td>OPÇÕES DE VENDA</td>\n",
              "      <td>0.36</td>\n",
              "      <td>8.41</td>\n",
              "      <td>2015-01-19</td>\n",
              "      <td>0.039683</td>\n",
              "      <td>8.61</td>\n",
              "      <td>0.771953</td>\n",
              "      <td>0.1157</td>\n",
              "      <td>0.41</td>\n",
              "      <td>40</td>\n",
              "      <td>treino</td>\n",
              "    </tr>\n",
              "    <tr>\n",
              "      <th>2015-01-05</th>\n",
              "      <td>PETRM2</td>\n",
              "      <td>OPÇÕES DE VENDA</td>\n",
              "      <td>0.02</td>\n",
              "      <td>4.91</td>\n",
              "      <td>2015-01-19</td>\n",
              "      <td>0.039683</td>\n",
              "      <td>8.61</td>\n",
              "      <td>0.771953</td>\n",
              "      <td>0.1157</td>\n",
              "      <td>0.00</td>\n",
              "      <td>0</td>\n",
              "      <td>teste</td>\n",
              "    </tr>\n",
              "    <tr>\n",
              "      <th>2015-01-05</th>\n",
              "      <td>PETRM23</td>\n",
              "      <td>OPÇÕES DE VENDA</td>\n",
              "      <td>0.79</td>\n",
              "      <td>9.21</td>\n",
              "      <td>2015-01-19</td>\n",
              "      <td>0.039683</td>\n",
              "      <td>8.61</td>\n",
              "      <td>0.771953</td>\n",
              "      <td>0.1157</td>\n",
              "      <td>0.87</td>\n",
              "      <td>63</td>\n",
              "      <td>treino</td>\n",
              "    </tr>\n",
              "    <tr>\n",
              "      <th>2015-01-05</th>\n",
              "      <td>PETRM25</td>\n",
              "      <td>OPÇÕES DE VENDA</td>\n",
              "      <td>1.13</td>\n",
              "      <td>9.61</td>\n",
              "      <td>2015-01-19</td>\n",
              "      <td>0.039683</td>\n",
              "      <td>8.61</td>\n",
              "      <td>0.771953</td>\n",
              "      <td>0.1157</td>\n",
              "      <td>1.16</td>\n",
              "      <td>73</td>\n",
              "      <td>treino</td>\n",
              "    </tr>\n",
              "  </tbody>\n",
              "</table>\n",
              "</div>"
            ],
            "text/plain": [
              "             codigo          mercado  ...  delta_black_scholes    base\n",
              "2015-01-05  PETRM17  OPÇÕES DE VENDA  ...                  100  treino\n",
              "2015-01-05  PETRM28  OPÇÕES DE VENDA  ...                   40  treino\n",
              "2015-01-05   PETRM2  OPÇÕES DE VENDA  ...                    0   teste\n",
              "2015-01-05  PETRM23  OPÇÕES DE VENDA  ...                   63  treino\n",
              "2015-01-05  PETRM25  OPÇÕES DE VENDA  ...                   73  treino\n",
              "\n",
              "[5 rows x 12 columns]"
            ]
          },
          "metadata": {
            "tags": []
          },
          "execution_count": 22
        }
      ]
    },
    {
      "cell_type": "markdown",
      "metadata": {
        "id": "Mje48ihnG2wD"
      },
      "source": [
        "# Engenharia das variáveis (Feature Engineering)\n",
        "\n",
        "Essa sessão é composta da transformação dos dados para entrada na rede na rede neural. Portando, as variáveis são transformadas do seu valor original, seja para adequação dentro da rede neural ou para um melhor treinamento da rede, essas transformações são:\n",
        "\n",
        "- Variavéis númericas: preco_exercicio, preco_ativo, foram normalizadas antes da entrada na rede\n",
        "- Variavéis númericas: preco_opcao (alvo), volatilidade, taxa_juros e T não sofreram alterações\n",
        "- Variável categórica mercado sofreu one hot encoding\n",
        "\n",
        "A transformação dos dados é feita no mesmo momento que o modelo é treinado, isso é feito através de uma camada dentro do modelo, essa camada tem o nome de feature layer."
      ]
    },
    {
      "cell_type": "code",
      "metadata": {
        "cellView": "form",
        "id": "-mlmg1GsG409"
      },
      "source": [
        "#@title Pipeline de entrada dos dados\n",
        "def df_to_dataset(dataframe, base, shuffle=True, batch_size=22):\n",
        "\n",
        "    # Criar cópia do dataframe\n",
        "    dataframe = dataframe.copy()\n",
        "\n",
        "    # Filtrar a base\n",
        "    dataframe = dataframe[dataframe['base'] == base]\n",
        "\n",
        "    # Variavel alvo\n",
        "    labels = dataframe.pop('preco_opcao')\n",
        "\n",
        "    # Colunas do modelo\n",
        "    cols = ['mercado', 'preco_exercicio', 'preco_ativo', 'T', 'volatilidade', 'taxa_juros']\n",
        "\n",
        "    # Criar o td.data\n",
        "    ds = tf.data.Dataset.from_tensor_slices((dict(dataframe[cols]), labels))\n",
        "\n",
        "    # Embaralhar os dados se necessário\n",
        "    if shuffle:\n",
        "        ds = ds.shuffle(buffer_size=len(dataframe))\n",
        "\n",
        "    # Criar o batch de dados\n",
        "    ds = ds.batch(batch_size)\n",
        "\n",
        "    return ds\n",
        "\n",
        "# Divisão da base de treino e teste\n",
        "train_ds = df_to_dataset(data, base='treino')\n",
        "test_ds = df_to_dataset(data, shuffle=False, base='teste')"
      ],
      "execution_count": 23,
      "outputs": []
    },
    {
      "cell_type": "code",
      "metadata": {
        "cellView": "form",
        "id": "7nJIv0n7G6tk"
      },
      "source": [
        "#@title Mapeamento das colunas\n",
        "feature_columns = []\n",
        "\n",
        "# Colunas númericas normalizadas\n",
        "for column in ['preco_exercicio', 'preco_ativo']:\n",
        "    \n",
        "    mean = data.loc[data['base'] == 'treino', column].mean()\n",
        "    stdev = data.loc[data['base'] == 'treino', column].std()\n",
        "\n",
        "    feature_columns.append(tf.feature_column.numeric_column(column, normalizer_fn = lambda x: (x - mean) / stdev))\n",
        "\n",
        "# Colunas númericas sem normalização\n",
        "for column in ['T', 'volatilidade', 'taxa_juros']:\n",
        "\n",
        "    feature_columns.append(tf.feature_column.numeric_column(column))\n",
        "\n",
        "# Colunas categóricas\n",
        "option = tf.feature_column.categorical_column_with_vocabulary_list('mercado', ['OPÇÕES DE COMPRA', 'OPÇÕES DE VENDA'])\n",
        "option_one_hot = tf.feature_column.indicator_column(option)\n",
        "feature_columns.append(option_one_hot)"
      ],
      "execution_count": 24,
      "outputs": []
    },
    {
      "cell_type": "code",
      "metadata": {
        "cellView": "form",
        "id": "e3aRjMaMG8bP"
      },
      "source": [
        "#@title Camada de transformação (feature layer)\n",
        "feature_layer = tf.keras.layers.DenseFeatures(feature_columns, name='Feature')"
      ],
      "execution_count": 25,
      "outputs": []
    },
    {
      "cell_type": "markdown",
      "metadata": {
        "id": "5hBWxmChG_GH"
      },
      "source": [
        "# Modelo\n",
        "\n",
        "O modelo de rede neural profunda a seguir, foi baseado nos estudos desenvolvidos por Hirsa, Karatas, & Oskoui. No trabalho são testadas diversas arquiteturas (camadas e elementos em cada camada), bem como função de atição de cada camada e também função de otimização.\n",
        "\n",
        "A conclusão do estudo mostra que os melhores resultados foram obtidos utilizando uma rede de 4 camadas com 120 neurônios cada uma."
      ]
    },
    {
      "cell_type": "code",
      "metadata": {
        "cellView": "form",
        "id": "cvZ0416fG-Yv"
      },
      "source": [
        "#@title Criar, compilar o modelo\n",
        "# Define de model\n",
        "def get_model():\n",
        "    model = tf.keras.Sequential([\n",
        "    feature_layer,\n",
        "    tf.keras.layers.Dense(120, activation='relu'),\n",
        "    tf.keras.layers.Dense(120, activation='relu'),\n",
        "    tf.keras.layers.Dense(120, activation='relu'),\n",
        "    tf.keras.layers.Dense(120, activation='elu'),\n",
        "    tf.keras.layers.Dense(1)\n",
        "    ])\n",
        "\n",
        "    # Compile\n",
        "    model.compile(\n",
        "        optimizer=tf.keras.optimizers.Adam(0.001),\n",
        "        loss='mse',\n",
        "        metrics=[tf.keras.metrics.MeanAbsoluteError(name=\"MAE\", dtype=None)]\n",
        "    )\n",
        "\n",
        "    return model\n",
        "\n",
        "model = get_model()"
      ],
      "execution_count": 26,
      "outputs": []
    },
    {
      "cell_type": "code",
      "metadata": {
        "cellView": "form",
        "id": "5_-aoE4_W0nC"
      },
      "source": [
        "#@title Callbacks\n",
        "# Tensorflow checkpoint\n",
        "path = '/content/drive/MyDrive/Mestrado/models/dnn/'\n",
        "\n",
        "checkpoint = tf.keras.callbacks.ModelCheckpoint(\n",
        "    filepath=path+'checkpoint',\n",
        "    frequecy='epoch',\n",
        "    save_weights_only=True,\n",
        "    monitor='val_loss',\n",
        "    save_best_only=True,\n",
        "    verbose=1\n",
        ")\n",
        "\n",
        "lr = tf.keras.callbacks.ReduceLROnPlateau(monitor=\"val_loss\",factor=0.2, min_delta=0.001, patience=5, verbose=1)\n",
        "\n",
        "csv = tf.keras.callbacks.CSVLogger(path+\"results.csv\")\n",
        "\n",
        "es = tf.keras.callbacks.EarlyStopping(monitor='val_loss', min_delta=0.01, patience=20, verbose=1)"
      ],
      "execution_count": 27,
      "outputs": []
    },
    {
      "cell_type": "code",
      "metadata": {
        "colab": {
          "base_uri": "https://localhost:8080/"
        },
        "cellView": "form",
        "id": "KogWWjafWpjT",
        "outputId": "56d2be43-8bdc-440f-b9d5-173b86a2355b"
      },
      "source": [
        "#@title Treinar o modelo\n",
        "model.fit(\n",
        "    train_ds,\n",
        "    validation_data=test_ds,\n",
        "    epochs=200,\n",
        "    callbacks=[checkpoint, lr, csv, es]\n",
        "    )"
      ],
      "execution_count": 28,
      "outputs": [
        {
          "output_type": "stream",
          "text": [
            "Epoch 1/200\n",
            "WARNING:tensorflow:Layers in a Sequential model should only have a single input tensor, but we receive a <class 'dict'> input: {'mercado': <tf.Tensor 'ExpandDims_1:0' shape=(None, 1) dtype=string>, 'preco_exercicio': <tf.Tensor 'ExpandDims_3:0' shape=(None, 1) dtype=float64>, 'preco_ativo': <tf.Tensor 'ExpandDims_2:0' shape=(None, 1) dtype=float64>, 'T': <tf.Tensor 'ExpandDims:0' shape=(None, 1) dtype=float64>, 'volatilidade': <tf.Tensor 'ExpandDims_5:0' shape=(None, 1) dtype=float64>, 'taxa_juros': <tf.Tensor 'ExpandDims_4:0' shape=(None, 1) dtype=float64>}\n",
            "Consider rewriting this model with the Functional API.\n",
            "WARNING:tensorflow:Layer Feature is casting an input tensor from dtype float64 to the layer's dtype of float32, which is new behavior in TensorFlow 2.  The layer has dtype float32 because its dtype defaults to floatx.\n",
            "\n",
            "If you intended to run this layer in float32, you can safely ignore this warning. If in doubt, this warning is likely only an issue if you are porting a TensorFlow 1.X model to TensorFlow 2.\n",
            "\n",
            "To change all layers to have dtype float64 by default, call `tf.keras.backend.set_floatx('float64')`. To change just this layer, pass dtype='float64' to the layer constructor. If you are the author of this layer, you can disable autocasting by passing autocast=False to the base Layer constructor.\n",
            "\n",
            "WARNING:tensorflow:Layers in a Sequential model should only have a single input tensor, but we receive a <class 'dict'> input: {'mercado': <tf.Tensor 'ExpandDims_1:0' shape=(None, 1) dtype=string>, 'preco_exercicio': <tf.Tensor 'ExpandDims_3:0' shape=(None, 1) dtype=float64>, 'preco_ativo': <tf.Tensor 'ExpandDims_2:0' shape=(None, 1) dtype=float64>, 'T': <tf.Tensor 'ExpandDims:0' shape=(None, 1) dtype=float64>, 'volatilidade': <tf.Tensor 'ExpandDims_5:0' shape=(None, 1) dtype=float64>, 'taxa_juros': <tf.Tensor 'ExpandDims_4:0' shape=(None, 1) dtype=float64>}\n",
            "Consider rewriting this model with the Functional API.\n",
            "7413/7416 [============================>.] - ETA: 0s - loss: 0.1074 - MAE: 0.1811WARNING:tensorflow:Layers in a Sequential model should only have a single input tensor, but we receive a <class 'dict'> input: {'mercado': <tf.Tensor 'ExpandDims_1:0' shape=(None, 1) dtype=string>, 'preco_exercicio': <tf.Tensor 'ExpandDims_3:0' shape=(None, 1) dtype=float64>, 'preco_ativo': <tf.Tensor 'ExpandDims_2:0' shape=(None, 1) dtype=float64>, 'T': <tf.Tensor 'ExpandDims:0' shape=(None, 1) dtype=float64>, 'volatilidade': <tf.Tensor 'ExpandDims_5:0' shape=(None, 1) dtype=float64>, 'taxa_juros': <tf.Tensor 'ExpandDims_4:0' shape=(None, 1) dtype=float64>}\n",
            "Consider rewriting this model with the Functional API.\n",
            "\n",
            "Epoch 00001: val_loss improved from inf to 0.06383, saving model to /content/drive/MyDrive/Mestrado/models/dnn/checkpoint\n",
            "7416/7416 [==============================] - 19s 3ms/step - loss: 0.1073 - MAE: 0.1810 - val_loss: 0.0638 - val_MAE: 0.1471\n",
            "Epoch 2/200\n",
            "7412/7416 [============================>.] - ETA: 0s - loss: 0.0648 - MAE: 0.1459\n",
            "Epoch 00002: val_loss improved from 0.06383 to 0.06145, saving model to /content/drive/MyDrive/Mestrado/models/dnn/checkpoint\n",
            "7416/7416 [==============================] - 20s 3ms/step - loss: 0.0648 - MAE: 0.1459 - val_loss: 0.0615 - val_MAE: 0.1310\n",
            "Epoch 3/200\n",
            "7405/7416 [============================>.] - ETA: 0s - loss: 0.0592 - MAE: 0.1369\n",
            "Epoch 00003: val_loss did not improve from 0.06145\n",
            "7416/7416 [==============================] - 20s 3ms/step - loss: 0.0593 - MAE: 0.1369 - val_loss: 0.0698 - val_MAE: 0.1474\n",
            "Epoch 4/200\n",
            "7414/7416 [============================>.] - ETA: 0s - loss: 0.0577 - MAE: 0.1339\n",
            "Epoch 00004: val_loss improved from 0.06145 to 0.05840, saving model to /content/drive/MyDrive/Mestrado/models/dnn/checkpoint\n",
            "7416/7416 [==============================] - 19s 3ms/step - loss: 0.0577 - MAE: 0.1339 - val_loss: 0.0584 - val_MAE: 0.1309\n",
            "Epoch 5/200\n",
            "7411/7416 [============================>.] - ETA: 0s - loss: 0.0561 - MAE: 0.1308\n",
            "Epoch 00005: val_loss improved from 0.05840 to 0.05517, saving model to /content/drive/MyDrive/Mestrado/models/dnn/checkpoint\n",
            "7416/7416 [==============================] - 19s 3ms/step - loss: 0.0560 - MAE: 0.1308 - val_loss: 0.0552 - val_MAE: 0.1174\n",
            "Epoch 6/200\n",
            "7397/7416 [============================>.] - ETA: 0s - loss: 0.0551 - MAE: 0.1282\n",
            "Epoch 00006: val_loss did not improve from 0.05517\n",
            "7416/7416 [==============================] - 19s 3ms/step - loss: 0.0551 - MAE: 0.1282 - val_loss: 0.0581 - val_MAE: 0.1285\n",
            "Epoch 7/200\n",
            "7394/7416 [============================>.] - ETA: 0s - loss: 0.0541 - MAE: 0.1264\n",
            "Epoch 00007: val_loss did not improve from 0.05517\n",
            "7416/7416 [==============================] - 20s 3ms/step - loss: 0.0541 - MAE: 0.1265 - val_loss: 0.0566 - val_MAE: 0.1269\n",
            "Epoch 8/200\n",
            "7399/7416 [============================>.] - ETA: 0s - loss: 0.0533 - MAE: 0.1254\n",
            "Epoch 00008: val_loss improved from 0.05517 to 0.05417, saving model to /content/drive/MyDrive/Mestrado/models/dnn/checkpoint\n",
            "7416/7416 [==============================] - 20s 3ms/step - loss: 0.0533 - MAE: 0.1254 - val_loss: 0.0542 - val_MAE: 0.1210\n",
            "Epoch 9/200\n",
            "7411/7416 [============================>.] - ETA: 0s - loss: 0.0530 - MAE: 0.1246\n",
            "Epoch 00009: val_loss did not improve from 0.05417\n",
            "7416/7416 [==============================] - 19s 3ms/step - loss: 0.0530 - MAE: 0.1246 - val_loss: 0.0632 - val_MAE: 0.1259\n",
            "Epoch 10/200\n",
            "7400/7416 [============================>.] - ETA: 0s - loss: 0.0524 - MAE: 0.1234\n",
            "Epoch 00010: val_loss did not improve from 0.05417\n",
            "7416/7416 [==============================] - 19s 3ms/step - loss: 0.0524 - MAE: 0.1234 - val_loss: 0.0575 - val_MAE: 0.1166\n",
            "Epoch 11/200\n",
            "7412/7416 [============================>.] - ETA: 0s - loss: 0.0521 - MAE: 0.1223\n",
            "Epoch 00011: val_loss did not improve from 0.05417\n",
            "7416/7416 [==============================] - 20s 3ms/step - loss: 0.0521 - MAE: 0.1223 - val_loss: 0.0583 - val_MAE: 0.1220\n",
            "Epoch 12/200\n",
            "7401/7416 [============================>.] - ETA: 0s - loss: 0.0516 - MAE: 0.1214\n",
            "Epoch 00012: val_loss did not improve from 0.05417\n",
            "7416/7416 [==============================] - 20s 3ms/step - loss: 0.0516 - MAE: 0.1214 - val_loss: 0.0578 - val_MAE: 0.1235\n",
            "Epoch 13/200\n",
            "7401/7416 [============================>.] - ETA: 0s - loss: 0.0512 - MAE: 0.1209\n",
            "Epoch 00013: val_loss did not improve from 0.05417\n",
            "\n",
            "Epoch 00013: ReduceLROnPlateau reducing learning rate to 0.00020000000949949026.\n",
            "7416/7416 [==============================] - 19s 3ms/step - loss: 0.0512 - MAE: 0.1209 - val_loss: 0.0568 - val_MAE: 0.1260\n",
            "Epoch 14/200\n",
            "7404/7416 [============================>.] - ETA: 0s - loss: 0.0464 - MAE: 0.1091\n",
            "Epoch 00014: val_loss improved from 0.05417 to 0.05221, saving model to /content/drive/MyDrive/Mestrado/models/dnn/checkpoint\n",
            "7416/7416 [==============================] - 20s 3ms/step - loss: 0.0464 - MAE: 0.1091 - val_loss: 0.0522 - val_MAE: 0.1100\n",
            "Epoch 15/200\n",
            "7400/7416 [============================>.] - ETA: 0s - loss: 0.0462 - MAE: 0.1086\n",
            "Epoch 00015: val_loss did not improve from 0.05221\n",
            "7416/7416 [==============================] - 21s 3ms/step - loss: 0.0462 - MAE: 0.1086 - val_loss: 0.0529 - val_MAE: 0.1123\n",
            "Epoch 16/200\n",
            "7403/7416 [============================>.] - ETA: 0s - loss: 0.0461 - MAE: 0.1082\n",
            "Epoch 00016: val_loss did not improve from 0.05221\n",
            "7416/7416 [==============================] - 20s 3ms/step - loss: 0.0461 - MAE: 0.1082 - val_loss: 0.0538 - val_MAE: 0.1165\n",
            "Epoch 17/200\n",
            "7412/7416 [============================>.] - ETA: 0s - loss: 0.0459 - MAE: 0.1080\n",
            "Epoch 00017: val_loss improved from 0.05221 to 0.05166, saving model to /content/drive/MyDrive/Mestrado/models/dnn/checkpoint\n",
            "7416/7416 [==============================] - 20s 3ms/step - loss: 0.0459 - MAE: 0.1080 - val_loss: 0.0517 - val_MAE: 0.1112\n",
            "Epoch 18/200\n",
            "7406/7416 [============================>.] - ETA: 0s - loss: 0.0460 - MAE: 0.1081\n",
            "Epoch 00018: val_loss improved from 0.05166 to 0.05104, saving model to /content/drive/MyDrive/Mestrado/models/dnn/checkpoint\n",
            "7416/7416 [==============================] - 20s 3ms/step - loss: 0.0460 - MAE: 0.1081 - val_loss: 0.0510 - val_MAE: 0.1098\n",
            "Epoch 19/200\n",
            "7397/7416 [============================>.] - ETA: 0s - loss: 0.0457 - MAE: 0.1078\n",
            "Epoch 00019: val_loss did not improve from 0.05104\n",
            "7416/7416 [==============================] - 19s 3ms/step - loss: 0.0458 - MAE: 0.1078 - val_loss: 0.0517 - val_MAE: 0.1121\n",
            "Epoch 20/200\n",
            "7414/7416 [============================>.] - ETA: 0s - loss: 0.0458 - MAE: 0.1075\n",
            "Epoch 00020: val_loss did not improve from 0.05104\n",
            "7416/7416 [==============================] - 19s 3ms/step - loss: 0.0457 - MAE: 0.1075 - val_loss: 0.0519 - val_MAE: 0.1113\n",
            "Epoch 21/200\n",
            "7407/7416 [============================>.] - ETA: 0s - loss: 0.0457 - MAE: 0.1074\n",
            "Epoch 00021: val_loss did not improve from 0.05104\n",
            "7416/7416 [==============================] - 19s 3ms/step - loss: 0.0457 - MAE: 0.1074 - val_loss: 0.0521 - val_MAE: 0.1088\n",
            "Epoch 22/200\n",
            "7416/7416 [==============================] - ETA: 0s - loss: 0.0456 - MAE: 0.1074\n",
            "Epoch 00022: val_loss did not improve from 0.05104\n",
            "7416/7416 [==============================] - 19s 3ms/step - loss: 0.0456 - MAE: 0.1074 - val_loss: 0.0512 - val_MAE: 0.1076\n",
            "Epoch 23/200\n",
            "7414/7416 [============================>.] - ETA: 0s - loss: 0.0456 - MAE: 0.1073\n",
            "Epoch 00023: val_loss did not improve from 0.05104\n",
            "\n",
            "Epoch 00023: ReduceLROnPlateau reducing learning rate to 4.0000001899898055e-05.\n",
            "7416/7416 [==============================] - 21s 3ms/step - loss: 0.0456 - MAE: 0.1073 - val_loss: 0.0513 - val_MAE: 0.1075\n",
            "Epoch 24/200\n",
            "7408/7416 [============================>.] - ETA: 0s - loss: 0.0445 - MAE: 0.1045\n",
            "Epoch 00024: val_loss did not improve from 0.05104\n",
            "7416/7416 [==============================] - 20s 3ms/step - loss: 0.0445 - MAE: 0.1045 - val_loss: 0.0513 - val_MAE: 0.1070\n",
            "Epoch 25/200\n",
            "7414/7416 [============================>.] - ETA: 0s - loss: 0.0444 - MAE: 0.1044\n",
            "Epoch 00025: val_loss did not improve from 0.05104\n",
            "7416/7416 [==============================] - 19s 3ms/step - loss: 0.0444 - MAE: 0.1044 - val_loss: 0.0519 - val_MAE: 0.1095\n",
            "Epoch 26/200\n",
            "7413/7416 [============================>.] - ETA: 0s - loss: 0.0444 - MAE: 0.1044\n",
            "Epoch 00026: val_loss improved from 0.05104 to 0.05098, saving model to /content/drive/MyDrive/Mestrado/models/dnn/checkpoint\n",
            "7416/7416 [==============================] - 20s 3ms/step - loss: 0.0444 - MAE: 0.1044 - val_loss: 0.0510 - val_MAE: 0.1056\n",
            "Epoch 27/200\n",
            "7394/7416 [============================>.] - ETA: 0s - loss: 0.0443 - MAE: 0.1043\n",
            "Epoch 00027: val_loss did not improve from 0.05098\n",
            "7416/7416 [==============================] - 20s 3ms/step - loss: 0.0444 - MAE: 0.1043 - val_loss: 0.0515 - val_MAE: 0.1084\n",
            "Epoch 28/200\n",
            "7397/7416 [============================>.] - ETA: 0s - loss: 0.0443 - MAE: 0.1043\n",
            "Epoch 00028: val_loss did not improve from 0.05098\n",
            "\n",
            "Epoch 00028: ReduceLROnPlateau reducing learning rate to 8.000000525498762e-06.\n",
            "7416/7416 [==============================] - 19s 3ms/step - loss: 0.0444 - MAE: 0.1043 - val_loss: 0.0511 - val_MAE: 0.1098\n",
            "Epoch 29/200\n",
            "7407/7416 [============================>.] - ETA: 0s - loss: 0.0442 - MAE: 0.1039\n",
            "Epoch 00029: val_loss improved from 0.05098 to 0.05071, saving model to /content/drive/MyDrive/Mestrado/models/dnn/checkpoint\n",
            "7416/7416 [==============================] - 20s 3ms/step - loss: 0.0442 - MAE: 0.1039 - val_loss: 0.0507 - val_MAE: 0.1067\n",
            "Epoch 30/200\n",
            "7404/7416 [============================>.] - ETA: 0s - loss: 0.0442 - MAE: 0.1037\n",
            "Epoch 00030: val_loss did not improve from 0.05071\n",
            "7416/7416 [==============================] - 20s 3ms/step - loss: 0.0442 - MAE: 0.1037 - val_loss: 0.0507 - val_MAE: 0.1070\n",
            "Epoch 31/200\n",
            "7416/7416 [==============================] - ETA: 0s - loss: 0.0441 - MAE: 0.1038\n",
            "Epoch 00031: val_loss did not improve from 0.05071\n",
            "7416/7416 [==============================] - 21s 3ms/step - loss: 0.0441 - MAE: 0.1038 - val_loss: 0.0508 - val_MAE: 0.1062\n",
            "Epoch 32/200\n",
            "7409/7416 [============================>.] - ETA: 0s - loss: 0.0441 - MAE: 0.1037\n",
            "Epoch 00032: val_loss improved from 0.05071 to 0.05069, saving model to /content/drive/MyDrive/Mestrado/models/dnn/checkpoint\n",
            "7416/7416 [==============================] - 20s 3ms/step - loss: 0.0441 - MAE: 0.1037 - val_loss: 0.0507 - val_MAE: 0.1062\n",
            "Epoch 33/200\n",
            "7411/7416 [============================>.] - ETA: 0s - loss: 0.0441 - MAE: 0.1036\n",
            "Epoch 00033: val_loss improved from 0.05069 to 0.05062, saving model to /content/drive/MyDrive/Mestrado/models/dnn/checkpoint\n",
            "\n",
            "Epoch 00033: ReduceLROnPlateau reducing learning rate to 1.6000001778593287e-06.\n",
            "7416/7416 [==============================] - 20s 3ms/step - loss: 0.0441 - MAE: 0.1036 - val_loss: 0.0506 - val_MAE: 0.1068\n",
            "Epoch 34/200\n",
            "7412/7416 [============================>.] - ETA: 0s - loss: 0.0441 - MAE: 0.1037\n",
            "Epoch 00034: val_loss did not improve from 0.05062\n",
            "7416/7416 [==============================] - 19s 3ms/step - loss: 0.0441 - MAE: 0.1037 - val_loss: 0.0507 - val_MAE: 0.1064\n",
            "Epoch 00034: early stopping\n"
          ],
          "name": "stdout"
        },
        {
          "output_type": "execute_result",
          "data": {
            "text/plain": [
              "<tensorflow.python.keras.callbacks.History at 0x7fccfad01d68>"
            ]
          },
          "metadata": {
            "tags": []
          },
          "execution_count": 28
        }
      ]
    },
    {
      "cell_type": "code",
      "metadata": {
        "colab": {
          "base_uri": "https://localhost:8080/",
          "height": 204
        },
        "cellView": "form",
        "id": "XFnHdU2ZithQ",
        "outputId": "1623de3e-3a8d-4206-c955-74371c1352a8"
      },
      "source": [
        "#@title Métricas\n",
        "metrics = pd.read_csv(path + 'results.csv')\n",
        "metrics.head()"
      ],
      "execution_count": 29,
      "outputs": [
        {
          "output_type": "execute_result",
          "data": {
            "text/html": [
              "<div>\n",
              "<style scoped>\n",
              "    .dataframe tbody tr th:only-of-type {\n",
              "        vertical-align: middle;\n",
              "    }\n",
              "\n",
              "    .dataframe tbody tr th {\n",
              "        vertical-align: top;\n",
              "    }\n",
              "\n",
              "    .dataframe thead th {\n",
              "        text-align: right;\n",
              "    }\n",
              "</style>\n",
              "<table border=\"1\" class=\"dataframe\">\n",
              "  <thead>\n",
              "    <tr style=\"text-align: right;\">\n",
              "      <th></th>\n",
              "      <th>epoch</th>\n",
              "      <th>MAE</th>\n",
              "      <th>loss</th>\n",
              "      <th>lr</th>\n",
              "      <th>val_MAE</th>\n",
              "      <th>val_loss</th>\n",
              "    </tr>\n",
              "  </thead>\n",
              "  <tbody>\n",
              "    <tr>\n",
              "      <th>0</th>\n",
              "      <td>0</td>\n",
              "      <td>0.181043</td>\n",
              "      <td>0.107331</td>\n",
              "      <td>0.001</td>\n",
              "      <td>0.147055</td>\n",
              "      <td>0.063831</td>\n",
              "    </tr>\n",
              "    <tr>\n",
              "      <th>1</th>\n",
              "      <td>1</td>\n",
              "      <td>0.145914</td>\n",
              "      <td>0.064780</td>\n",
              "      <td>0.001</td>\n",
              "      <td>0.130968</td>\n",
              "      <td>0.061452</td>\n",
              "    </tr>\n",
              "    <tr>\n",
              "      <th>2</th>\n",
              "      <td>2</td>\n",
              "      <td>0.136895</td>\n",
              "      <td>0.059250</td>\n",
              "      <td>0.001</td>\n",
              "      <td>0.147351</td>\n",
              "      <td>0.069814</td>\n",
              "    </tr>\n",
              "    <tr>\n",
              "      <th>3</th>\n",
              "      <td>3</td>\n",
              "      <td>0.133892</td>\n",
              "      <td>0.057673</td>\n",
              "      <td>0.001</td>\n",
              "      <td>0.130873</td>\n",
              "      <td>0.058396</td>\n",
              "    </tr>\n",
              "    <tr>\n",
              "      <th>4</th>\n",
              "      <td>4</td>\n",
              "      <td>0.130809</td>\n",
              "      <td>0.056047</td>\n",
              "      <td>0.001</td>\n",
              "      <td>0.117431</td>\n",
              "      <td>0.055172</td>\n",
              "    </tr>\n",
              "  </tbody>\n",
              "</table>\n",
              "</div>"
            ],
            "text/plain": [
              "   epoch       MAE      loss     lr   val_MAE  val_loss\n",
              "0      0  0.181043  0.107331  0.001  0.147055  0.063831\n",
              "1      1  0.145914  0.064780  0.001  0.130968  0.061452\n",
              "2      2  0.136895  0.059250  0.001  0.147351  0.069814\n",
              "3      3  0.133892  0.057673  0.001  0.130873  0.058396\n",
              "4      4  0.130809  0.056047  0.001  0.117431  0.055172"
            ]
          },
          "metadata": {
            "tags": []
          },
          "execution_count": 29
        }
      ]
    },
    {
      "cell_type": "code",
      "metadata": {
        "colab": {
          "base_uri": "https://localhost:8080/",
          "height": 515
        },
        "cellView": "form",
        "id": "i7qSKR06HF0Z",
        "outputId": "5789d62e-09a5-44a2-a9dd-9d0c79a66de2"
      },
      "source": [
        "#@title Plot das Métricas do Modelo\n",
        "\n",
        "# Valor de mudança de learning rate\n",
        "metrics['lr_change'] = metrics['lr'] == metrics['lr'].shift(1)\n",
        "\n",
        "# Valores de learning para plot de gráfico\n",
        "lr_change = metrics.loc[metrics['lr_change'] == False, ['epoch', 'lr']]\n",
        "\n",
        "# Retirar a primeira linha\n",
        "lr_change = lr_change[1:]\n",
        "\n",
        "# Converter para dict\n",
        "lr_change = lr_change.to_dict('records')\n",
        "\n",
        "# Create two subplots\n",
        "fig, axs = plt.subplots(2, 1, figsize=(20, 8))\n",
        "axs[0].plot(metrics['epoch'], metrics['loss'], 'tab:blue', label='treino')\n",
        "axs[0].plot(metrics['epoch'], metrics['val_loss'], 'tab:red', label='teste')\n",
        "axs[0].set_title('Função de Perda')\n",
        "axs[0].set(ylabel='Perda')\n",
        "axs[0].legend()\n",
        "\n",
        "axs[1].plot(metrics['epoch'], metrics['MAE'], 'tab:blue', label='treino')\n",
        "axs[1].plot(metrics['epoch'], metrics['val_MAE'], 'tab:red', label='teste')\n",
        "axs[1].set_title('Erro Médio Absoluto')\n",
        "axs[1].set(ylabel='MAE')\n",
        "axs[1].legend()\n",
        "\n",
        "for lr in lr_change:\n",
        "    axs[0].axvline(x=lr['epoch'], linestyle='dotted', color='black')\n",
        "    axs[1].axvline(x=lr['epoch'], linestyle='dotted', color='black')\n",
        "    axs[0].text(\n",
        "        x=lr['epoch'],\n",
        "        y=0.1,\n",
        "        s=f\"lr reduzido para: {lr['lr']:.8f}\",\n",
        "        horizontalalignment='right'\n",
        "        )\n",
        "    axs[1].text(\n",
        "        x=lr['epoch'],\n",
        "        y=0.17,\n",
        "        s=f\"lr reduzido para: {lr['lr']:.8f}\",\n",
        "        horizontalalignment='right'\n",
        "        )\n",
        "\n",
        "for ax in axs.flat:\n",
        "    ax.set(xlabel='Épocas')\n",
        "\n",
        "for ax in axs.flat:\n",
        "    ax.label_outer()\n",
        "\n",
        "plt.show()"
      ],
      "execution_count": 32,
      "outputs": [
        {
          "output_type": "display_data",
          "data": {
            "image/png": "[encoded data removed]",
            "text/plain": [
              "<Figure size 1440x576 with 2 Axes>"
            ]
          },
          "metadata": {
            "tags": []
          }
        }
      ]
    },
    {
      "cell_type": "code",
      "metadata": {
        "colab": {
          "base_uri": "https://localhost:8080/"
        },
        "cellView": "form",
        "id": "dI8bjSwZzdmc",
        "outputId": "4281a8a8-b032-477d-ecb7-eb40703f97b5"
      },
      "source": [
        "#@title Carregar o melhor modelo\n",
        "model = get_model()\n",
        "model.load_weights(path+'checkpoint')\n",
        "\n",
        "# Predição na base de teste\n",
        "prediction = model.predict(test_ds)"
      ],
      "execution_count": 45,
      "outputs": [
        {
          "output_type": "stream",
          "text": [
            "WARNING:tensorflow:Layers in a Sequential model should only have a single input tensor, but we receive a <class 'dict'> input: {'mercado': <tf.Tensor 'ExpandDims_1:0' shape=(None, 1) dtype=string>, 'preco_exercicio': <tf.Tensor 'ExpandDims_3:0' shape=(None, 1) dtype=float64>, 'preco_ativo': <tf.Tensor 'ExpandDims_2:0' shape=(None, 1) dtype=float64>, 'T': <tf.Tensor 'ExpandDims:0' shape=(None, 1) dtype=float64>, 'volatilidade': <tf.Tensor 'ExpandDims_5:0' shape=(None, 1) dtype=float64>, 'taxa_juros': <tf.Tensor 'ExpandDims_4:0' shape=(None, 1) dtype=float64>}\n",
            "Consider rewriting this model with the Functional API.\n",
            "WARNING:tensorflow:Layers in a Sequential model should only have a single input tensor, but we receive a <class 'dict'> input: {'mercado': <tf.Tensor 'ExpandDims_1:0' shape=(None, 1) dtype=string>, 'preco_exercicio': <tf.Tensor 'ExpandDims_3:0' shape=(None, 1) dtype=float64>, 'preco_ativo': <tf.Tensor 'ExpandDims_2:0' shape=(None, 1) dtype=float64>, 'T': <tf.Tensor 'ExpandDims:0' shape=(None, 1) dtype=float64>, 'volatilidade': <tf.Tensor 'ExpandDims_5:0' shape=(None, 1) dtype=float64>, 'taxa_juros': <tf.Tensor 'ExpandDims_4:0' shape=(None, 1) dtype=float64>}\n",
            "Consider rewriting this model with the Functional API.\n"
          ],
          "name": "stdout"
        }
      ]
    },
    {
      "cell_type": "code",
      "metadata": {
        "cellView": "form",
        "id": "zs6aY-lA5YM2"
      },
      "source": [
        "#@title Salvar predição\n",
        "np.savez_compressed('/content/drive/My Drive/Mestrado/data/predicao_dnn.npz', prediction)"
      ],
      "execution_count": 50,
      "outputs": []
    },
    {
      "cell_type": "markdown",
      "metadata": {
        "id": "GT-x-RIbK-Hc"
      },
      "source": [
        "# Reference\n",
        "\n",
        "Hirsa, A., Karatas, T., & Oskoui, A. (2019). Supervised deep neural networks (DNNS) for pricing/calibration of vanilla/exotic options under various different processes."
      ]
    }
  ]
}