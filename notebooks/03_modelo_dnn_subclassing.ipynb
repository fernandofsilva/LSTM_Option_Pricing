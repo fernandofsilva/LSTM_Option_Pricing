{
  "nbformat": 4,
  "nbformat_minor": 0,
  "metadata": {
    "colab": {
      "name": "03_modelo_dnn_subclassing.ipynb",
      "provenance": [],
      "collapsed_sections": [],
      "mount_file_id": "1bGOMghMO79i-edx4rrQ6hNT2JFY8qpr1",
      "authorship_tag": "ABX9TyMYu2okKYAZCUvygNAPlpsv",
      "include_colab_link": true
    },
    "kernelspec": {
      "name": "python3",
      "display_name": "Python 3"
    },
    "accelerator": "TPU"
  },
  "cells": [
    {
      "cell_type": "markdown",
      "metadata": {
        "id": "view-in-github",
        "colab_type": "text"
      },
      "source": [
        "<a href=\"https://colab.research.google.com/github/fernandofsilva/LSTM_Option_Pricing/blob/main/notebooks/03_modelo_dnn_subclassing.ipynb\" target=\"_parent\"><img src=\"https://colab.research.google.com/assets/colab-badge.svg\" alt=\"Open In Colab\"/></a>"
      ]
    },
    {
      "cell_type": "markdown",
      "metadata": {
        "id": "W4s1_juM4i29"
      },
      "source": [
        "# Setup"
      ]
    },
    {
      "cell_type": "code",
      "metadata": {
        "id": "cd5nfmTLtHpS",
        "cellView": "form"
      },
      "source": [
        "#@title Carregando as bibliotecas base\n",
        "import pandas as pd\n",
        "import numpy as np\n",
        "import tensorflow as tf\n",
        "\n",
        "import warnings\n",
        "warnings.simplefilter('ignore')\n",
        "\n",
        "%matplotlib inline\n",
        "import matplotlib.pyplot as plt\n",
        "import seaborn\n",
        "\n",
        "seaborn.set_style('whitegrid')"
      ],
      "execution_count": null,
      "outputs": []
    },
    {
      "cell_type": "code",
      "metadata": {
        "id": "aOP6RdSctQxa",
        "colab": {
          "base_uri": "https://localhost:8080/",
          "height": 204
        },
        "cellView": "form",
        "outputId": "d3124ad0-027f-420d-b501-417162f2ab0f"
      },
      "source": [
        "#@title Carregando os dados\n",
        "data = pd.read_csv(f'/content/drive/My Drive/Mestrado/data/dados_treino_teste.csv.gz', compression='gzip', index_col=0)\n",
        "data.head()"
      ],
      "execution_count": null,
      "outputs": [
        {
          "output_type": "execute_result",
          "data": {
            "text/html": [
              "<div>\n",
              "<style scoped>\n",
              "    .dataframe tbody tr th:only-of-type {\n",
              "        vertical-align: middle;\n",
              "    }\n",
              "\n",
              "    .dataframe tbody tr th {\n",
              "        vertical-align: top;\n",
              "    }\n",
              "\n",
              "    .dataframe thead th {\n",
              "        text-align: right;\n",
              "    }\n",
              "</style>\n",
              "<table border=\"1\" class=\"dataframe\">\n",
              "  <thead>\n",
              "    <tr style=\"text-align: right;\">\n",
              "      <th></th>\n",
              "      <th>codigo</th>\n",
              "      <th>mercado</th>\n",
              "      <th>preco_opcao</th>\n",
              "      <th>preco_exercicio</th>\n",
              "      <th>data_vencimento</th>\n",
              "      <th>T</th>\n",
              "      <th>preco_ativo</th>\n",
              "      <th>volatilidade</th>\n",
              "      <th>taxa_juros</th>\n",
              "      <th>black_scholes</th>\n",
              "      <th>delta_black_scholes</th>\n",
              "      <th>base</th>\n",
              "    </tr>\n",
              "  </thead>\n",
              "  <tbody>\n",
              "    <tr>\n",
              "      <th>2015-01-05</th>\n",
              "      <td>PETRM17</td>\n",
              "      <td>OPÇÕES DE VENDA</td>\n",
              "      <td>8.18</td>\n",
              "      <td>16.91</td>\n",
              "      <td>2015-01-19</td>\n",
              "      <td>0.039683</td>\n",
              "      <td>8.61</td>\n",
              "      <td>0.771953</td>\n",
              "      <td>0.1157</td>\n",
              "      <td>8.22</td>\n",
              "      <td>100</td>\n",
              "      <td>treino</td>\n",
              "    </tr>\n",
              "    <tr>\n",
              "      <th>2015-01-05</th>\n",
              "      <td>PETRM28</td>\n",
              "      <td>OPÇÕES DE VENDA</td>\n",
              "      <td>0.36</td>\n",
              "      <td>8.41</td>\n",
              "      <td>2015-01-19</td>\n",
              "      <td>0.039683</td>\n",
              "      <td>8.61</td>\n",
              "      <td>0.771953</td>\n",
              "      <td>0.1157</td>\n",
              "      <td>0.41</td>\n",
              "      <td>40</td>\n",
              "      <td>treino</td>\n",
              "    </tr>\n",
              "    <tr>\n",
              "      <th>2015-01-05</th>\n",
              "      <td>PETRM2</td>\n",
              "      <td>OPÇÕES DE VENDA</td>\n",
              "      <td>0.02</td>\n",
              "      <td>4.91</td>\n",
              "      <td>2015-01-19</td>\n",
              "      <td>0.039683</td>\n",
              "      <td>8.61</td>\n",
              "      <td>0.771953</td>\n",
              "      <td>0.1157</td>\n",
              "      <td>0.00</td>\n",
              "      <td>0</td>\n",
              "      <td>teste</td>\n",
              "    </tr>\n",
              "    <tr>\n",
              "      <th>2015-01-05</th>\n",
              "      <td>PETRM23</td>\n",
              "      <td>OPÇÕES DE VENDA</td>\n",
              "      <td>0.79</td>\n",
              "      <td>9.21</td>\n",
              "      <td>2015-01-19</td>\n",
              "      <td>0.039683</td>\n",
              "      <td>8.61</td>\n",
              "      <td>0.771953</td>\n",
              "      <td>0.1157</td>\n",
              "      <td>0.87</td>\n",
              "      <td>63</td>\n",
              "      <td>treino</td>\n",
              "    </tr>\n",
              "    <tr>\n",
              "      <th>2015-01-05</th>\n",
              "      <td>PETRM25</td>\n",
              "      <td>OPÇÕES DE VENDA</td>\n",
              "      <td>1.13</td>\n",
              "      <td>9.61</td>\n",
              "      <td>2015-01-19</td>\n",
              "      <td>0.039683</td>\n",
              "      <td>8.61</td>\n",
              "      <td>0.771953</td>\n",
              "      <td>0.1157</td>\n",
              "      <td>1.16</td>\n",
              "      <td>73</td>\n",
              "      <td>treino</td>\n",
              "    </tr>\n",
              "  </tbody>\n",
              "</table>\n",
              "</div>"
            ],
            "text/plain": [
              "             codigo          mercado  ...  delta_black_scholes    base\n",
              "2015-01-05  PETRM17  OPÇÕES DE VENDA  ...                  100  treino\n",
              "2015-01-05  PETRM28  OPÇÕES DE VENDA  ...                   40  treino\n",
              "2015-01-05   PETRM2  OPÇÕES DE VENDA  ...                    0   teste\n",
              "2015-01-05  PETRM23  OPÇÕES DE VENDA  ...                   63  treino\n",
              "2015-01-05  PETRM25  OPÇÕES DE VENDA  ...                   73  treino\n",
              "\n",
              "[5 rows x 12 columns]"
            ]
          },
          "metadata": {
            "tags": []
          },
          "execution_count": 3
        }
      ]
    },
    {
      "cell_type": "markdown",
      "metadata": {
        "id": "dUk1bDlz5rSj"
      },
      "source": [
        "# Engenharia das variáveis (Feature Engineering)\n",
        "\n",
        "Essa sessão é composta da transformação dos dados para entrada na rede na rede neural. Portando, as variáveis são transformadas do seu valor original, seja para adequação dentro da rede neural ou para um melhor treinamento da rede, essas transformações são:\n",
        "\n",
        "- Variavéis númericas: preco_exercicio, preco_ativo, foram normalizadas antes da entrada na rede\n",
        "- Variavéis númericas: preco_opcao (alvo), volatilidade, taxa_juros e T não sofreram alterações\n",
        "- Variável categórica mercado sofreu one hot encoding\n",
        "\n",
        "A transformação dos dados é feita no mesmo momento que o modelo é treinado, isso é feito através de uma camada dentro do modelo, essa camada tem o nome de feature layer."
      ]
    },
    {
      "cell_type": "code",
      "metadata": {
        "id": "1SPYLAtTPyox",
        "cellView": "form"
      },
      "source": [
        "#@title Pipeline de entrada dos dados\n",
        "def df_to_dataset(dataframe, base, shuffle=True, batch_size=22):\n",
        "\n",
        "    # Criar cópia do dataframe\n",
        "    dataframe = dataframe.copy()\n",
        "\n",
        "    # Filtrar a base\n",
        "    dataframe = dataframe[dataframe['base'] == base]\n",
        "\n",
        "    # Variavel alvo\n",
        "    labels = dataframe.pop('preco_opcao')\n",
        "\n",
        "    # Colunas do modelo\n",
        "    cols = ['mercado', 'preco_exercicio', 'preco_ativo', 'T', 'volatilidade', 'taxa_juros']\n",
        "\n",
        "    # Criar o td.data\n",
        "    ds = tf.data.Dataset.from_tensor_slices((dict(dataframe[cols]), labels))\n",
        "\n",
        "    # Embaralhar os dados se necessário\n",
        "    if shuffle:\n",
        "        ds = ds.shuffle(buffer_size=len(dataframe))\n",
        "\n",
        "    # Criar o batch de dados\n",
        "    ds = ds.batch(batch_size)\n",
        "\n",
        "    return ds\n",
        "\n",
        "# Divisão da base de treino e teste\n",
        "train_ds = df_to_dataset(data, base='treino')\n",
        "test_ds = df_to_dataset(data, shuffle=False, base='teste')"
      ],
      "execution_count": null,
      "outputs": []
    },
    {
      "cell_type": "code",
      "metadata": {
        "id": "1BHv1LRx6YDy",
        "cellView": "form"
      },
      "source": [
        "#@title Mapeamento das colunas\n",
        "feature_columns = []\n",
        "\n",
        "# Colunas númericas normalizadas\n",
        "for column in ['preco_exercicio', 'preco_ativo']:\n",
        "    \n",
        "    mean = data.loc[data['base'] == 'treino', column].mean()\n",
        "    stdev = data.loc[data['base'] == 'treino', column].std()\n",
        "\n",
        "    feature_columns.append(tf.feature_column.numeric_column(column, normalizer_fn = lambda x: (x - mean) / stdev))\n",
        "\n",
        "# Colunas númericas sem normalização\n",
        "for column in ['T', 'volatilidade', 'taxa_juros']:\n",
        "\n",
        "    feature_columns.append(tf.feature_column.numeric_column(column))\n",
        "\n",
        "# Colunas categóricas\n",
        "option = tf.feature_column.categorical_column_with_vocabulary_list('mercado', ['OPÇÕES DE COMPRA', 'OPÇÕES DE VENDA'])\n",
        "option_one_hot = tf.feature_column.indicator_column(option)\n",
        "feature_columns.append(option_one_hot)"
      ],
      "execution_count": null,
      "outputs": []
    },
    {
      "cell_type": "code",
      "metadata": {
        "id": "Z6404E6Z6QIA",
        "cellView": "form"
      },
      "source": [
        "#@title Camada de transformação (feature layer)\n",
        "feature_layer = tf.keras.layers.DenseFeatures(feature_columns, name='Feature')"
      ],
      "execution_count": null,
      "outputs": []
    },
    {
      "cell_type": "markdown",
      "metadata": {
        "id": "7aQF2cGN5w6M"
      },
      "source": [
        "# Modelo\n",
        "\n",
        "A rede é composta por uma camada de entrada de 128 nós com função de ativação relu, uma camada escondida (intermediária) com 128 nós e uma camada de saida de 1 nó"
      ]
    },
    {
      "cell_type": "code",
      "metadata": {
        "id": "7DKrtEWj_F25"
      },
      "source": [
        "#@title Model Subclassing\n",
        "class DNN_Model(tf.keras.Model):\n",
        "    def __init__(self):\n",
        "        super(DNN_Model, self).__init__()\n",
        "        self.feature = feature_layer\n",
        "        self.d1 = tf.keras.layers.Dense(128, activation='relu', name='Dense_1')\n",
        "        self.d2 = tf.keras.layers.Dense(128, activation='relu', name='Dense_2')\n",
        "        self.d3 = tf.keras.layers.Dense(1, name='output')\n",
        "\n",
        "    def call(self, x):\n",
        "        x = self.feature(x)\n",
        "        x = self.d1(x)\n",
        "        x = self.d2(x)\n",
        "        return self.d3(x)\n",
        "\n",
        "# Create an instance of the model\n",
        "model = DNN_Model()"
      ],
      "execution_count": null,
      "outputs": []
    },
    {
      "cell_type": "code",
      "metadata": {
        "colab": {
          "base_uri": "https://localhost:8080/"
        },
        "id": "JOzIUkPi4E1_",
        "outputId": "a2ab3e39-741a-4317-f30f-32aca1bc9103"
      },
      "source": [
        "#@title Inicialização do modelo\n",
        "# Para apresentar o sumário do modelo, primeiramente, é necessário inicializar os pesos e bias de cada camada,\n",
        "# isso é feito utilizando uma amostra dos dados\n",
        "element = next(iter(train_ds.take(1)))[0]\n",
        "model(element)"
      ],
      "execution_count": null,
      "outputs": [
        {
          "output_type": "stream",
          "text": [
            "WARNING:tensorflow:Layer dnn__model_3 is casting an input tensor from dtype float64 to the layer's dtype of float32, which is new behavior in TensorFlow 2.  The layer has dtype float32 because its dtype defaults to floatx.\n",
            "\n",
            "If you intended to run this layer in float32, you can safely ignore this warning. If in doubt, this warning is likely only an issue if you are porting a TensorFlow 1.X model to TensorFlow 2.\n",
            "\n",
            "To change all layers to have dtype float64 by default, call `tf.keras.backend.set_floatx('float64')`. To change just this layer, pass dtype='float64' to the layer constructor. If you are the author of this layer, you can disable autocasting by passing autocast=False to the base Layer constructor.\n",
            "\n"
          ],
          "name": "stdout"
        },
        {
          "output_type": "execute_result",
          "data": {
            "text/plain": [
              "<tf.Tensor: shape=(22, 1), dtype=float32, numpy=\n",
              "array([[-0.2524989 ],\n",
              "       [-0.3590853 ],\n",
              "       [-0.31574062],\n",
              "       [-0.31448415],\n",
              "       [-0.3426411 ],\n",
              "       [-0.3382241 ],\n",
              "       [-0.34591782],\n",
              "       [-0.34895217],\n",
              "       [-0.16876364],\n",
              "       [-0.2821396 ],\n",
              "       [-0.31286868],\n",
              "       [-0.14739323],\n",
              "       [-0.23173298],\n",
              "       [-0.35521543],\n",
              "       [-0.22168958],\n",
              "       [-0.35518914],\n",
              "       [-0.24707964],\n",
              "       [-0.285274  ],\n",
              "       [-0.26231378],\n",
              "       [-0.3459221 ],\n",
              "       [-0.22210468],\n",
              "       [-0.24105029]], dtype=float32)>"
            ]
          },
          "metadata": {
            "tags": []
          },
          "execution_count": 33
        }
      ]
    },
    {
      "cell_type": "code",
      "metadata": {
        "colab": {
          "base_uri": "https://localhost:8080/"
        },
        "id": "3Wi2r88B4Wjg",
        "outputId": "4a79e956-5e1a-46c1-ea4e-b2547ad76070"
      },
      "source": [
        "#@title Sumário do modelo\n",
        "model.summary()"
      ],
      "execution_count": null,
      "outputs": [
        {
          "output_type": "stream",
          "text": [
            "Model: \"dnn__model_3\"\n",
            "_________________________________________________________________\n",
            "Layer (type)                 Output Shape              Param #   \n",
            "=================================================================\n",
            "dense_features (DenseFeature multiple                  0         \n",
            "_________________________________________________________________\n",
            "Dense_1 (Dense)              multiple                  1024      \n",
            "_________________________________________________________________\n",
            "Dense_2 (Dense)              multiple                  16512     \n",
            "_________________________________________________________________\n",
            "output (Dense)               multiple                  129       \n",
            "=================================================================\n",
            "Total params: 17,665\n",
            "Trainable params: 17,665\n",
            "Non-trainable params: 0\n",
            "_________________________________________________________________\n"
          ],
          "name": "stdout"
        }
      ]
    },
    {
      "cell_type": "code",
      "metadata": {
        "id": "XeiiFv-kJRQZ"
      },
      "source": [
        "#@title Função de perda e otimizador\n",
        "loss_object = tf.keras.losses.MeanSquaredError(reduction=\"auto\", name=\"mse\")\n",
        "optimizer = tf.keras.optimizers.Adam(0.001)"
      ],
      "execution_count": null,
      "outputs": []
    },
    {
      "cell_type": "code",
      "metadata": {
        "id": "Y5gjLfDcJVBB"
      },
      "source": [
        "#@title Métricas\n",
        "train_loss = tf.keras.metrics.Mean(name='train_loss')\n",
        "train_mae = tf.keras.metrics.MeanAbsoluteError(name='train_mae')\n",
        "train_mape = tf.keras.metrics.MeanAbsolutePercentageError(name='train_mape')\n",
        "\n",
        "test_loss = tf.keras.metrics.Mean(name='test_loss')\n",
        "test_mae = tf.keras.metrics.MeanAbsoluteError(name='test_mae')\n",
        "test_mape = tf.keras.metrics.MeanAbsolutePercentageError(name='test_mape')"
      ],
      "execution_count": null,
      "outputs": []
    },
    {
      "cell_type": "code",
      "metadata": {
        "id": "hcHPmrZDJZEN"
      },
      "source": [
        "#@title Aplicando gradiente\n",
        "@tf.function\n",
        "def train_step(data, labels):\n",
        "    with tf.GradientTape() as tape:\n",
        "        predictions = model(data, training=True)\n",
        "        loss = loss_object(predictions, labels)\n",
        "    gradients = tape.gradient(loss, model.trainable_variables)\n",
        "    optimizer.apply_gradients(zip(gradients, model.trainable_variables))\n",
        "\n",
        "    train_loss(loss)\n",
        "    train_mae(labels, predictions)\n",
        "    train_mape(labels, predictions)"
      ],
      "execution_count": null,
      "outputs": []
    },
    {
      "cell_type": "code",
      "metadata": {
        "id": "n20De_RbJlBG"
      },
      "source": [
        "#@title Função de teste\n",
        "@tf.function\n",
        "def test_step(data, labels):\n",
        "  predictions = model(data, training=False)\n",
        "  t_loss = loss_object(labels, predictions)\n",
        "\n",
        "  test_loss(t_loss)\n",
        "  test_mae(labels, predictions)\n",
        "  test_mape(labels, predictions)"
      ],
      "execution_count": null,
      "outputs": []
    },
    {
      "cell_type": "code",
      "metadata": {
        "id": "L-f4q8-EJo4a",
        "colab": {
          "base_uri": "https://localhost:8080/"
        },
        "outputId": "41ac54e3-f0bc-4fad-bb9e-80a1a3edabeb"
      },
      "source": [
        "#@title Treinamento do modelo\n",
        "EPOCHS = 10\n",
        "\n",
        "for epoch in range(EPOCHS):\n",
        "    # Re-inicia as métricas a cada época\n",
        "    train_loss.reset_states()\n",
        "    train_mae.reset_states()\n",
        "    train_mape.reset_states()\n",
        "    test_loss.reset_states()\n",
        "    test_mae.reset_states()\n",
        "    test_mape.reset_states()\n",
        "\n",
        "    for data, labels in train_ds:\n",
        "        train_step(data, labels)\n",
        "\n",
        "    for test_data, test_labels in test_ds:\n",
        "        test_step(test_data, test_labels)\n",
        "\n",
        "    print(\n",
        "        f'Epoch {epoch + 1}, '\n",
        "        f'Loss: {train_loss.result():.4f}, '\n",
        "        f'MAE: {train_mae.result():.4f}, '\n",
        "        f'MAPE: {train_mape.result():.4f}, '\n",
        "        f'Test_Loss: {test_loss.result():.4f}, '\n",
        "        f'Test_MAE: {test_mae.result():.4f}, '\n",
        "        f'Test_MAPE: {test_mape.result():.4f}'\n",
        "        )"
      ],
      "execution_count": null,
      "outputs": [
        {
          "output_type": "stream",
          "text": [
            "Epoch 1, Loss: 0.1431, MAE: 0.1920, MAPE: 174.0132, Test_Loss: 0.0658, Test_MAE: 0.1391, Test_MAPE: 104.8454\n",
            "Epoch 2, Loss: 0.0607, MAE: 0.1451, MAPE: 92.7746, Test_Loss: 0.0651, Test_MAE: 0.1444, Test_MAPE: 67.1575\n",
            "Epoch 3, Loss: 0.0576, MAE: 0.1357, MAPE: 69.4060, Test_Loss: 0.0566, Test_MAE: 0.1217, Test_MAPE: 52.8496\n",
            "Epoch 4, Loss: 0.0561, MAE: 0.1311, MAPE: 57.8929, Test_Loss: 0.0604, Test_MAE: 0.1279, Test_MAPE: 45.9583\n",
            "Epoch 5, Loss: 0.0549, MAE: 0.1287, MAPE: 53.9824, Test_Loss: 0.0603, Test_MAE: 0.1318, Test_MAPE: 50.7652\n",
            "Epoch 6, Loss: 0.0537, MAE: 0.1262, MAPE: 53.2335, Test_Loss: 0.0544, Test_MAE: 0.1144, Test_MAPE: 42.3414\n",
            "Epoch 7, Loss: 0.0531, MAE: 0.1247, MAPE: 51.4236, Test_Loss: 0.0606, Test_MAE: 0.1227, Test_MAPE: 47.5844\n",
            "Epoch 8, Loss: 0.0525, MAE: 0.1236, MAPE: 50.6328, Test_Loss: 0.0551, Test_MAE: 0.1244, Test_MAPE: 58.2162\n",
            "Epoch 9, Loss: 0.0517, MAE: 0.1219, MAPE: 48.9811, Test_Loss: 0.0540, Test_MAE: 0.1198, Test_MAPE: 50.4070\n",
            "Epoch 10, Loss: 0.0514, MAE: 0.1211, MAPE: 48.3739, Test_Loss: 0.0567, Test_MAE: 0.1253, Test_MAPE: 64.5403\n"
          ],
          "name": "stdout"
        }
      ]
    }
  ]
}