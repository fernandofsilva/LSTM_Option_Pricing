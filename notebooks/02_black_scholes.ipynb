{
  "nbformat": 4,
  "nbformat_minor": 0,
  "metadata": {
    "colab": {
      "name": "02_black_scholes.ipynb",
      "provenance": [],
      "collapsed_sections": [],
      "toc_visible": true,
      "mount_file_id": "1TEaMvfVpTx4mmq-qlBPbuaBvlP0ADrOq",
      "authorship_tag": "ABX9TyM2lPNIq9eFI+GYv5KYJZkV",
      "include_colab_link": true
    },
    "kernelspec": {
      "name": "python3",
      "display_name": "Python 3"
    }
  },
  "cells": [
    {
      "cell_type": "markdown",
      "metadata": {
        "id": "view-in-github",
        "colab_type": "text"
      },
      "source": [
        "<a href=\"https://colab.research.google.com/github/fernandofsilva/LSTM_Option_Pricing/blob/main/notebooks/02_black_scholes.ipynb\" target=\"_parent\"><img src=\"https://colab.research.google.com/assets/colab-badge.svg\" alt=\"Open In Colab\"/></a>"
      ]
    },
    {
      "cell_type": "markdown",
      "metadata": {
        "id": "_2gDkdCVo3AX"
      },
      "source": [
        "# Setup"
      ]
    },
    {
      "cell_type": "code",
      "metadata": {
        "id": "3DZomw4VC1p-"
      },
      "source": [
        "#@title Carregar as bibliotecas bases\n",
        "import pandas as pd\n",
        "import numpy as np\n",
        "import math\n",
        "\n",
        "import warnings\n",
        "warnings.simplefilter('ignore')\n",
        "\n",
        "%matplotlib inline\n",
        "import matplotlib.pyplot as plt\n",
        "import seaborn\n",
        "\n",
        "seaborn.set_style('whitegrid')"
      ],
      "execution_count": 3,
      "outputs": []
    },
    {
      "cell_type": "markdown",
      "metadata": {
        "id": "5s7PoCMq_kMB"
      },
      "source": [
        "Carregando os dados que foram parseados anteriormente"
      ]
    },
    {
      "cell_type": "code",
      "metadata": {
        "id": "eAFy0p5rE83j",
        "colab": {
          "base_uri": "https://localhost:8080/",
          "height": 204
        },
        "outputId": "24135dd0-4f79-4187-d8d0-8f5c78995695"
      },
      "source": [
        "#@title Carregando os dados de cotações da B3 com o periódo de 2015 até 2020.\n",
        "raw_data = pd.read_csv('/content/drive/My Drive/Mestrado/data/cotacao_historica.csv.gz')\n",
        "raw_data.head()"
      ],
      "execution_count": 4,
      "outputs": [
        {
          "output_type": "execute_result",
          "data": {
            "text/html": [
              "<div>\n",
              "<style scoped>\n",
              "    .dataframe tbody tr th:only-of-type {\n",
              "        vertical-align: middle;\n",
              "    }\n",
              "\n",
              "    .dataframe tbody tr th {\n",
              "        vertical-align: top;\n",
              "    }\n",
              "\n",
              "    .dataframe thead th {\n",
              "        text-align: right;\n",
              "    }\n",
              "</style>\n",
              "<table border=\"1\" class=\"dataframe\">\n",
              "  <thead>\n",
              "    <tr style=\"text-align: right;\">\n",
              "      <th></th>\n",
              "      <th>data_pregao</th>\n",
              "      <th>codigo</th>\n",
              "      <th>mercado</th>\n",
              "      <th>preco</th>\n",
              "      <th>preco_exercicio</th>\n",
              "      <th>data_vencimento</th>\n",
              "    </tr>\n",
              "  </thead>\n",
              "  <tbody>\n",
              "    <tr>\n",
              "      <th>0</th>\n",
              "      <td>2019-01-02</td>\n",
              "      <td>AALR3</td>\n",
              "      <td>VISTA</td>\n",
              "      <td>13.25</td>\n",
              "      <td>0.0</td>\n",
              "      <td>2019-01-02</td>\n",
              "    </tr>\n",
              "    <tr>\n",
              "      <th>1</th>\n",
              "      <td>2019-01-02</td>\n",
              "      <td>AAPL34</td>\n",
              "      <td>VISTA</td>\n",
              "      <td>60.41</td>\n",
              "      <td>0.0</td>\n",
              "      <td>2019-01-02</td>\n",
              "    </tr>\n",
              "    <tr>\n",
              "      <th>2</th>\n",
              "      <td>2019-01-02</td>\n",
              "      <td>ABBV34</td>\n",
              "      <td>VISTA</td>\n",
              "      <td>342.84</td>\n",
              "      <td>0.0</td>\n",
              "      <td>2019-01-02</td>\n",
              "    </tr>\n",
              "    <tr>\n",
              "      <th>3</th>\n",
              "      <td>2019-01-02</td>\n",
              "      <td>ABCB4</td>\n",
              "      <td>VISTA</td>\n",
              "      <td>17.12</td>\n",
              "      <td>0.0</td>\n",
              "      <td>2019-01-02</td>\n",
              "    </tr>\n",
              "    <tr>\n",
              "      <th>4</th>\n",
              "      <td>2019-01-02</td>\n",
              "      <td>ABEV3</td>\n",
              "      <td>VISTA</td>\n",
              "      <td>16.15</td>\n",
              "      <td>0.0</td>\n",
              "      <td>2019-01-02</td>\n",
              "    </tr>\n",
              "  </tbody>\n",
              "</table>\n",
              "</div>"
            ],
            "text/plain": [
              "  data_pregao  codigo mercado   preco  preco_exercicio data_vencimento\n",
              "0  2019-01-02   AALR3   VISTA   13.25              0.0      2019-01-02\n",
              "1  2019-01-02  AAPL34   VISTA   60.41              0.0      2019-01-02\n",
              "2  2019-01-02  ABBV34   VISTA  342.84              0.0      2019-01-02\n",
              "3  2019-01-02   ABCB4   VISTA   17.12              0.0      2019-01-02\n",
              "4  2019-01-02   ABEV3   VISTA   16.15              0.0      2019-01-02"
            ]
          },
          "metadata": {
            "tags": []
          },
          "execution_count": 4
        }
      ]
    },
    {
      "cell_type": "markdown",
      "metadata": {
        "id": "vQMhYYEbpA5g"
      },
      "source": [
        "# Opções\n",
        "\n",
        "Selecionada somente os dados de opções de PETR4."
      ]
    },
    {
      "cell_type": "code",
      "metadata": {
        "id": "0yLA6iURJqg5",
        "colab": {
          "base_uri": "https://localhost:8080/",
          "height": 204
        },
        "outputId": "efa8d420-2f89-43e1-fde4-7a5b5cd46f1d"
      },
      "source": [
        "#@title Processamento dos dados de opções\n",
        "# Filtrar somente dados de opções\n",
        "option = raw_data[raw_data['mercado'].isin(['OPÇÕES DE VENDA', 'OPÇÕES DE COMPRA'])]\n",
        "option = option[option['codigo'].str.startswith('PETR')]\n",
        "\n",
        "option.head()"
      ],
      "execution_count": 5,
      "outputs": [
        {
          "output_type": "execute_result",
          "data": {
            "text/html": [
              "<div>\n",
              "<style scoped>\n",
              "    .dataframe tbody tr th:only-of-type {\n",
              "        vertical-align: middle;\n",
              "    }\n",
              "\n",
              "    .dataframe tbody tr th {\n",
              "        vertical-align: top;\n",
              "    }\n",
              "\n",
              "    .dataframe thead th {\n",
              "        text-align: right;\n",
              "    }\n",
              "</style>\n",
              "<table border=\"1\" class=\"dataframe\">\n",
              "  <thead>\n",
              "    <tr style=\"text-align: right;\">\n",
              "      <th></th>\n",
              "      <th>data_pregao</th>\n",
              "      <th>codigo</th>\n",
              "      <th>mercado</th>\n",
              "      <th>preco</th>\n",
              "      <th>preco_exercicio</th>\n",
              "      <th>data_vencimento</th>\n",
              "    </tr>\n",
              "  </thead>\n",
              "  <tbody>\n",
              "    <tr>\n",
              "      <th>232812</th>\n",
              "      <td>2019-01-02</td>\n",
              "      <td>PETRG20</td>\n",
              "      <td>OPÇÕES DE COMPRA</td>\n",
              "      <td>8.50</td>\n",
              "      <td>19.29</td>\n",
              "      <td>2020-07-20</td>\n",
              "    </tr>\n",
              "    <tr>\n",
              "      <th>232813</th>\n",
              "      <td>2019-01-02</td>\n",
              "      <td>PETRB224</td>\n",
              "      <td>OPÇÕES DE COMPRA</td>\n",
              "      <td>2.94</td>\n",
              "      <td>21.75</td>\n",
              "      <td>2019-02-18</td>\n",
              "    </tr>\n",
              "    <tr>\n",
              "      <th>232814</th>\n",
              "      <td>2019-01-02</td>\n",
              "      <td>PETRO299</td>\n",
              "      <td>OPÇÕES DE VENDA</td>\n",
              "      <td>5.50</td>\n",
              "      <td>29.25</td>\n",
              "      <td>2019-03-18</td>\n",
              "    </tr>\n",
              "    <tr>\n",
              "      <th>232818</th>\n",
              "      <td>2019-01-02</td>\n",
              "      <td>PETRA191</td>\n",
              "      <td>OPÇÕES DE COMPRA</td>\n",
              "      <td>5.63</td>\n",
              "      <td>18.50</td>\n",
              "      <td>2019-01-21</td>\n",
              "    </tr>\n",
              "    <tr>\n",
              "      <th>232819</th>\n",
              "      <td>2019-01-02</td>\n",
              "      <td>PETRC219</td>\n",
              "      <td>OPÇÕES DE COMPRA</td>\n",
              "      <td>3.70</td>\n",
              "      <td>21.25</td>\n",
              "      <td>2019-03-18</td>\n",
              "    </tr>\n",
              "  </tbody>\n",
              "</table>\n",
              "</div>"
            ],
            "text/plain": [
              "       data_pregao    codigo  ... preco_exercicio  data_vencimento\n",
              "232812  2019-01-02   PETRG20  ...           19.29       2020-07-20\n",
              "232813  2019-01-02  PETRB224  ...           21.75       2019-02-18\n",
              "232814  2019-01-02  PETRO299  ...           29.25       2019-03-18\n",
              "232818  2019-01-02  PETRA191  ...           18.50       2019-01-21\n",
              "232819  2019-01-02  PETRC219  ...           21.25       2019-03-18\n",
              "\n",
              "[5 rows x 6 columns]"
            ]
          },
          "metadata": {
            "tags": []
          },
          "execution_count": 5
        }
      ]
    },
    {
      "cell_type": "markdown",
      "metadata": {
        "id": "Dv6rYZ3cEoa8"
      },
      "source": [
        "A variável T  é dada pelo fração do tempo em formato anual, entre o dia da cotação até o vencimento da opção."
      ]
    },
    {
      "cell_type": "code",
      "metadata": {
        "id": "iTjFRNxmrD12",
        "cellView": "form",
        "colab": {
          "base_uri": "https://localhost:8080/",
          "height": 235
        },
        "outputId": "dcf18efd-7e37-4285-ce64-b51afa9aa2d9"
      },
      "source": [
        "#@title Cálculo da variável T\n",
        "# Pegar o valor dos dias que não se repetem\n",
        "workday = pd.DataFrame({'dia': option['data_pregao'].unique()})\n",
        "workday['dia'] = pd.to_datetime(workday['dia'])\n",
        "workday = workday.sort_values(by='dia')\n",
        "\n",
        "# Criar lista T\n",
        "T = list()\n",
        "\n",
        "for index, row in option.iterrows():\n",
        "    T.append(workday[(workday['dia'] >= row.data_pregao) & (workday['dia'] <= row.data_vencimento)].shape[0] - 1)\n",
        "\n",
        "option['T'] = T\n",
        "option['T'] = option['T'] / 252\n",
        "\n",
        "# Formatar os dados de data\n",
        "option['data_pregao'] = pd.to_datetime(option['data_pregao'])\n",
        "option['data_vencimento'] = pd.to_datetime(option['data_vencimento'])\n",
        "option = option.sort_values(by='data_pregao')\n",
        "\n",
        "# Adicionar index no dataframe\n",
        "option.index = option['data_pregao']\n",
        "option = option.drop(['data_pregao'], axis=1)\n",
        "option = option.rename(columns={'preco': 'preco_opcao'})\n",
        "\n",
        "option.head()"
      ],
      "execution_count": 6,
      "outputs": [
        {
          "output_type": "execute_result",
          "data": {
            "text/html": [
              "<div>\n",
              "<style scoped>\n",
              "    .dataframe tbody tr th:only-of-type {\n",
              "        vertical-align: middle;\n",
              "    }\n",
              "\n",
              "    .dataframe tbody tr th {\n",
              "        vertical-align: top;\n",
              "    }\n",
              "\n",
              "    .dataframe thead th {\n",
              "        text-align: right;\n",
              "    }\n",
              "</style>\n",
              "<table border=\"1\" class=\"dataframe\">\n",
              "  <thead>\n",
              "    <tr style=\"text-align: right;\">\n",
              "      <th></th>\n",
              "      <th>codigo</th>\n",
              "      <th>mercado</th>\n",
              "      <th>preco_opcao</th>\n",
              "      <th>preco_exercicio</th>\n",
              "      <th>data_vencimento</th>\n",
              "      <th>T</th>\n",
              "    </tr>\n",
              "    <tr>\n",
              "      <th>data_pregao</th>\n",
              "      <th></th>\n",
              "      <th></th>\n",
              "      <th></th>\n",
              "      <th></th>\n",
              "      <th></th>\n",
              "      <th></th>\n",
              "    </tr>\n",
              "  </thead>\n",
              "  <tbody>\n",
              "    <tr>\n",
              "      <th>2015-01-02</th>\n",
              "      <td>PETRM78</td>\n",
              "      <td>OPÇÕES DE VENDA</td>\n",
              "      <td>1.47</td>\n",
              "      <td>10.91</td>\n",
              "      <td>2015-01-19</td>\n",
              "      <td>0.043651</td>\n",
              "    </tr>\n",
              "    <tr>\n",
              "      <th>2015-01-02</th>\n",
              "      <td>PETRF14</td>\n",
              "      <td>OPÇÕES DE COMPRA</td>\n",
              "      <td>0.45</td>\n",
              "      <td>14.00</td>\n",
              "      <td>2015-06-15</td>\n",
              "      <td>0.436508</td>\n",
              "    </tr>\n",
              "    <tr>\n",
              "      <th>2015-01-02</th>\n",
              "      <td>PETRL44</td>\n",
              "      <td>OPÇÕES DE COMPRA</td>\n",
              "      <td>0.50</td>\n",
              "      <td>17.00</td>\n",
              "      <td>2015-12-21</td>\n",
              "      <td>0.952381</td>\n",
              "    </tr>\n",
              "    <tr>\n",
              "      <th>2015-01-02</th>\n",
              "      <td>PETRM1</td>\n",
              "      <td>OPÇÕES DE VENDA</td>\n",
              "      <td>1.34</td>\n",
              "      <td>10.66</td>\n",
              "      <td>2015-01-19</td>\n",
              "      <td>0.043651</td>\n",
              "    </tr>\n",
              "    <tr>\n",
              "      <th>2015-01-02</th>\n",
              "      <td>PETRM10</td>\n",
              "      <td>OPÇÕES DE VENDA</td>\n",
              "      <td>0.19</td>\n",
              "      <td>8.61</td>\n",
              "      <td>2015-01-19</td>\n",
              "      <td>0.043651</td>\n",
              "    </tr>\n",
              "  </tbody>\n",
              "</table>\n",
              "</div>"
            ],
            "text/plain": [
              "              codigo           mercado  ...  data_vencimento         T\n",
              "data_pregao                             ...                           \n",
              "2015-01-02   PETRM78   OPÇÕES DE VENDA  ...       2015-01-19  0.043651\n",
              "2015-01-02   PETRF14  OPÇÕES DE COMPRA  ...       2015-06-15  0.436508\n",
              "2015-01-02   PETRL44  OPÇÕES DE COMPRA  ...       2015-12-21  0.952381\n",
              "2015-01-02    PETRM1   OPÇÕES DE VENDA  ...       2015-01-19  0.043651\n",
              "2015-01-02   PETRM10   OPÇÕES DE VENDA  ...       2015-01-19  0.043651\n",
              "\n",
              "[5 rows x 6 columns]"
            ]
          },
          "metadata": {
            "tags": []
          },
          "execution_count": 6
        }
      ]
    },
    {
      "cell_type": "code",
      "metadata": {
        "id": "HIRF0Ww3wRju",
        "cellView": "form",
        "colab": {
          "base_uri": "https://localhost:8080/",
          "height": 308
        },
        "outputId": "740d06f1-ce68-4979-f472-a7ac854ac8d5"
      },
      "source": [
        "#@title Plot dos dados da opção PETRG20\n",
        "# Plot\n",
        "fig, ax = plt.subplots(figsize=(20, 4))\n",
        "fig.suptitle('PETRG20 com data de vencimento em 20/07/2020')\n",
        "ax.plot(option.loc[(option['codigo'] == 'PETRG20') & (option['data_vencimento'] == '2020-07-20'), 'preco_opcao'], label='PETRG20')\n",
        "ax.plot(option.loc[(option['codigo'] == 'PETRG20') & (option['data_vencimento'] == '2020-07-20'), 'preco_exercicio'], label='exercício')\n",
        "ax.set_ylabel('Valor da opção em R$')\n",
        "ax.set_xlabel('Data')\n",
        "ax.legend()\n",
        "plt.show()"
      ],
      "execution_count": 7,
      "outputs": [
        {
          "output_type": "display_data",
          "data": {
            "image/png": "[encoded data removed]",
            "text/plain": [
              "<Figure size 1440x288 with 1 Axes>"
            ]
          },
          "metadata": {
            "tags": []
          }
        }
      ]
    },
    {
      "cell_type": "markdown",
      "metadata": {
        "id": "uickV9NHIeVu"
      },
      "source": [
        "# Taxa de Juros livre de Risco\n",
        "\n",
        "Carregar e processar os dados de CDI que foram baixados anteriormente"
      ]
    },
    {
      "cell_type": "code",
      "metadata": {
        "id": "DeAhHKBLM-7s",
        "colab": {
          "base_uri": "https://localhost:8080/",
          "height": 235
        },
        "outputId": "74f0f114-99c6-430e-8244-ffa2b4a3167d"
      },
      "source": [
        "#@title Formatando os dados\n",
        "# Carregando os dados\n",
        "cdi = pd.read_csv('/content/drive/My Drive/Mestrado/data/cdi.csv.gz', compression='gzip')\n",
        "\n",
        "# Formatando a coluna de data\n",
        "cdi['data'] = pd.to_datetime(cdi['data'])\n",
        "cdi = cdi.sort_values(by='data')\n",
        "\n",
        "# Filtrando o primeiro dia do mês\n",
        "cdi = cdi[cdi['data'].dt.month != cdi['data'].dt.month.shift(1)]\n",
        "\n",
        "# Criando um intervalo de datas para referência\n",
        "date = pd.DataFrame({'data': pd.date_range(start='1/1/2015', end='12/31/2020')})\n",
        "\n",
        "# Junção com os dados de CDI\n",
        "date = date.merge(right=cdi, how='left', on='data')\n",
        "\n",
        "# Preenchendo os vazios\n",
        "date['taxa_juros'] = date['taxa_juros'].fillna(method='ffill')\n",
        "date['taxa_juros'] = date['taxa_juros'] / 100\n",
        "cdi = date.dropna()\n",
        "\n",
        "# Criando a coluna de indice\n",
        "cdi.index = cdi['data']\n",
        "cdi = cdi.drop(['data'], axis=1)\n",
        "cdi.head()"
      ],
      "execution_count": 26,
      "outputs": [
        {
          "output_type": "execute_result",
          "data": {
            "text/html": [
              "<div>\n",
              "<style scoped>\n",
              "    .dataframe tbody tr th:only-of-type {\n",
              "        vertical-align: middle;\n",
              "    }\n",
              "\n",
              "    .dataframe tbody tr th {\n",
              "        vertical-align: top;\n",
              "    }\n",
              "\n",
              "    .dataframe thead th {\n",
              "        text-align: right;\n",
              "    }\n",
              "</style>\n",
              "<table border=\"1\" class=\"dataframe\">\n",
              "  <thead>\n",
              "    <tr style=\"text-align: right;\">\n",
              "      <th></th>\n",
              "      <th>taxa_juros</th>\n",
              "    </tr>\n",
              "    <tr>\n",
              "      <th>data</th>\n",
              "      <th></th>\n",
              "    </tr>\n",
              "  </thead>\n",
              "  <tbody>\n",
              "    <tr>\n",
              "      <th>2015-01-02</th>\n",
              "      <td>0.1157</td>\n",
              "    </tr>\n",
              "    <tr>\n",
              "      <th>2015-01-03</th>\n",
              "      <td>0.1157</td>\n",
              "    </tr>\n",
              "    <tr>\n",
              "      <th>2015-01-04</th>\n",
              "      <td>0.1157</td>\n",
              "    </tr>\n",
              "    <tr>\n",
              "      <th>2015-01-05</th>\n",
              "      <td>0.1157</td>\n",
              "    </tr>\n",
              "    <tr>\n",
              "      <th>2015-01-06</th>\n",
              "      <td>0.1157</td>\n",
              "    </tr>\n",
              "  </tbody>\n",
              "</table>\n",
              "</div>"
            ],
            "text/plain": [
              "            taxa_juros\n",
              "data                  \n",
              "2015-01-02      0.1157\n",
              "2015-01-03      0.1157\n",
              "2015-01-04      0.1157\n",
              "2015-01-05      0.1157\n",
              "2015-01-06      0.1157"
            ]
          },
          "metadata": {
            "tags": []
          },
          "execution_count": 26
        }
      ]
    },
    {
      "cell_type": "markdown",
      "metadata": {
        "id": "TpbkrUyPh2Hl"
      },
      "source": [
        "As taxas de juros de cupom cambial do mercado de DDI são, atualmente, obtidas a partir dos primeiros vencimentos dos contratos futuros de DI1 e de Taxa de Câmbio de Reais por Dólar Comercial, onde é obtido o primeiro vencimento sintético de DDI e a partir daí utilizada as cotações da Estratégia Operacional de FRA e de Cupom Cambial para obtenção de vencimentos mais distantes."
      ]
    },
    {
      "cell_type": "code",
      "metadata": {
        "id": "9JADQq-PJPks",
        "colab": {
          "base_uri": "https://localhost:8080/",
          "height": 308
        },
        "outputId": "8688f6b1-fd9c-4263-f28b-e1e28ba890b5"
      },
      "source": [
        "#@title Plot Taxa de Juros livre de Risco (CDI)\n",
        "fig, ax = plt.subplots(figsize=(20, 4))\n",
        "fig.suptitle('CDI')\n",
        "ax.plot(cdi * 100)\n",
        "ax.set_ylabel('Interest rate (%)')\n",
        "ax.set_ylim(3, 16)\n",
        "ax.set_xlabel('Date')\n",
        "plt.show()"
      ],
      "execution_count": 27,
      "outputs": [
        {
          "output_type": "display_data",
          "data": {
            "image/png": "[encoded data removed]",
            "text/plain": [
              "<Figure size 1440x288 with 1 Axes>"
            ]
          },
          "metadata": {
            "tags": []
          }
        }
      ]
    },
    {
      "cell_type": "markdown",
      "metadata": {
        "id": "3sNcpGMRjNEV"
      },
      "source": [
        "# Volatilidade\n",
        "\n",
        "Carregar os dados de volatilidade que foram modelados anteriormente."
      ]
    },
    {
      "cell_type": "code",
      "metadata": {
        "colab": {
          "base_uri": "https://localhost:8080/",
          "height": 235
        },
        "id": "xcVHCSR-jcig",
        "outputId": "43c15ddf-c328-466a-eeba-2a80ea2d988b"
      },
      "source": [
        "#@title Carregando os dados de volatilidade\n",
        "vol = pd.read_csv('/content/drive/My Drive/Mestrado/data/volatilidade_garch.csv.gz')\n",
        "vol.index = vol['data_pregao']\n",
        "vol = vol.drop(['data_pregao'], axis=1)\n",
        "vol.head()"
      ],
      "execution_count": 21,
      "outputs": [
        {
          "output_type": "execute_result",
          "data": {
            "text/html": [
              "<div>\n",
              "<style scoped>\n",
              "    .dataframe tbody tr th:only-of-type {\n",
              "        vertical-align: middle;\n",
              "    }\n",
              "\n",
              "    .dataframe tbody tr th {\n",
              "        vertical-align: top;\n",
              "    }\n",
              "\n",
              "    .dataframe thead th {\n",
              "        text-align: right;\n",
              "    }\n",
              "</style>\n",
              "<table border=\"1\" class=\"dataframe\">\n",
              "  <thead>\n",
              "    <tr style=\"text-align: right;\">\n",
              "      <th></th>\n",
              "      <th>preco_ativo</th>\n",
              "      <th>volatilidade</th>\n",
              "    </tr>\n",
              "    <tr>\n",
              "      <th>data_pregao</th>\n",
              "      <th></th>\n",
              "      <th></th>\n",
              "    </tr>\n",
              "  </thead>\n",
              "  <tbody>\n",
              "    <tr>\n",
              "      <th>2015-01-05</th>\n",
              "      <td>8.61</td>\n",
              "      <td>0.771953</td>\n",
              "    </tr>\n",
              "    <tr>\n",
              "      <th>2015-01-06</th>\n",
              "      <td>8.33</td>\n",
              "      <td>0.843418</td>\n",
              "    </tr>\n",
              "    <tr>\n",
              "      <th>2015-01-07</th>\n",
              "      <td>8.67</td>\n",
              "      <td>0.813362</td>\n",
              "    </tr>\n",
              "    <tr>\n",
              "      <th>2015-01-08</th>\n",
              "      <td>9.18</td>\n",
              "      <td>0.791204</td>\n",
              "    </tr>\n",
              "    <tr>\n",
              "      <th>2015-01-09</th>\n",
              "      <td>9.40</td>\n",
              "      <td>0.797282</td>\n",
              "    </tr>\n",
              "  </tbody>\n",
              "</table>\n",
              "</div>"
            ],
            "text/plain": [
              "             preco_ativo  volatilidade\n",
              "data_pregao                           \n",
              "2015-01-05          8.61      0.771953\n",
              "2015-01-06          8.33      0.843418\n",
              "2015-01-07          8.67      0.813362\n",
              "2015-01-08          9.18      0.791204\n",
              "2015-01-09          9.40      0.797282"
            ]
          },
          "metadata": {
            "tags": []
          },
          "execution_count": 21
        }
      ]
    },
    {
      "cell_type": "code",
      "metadata": {
        "colab": {
          "base_uri": "https://localhost:8080/",
          "height": 308
        },
        "id": "0IT0BJdnjzQL",
        "outputId": "e430f9a5-b867-4d93-8aae-35f3ac9fbb78"
      },
      "source": [
        "#@title Plot Volatilidade Condicional\n",
        "fig, axs = plt.subplots(figsize=(20, 4))\n",
        "fig.suptitle('Gráfico de volatilidade diária de PETR4')\n",
        "axs.plot(vol['volatilidade'])\n",
        "axs.set_ylabel('Volatilidade (%)')\n",
        "axs.set_xlabel('Data')\n",
        "plt.show()"
      ],
      "execution_count": 23,
      "outputs": [
        {
          "output_type": "display_data",
          "data": {
            "image/png": "[encoded data removed]",
            "text/plain": [
              "<Figure size 1440x288 with 1 Axes>"
            ]
          },
          "metadata": {
            "tags": []
          }
        }
      ]
    },
    {
      "cell_type": "markdown",
      "metadata": {
        "id": "lnE_mAyjY8VF"
      },
      "source": [
        "# Junção dos dados"
      ]
    },
    {
      "cell_type": "code",
      "metadata": {
        "id": "83RAAQxdY7tP",
        "colab": {
          "base_uri": "https://localhost:8080/",
          "height": 204
        },
        "outputId": "6088f284-e45b-45d0-fae0-61ef8df8273f"
      },
      "source": [
        "#@title Junção entre as bases PETR4, Opções, CDI e GARCH\n",
        "data = option.merge(right=vol, right_index=True, left_index=True)\n",
        "data = data.merge(right=cdi, right_index=True, left_index=True)\n",
        "data.head()"
      ],
      "execution_count": 28,
      "outputs": [
        {
          "output_type": "execute_result",
          "data": {
            "text/html": [
              "<div>\n",
              "<style scoped>\n",
              "    .dataframe tbody tr th:only-of-type {\n",
              "        vertical-align: middle;\n",
              "    }\n",
              "\n",
              "    .dataframe tbody tr th {\n",
              "        vertical-align: top;\n",
              "    }\n",
              "\n",
              "    .dataframe thead th {\n",
              "        text-align: right;\n",
              "    }\n",
              "</style>\n",
              "<table border=\"1\" class=\"dataframe\">\n",
              "  <thead>\n",
              "    <tr style=\"text-align: right;\">\n",
              "      <th></th>\n",
              "      <th>codigo</th>\n",
              "      <th>mercado</th>\n",
              "      <th>preco_opcao</th>\n",
              "      <th>preco_exercicio</th>\n",
              "      <th>data_vencimento</th>\n",
              "      <th>T</th>\n",
              "      <th>preco_ativo</th>\n",
              "      <th>volatilidade</th>\n",
              "      <th>taxa_juros</th>\n",
              "    </tr>\n",
              "  </thead>\n",
              "  <tbody>\n",
              "    <tr>\n",
              "      <th>2015-01-05</th>\n",
              "      <td>PETRM17</td>\n",
              "      <td>OPÇÕES DE VENDA</td>\n",
              "      <td>8.18</td>\n",
              "      <td>16.91</td>\n",
              "      <td>2015-01-19</td>\n",
              "      <td>0.039683</td>\n",
              "      <td>8.61</td>\n",
              "      <td>0.771953</td>\n",
              "      <td>0.1157</td>\n",
              "    </tr>\n",
              "    <tr>\n",
              "      <th>2015-01-05</th>\n",
              "      <td>PETRM28</td>\n",
              "      <td>OPÇÕES DE VENDA</td>\n",
              "      <td>0.36</td>\n",
              "      <td>8.41</td>\n",
              "      <td>2015-01-19</td>\n",
              "      <td>0.039683</td>\n",
              "      <td>8.61</td>\n",
              "      <td>0.771953</td>\n",
              "      <td>0.1157</td>\n",
              "    </tr>\n",
              "    <tr>\n",
              "      <th>2015-01-05</th>\n",
              "      <td>PETRM2</td>\n",
              "      <td>OPÇÕES DE VENDA</td>\n",
              "      <td>0.02</td>\n",
              "      <td>4.91</td>\n",
              "      <td>2015-01-19</td>\n",
              "      <td>0.039683</td>\n",
              "      <td>8.61</td>\n",
              "      <td>0.771953</td>\n",
              "      <td>0.1157</td>\n",
              "    </tr>\n",
              "    <tr>\n",
              "      <th>2015-01-05</th>\n",
              "      <td>PETRM23</td>\n",
              "      <td>OPÇÕES DE VENDA</td>\n",
              "      <td>0.79</td>\n",
              "      <td>9.21</td>\n",
              "      <td>2015-01-19</td>\n",
              "      <td>0.039683</td>\n",
              "      <td>8.61</td>\n",
              "      <td>0.771953</td>\n",
              "      <td>0.1157</td>\n",
              "    </tr>\n",
              "    <tr>\n",
              "      <th>2015-01-05</th>\n",
              "      <td>PETRM25</td>\n",
              "      <td>OPÇÕES DE VENDA</td>\n",
              "      <td>1.13</td>\n",
              "      <td>9.61</td>\n",
              "      <td>2015-01-19</td>\n",
              "      <td>0.039683</td>\n",
              "      <td>8.61</td>\n",
              "      <td>0.771953</td>\n",
              "      <td>0.1157</td>\n",
              "    </tr>\n",
              "  </tbody>\n",
              "</table>\n",
              "</div>"
            ],
            "text/plain": [
              "             codigo          mercado  ...  volatilidade  taxa_juros\n",
              "2015-01-05  PETRM17  OPÇÕES DE VENDA  ...      0.771953      0.1157\n",
              "2015-01-05  PETRM28  OPÇÕES DE VENDA  ...      0.771953      0.1157\n",
              "2015-01-05   PETRM2  OPÇÕES DE VENDA  ...      0.771953      0.1157\n",
              "2015-01-05  PETRM23  OPÇÕES DE VENDA  ...      0.771953      0.1157\n",
              "2015-01-05  PETRM25  OPÇÕES DE VENDA  ...      0.771953      0.1157\n",
              "\n",
              "[5 rows x 9 columns]"
            ]
          },
          "metadata": {
            "tags": []
          },
          "execution_count": 28
        }
      ]
    },
    {
      "cell_type": "code",
      "metadata": {
        "id": "Oo0oxesw9AC3",
        "cellView": "form",
        "colab": {
          "base_uri": "https://localhost:8080/",
          "height": 308
        },
        "outputId": "9e60e744-161c-4dc2-8f2e-ad7c638d6684"
      },
      "source": [
        "#@title Plot dos dados juntos\n",
        "# Plot\n",
        "fig, ax = plt.subplots(figsize=(20, 4))\n",
        "fig.suptitle('PETRG20 x PETR4 x preço de exercício')\n",
        "ax.plot(data.loc[(data['option'] == 'PETRG20') & (data['expire'] == '2020-07-20'), 'value'], label='PETRG20')\n",
        "ax.plot(data.loc[(data['option'] == 'PETRG20') & (data['expire'] == '2020-07-20'), 'S'], label='PETR4')\n",
        "ax.plot(data.loc[(data['option'] == 'PETRG20') & (data['expire'] == '2020-07-20'), 'X'], label='exercício')\n",
        "ax.set_ylabel('Valor em R$')\n",
        "ax.set_xlabel('Data')\n",
        "ax.legend()\n",
        "plt.show()"
      ],
      "execution_count": null,
      "outputs": [
        {
          "output_type": "display_data",
          "data": {
            "image/png": "[encoded data removed]",
            "text/plain": [
              "<Figure size 1440x288 with 1 Axes>"
            ]
          },
          "metadata": {
            "tags": []
          }
        }
      ]
    },
    {
      "cell_type": "markdown",
      "metadata": {
        "id": "ewHZnu07Kvsp"
      },
      "source": [
        "# Black-Scholes\n",
        "\n",
        "O cálculo fórmula de Black-Scholes de uma opção de compra é dado pela equação $C(t, T) = S(t)N(d_{1}) - Ke^{-r(T-t))}N(d_{2})$ e venda $P(t, T) = Ke^{-r(T-t))}N(-d_{2}) - S(t)N(-d_{1})$, onde $d_{1} = \\frac{\\ln\\bigg({\\frac{S(t)}{K}}\\bigg)+\\bigg(r+\\frac{\\sigma^{2}}{2}\\bigg)(T-t)}{\\sigma\\sqrt{T-t}}$ e $d_{2} = \\frac{\\ln\\bigg({\\frac{S(t)}{K}}\\bigg)+\\bigg(r-\\frac{\\sigma^{2}}{2}\\bigg)(T-t)}{\\sigma\\sqrt{T-t}}$."
      ]
    },
    {
      "cell_type": "code",
      "metadata": {
        "id": "hoIbCiufKu0N",
        "colab": {
          "base_uri": "https://localhost:8080/",
          "height": 204
        },
        "outputId": "2453b6a8-cb2f-40d0-c089-bcd1e8c6a6bb"
      },
      "source": [
        "#@title Formula\n",
        "from scipy.stats import norm\n",
        "\n",
        "# Auxiliary function for d_one risk-adjusted probability\n",
        "def d11(S, X, T, r, sigma):\n",
        "    \"\"\"This is an auxiliary function and is not intended to be called externally.\"\"\"\n",
        "    return (np.log(S/X) + (r + 0.5 * sigma**2)*T) / (sigma * np.sqrt(T))\n",
        "\n",
        "# Auxiliary function for d_two risk-adjusted probability\n",
        "def d21(d1, T, sigma):\n",
        "    \"\"\"This is an auxiliary function and is not intended to be called externally.\"\"\"\n",
        "    return d1 - sigma * np.sqrt(T)\n",
        "\n",
        "# Definition of the Black-Scholes delta function\n",
        "def bs_delta(S, X, T, r, sigma, option_type):\n",
        "    \"\"\"Compute the delta of the Black-Scholes option pricing formula.\n",
        "\n",
        "    Arguments:\n",
        "    S           -- the current spot price of the underlying stock\n",
        "    X           -- the option strike price\n",
        "    T           -- the time until maturity (in fractions of a year)\n",
        "    r           -- the risk-free interest rate\n",
        "    sigma       -- the returns volatility of the underlying stock\n",
        "    option_type -- the option type, either 'call' or 'put'\n",
        "\n",
        "    Returns: a numpy.float_ representing the delta value\n",
        "    Exceptions raised: ValueError if option_type is not 'call' or 'put'\n",
        "    \"\"\"\n",
        "    if option_type == 'OPÇÕES DE COMPRA':\n",
        "        return norm.cdf(d11(S, X, T, r, sigma))\n",
        "    elif option_type == 'OPÇÕES DE VENDA':\n",
        "        return norm.cdf(-d11(S, X, T, r, sigma))\n",
        "    else:\n",
        "        # Raise an error if the option_type is neither a call nor a put\n",
        "        raise ValueError(\"Option type is either 'call' or 'put'.\")\n",
        "\n",
        "# Definition of the Black-Scholes European option pricing formula\n",
        "def black_scholes(S, X, T, r, sigma, option_type):\n",
        "    \"\"\"Price a European option using the Black-Scholes option pricing formula.\n",
        "\n",
        "    Arguments:\n",
        "    S           -- the current spot price of the underlying stock\n",
        "    X           -- the option strike price\n",
        "    T           -- the time until maturity (in fractions of a year)\n",
        "    r           -- the risk-free interest rate\n",
        "    sigma       -- the returns volatility of the underlying stock\n",
        "    option_type -- the option type, either 'call' or 'put'\n",
        "\n",
        "    Returns: a numpy.float_ representing the option value\n",
        "    Exceptions raised: ValueError if option_type is not 'call' or 'put'\n",
        "    \"\"\"\n",
        "    d_one = d11(S, X, T, r, sigma)\n",
        "    d_two = d21(d_one, T, sigma)\n",
        "    if option_type == 'OPÇÕES DE COMPRA':\n",
        "        return S * norm.cdf(d_one) - np.exp(-r * T) * X * norm.cdf(d_two)\n",
        "    elif option_type == 'OPÇÕES DE VENDA':\n",
        "        return -(S * norm.cdf(-d_one) - np.exp(-r * T) * X * norm.cdf(-d_two))\n",
        "    else:\n",
        "        # Raise an error if the option_type is neither a call nor a put\n",
        "        raise ValueError(\"Option type is either 'call' or 'put'.\")\n",
        "\n",
        "def bs_pandas(row):\n",
        "    value = black_scholes(\n",
        "        row['preco_ativo'],\n",
        "        row['preco_exercicio'],\n",
        "        row['T'],\n",
        "        row['taxa_juros'],\n",
        "        row['volatilidade'],\n",
        "        row['mercado']\n",
        "    )\n",
        "    return round(value, 2)\n",
        "\n",
        "def delta_pandas(row):\n",
        "    value = bs_delta(\n",
        "        row['preco_ativo'],\n",
        "        row['preco_exercicio'],\n",
        "        row['T'],\n",
        "        row['taxa_juros'],\n",
        "        row['volatilidade'],\n",
        "        row['mercado']\n",
        "    )\n",
        "    return int(round(value * 100, 0))\n",
        "\n",
        "data['black_scholes'] = data.apply(bs_pandas, axis=1)\n",
        "data['delta_black_scholes'] = data.apply(delta_pandas, axis=1)\n",
        "data.head()"
      ],
      "execution_count": 30,
      "outputs": [
        {
          "output_type": "execute_result",
          "data": {
            "text/html": [
              "<div>\n",
              "<style scoped>\n",
              "    .dataframe tbody tr th:only-of-type {\n",
              "        vertical-align: middle;\n",
              "    }\n",
              "\n",
              "    .dataframe tbody tr th {\n",
              "        vertical-align: top;\n",
              "    }\n",
              "\n",
              "    .dataframe thead th {\n",
              "        text-align: right;\n",
              "    }\n",
              "</style>\n",
              "<table border=\"1\" class=\"dataframe\">\n",
              "  <thead>\n",
              "    <tr style=\"text-align: right;\">\n",
              "      <th></th>\n",
              "      <th>codigo</th>\n",
              "      <th>mercado</th>\n",
              "      <th>preco_opcao</th>\n",
              "      <th>preco_exercicio</th>\n",
              "      <th>data_vencimento</th>\n",
              "      <th>T</th>\n",
              "      <th>preco_ativo</th>\n",
              "      <th>volatilidade</th>\n",
              "      <th>taxa_juros</th>\n",
              "      <th>black_scholes</th>\n",
              "      <th>delta_black_scholes</th>\n",
              "    </tr>\n",
              "  </thead>\n",
              "  <tbody>\n",
              "    <tr>\n",
              "      <th>2015-01-05</th>\n",
              "      <td>PETRM17</td>\n",
              "      <td>OPÇÕES DE VENDA</td>\n",
              "      <td>8.18</td>\n",
              "      <td>16.91</td>\n",
              "      <td>2015-01-19</td>\n",
              "      <td>0.039683</td>\n",
              "      <td>8.61</td>\n",
              "      <td>0.771953</td>\n",
              "      <td>0.1157</td>\n",
              "      <td>8.22</td>\n",
              "      <td>100</td>\n",
              "    </tr>\n",
              "    <tr>\n",
              "      <th>2015-01-05</th>\n",
              "      <td>PETRM28</td>\n",
              "      <td>OPÇÕES DE VENDA</td>\n",
              "      <td>0.36</td>\n",
              "      <td>8.41</td>\n",
              "      <td>2015-01-19</td>\n",
              "      <td>0.039683</td>\n",
              "      <td>8.61</td>\n",
              "      <td>0.771953</td>\n",
              "      <td>0.1157</td>\n",
              "      <td>0.41</td>\n",
              "      <td>40</td>\n",
              "    </tr>\n",
              "    <tr>\n",
              "      <th>2015-01-05</th>\n",
              "      <td>PETRM2</td>\n",
              "      <td>OPÇÕES DE VENDA</td>\n",
              "      <td>0.02</td>\n",
              "      <td>4.91</td>\n",
              "      <td>2015-01-19</td>\n",
              "      <td>0.039683</td>\n",
              "      <td>8.61</td>\n",
              "      <td>0.771953</td>\n",
              "      <td>0.1157</td>\n",
              "      <td>0.00</td>\n",
              "      <td>0</td>\n",
              "    </tr>\n",
              "    <tr>\n",
              "      <th>2015-01-05</th>\n",
              "      <td>PETRM23</td>\n",
              "      <td>OPÇÕES DE VENDA</td>\n",
              "      <td>0.79</td>\n",
              "      <td>9.21</td>\n",
              "      <td>2015-01-19</td>\n",
              "      <td>0.039683</td>\n",
              "      <td>8.61</td>\n",
              "      <td>0.771953</td>\n",
              "      <td>0.1157</td>\n",
              "      <td>0.87</td>\n",
              "      <td>63</td>\n",
              "    </tr>\n",
              "    <tr>\n",
              "      <th>2015-01-05</th>\n",
              "      <td>PETRM25</td>\n",
              "      <td>OPÇÕES DE VENDA</td>\n",
              "      <td>1.13</td>\n",
              "      <td>9.61</td>\n",
              "      <td>2015-01-19</td>\n",
              "      <td>0.039683</td>\n",
              "      <td>8.61</td>\n",
              "      <td>0.771953</td>\n",
              "      <td>0.1157</td>\n",
              "      <td>1.16</td>\n",
              "      <td>73</td>\n",
              "    </tr>\n",
              "  </tbody>\n",
              "</table>\n",
              "</div>"
            ],
            "text/plain": [
              "             codigo          mercado  ...  black_scholes  delta_black_scholes\n",
              "2015-01-05  PETRM17  OPÇÕES DE VENDA  ...           8.22                  100\n",
              "2015-01-05  PETRM28  OPÇÕES DE VENDA  ...           0.41                   40\n",
              "2015-01-05   PETRM2  OPÇÕES DE VENDA  ...           0.00                    0\n",
              "2015-01-05  PETRM23  OPÇÕES DE VENDA  ...           0.87                   63\n",
              "2015-01-05  PETRM25  OPÇÕES DE VENDA  ...           1.16                   73\n",
              "\n",
              "[5 rows x 11 columns]"
            ]
          },
          "metadata": {
            "tags": []
          },
          "execution_count": 30
        }
      ]
    },
    {
      "cell_type": "markdown",
      "metadata": {
        "id": "LVwCRtXurpef"
      },
      "source": [
        "Essa fase é necessária para o input dos dados na rede LSTM, redes LTSM precisam dos dados em 3 dimensões, porém não existe uma quantidade fixa de dias de negócios para cada opção, para fixar um valor de time steps, foram criados dias em branco com valores 0 para inserir dentro da rede, esses valores não prejudicam o treinamento, uma vez que não existem opções de valores 0."
      ]
    },
    {
      "cell_type": "code",
      "metadata": {
        "id": "9Q0PgLm7pa_-",
        "cellView": "form",
        "colab": {
          "base_uri": "https://localhost:8080/",
          "height": 204
        },
        "outputId": "90241aad-ddd0-4d68-adba-8217ac80e278"
      },
      "source": [
        "#@title Padding com time steps de 500 dias\n",
        "\n",
        "# Reset index\n",
        "data = data.reset_index()\n",
        "\n",
        "# Create reference dataframe\n",
        "reference = data.groupby(['expire', 'option', 'option_type'], as_index=False).agg({'X': 'count'})\n",
        "reference = reference.drop(['X'], axis=1)\n",
        "\n",
        "# Create empty dataframe to append data\n",
        "df = pd.DataFrame()\n",
        "\n",
        "# Loop over the reference dict\n",
        "for index, row in reference.iterrows():\n",
        "\n",
        "    # Filter the data according the options\n",
        "    subset = data[(data['expire'] == row['expire']) & (data['option'] == row['option'])]\n",
        "\n",
        "    # Calcule the size of the data\n",
        "    size = 500 - subset.shape[0]\n",
        "\n",
        "    if size > 0:\n",
        "        # Create padding data\n",
        "        subset = pd.DataFrame({'date': pd.date_range(start='1/1/2010', periods=size),\n",
        "                    'option': [row['option']] * size,\n",
        "                    'value': [0] * size,\n",
        "                    'X': [0] * size,\n",
        "                    'expire': [row['expire']] * size,\n",
        "                    'option_type': [row['option_type']] * size,\n",
        "                    'T': [0] * size,\n",
        "                    'S': [0] * size,\n",
        "                    'return': [0] * size,\n",
        "                    'r': [0] * size,\n",
        "                    'sigma': [0] * size,\n",
        "                    'bs': [0] * size,\n",
        "                    'delta_bs': [0] * size\n",
        "        }).append(subset)\n",
        "    else:\n",
        "        subset = subset[-50:]\n",
        "\n",
        "    # Append in the dataframe\n",
        "    df = df.append(subset)\n",
        "\n",
        "# Assign to data variable\n",
        "data = df\n",
        "del df\n",
        "\n",
        "# Order data\n",
        "data = data.sort_values(by=['expire', 'option', 'date'])\n",
        "data = data.reset_index()\n",
        "data = data.drop(['index'], axis=1)\n",
        "data.head()"
      ],
      "execution_count": null,
      "outputs": [
        {
          "output_type": "execute_result",
          "data": {
            "text/html": [
              "<div>\n",
              "<style scoped>\n",
              "    .dataframe tbody tr th:only-of-type {\n",
              "        vertical-align: middle;\n",
              "    }\n",
              "\n",
              "    .dataframe tbody tr th {\n",
              "        vertical-align: top;\n",
              "    }\n",
              "\n",
              "    .dataframe thead th {\n",
              "        text-align: right;\n",
              "    }\n",
              "</style>\n",
              "<table border=\"1\" class=\"dataframe\">\n",
              "  <thead>\n",
              "    <tr style=\"text-align: right;\">\n",
              "      <th></th>\n",
              "      <th>date</th>\n",
              "      <th>option</th>\n",
              "      <th>value</th>\n",
              "      <th>X</th>\n",
              "      <th>expire</th>\n",
              "      <th>option_type</th>\n",
              "      <th>T</th>\n",
              "      <th>S</th>\n",
              "      <th>return</th>\n",
              "      <th>r</th>\n",
              "      <th>sigma</th>\n",
              "      <th>bs</th>\n",
              "      <th>delta_bs</th>\n",
              "    </tr>\n",
              "  </thead>\n",
              "  <tbody>\n",
              "    <tr>\n",
              "      <th>0</th>\n",
              "      <td>2010-01-01</td>\n",
              "      <td>PETRA1</td>\n",
              "      <td>0.0</td>\n",
              "      <td>0.0</td>\n",
              "      <td>2015-01-19</td>\n",
              "      <td>call</td>\n",
              "      <td>0.0</td>\n",
              "      <td>0.0</td>\n",
              "      <td>0.0</td>\n",
              "      <td>0.0</td>\n",
              "      <td>0.0</td>\n",
              "      <td>0.0</td>\n",
              "      <td>0</td>\n",
              "    </tr>\n",
              "    <tr>\n",
              "      <th>1</th>\n",
              "      <td>2010-01-02</td>\n",
              "      <td>PETRA1</td>\n",
              "      <td>0.0</td>\n",
              "      <td>0.0</td>\n",
              "      <td>2015-01-19</td>\n",
              "      <td>call</td>\n",
              "      <td>0.0</td>\n",
              "      <td>0.0</td>\n",
              "      <td>0.0</td>\n",
              "      <td>0.0</td>\n",
              "      <td>0.0</td>\n",
              "      <td>0.0</td>\n",
              "      <td>0</td>\n",
              "    </tr>\n",
              "    <tr>\n",
              "      <th>2</th>\n",
              "      <td>2010-01-03</td>\n",
              "      <td>PETRA1</td>\n",
              "      <td>0.0</td>\n",
              "      <td>0.0</td>\n",
              "      <td>2015-01-19</td>\n",
              "      <td>call</td>\n",
              "      <td>0.0</td>\n",
              "      <td>0.0</td>\n",
              "      <td>0.0</td>\n",
              "      <td>0.0</td>\n",
              "      <td>0.0</td>\n",
              "      <td>0.0</td>\n",
              "      <td>0</td>\n",
              "    </tr>\n",
              "    <tr>\n",
              "      <th>3</th>\n",
              "      <td>2010-01-04</td>\n",
              "      <td>PETRA1</td>\n",
              "      <td>0.0</td>\n",
              "      <td>0.0</td>\n",
              "      <td>2015-01-19</td>\n",
              "      <td>call</td>\n",
              "      <td>0.0</td>\n",
              "      <td>0.0</td>\n",
              "      <td>0.0</td>\n",
              "      <td>0.0</td>\n",
              "      <td>0.0</td>\n",
              "      <td>0.0</td>\n",
              "      <td>0</td>\n",
              "    </tr>\n",
              "    <tr>\n",
              "      <th>4</th>\n",
              "      <td>2010-01-05</td>\n",
              "      <td>PETRA1</td>\n",
              "      <td>0.0</td>\n",
              "      <td>0.0</td>\n",
              "      <td>2015-01-19</td>\n",
              "      <td>call</td>\n",
              "      <td>0.0</td>\n",
              "      <td>0.0</td>\n",
              "      <td>0.0</td>\n",
              "      <td>0.0</td>\n",
              "      <td>0.0</td>\n",
              "      <td>0.0</td>\n",
              "      <td>0</td>\n",
              "    </tr>\n",
              "  </tbody>\n",
              "</table>\n",
              "</div>"
            ],
            "text/plain": [
              "        date  option  value    X     expire  ... return    r  sigma   bs  delta_bs\n",
              "0 2010-01-01  PETRA1    0.0  0.0 2015-01-19  ...    0.0  0.0    0.0  0.0         0\n",
              "1 2010-01-02  PETRA1    0.0  0.0 2015-01-19  ...    0.0  0.0    0.0  0.0         0\n",
              "2 2010-01-03  PETRA1    0.0  0.0 2015-01-19  ...    0.0  0.0    0.0  0.0         0\n",
              "3 2010-01-04  PETRA1    0.0  0.0 2015-01-19  ...    0.0  0.0    0.0  0.0         0\n",
              "4 2010-01-05  PETRA1    0.0  0.0 2015-01-19  ...    0.0  0.0    0.0  0.0         0\n",
              "\n",
              "[5 rows x 13 columns]"
            ]
          },
          "metadata": {
            "tags": []
          },
          "execution_count": 47
        }
      ]
    },
    {
      "cell_type": "code",
      "metadata": {
        "id": "ugyrSlmT6Qn8",
        "cellView": "form",
        "colab": {
          "base_uri": "https://localhost:8080/",
          "height": 308
        },
        "outputId": "f89bc053-243a-41fe-b1a0-eb3e5a396624"
      },
      "source": [
        "#@title Plot PETRG20 Padded\n",
        "# Plot\n",
        "fig, ax = plt.subplots(figsize=(20, 4))\n",
        "fig.suptitle('PETRG20 Padded')\n",
        "ax.plot(\n",
        "    data.loc[(data['option'] == 'PETRG20') & (data['expire'] == '2020-07-20'), 'date'],\n",
        "    data.loc[(data['option'] == 'PETRG20') & (data['expire'] == '2020-07-20'), 'value'], label='PETRG20'\n",
        ")\n",
        "ax.plot(\n",
        "    data.loc[(data['option'] == 'PETRG20') & (data['expire'] == '2020-07-20'), 'date'],\n",
        "    data.loc[(data['option'] == 'PETRG20') & (data['expire'] == '2020-07-20'), 'S'],\n",
        "    label='PETR4'\n",
        ")\n",
        "ax.plot(data.loc[(data['option'] == 'PETRG20') & (data['expire'] == '2020-07-20'), 'date'],\n",
        "        data.loc[(data['option'] == 'PETRG20') & (data['expire'] == '2020-07-20'), 'X'],\n",
        "        label='exercício'\n",
        ")\n",
        "ax.set_ylabel('Valor em R$')\n",
        "ax.set_xlabel('Data')\n",
        "ax.legend()\n",
        "plt.show()"
      ],
      "execution_count": null,
      "outputs": [
        {
          "output_type": "display_data",
          "data": {
            "image/png": "[encoded data removed]",
            "text/plain": [
              "<Figure size 1440x288 with 1 Axes>"
            ]
          },
          "metadata": {
            "tags": []
          }
        }
      ]
    },
    {
      "cell_type": "markdown",
      "metadata": {
        "id": "_2iBTkj7s1HO"
      },
      "source": [
        "# Dividindo os dados entre treino, teste e validação\n",
        "\n",
        "O periodo dos dados é composto de janeiro de 2015 até março de 2020. Assim, os dados de treino e teste pertencem ao periodo de janeiro de 2015 até dezembro de 2019, com uma divisão de 70% treino e 30% teste e os dados de validação pertecem ao periodo de janeiro de 2020 até março de 2020.\n",
        "\n",
        "Para a divisão entre treino e teste, foi utilizada a seguinte métodologia:\n",
        "\n",
        "- Os dados foram divididos considerando a data de vencimento da opção\n",
        "- Após selecionada as opções dentro do mesmo vencimento, a divisão entre treino e teste foi feito da maneira aleatória, considerando a divisão 70/30."
      ]
    },
    {
      "cell_type": "code",
      "metadata": {
        "id": "qP0uDKaFs8GK",
        "cellView": "form"
      },
      "source": [
        "#@title Treino, teste e validação\n",
        "# Define validation data\n",
        "val = data[data['expire'] > '2020-01-01']\n",
        "data = data[data['expire'] < '2020-01-01']\n",
        "\n",
        "# Define train size dataframe percentage\n",
        "train_size = .70\n",
        "\n",
        "# Get list with unique expire date\n",
        "expire_list = data['expire'].sort_values().unique()\n",
        "\n",
        "# Create stratify column\n",
        "data['stratify'] = ''\n",
        "\n",
        "# Loop over the expire list \n",
        "for date in expire_list:\n",
        "\n",
        "    # Get options from expire date\n",
        "    option_list = data.loc[data['expire'] == date, 'option'].unique()\n",
        "\n",
        "    # Calculate the size of ta\n",
        "    size = int(option_list.shape[0] * train_size)\n",
        "\n",
        "    # Generate random list of integers\n",
        "    random_list = np.random.choice(range(option_list.shape[0]), size, replace=False)\n",
        "\n",
        "    # Subset options randomly between train and test\n",
        "    option_train = option_list[random_list]\n",
        "    option_test = np.delete(option_list, random_list, None)\n",
        "\n",
        "    data.loc[(data['expire'] == date) & (data['option'].isin(option_train)), 'stratify'] = 'train'\n",
        "    data.loc[(data['expire'] == date) & (data['option'].isin(option_test)), 'stratify'] = 'test'\n",
        "\n",
        "train = data[data['stratify'] == 'train']\n",
        "test = data[data['stratify'] == 'test']"
      ],
      "execution_count": null,
      "outputs": []
    },
    {
      "cell_type": "markdown",
      "metadata": {
        "id": "3zkTZmx0_s0N"
      },
      "source": [
        "# Save to file"
      ]
    },
    {
      "cell_type": "code",
      "metadata": {
        "id": "BlmbEmNV-zlY",
        "cellView": "form"
      },
      "source": [
        "#@title Salvar arquivo processado\n",
        "# Save file to Csv\n",
        "cols = ['date', 'option', 'value', 'X', 'expire', 'option_type', 'T', 'S',\n",
        "       'return', 'r', 'sigma', 'bs', 'delta_bs']\n",
        "\n",
        "data[cols].to_csv(f'/content/drive/My Drive/Datasets/data_option.csv.gz', index=False, compression='gzip')\n",
        "train[cols].to_csv(f'/content/drive/My Drive/Datasets/train_option.csv.gz', index=False, compression='gzip')\n",
        "test[cols].to_csv(f'/content/drive/My Drive/Datasets/test_option.csv.gz', index=False, compression='gzip')\n",
        "val[cols].to_csv(f'/content/drive/My Drive/Datasets/val_option.csv.gz', index=False, compression='gzip')"
      ],
      "execution_count": null,
      "outputs": []
    }
  ]
}