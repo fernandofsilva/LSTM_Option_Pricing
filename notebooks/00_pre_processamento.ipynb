{
  "nbformat": 4,
  "nbformat_minor": 0,
  "metadata": {
    "colab": {
      "name": "00_pre_processamento.ipynb",
      "provenance": [],
      "collapsed_sections": [],
      "toc_visible": true,
      "mount_file_id": "16m5MhaDgcRFhlbUDPncain0olGIxAMyt",
      "authorship_tag": "ABX9TyPUzaivZgxAsWqA7L5lsyPL",
      "include_colab_link": true
    },
    "kernelspec": {
      "name": "python3",
      "display_name": "Python 3"
    }
  },
  "cells": [
    {
      "cell_type": "markdown",
      "metadata": {
        "id": "view-in-github",
        "colab_type": "text"
      },
      "source": [
        "<a href=\"https://colab.research.google.com/github/fernandofsilva/LSTM_Option_Pricing/blob/main/notebooks/00_pre_processamento.ipynb\" target=\"_parent\"><img src=\"https://colab.research.google.com/assets/colab-badge.svg\" alt=\"Open In Colab\"/></a>"
      ]
    },
    {
      "cell_type": "markdown",
      "metadata": {
        "id": "SJntpJOB1iji"
      },
      "source": [
        "# Setup"
      ]
    },
    {
      "cell_type": "code",
      "metadata": {
        "id": "eaDOnTnswEXg",
        "cellView": "form"
      },
      "source": [
        "#@title Carregar as bibliotecas base\n",
        "import pandas as pd\n",
        "import zipfile\n",
        "import os"
      ],
      "execution_count": null,
      "outputs": []
    },
    {
      "cell_type": "markdown",
      "metadata": {
        "id": "q1EmEMW323wA"
      },
      "source": [
        "Os dados das cotações de todos os ativos negociadas na [B3](http://www.b3.com.br), estão disponíveis no [link](http://www.b3.com.br/pt_br/market-data-e-indices/servicos-de-dados/market-data/historico/mercado-a-vista/series-historicas/) e precisam ser parseados de acordo com as seguintes instruções [link](http://www.b3.com.br/en_us/market-data-and-indices/data-services/market-data/historical-data/equities/historical-quote-data/).\n",
        "\n",
        "Para essa tarefa é necessário utilizado o pacote [bovespa](https://github.com/fernandofsilva/bovespa), ele é a versão atualizada por mim do pacote desenvolvido a 5 anos atrás [link](https://github.com/thypad/bovespa)."
      ]
    },
    {
      "cell_type": "code",
      "metadata": {
        "id": "SyMn_g2a2dFc",
        "cellView": "form",
        "colab": {
          "base_uri": "https://localhost:8080/"
        },
        "outputId": "de852162-9079-40f7-981d-51b0342b1fc8"
      },
      "source": [
        "#@title Instalar pacote Bovespa\n",
        "!pip install git+https://github.com/fernandofsilva/bovespa"
      ],
      "execution_count": null,
      "outputs": [
        {
          "output_type": "stream",
          "text": [
            "Collecting git+https://github.com/fernandofsilva/bovespa\n",
            "  Cloning https://github.com/fernandofsilva/bovespa to /tmp/pip-req-build-e9fgd978\n",
            "  Running command git clone -q https://github.com/fernandofsilva/bovespa /tmp/pip-req-build-e9fgd978\n",
            "Requirement already satisfied (use --upgrade to upgrade): bovespa==0.1.0 from git+https://github.com/fernandofsilva/bovespa in /usr/local/lib/python3.6/dist-packages\n",
            "Building wheels for collected packages: bovespa\n",
            "  Building wheel for bovespa (setup.py) ... \u001b[?25l\u001b[?25hdone\n",
            "  Created wheel for bovespa: filename=bovespa-0.1.0-cp36-none-any.whl size=9211 sha256=dcf90420571dcd830a7478c6e42d2ddd780ba1f77ed193e18e07cbf5c9881cb4\n",
            "  Stored in directory: /tmp/pip-ephem-wheel-cache-plmfke1w/wheels/cb/3c/9b/27644c70e14f3c2a2dd611dcfcf8f4f6856e4577f3f881eff4\n",
            "Successfully built bovespa\n"
          ],
          "name": "stdout"
        }
      ]
    },
    {
      "cell_type": "markdown",
      "metadata": {
        "id": "_mYfk11_5-HK"
      },
      "source": [
        "Os dados estão salvos dentro do meu Google Drive, porém estão disponíveis através do site da bovespa e também dentro do [Github](https://github.com/fernandofsilva/LSTM_Option_Pricing/tree/main/data) do projeto."
      ]
    },
    {
      "cell_type": "code",
      "metadata": {
        "id": "wr6IROxu2mMk",
        "cellView": "form"
      },
      "source": [
        "#@title Descompactor os arquivos\n",
        "\n",
        "# Caminho para os arquivos\n",
        "path = '/content/drive/My Drive/Mestrado/data/'\n",
        "\n",
        "# Listar os arquivos dentro do diretório\n",
        "files = os.listdir(path)\n",
        "\n",
        "# Filtrar para pegar somente os dados de contação\n",
        "files = list(filter(lambda file: 'COTAHIST' in file, files))\n",
        "\n",
        "# Loop sobe os arquivos, decompactando e salvado local\n",
        "for file in files:\n",
        "    with zipfile.ZipFile(path + file, 'r') as zip_ref:\n",
        "        zip_ref.extractall('')"
      ],
      "execution_count": null,
      "outputs": []
    },
    {
      "cell_type": "code",
      "metadata": {
        "id": "cLU0pdsl8T6U",
        "cellView": "form",
        "colab": {
          "base_uri": "https://localhost:8080/"
        },
        "outputId": "a1d35cd9-02b9-406e-84da-a618cf3ec26e"
      },
      "source": [
        "#@title Amostra dos dados\n",
        "!head -10 COTAHIST_A2020.TXT"
      ],
      "execution_count": null,
      "outputs": [
        {
          "output_type": "stream",
          "text": [
            "00COTAHIST.2020BOVESPA 20201113                                                                                                                                                                                                                      \r\n",
            "012020010202AALR3       010ALLIAR      ON      NM   R$  000000000182900000000019000000000001828000000000186800000000019000000000001899000000000190102443000000000000585800000000001094619600000000000000009999123100000010000000000000BRAALRACNOR6101\r\n",
            "012020010202AAPL34      010APPLE       DRN          R$  000000001200000000000121340000000012000000000001207300000000121340000000010550000000001213400009000000000000012700000000000153338000000000000000009999123100000010000000000000BRAAPLBDR004131\r\n",
            "012020010202ABCB4       010ABC BRASIL  PN  EJ  N2   R$  000000000200000000000020300000000001982000000000200500000000020300000000002008000000000203003979000000000000870400000000001745787800000000000000009999123100000010000000000000BRABCBACNPR4133\r\n",
            "012020010202ABEV3       010AMBEV S/A   ON  EJ       R$  000000000188600000000019250000000001878000000000191200000000019200000000001919000000000192031581000000000016011300000000030623479100000000000000009999123100000010000000000000BRABEVACNOR1122\r\n",
            "012020010202ADHM3       010ADVANCED-DH ON           R$  000000000025500000000002550000000000235000000000024400000000002480000000000248000000000024900307000000000000193400000000000047192700000000000000009999123100000010000000000000BRADHMACNOR9101\r\n",
            "012020010202AFLT3       010AFLUENTE T  ON           R$  000000000111300000000011280000000001100000000000111500000000011230000000001101000000000112300024000000000000004300000000000004796200000000000000009999123100000010000000000000BRAFLTACNOR1114\r\n",
            "012020010202AGRO3       010BRASILAGRO  ON      NM   R$  000000000191000000000019300000000001910000000000192100000000019250000000001919000000000192500211000000000000059600000000000114531800000000000000009999123100000010000000000000BRAGROACNOR7109\r\n",
            "012020010202ALPA3       010ALPARGATAS  ON      N1   R$  000000000275800000000027640000000002680000000000271700000000026800000000002675000000000272600048000000000000009700000000000026358000000000000000009999123100000010000000000000BRALPAACNOR0228\r\n",
            "012020010202ALPA4       010ALPARGATAS  PN      N1   R$  000000000329800000000033440000000003247000000000327400000000032580000000003258000000000327007064000000000001355800000000004439489300000000000000009999123100000010000000000000BRALPAACNPR7228\r\n"
          ],
          "name": "stdout"
        }
      ]
    },
    {
      "cell_type": "markdown",
      "metadata": {
        "id": "mWdwClyT_BZs"
      },
      "source": [
        "# Parser dos dados\n",
        "\n",
        "Parsear os dados e salvar em format .Csv"
      ]
    },
    {
      "cell_type": "code",
      "metadata": {
        "id": "NStnRhIw9fkM",
        "cellView": "form",
        "colab": {
          "base_uri": "https://localhost:8080/"
        },
        "outputId": "fba21a4c-efe9-49d5-e460-31953aad99c5"
      },
      "source": [
        "#@title Parser\n",
        "import bovespa\n",
        "\n",
        "# Corrigir os nomes dos arquivos\n",
        "files = list(map(lambda file: file.replace('.zip', '.TXT'), files))\n",
        "\n",
        "# Loop sobre todos os arquivos\n",
        "for file in files:\n",
        "\n",
        "    # Parse dos arquivos\n",
        "    bf = bovespa.stock_history([file])\n",
        "\n",
        "    # Armazenar os arquivos em Csv\n",
        "    bf.to_csv(f'{file[:-4]}.csv')"
      ],
      "execution_count": null,
      "outputs": [
        {
          "output_type": "stream",
          "text": [
            "OrderedDict([('TIPREG', '00'), ('NOMARQ', 'COTAHIST.2019'), ('CODORI', 'BOVESPA'), ('DATGER', datetime.date(2019, 12, 30)), ('RESERV', '')])\n",
            "OrderedDict([('TIPREG', '00'), ('NOMARQ', 'COTAHIST.2020'), ('CODORI', 'BOVESPA'), ('DATGER', datetime.date(2020, 11, 13)), ('RESERV', '')])\n",
            "OrderedDict([('TIPREG', '00'), ('NOMARQ', 'COTAHIST.2018'), ('CODORI', 'BOVESPA'), ('DATGER', datetime.date(2018, 12, 28)), ('RESERV', '')])\n",
            "OrderedDict([('TIPREG', '00'), ('NOMARQ', 'COTAHIST.2017'), ('CODORI', 'BOVESPA'), ('DATGER', datetime.date(2017, 12, 29)), ('RESERV', '')])\n",
            "OrderedDict([('TIPREG', '00'), ('NOMARQ', 'COTAHIST.2016'), ('CODORI', 'BOVESPA'), ('DATGER', datetime.date(2016, 12, 29)), ('RESERV', '')])\n",
            "OrderedDict([('TIPREG', '00'), ('NOMARQ', 'COTAHIST.2015'), ('CODORI', 'BOVESPA'), ('DATGER', datetime.date(2015, 12, 30)), ('RESERV', '')])\n"
          ],
          "name": "stdout"
        }
      ]
    },
    {
      "cell_type": "markdown",
      "metadata": {
        "id": "LOOw8WaTVji6"
      },
      "source": [
        "# Selecionar colunas e salvar Csv"
      ]
    },
    {
      "cell_type": "code",
      "metadata": {
        "id": "kqEkalWUV0if",
        "cellView": "form"
      },
      "source": [
        "#@title Ler os arquivos\n",
        "# Corrigir o nome dos arquivos\n",
        "files = list(map(lambda file: file.replace('.TXT', '.csv'), files))\n",
        "\n",
        "# Nome das colunas\n",
        "cols = ['DATPRG', 'CODNEG', 'PREULT', 'PREEXE', 'DATVEN', 'TPMERC']\n",
        "\n",
        "# Iniciar uma lista\n",
        "dataframe_list = []\n",
        "\n",
        "# Loop sobre os arquivos\n",
        "for file in files:\n",
        "\n",
        "    # Adicionar na lista cada dataframe\n",
        "    dataframe_list.append(pd.read_csv(file, usecols=cols))\n",
        "\n",
        "# Concatenar todos os arquivos em formato de coluna\n",
        "data = pd.concat(dataframe_list, axis=0)"
      ],
      "execution_count": null,
      "outputs": []
    },
    {
      "cell_type": "code",
      "metadata": {
        "id": "EyvaRt71WxrM",
        "cellView": "form",
        "colab": {
          "base_uri": "https://localhost:8080/",
          "height": 204
        },
        "outputId": "b61c9aa3-ad15-4ede-8a9c-db6a76dddc8b"
      },
      "source": [
        "#@title Formatar os dados\n",
        "# Converter para tipo de data e tempo\n",
        "data.loc[data['DATVEN'] == '9999-12-31', 'DATVEN'] = data.loc[data['DATVEN'] == '9999-12-31', 'DATPRG']\n",
        "data[['DATPRG', 'DATVEN']] = data[['DATPRG', 'DATVEN']].apply(pd.to_datetime)\n",
        "\n",
        "# Dicionário para renomer as colunas\n",
        "dict_ref = {\n",
        "    'DATPRG': 'data_pregao',\n",
        "    'CODNEG': 'codigo',\n",
        "    'PREULT': 'preco',\n",
        "    'PREEXE': 'preco_exercicio',\n",
        "    'DATVEN': 'data_vencimento',\n",
        "    'TPMERC': 'mercado'\n",
        "}\n",
        "\n",
        "# Renomear oas colunas\n",
        "data = data.rename(columns=dict_ref)\n",
        "\n",
        "# Dicionário com os códigos dos papéis\n",
        "market = {\n",
        "    10: 'VISTA',\n",
        "    12: 'EXERCÍCIO DE OPÇÕES DE COMPRA',\n",
        "    13: 'EXERCÍCIO DE OPÇÕES DE VENDA',\n",
        "    17: 'LEILÃO',\n",
        "    20: 'FRACIONÁRIO',\n",
        "    30: 'TERMO',\n",
        "    50: 'FUTURO COM RETENÇÃO DE GANHO',\n",
        "    60: 'FUTURO COM MOVIMENTAÇÃO CONTÍNUA',\n",
        "    70: 'OPÇÕES DE COMPRA',\n",
        "    80: 'OPÇÕES DE VENDA',\n",
        "}\n",
        "\n",
        "# Renomear códigos nas colunas\n",
        "data['mercado'] = data['mercado'].replace(market)\n",
        "\n",
        "data.head()"
      ],
      "execution_count": null,
      "outputs": [
        {
          "output_type": "execute_result",
          "data": {
            "text/html": [
              "<div>\n",
              "<style scoped>\n",
              "    .dataframe tbody tr th:only-of-type {\n",
              "        vertical-align: middle;\n",
              "    }\n",
              "\n",
              "    .dataframe tbody tr th {\n",
              "        vertical-align: top;\n",
              "    }\n",
              "\n",
              "    .dataframe thead th {\n",
              "        text-align: right;\n",
              "    }\n",
              "</style>\n",
              "<table border=\"1\" class=\"dataframe\">\n",
              "  <thead>\n",
              "    <tr style=\"text-align: right;\">\n",
              "      <th></th>\n",
              "      <th>data_pregao</th>\n",
              "      <th>codigo</th>\n",
              "      <th>mercado</th>\n",
              "      <th>preco</th>\n",
              "      <th>preco_exercicio</th>\n",
              "      <th>data_vencimento</th>\n",
              "    </tr>\n",
              "  </thead>\n",
              "  <tbody>\n",
              "    <tr>\n",
              "      <th>0</th>\n",
              "      <td>2019-01-02</td>\n",
              "      <td>AALR3</td>\n",
              "      <td>VISTA</td>\n",
              "      <td>13.25</td>\n",
              "      <td>0.0</td>\n",
              "      <td>2019-01-02</td>\n",
              "    </tr>\n",
              "    <tr>\n",
              "      <th>1</th>\n",
              "      <td>2019-01-02</td>\n",
              "      <td>AAPL34</td>\n",
              "      <td>VISTA</td>\n",
              "      <td>60.41</td>\n",
              "      <td>0.0</td>\n",
              "      <td>2019-01-02</td>\n",
              "    </tr>\n",
              "    <tr>\n",
              "      <th>2</th>\n",
              "      <td>2019-01-02</td>\n",
              "      <td>ABBV34</td>\n",
              "      <td>VISTA</td>\n",
              "      <td>342.84</td>\n",
              "      <td>0.0</td>\n",
              "      <td>2019-01-02</td>\n",
              "    </tr>\n",
              "    <tr>\n",
              "      <th>3</th>\n",
              "      <td>2019-01-02</td>\n",
              "      <td>ABCB4</td>\n",
              "      <td>VISTA</td>\n",
              "      <td>17.12</td>\n",
              "      <td>0.0</td>\n",
              "      <td>2019-01-02</td>\n",
              "    </tr>\n",
              "    <tr>\n",
              "      <th>4</th>\n",
              "      <td>2019-01-02</td>\n",
              "      <td>ABEV3</td>\n",
              "      <td>VISTA</td>\n",
              "      <td>16.15</td>\n",
              "      <td>0.0</td>\n",
              "      <td>2019-01-02</td>\n",
              "    </tr>\n",
              "  </tbody>\n",
              "</table>\n",
              "</div>"
            ],
            "text/plain": [
              "  data_pregao  codigo mercado   preco  preco_exercicio data_vencimento\n",
              "0  2019-01-02   AALR3   VISTA   13.25              0.0      2019-01-02\n",
              "1  2019-01-02  AAPL34   VISTA   60.41              0.0      2019-01-02\n",
              "2  2019-01-02  ABBV34   VISTA  342.84              0.0      2019-01-02\n",
              "3  2019-01-02   ABCB4   VISTA   17.12              0.0      2019-01-02\n",
              "4  2019-01-02   ABEV3   VISTA   16.15              0.0      2019-01-02"
            ]
          },
          "metadata": {
            "tags": []
          },
          "execution_count": 18
        }
      ]
    },
    {
      "cell_type": "markdown",
      "metadata": {
        "id": "Aa70j_wHixqf"
      },
      "source": [
        "O arquivo final é salvo no meu google drive, porém uma cópia está disponível no [link](https://github.com/fernandofsilva/LSTM_Option_Pricing/tree/main/data)"
      ]
    },
    {
      "cell_type": "code",
      "metadata": {
        "id": "WjG3i7URiICA",
        "cellView": "form"
      },
      "source": [
        "#@title Salvar Csv\n",
        "data.to_csv(path + 'cotacao_historica.csv.gz', index=False, compression='gzip')"
      ],
      "execution_count": null,
      "outputs": []
    },
    {
      "cell_type": "markdown",
      "metadata": {
        "id": "pvfMjGh2sOWy"
      },
      "source": [
        "# CDI\n",
        "\n",
        "Os dados da taxa de juros estão disponíveis no [ftp](ftp://ftp.cetip.com.br/MediaCDI) da B3."
      ]
    },
    {
      "cell_type": "code",
      "metadata": {
        "id": "R0ThVyvus6H7",
        "cellView": "form"
      },
      "source": [
        "#@title Download dos dados no FTP B3\n",
        "from ftplib import FTP\n",
        "\n",
        "# Função para acrescentar os dados na lista\n",
        "dados = []\n",
        "def handle_binary(mais_dados):\n",
        "    dados.append(mais_dados)\n",
        "\n",
        "# Endereço dos dados\n",
        "host = \"ftp.cetip.com.br\"\n",
        "\n",
        "# Pegar a lista de arquivos disponíveis dentro do FTP\n",
        "with FTP(host) as ftp:\n",
        "    ftp.login()\n",
        "    files = ftp.nlst('MediaCDI')\n",
        "    for file in files:\n",
        "        resp = ftp.retrbinary(\"RETR \" + file, callback=handle_binary)"
      ],
      "execution_count": null,
      "outputs": []
    },
    {
      "cell_type": "code",
      "metadata": {
        "id": "xoQeeR0D7aMi",
        "cellView": "form"
      },
      "source": [
        "#@title Formatando os dados\n",
        "import re\n",
        "\n",
        "# Formatar dados\n",
        "def f(item):\n",
        "    item, *_ = item.decode('utf-8').split(' ')\n",
        "    return float(item[:-2] + '.' + item[-2:])\n",
        "\n",
        "taxa = map(f, dados)\n",
        "\n",
        "def s(item):\n",
        "    return re.search(r\"(\\d+)\", item).group(0)\n",
        "\n",
        "data = map(s, files)"
      ],
      "execution_count": null,
      "outputs": []
    },
    {
      "cell_type": "code",
      "metadata": {
        "id": "7gtd4eNfD1kh",
        "cellView": "form",
        "colab": {
          "base_uri": "https://localhost:8080/",
          "height": 204
        },
        "outputId": "b4115e43-2218-457d-8516-d86f7a6a0e7d"
      },
      "source": [
        "#@title Criar Csv\n",
        "import pandas as pd\n",
        "\n",
        "cdi = pd.DataFrame({'data': data, 'taxa_juros': taxa})\n",
        "cdi['data'] = pd.to_datetime(cdi['data'], format='%Y%m%d')\n",
        "cdi = cdi.sort_values(by='data')\n",
        "cdi.head()"
      ],
      "execution_count": null,
      "outputs": [
        {
          "output_type": "execute_result",
          "data": {
            "text/html": [
              "<div>\n",
              "<style scoped>\n",
              "    .dataframe tbody tr th:only-of-type {\n",
              "        vertical-align: middle;\n",
              "    }\n",
              "\n",
              "    .dataframe tbody tr th {\n",
              "        vertical-align: top;\n",
              "    }\n",
              "\n",
              "    .dataframe thead th {\n",
              "        text-align: right;\n",
              "    }\n",
              "</style>\n",
              "<table border=\"1\" class=\"dataframe\">\n",
              "  <thead>\n",
              "    <tr style=\"text-align: right;\">\n",
              "      <th></th>\n",
              "      <th>data</th>\n",
              "      <th>taxa_juros</th>\n",
              "    </tr>\n",
              "  </thead>\n",
              "  <tbody>\n",
              "    <tr>\n",
              "      <th>759</th>\n",
              "      <td>2012-08-20</td>\n",
              "      <td>7.85</td>\n",
              "    </tr>\n",
              "    <tr>\n",
              "      <th>771</th>\n",
              "      <td>2012-08-21</td>\n",
              "      <td>7.82</td>\n",
              "    </tr>\n",
              "    <tr>\n",
              "      <th>819</th>\n",
              "      <td>2012-08-22</td>\n",
              "      <td>7.81</td>\n",
              "    </tr>\n",
              "    <tr>\n",
              "      <th>1000</th>\n",
              "      <td>2012-08-23</td>\n",
              "      <td>7.81</td>\n",
              "    </tr>\n",
              "    <tr>\n",
              "      <th>1650</th>\n",
              "      <td>2012-08-24</td>\n",
              "      <td>7.82</td>\n",
              "    </tr>\n",
              "  </tbody>\n",
              "</table>\n",
              "</div>"
            ],
            "text/plain": [
              "           data  taxa_juros\n",
              "759  2012-08-20        7.85\n",
              "771  2012-08-21        7.82\n",
              "819  2012-08-22        7.81\n",
              "1000 2012-08-23        7.81\n",
              "1650 2012-08-24        7.82"
            ]
          },
          "metadata": {
            "tags": []
          },
          "execution_count": 112
        }
      ]
    },
    {
      "cell_type": "markdown",
      "metadata": {
        "id": "65GnV2skPWPk"
      },
      "source": [
        "O arquivo final é salvo no meu google drive, porém uma cópia está disponível no [link](https://github.com/fernandofsilva/LSTM_Option_Pricing/tree/main/data)"
      ]
    },
    {
      "cell_type": "code",
      "metadata": {
        "id": "Py8Iz9-ZKLTg",
        "cellView": "form"
      },
      "source": [
        "#@title Salvar Csv\n",
        "cdi.to_csv(path + 'cdi.csv.gz', index=False, compression='gzip')"
      ],
      "execution_count": null,
      "outputs": []
    }
  ]
}