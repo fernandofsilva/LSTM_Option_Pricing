{
  "nbformat": 4,
  "nbformat_minor": 0,
  "metadata": {
    "colab": {
      "name": "Notebook Options.ipynb",
      "provenance": [],
      "collapsed_sections": [],
      "mount_file_id": "1TEaMvfVpTx4mmq-qlBPbuaBvlP0ADrOq",
      "authorship_tag": "ABX9TyPUfpkeh4KJPGxt1dFKlnRw",
      "include_colab_link": true
    },
    "kernelspec": {
      "name": "python3",
      "display_name": "Python 3"
    }
  },
  "cells": [
    {
      "cell_type": "markdown",
      "metadata": {
        "id": "view-in-github",
        "colab_type": "text"
      },
      "source": [
        "<a href=\"https://colab.research.google.com/github/fernandofsilva/thesis/blob/main/Notebook_Options.ipynb\" target=\"_parent\"><img src=\"https://colab.research.google.com/assets/colab-badge.svg\" alt=\"Open In Colab\"/></a>"
      ]
    },
    {
      "cell_type": "markdown",
      "metadata": {
        "id": "zrjsxkunCyoZ"
      },
      "source": [
        "# Setup "
      ]
    },
    {
      "cell_type": "code",
      "metadata": {
        "id": "3DZomw4VC1p-",
        "cellView": "both"
      },
      "source": [
        "import pandas as pd\n",
        "import numpy as np\n",
        "import math\n",
        "\n",
        "import warnings\n",
        "warnings.simplefilter('ignore')\n",
        "\n",
        "%matplotlib inline\n",
        "import matplotlib.pyplot as plt\n",
        "import seaborn\n",
        "\n",
        "seaborn.set_style('darkgrid')"
      ],
      "execution_count": null,
      "outputs": []
    },
    {
      "cell_type": "markdown",
      "metadata": {
        "id": "yOmepTpGC15d"
      },
      "source": [
        "# Load data"
      ]
    },
    {
      "cell_type": "code",
      "metadata": {
        "id": "eAFy0p5rE83j",
        "cellView": "both",
        "outputId": "8a356590-bdd5-4a1c-a4ca-e3aca39ecd07",
        "colab": {
          "base_uri": "https://localhost:8080/",
          "height": 309
        }
      },
      "source": [
        "raw_data = pd.read_csv('/content/drive/My Drive/Datasets/cotacao.csv.gz')\n",
        "raw_data.head()"
      ],
      "execution_count": null,
      "outputs": [
        {
          "output_type": "execute_result",
          "data": {
            "text/html": [
              "<div>\n",
              "<style scoped>\n",
              "    .dataframe tbody tr th:only-of-type {\n",
              "        vertical-align: middle;\n",
              "    }\n",
              "\n",
              "    .dataframe tbody tr th {\n",
              "        vertical-align: top;\n",
              "    }\n",
              "\n",
              "    .dataframe thead th {\n",
              "        text-align: right;\n",
              "    }\n",
              "</style>\n",
              "<table border=\"1\" class=\"dataframe\">\n",
              "  <thead>\n",
              "    <tr style=\"text-align: right;\">\n",
              "      <th></th>\n",
              "      <th>TIPREG</th>\n",
              "      <th>DATPRG</th>\n",
              "      <th>CODBDI</th>\n",
              "      <th>CODNEG</th>\n",
              "      <th>TPMERC</th>\n",
              "      <th>NOMRES</th>\n",
              "      <th>ESPECI</th>\n",
              "      <th>PRAZOT</th>\n",
              "      <th>MODREF</th>\n",
              "      <th>PREABE</th>\n",
              "      <th>PREMAX</th>\n",
              "      <th>PREMIN</th>\n",
              "      <th>PREMED</th>\n",
              "      <th>PREULT</th>\n",
              "      <th>PREOFC</th>\n",
              "      <th>PREOFV</th>\n",
              "      <th>TOTNEG</th>\n",
              "      <th>QUATOT</th>\n",
              "      <th>VOLTOT</th>\n",
              "      <th>PREEXE</th>\n",
              "      <th>INDOPC</th>\n",
              "      <th>DATVEN</th>\n",
              "      <th>FATCOT</th>\n",
              "      <th>PTOEXE</th>\n",
              "      <th>CODISI</th>\n",
              "      <th>DISMES</th>\n",
              "    </tr>\n",
              "  </thead>\n",
              "  <tbody>\n",
              "    <tr>\n",
              "      <th>0</th>\n",
              "      <td>1</td>\n",
              "      <td>2015-01-02</td>\n",
              "      <td>2</td>\n",
              "      <td>AAPL34</td>\n",
              "      <td>10</td>\n",
              "      <td>APPLE</td>\n",
              "      <td>DRN</td>\n",
              "      <td>NaN</td>\n",
              "      <td>R$</td>\n",
              "      <td>29.65</td>\n",
              "      <td>29.65</td>\n",
              "      <td>29.45</td>\n",
              "      <td>29.61</td>\n",
              "      <td>29.45</td>\n",
              "      <td>29.20</td>\n",
              "      <td>0.00</td>\n",
              "      <td>2</td>\n",
              "      <td>32300</td>\n",
              "      <td>9.564350e+05</td>\n",
              "      <td>0.0</td>\n",
              "      <td>0</td>\n",
              "      <td>9999-12-31</td>\n",
              "      <td>1</td>\n",
              "      <td>0</td>\n",
              "      <td>BRAAPLBDR004</td>\n",
              "      <td>111</td>\n",
              "    </tr>\n",
              "    <tr>\n",
              "      <th>1</th>\n",
              "      <td>1</td>\n",
              "      <td>2015-01-02</td>\n",
              "      <td>2</td>\n",
              "      <td>ABCB4</td>\n",
              "      <td>10</td>\n",
              "      <td>ABC BRASIL</td>\n",
              "      <td>PN EJS N2</td>\n",
              "      <td>NaN</td>\n",
              "      <td>R$</td>\n",
              "      <td>12.85</td>\n",
              "      <td>12.85</td>\n",
              "      <td>12.35</td>\n",
              "      <td>12.54</td>\n",
              "      <td>12.55</td>\n",
              "      <td>12.55</td>\n",
              "      <td>12.56</td>\n",
              "      <td>531</td>\n",
              "      <td>117100</td>\n",
              "      <td>1.469337e+06</td>\n",
              "      <td>0.0</td>\n",
              "      <td>0</td>\n",
              "      <td>9999-12-31</td>\n",
              "      <td>1</td>\n",
              "      <td>0</td>\n",
              "      <td>BRABCBACNPR4</td>\n",
              "      <td>123</td>\n",
              "    </tr>\n",
              "    <tr>\n",
              "      <th>2</th>\n",
              "      <td>1</td>\n",
              "      <td>2015-01-02</td>\n",
              "      <td>96</td>\n",
              "      <td>ABCB4F</td>\n",
              "      <td>20</td>\n",
              "      <td>ABC BRASIL</td>\n",
              "      <td>PN EJS N2</td>\n",
              "      <td>NaN</td>\n",
              "      <td>R$</td>\n",
              "      <td>12.83</td>\n",
              "      <td>12.83</td>\n",
              "      <td>12.48</td>\n",
              "      <td>12.69</td>\n",
              "      <td>12.48</td>\n",
              "      <td>12.53</td>\n",
              "      <td>12.86</td>\n",
              "      <td>5</td>\n",
              "      <td>208</td>\n",
              "      <td>2.641260e+03</td>\n",
              "      <td>0.0</td>\n",
              "      <td>0</td>\n",
              "      <td>9999-12-31</td>\n",
              "      <td>1</td>\n",
              "      <td>0</td>\n",
              "      <td>BRABCBACNPR4</td>\n",
              "      <td>123</td>\n",
              "    </tr>\n",
              "    <tr>\n",
              "      <th>3</th>\n",
              "      <td>1</td>\n",
              "      <td>2015-01-02</td>\n",
              "      <td>12</td>\n",
              "      <td>ABCP11</td>\n",
              "      <td>10</td>\n",
              "      <td>FII ABC IMOB</td>\n",
              "      <td>CI ER</td>\n",
              "      <td>NaN</td>\n",
              "      <td>R$</td>\n",
              "      <td>9.72</td>\n",
              "      <td>9.72</td>\n",
              "      <td>8.01</td>\n",
              "      <td>9.64</td>\n",
              "      <td>9.64</td>\n",
              "      <td>9.31</td>\n",
              "      <td>9.64</td>\n",
              "      <td>9</td>\n",
              "      <td>496</td>\n",
              "      <td>4.781490e+03</td>\n",
              "      <td>0.0</td>\n",
              "      <td>0</td>\n",
              "      <td>9999-12-31</td>\n",
              "      <td>1</td>\n",
              "      <td>0</td>\n",
              "      <td>BRABCPCTF000</td>\n",
              "      <td>231</td>\n",
              "    </tr>\n",
              "    <tr>\n",
              "      <th>4</th>\n",
              "      <td>1</td>\n",
              "      <td>2015-01-02</td>\n",
              "      <td>2</td>\n",
              "      <td>ABEV3</td>\n",
              "      <td>10</td>\n",
              "      <td>AMBEV S/A</td>\n",
              "      <td>ON EJ</td>\n",
              "      <td>NaN</td>\n",
              "      <td>R$</td>\n",
              "      <td>16.14</td>\n",
              "      <td>16.56</td>\n",
              "      <td>15.77</td>\n",
              "      <td>16.08</td>\n",
              "      <td>16.01</td>\n",
              "      <td>15.91</td>\n",
              "      <td>16.01</td>\n",
              "      <td>21543</td>\n",
              "      <td>19110800</td>\n",
              "      <td>3.073420e+08</td>\n",
              "      <td>0.0</td>\n",
              "      <td>0</td>\n",
              "      <td>9999-12-31</td>\n",
              "      <td>1</td>\n",
              "      <td>0</td>\n",
              "      <td>BRABEVACNOR1</td>\n",
              "      <td>106</td>\n",
              "    </tr>\n",
              "  </tbody>\n",
              "</table>\n",
              "</div>"
            ],
            "text/plain": [
              "   TIPREG      DATPRG  CODBDI  CODNEG  ...  FATCOT PTOEXE        CODISI  DISMES\n",
              "0       1  2015-01-02       2  AAPL34  ...       1      0  BRAAPLBDR004     111\n",
              "1       1  2015-01-02       2   ABCB4  ...       1      0  BRABCBACNPR4     123\n",
              "2       1  2015-01-02      96  ABCB4F  ...       1      0  BRABCBACNPR4     123\n",
              "3       1  2015-01-02      12  ABCP11  ...       1      0  BRABCPCTF000     231\n",
              "4       1  2015-01-02       2   ABEV3  ...       1      0  BRABEVACNOR1     106\n",
              "\n",
              "[5 rows x 26 columns]"
            ]
          },
          "metadata": {
            "tags": []
          },
          "execution_count": 2
        }
      ]
    },
    {
      "cell_type": "markdown",
      "metadata": {
        "id": "-hQVonIqJKCQ"
      },
      "source": [
        "### Spot data"
      ]
    },
    {
      "cell_type": "code",
      "metadata": {
        "id": "DFtqq0c5JkUM",
        "outputId": "6e1f7d9e-3a7f-4b8d-9b43-778275f1c330",
        "colab": {
          "base_uri": "https://localhost:8080/",
          "height": 235
        }
      },
      "source": [
        "# Filter data\n",
        "spot = raw_data[raw_data['CODNEG'] == 'PETR4']\n",
        "\n",
        "# Dict to rename the columns\n",
        "dict_ref = {\n",
        "    'DATPRG': 'date',\n",
        "    'PREULT': 'S',\n",
        "    'VOLTOT': 'volume'\n",
        "}\n",
        "\n",
        "# Rename the columns and subset\n",
        "spot = spot.rename(columns=dict_ref)\n",
        "spot = spot[dict_ref.values()]\n",
        "\n",
        "# Format and subset date\n",
        "spot['date'] = pd.to_datetime(spot['date'])\n",
        "spot = spot.sort_values(by='date')\n",
        "spot = spot[spot['date'] < '01-01-2020']\n",
        "spot.index = spot['date']\n",
        "spot = spot.drop(['date'], axis=1)\n",
        "\n",
        "spot.head()"
      ],
      "execution_count": null,
      "outputs": [
        {
          "output_type": "execute_result",
          "data": {
            "text/html": [
              "<div>\n",
              "<style scoped>\n",
              "    .dataframe tbody tr th:only-of-type {\n",
              "        vertical-align: middle;\n",
              "    }\n",
              "\n",
              "    .dataframe tbody tr th {\n",
              "        vertical-align: top;\n",
              "    }\n",
              "\n",
              "    .dataframe thead th {\n",
              "        text-align: right;\n",
              "    }\n",
              "</style>\n",
              "<table border=\"1\" class=\"dataframe\">\n",
              "  <thead>\n",
              "    <tr style=\"text-align: right;\">\n",
              "      <th></th>\n",
              "      <th>S</th>\n",
              "      <th>volume</th>\n",
              "    </tr>\n",
              "    <tr>\n",
              "      <th>date</th>\n",
              "      <th></th>\n",
              "      <th></th>\n",
              "    </tr>\n",
              "  </thead>\n",
              "  <tbody>\n",
              "    <tr>\n",
              "      <th>2015-01-02</th>\n",
              "      <td>9.36</td>\n",
              "      <td>467547925.0</td>\n",
              "    </tr>\n",
              "    <tr>\n",
              "      <th>2015-01-05</th>\n",
              "      <td>8.61</td>\n",
              "      <td>674783884.0</td>\n",
              "    </tr>\n",
              "    <tr>\n",
              "      <th>2015-01-06</th>\n",
              "      <td>8.33</td>\n",
              "      <td>706839884.0</td>\n",
              "    </tr>\n",
              "    <tr>\n",
              "      <th>2015-01-07</th>\n",
              "      <td>8.67</td>\n",
              "      <td>733268924.0</td>\n",
              "    </tr>\n",
              "    <tr>\n",
              "      <th>2015-01-08</th>\n",
              "      <td>9.18</td>\n",
              "      <td>754338635.0</td>\n",
              "    </tr>\n",
              "  </tbody>\n",
              "</table>\n",
              "</div>"
            ],
            "text/plain": [
              "               S       volume\n",
              "date                         \n",
              "2015-01-02  9.36  467547925.0\n",
              "2015-01-05  8.61  674783884.0\n",
              "2015-01-06  8.33  706839884.0\n",
              "2015-01-07  8.67  733268924.0\n",
              "2015-01-08  9.18  754338635.0"
            ]
          },
          "metadata": {
            "tags": []
          },
          "execution_count": 3
        }
      ]
    },
    {
      "cell_type": "code",
      "metadata": {
        "id": "2RLShs2SGYzB",
        "cellView": "both",
        "outputId": "086353a6-057a-4615-ce09-928f128f7fee",
        "colab": {
          "base_uri": "https://localhost:8080/",
          "height": 279
        }
      },
      "source": [
        "# Plot\n",
        "fig, ax = plt.subplots(figsize=(20, 4))\n",
        "ax.plot(spot['S'])\n",
        "ax.set_ylabel('Valor R$')\n",
        "ax.set_xlabel('Data')\n",
        "plt.show()"
      ],
      "execution_count": null,
      "outputs": [
        {
          "output_type": "display_data",
          "data": {
            "image/png": "[encoded data removed]",
            "text/plain": [
              "<Figure size 1440x288 with 1 Axes>"
            ]
          },
          "metadata": {
            "tags": [],
            "needs_background": "light"
          }
        }
      ]
    },
    {
      "cell_type": "markdown",
      "metadata": {
        "id": "NIlNtMESGH-L"
      },
      "source": [
        "## Options"
      ]
    },
    {
      "cell_type": "code",
      "metadata": {
        "id": "0yLA6iURJqg5",
        "outputId": "3a6419d7-784d-4f52-c99d-980e62fe7118",
        "colab": {
          "base_uri": "https://localhost:8080/",
          "height": 235
        }
      },
      "source": [
        "# Dict to rename the columns\n",
        "dict_ref = {\n",
        "    'DATPRG': 'date',\n",
        "    'CODNEG': 'option',\n",
        "    'PREULT': 'value',\n",
        "    'PREEXE': 'X',\n",
        "    'DATVEN': 'expire',\n",
        "    'TPMERC': 'option_type'\n",
        "}\n",
        "\n",
        "# Rename the columns\n",
        "option = raw_data.rename(columns=dict_ref)\n",
        "\n",
        "# Filter\n",
        "option = option[option['option_type'].isin([70, 80])]\n",
        "option = option[option['option'].str.startswith('PETR')]\n",
        "option = option[dict_ref.values()]\n",
        "\n",
        "# Dict symbol type\n",
        "TPMERC = {70: 'call', 80: 'put'}\n",
        "\n",
        "# Replace types\n",
        "option['option_type'] = option['option_type'].replace(TPMERC)\n",
        "\n",
        "workday = pd.DataFrame({'day': option['date'].unique()})\n",
        "workday['day'] = pd.to_datetime(workday['day'])\n",
        "workday = workday.sort_values(by='day')\n",
        "\n",
        "# Create T\n",
        "T = list()\n",
        "\n",
        "for index, row in option.iterrows():\n",
        "    T.append(workday[(workday['day'] >= row.date) & (workday['day'] <= row.expire)].shape[0] - 1)\n",
        "\n",
        "option['T'] = T\n",
        "option['T'] = option['T'] / 252\n",
        "\n",
        "# Format and subset date\n",
        "option['date'] = pd.to_datetime(option['date'])\n",
        "option['expire'] = pd.to_datetime(option['expire'])\n",
        "option = option.sort_values(by='date')\n",
        "\n",
        "# Filter dates\n",
        "option = option[(option['date'] < '01-01-2020') &\n",
        "                (option['expire'] > '2015-01-19') &\n",
        "                (option['expire'] <= '2019-12-16')]\n",
        "\n",
        "option.index = option['date']\n",
        "option = option.drop(['date'], axis=1)\n",
        "\n",
        "option.head()"
      ],
      "execution_count": null,
      "outputs": [
        {
          "output_type": "execute_result",
          "data": {
            "text/html": [
              "<div>\n",
              "<style scoped>\n",
              "    .dataframe tbody tr th:only-of-type {\n",
              "        vertical-align: middle;\n",
              "    }\n",
              "\n",
              "    .dataframe tbody tr th {\n",
              "        vertical-align: top;\n",
              "    }\n",
              "\n",
              "    .dataframe thead th {\n",
              "        text-align: right;\n",
              "    }\n",
              "</style>\n",
              "<table border=\"1\" class=\"dataframe\">\n",
              "  <thead>\n",
              "    <tr style=\"text-align: right;\">\n",
              "      <th></th>\n",
              "      <th>option</th>\n",
              "      <th>value</th>\n",
              "      <th>X</th>\n",
              "      <th>expire</th>\n",
              "      <th>option_type</th>\n",
              "      <th>T</th>\n",
              "    </tr>\n",
              "    <tr>\n",
              "      <th>date</th>\n",
              "      <th></th>\n",
              "      <th></th>\n",
              "      <th></th>\n",
              "      <th></th>\n",
              "      <th></th>\n",
              "      <th></th>\n",
              "    </tr>\n",
              "  </thead>\n",
              "  <tbody>\n",
              "    <tr>\n",
              "      <th>2015-01-02</th>\n",
              "      <td>PETRL44</td>\n",
              "      <td>0.50</td>\n",
              "      <td>17.00</td>\n",
              "      <td>2015-12-21</td>\n",
              "      <td>call</td>\n",
              "      <td>0.952381</td>\n",
              "    </tr>\n",
              "    <tr>\n",
              "      <th>2015-01-02</th>\n",
              "      <td>PETRF14</td>\n",
              "      <td>0.45</td>\n",
              "      <td>14.00</td>\n",
              "      <td>2015-06-15</td>\n",
              "      <td>call</td>\n",
              "      <td>0.436508</td>\n",
              "    </tr>\n",
              "    <tr>\n",
              "      <th>2015-01-02</th>\n",
              "      <td>PETRE14</td>\n",
              "      <td>0.41</td>\n",
              "      <td>14.00</td>\n",
              "      <td>2015-05-18</td>\n",
              "      <td>call</td>\n",
              "      <td>0.361111</td>\n",
              "    </tr>\n",
              "    <tr>\n",
              "      <th>2015-01-02</th>\n",
              "      <td>PETRE12</td>\n",
              "      <td>0.55</td>\n",
              "      <td>12.00</td>\n",
              "      <td>2015-05-18</td>\n",
              "      <td>call</td>\n",
              "      <td>0.361111</td>\n",
              "    </tr>\n",
              "    <tr>\n",
              "      <th>2015-01-02</th>\n",
              "      <td>PETRD78</td>\n",
              "      <td>0.43</td>\n",
              "      <td>12.41</td>\n",
              "      <td>2015-04-20</td>\n",
              "      <td>call</td>\n",
              "      <td>0.289683</td>\n",
              "    </tr>\n",
              "  </tbody>\n",
              "</table>\n",
              "</div>"
            ],
            "text/plain": [
              "             option  value      X     expire option_type         T\n",
              "date                                                              \n",
              "2015-01-02  PETRL44   0.50  17.00 2015-12-21        call  0.952381\n",
              "2015-01-02  PETRF14   0.45  14.00 2015-06-15        call  0.436508\n",
              "2015-01-02  PETRE14   0.41  14.00 2015-05-18        call  0.361111\n",
              "2015-01-02  PETRE12   0.55  12.00 2015-05-18        call  0.361111\n",
              "2015-01-02  PETRD78   0.43  12.41 2015-04-20        call  0.289683"
            ]
          },
          "metadata": {
            "tags": []
          },
          "execution_count": 5
        }
      ]
    },
    {
      "cell_type": "code",
      "metadata": {
        "id": "sITHdTpPXg9G",
        "outputId": "1c6af1f2-25ce-47a9-df62-37d40be36f26",
        "colab": {
          "base_uri": "https://localhost:8080/",
          "height": 308
        }
      },
      "source": [
        "# Plot\n",
        "fig, ax = plt.subplots(figsize=(20, 4))\n",
        "fig.suptitle('Option PETRD20')\n",
        "ax.plot(option.loc[option['option'] == 'PETRD20', 'value'])\n",
        "ax.set_ylabel('Valor R$')\n",
        "ax.set_xlabel('Data')\n",
        "plt.show()"
      ],
      "execution_count": null,
      "outputs": [
        {
          "output_type": "display_data",
          "data": {
            "image/png": "[encoded data removed]",
            "text/plain": [
              "<Figure size 1440x288 with 1 Axes>"
            ]
          },
          "metadata": {
            "tags": [],
            "needs_background": "light"
          }
        }
      ]
    },
    {
      "cell_type": "markdown",
      "metadata": {
        "id": "uickV9NHIeVu"
      },
      "source": [
        "## CDI"
      ]
    },
    {
      "cell_type": "code",
      "metadata": {
        "id": "_VCr7vK_Ifvp"
      },
      "source": [
        "cdi = pd.read_csv('/content/drive/My Drive/Datasets/cdi.csv', usecols=['date', 'cdi'])\n",
        "\n",
        "# # Format and subset date\n",
        "cdi['date'] = pd.to_datetime(cdi['date'], format='%d/%m/%y')\n",
        "cdi = cdi.sort_values(by='date')\n",
        "\n",
        "# Filter using the first date\n",
        "cdi = cdi[cdi['date'].dt.month != cdi['date'].dt.month.shift(1)]"
      ],
      "execution_count": null,
      "outputs": []
    },
    {
      "cell_type": "code",
      "metadata": {
        "id": "DeAhHKBLM-7s"
      },
      "source": [
        "# Create date range\n",
        "date = pd.DataFrame({'date': pd.date_range(start='1/1/2015', end='12/31/2020')})\n",
        "\n",
        "# Merge with cdi\n",
        "date = date.merge(right=cdi, how='left', on='date')\n",
        "\n",
        "# Fill Nan\n",
        "date['cdi'] = date['cdi'].fillna(method='ffill')\n",
        "cdi = date.dropna()"
      ],
      "execution_count": null,
      "outputs": []
    },
    {
      "cell_type": "code",
      "metadata": {
        "id": "PBNLOTreNoAg",
        "outputId": "d96d4ff2-3ba9-4ac1-d6e5-f56d0278abf9",
        "colab": {
          "base_uri": "https://localhost:8080/",
          "height": 235
        }
      },
      "source": [
        "# Create index\n",
        "cdi = cdi.rename(columns={'cdi': 'r'})\n",
        "cdi = cdi[cdi['date'] < '01-01-2020']\n",
        "cdi.index = cdi['date']\n",
        "cdi = cdi.drop(['date'], axis=1)\n",
        "cdi.head()"
      ],
      "execution_count": null,
      "outputs": [
        {
          "output_type": "execute_result",
          "data": {
            "text/html": [
              "<div>\n",
              "<style scoped>\n",
              "    .dataframe tbody tr th:only-of-type {\n",
              "        vertical-align: middle;\n",
              "    }\n",
              "\n",
              "    .dataframe tbody tr th {\n",
              "        vertical-align: top;\n",
              "    }\n",
              "\n",
              "    .dataframe thead th {\n",
              "        text-align: right;\n",
              "    }\n",
              "</style>\n",
              "<table border=\"1\" class=\"dataframe\">\n",
              "  <thead>\n",
              "    <tr style=\"text-align: right;\">\n",
              "      <th></th>\n",
              "      <th>r</th>\n",
              "    </tr>\n",
              "    <tr>\n",
              "      <th>date</th>\n",
              "      <th></th>\n",
              "    </tr>\n",
              "  </thead>\n",
              "  <tbody>\n",
              "    <tr>\n",
              "      <th>2015-01-02</th>\n",
              "      <td>11.57</td>\n",
              "    </tr>\n",
              "    <tr>\n",
              "      <th>2015-01-03</th>\n",
              "      <td>11.57</td>\n",
              "    </tr>\n",
              "    <tr>\n",
              "      <th>2015-01-04</th>\n",
              "      <td>11.57</td>\n",
              "    </tr>\n",
              "    <tr>\n",
              "      <th>2015-01-05</th>\n",
              "      <td>11.57</td>\n",
              "    </tr>\n",
              "    <tr>\n",
              "      <th>2015-01-06</th>\n",
              "      <td>11.57</td>\n",
              "    </tr>\n",
              "  </tbody>\n",
              "</table>\n",
              "</div>"
            ],
            "text/plain": [
              "                r\n",
              "date             \n",
              "2015-01-02  11.57\n",
              "2015-01-03  11.57\n",
              "2015-01-04  11.57\n",
              "2015-01-05  11.57\n",
              "2015-01-06  11.57"
            ]
          },
          "metadata": {
            "tags": []
          },
          "execution_count": 9
        }
      ]
    },
    {
      "cell_type": "code",
      "metadata": {
        "id": "9JADQq-PJPks",
        "outputId": "4311d336-2834-417f-9254-eaa8aab299a9",
        "colab": {
          "base_uri": "https://localhost:8080/",
          "height": 283
        }
      },
      "source": [
        "fig, ax = plt.subplots(figsize=(20, 4))\n",
        "ax.plot(cdi)\n",
        "ax.set_ylabel('Taxa de Juros (%)')\n",
        "ax.set_ylim(3, 16)\n",
        "ax.set_xlabel('Data')\n",
        "plt.show()"
      ],
      "execution_count": null,
      "outputs": [
        {
          "output_type": "display_data",
          "data": {
            "image/png": "[encoded data removed]",
            "text/plain": [
              "<Figure size 1440x288 with 1 Axes>"
            ]
          },
          "metadata": {
            "tags": [],
            "needs_background": "light"
          }
        }
      ]
    },
    {
      "cell_type": "markdown",
      "metadata": {
        "id": "lnE_mAyjY8VF"
      },
      "source": [
        "## Data Merge"
      ]
    },
    {
      "cell_type": "code",
      "metadata": {
        "id": "83RAAQxdY7tP",
        "outputId": "3d0ed354-10db-4d32-9f4d-f1c1011c3f68",
        "colab": {
          "base_uri": "https://localhost:8080/",
          "height": 235
        }
      },
      "source": [
        "# Merge data\n",
        "data = option.merge(right=spot, right_index=True, left_index=True)\n",
        "data = data.merge(right=cdi, right_index=True, left_index=True)\n",
        "data.head()"
      ],
      "execution_count": null,
      "outputs": [
        {
          "output_type": "execute_result",
          "data": {
            "text/html": [
              "<div>\n",
              "<style scoped>\n",
              "    .dataframe tbody tr th:only-of-type {\n",
              "        vertical-align: middle;\n",
              "    }\n",
              "\n",
              "    .dataframe tbody tr th {\n",
              "        vertical-align: top;\n",
              "    }\n",
              "\n",
              "    .dataframe thead th {\n",
              "        text-align: right;\n",
              "    }\n",
              "</style>\n",
              "<table border=\"1\" class=\"dataframe\">\n",
              "  <thead>\n",
              "    <tr style=\"text-align: right;\">\n",
              "      <th></th>\n",
              "      <th>option</th>\n",
              "      <th>value</th>\n",
              "      <th>X</th>\n",
              "      <th>expire</th>\n",
              "      <th>option_type</th>\n",
              "      <th>T</th>\n",
              "      <th>S</th>\n",
              "      <th>volume</th>\n",
              "      <th>r</th>\n",
              "    </tr>\n",
              "    <tr>\n",
              "      <th>date</th>\n",
              "      <th></th>\n",
              "      <th></th>\n",
              "      <th></th>\n",
              "      <th></th>\n",
              "      <th></th>\n",
              "      <th></th>\n",
              "      <th></th>\n",
              "      <th></th>\n",
              "      <th></th>\n",
              "    </tr>\n",
              "  </thead>\n",
              "  <tbody>\n",
              "    <tr>\n",
              "      <th>2015-01-02</th>\n",
              "      <td>PETRL44</td>\n",
              "      <td>0.50</td>\n",
              "      <td>17.00</td>\n",
              "      <td>2015-12-21</td>\n",
              "      <td>call</td>\n",
              "      <td>0.952381</td>\n",
              "      <td>9.36</td>\n",
              "      <td>467547925.0</td>\n",
              "      <td>11.57</td>\n",
              "    </tr>\n",
              "    <tr>\n",
              "      <th>2015-01-02</th>\n",
              "      <td>PETRF14</td>\n",
              "      <td>0.45</td>\n",
              "      <td>14.00</td>\n",
              "      <td>2015-06-15</td>\n",
              "      <td>call</td>\n",
              "      <td>0.436508</td>\n",
              "      <td>9.36</td>\n",
              "      <td>467547925.0</td>\n",
              "      <td>11.57</td>\n",
              "    </tr>\n",
              "    <tr>\n",
              "      <th>2015-01-02</th>\n",
              "      <td>PETRE14</td>\n",
              "      <td>0.41</td>\n",
              "      <td>14.00</td>\n",
              "      <td>2015-05-18</td>\n",
              "      <td>call</td>\n",
              "      <td>0.361111</td>\n",
              "      <td>9.36</td>\n",
              "      <td>467547925.0</td>\n",
              "      <td>11.57</td>\n",
              "    </tr>\n",
              "    <tr>\n",
              "      <th>2015-01-02</th>\n",
              "      <td>PETRE12</td>\n",
              "      <td>0.55</td>\n",
              "      <td>12.00</td>\n",
              "      <td>2015-05-18</td>\n",
              "      <td>call</td>\n",
              "      <td>0.361111</td>\n",
              "      <td>9.36</td>\n",
              "      <td>467547925.0</td>\n",
              "      <td>11.57</td>\n",
              "    </tr>\n",
              "    <tr>\n",
              "      <th>2015-01-02</th>\n",
              "      <td>PETRD78</td>\n",
              "      <td>0.43</td>\n",
              "      <td>12.41</td>\n",
              "      <td>2015-04-20</td>\n",
              "      <td>call</td>\n",
              "      <td>0.289683</td>\n",
              "      <td>9.36</td>\n",
              "      <td>467547925.0</td>\n",
              "      <td>11.57</td>\n",
              "    </tr>\n",
              "  </tbody>\n",
              "</table>\n",
              "</div>"
            ],
            "text/plain": [
              "             option  value      X  ...     S       volume      r\n",
              "date                               ...                          \n",
              "2015-01-02  PETRL44   0.50  17.00  ...  9.36  467547925.0  11.57\n",
              "2015-01-02  PETRF14   0.45  14.00  ...  9.36  467547925.0  11.57\n",
              "2015-01-02  PETRE14   0.41  14.00  ...  9.36  467547925.0  11.57\n",
              "2015-01-02  PETRE12   0.55  12.00  ...  9.36  467547925.0  11.57\n",
              "2015-01-02  PETRD78   0.43  12.41  ...  9.36  467547925.0  11.57\n",
              "\n",
              "[5 rows x 9 columns]"
            ]
          },
          "metadata": {
            "tags": []
          },
          "execution_count": 11
        }
      ]
    },
    {
      "cell_type": "code",
      "metadata": {
        "id": "FmVC8Hx8Z0Hh",
        "outputId": "d05f683f-e807-4261-f2dc-2a46c194419c",
        "colab": {
          "base_uri": "https://localhost:8080/",
          "height": 308
        }
      },
      "source": [
        "# Plot\n",
        "fig, ax = plt.subplots(figsize=(20, 4))\n",
        "fig.suptitle('Option PETRD20')\n",
        "ax.plot(data.loc[data['option'] == 'PETRD20', 'value'], label='Option')\n",
        "ax.plot(data.loc[data['option'] == 'PETRD20', 'S'], label='Spot')\n",
        "ax.plot(data.loc[data['option'] == 'PETRD20', 'X'], label='Strike')\n",
        "ax.set_ylabel('Valor R$')\n",
        "ax.set_xlabel('Data')\n",
        "ax.legend()\n",
        "plt.show()"
      ],
      "execution_count": null,
      "outputs": [
        {
          "output_type": "display_data",
          "data": {
            "image/png": "[encoded data removed]",
            "text/plain": [
              "<Figure size 1440x288 with 1 Axes>"
            ]
          },
          "metadata": {
            "tags": [],
            "needs_background": "light"
          }
        }
      ]
    },
    {
      "cell_type": "code",
      "metadata": {
        "id": "QDIOdDBvBDD3",
        "outputId": "3ac05cb9-1870-4df3-eff4-2ccf9e67bd2d",
        "colab": {
          "base_uri": "https://localhost:8080/",
          "height": 450
        }
      },
      "source": [
        "data"
      ],
      "execution_count": null,
      "outputs": [
        {
          "output_type": "execute_result",
          "data": {
            "text/html": [
              "<div>\n",
              "<style scoped>\n",
              "    .dataframe tbody tr th:only-of-type {\n",
              "        vertical-align: middle;\n",
              "    }\n",
              "\n",
              "    .dataframe tbody tr th {\n",
              "        vertical-align: top;\n",
              "    }\n",
              "\n",
              "    .dataframe thead th {\n",
              "        text-align: right;\n",
              "    }\n",
              "</style>\n",
              "<table border=\"1\" class=\"dataframe\">\n",
              "  <thead>\n",
              "    <tr style=\"text-align: right;\">\n",
              "      <th></th>\n",
              "      <th>option</th>\n",
              "      <th>value</th>\n",
              "      <th>X</th>\n",
              "      <th>expire</th>\n",
              "      <th>option_type</th>\n",
              "      <th>T</th>\n",
              "      <th>S</th>\n",
              "      <th>volume</th>\n",
              "      <th>r</th>\n",
              "    </tr>\n",
              "    <tr>\n",
              "      <th>date</th>\n",
              "      <th></th>\n",
              "      <th></th>\n",
              "      <th></th>\n",
              "      <th></th>\n",
              "      <th></th>\n",
              "      <th></th>\n",
              "      <th></th>\n",
              "      <th></th>\n",
              "      <th></th>\n",
              "    </tr>\n",
              "  </thead>\n",
              "  <tbody>\n",
              "    <tr>\n",
              "      <th>2015-01-02</th>\n",
              "      <td>PETRL44</td>\n",
              "      <td>0.50</td>\n",
              "      <td>17.00</td>\n",
              "      <td>2015-12-21</td>\n",
              "      <td>call</td>\n",
              "      <td>0.952381</td>\n",
              "      <td>9.36</td>\n",
              "      <td>4.675479e+08</td>\n",
              "      <td>11.57</td>\n",
              "    </tr>\n",
              "    <tr>\n",
              "      <th>2015-01-02</th>\n",
              "      <td>PETRF14</td>\n",
              "      <td>0.45</td>\n",
              "      <td>14.00</td>\n",
              "      <td>2015-06-15</td>\n",
              "      <td>call</td>\n",
              "      <td>0.436508</td>\n",
              "      <td>9.36</td>\n",
              "      <td>4.675479e+08</td>\n",
              "      <td>11.57</td>\n",
              "    </tr>\n",
              "    <tr>\n",
              "      <th>2015-01-02</th>\n",
              "      <td>PETRE14</td>\n",
              "      <td>0.41</td>\n",
              "      <td>14.00</td>\n",
              "      <td>2015-05-18</td>\n",
              "      <td>call</td>\n",
              "      <td>0.361111</td>\n",
              "      <td>9.36</td>\n",
              "      <td>4.675479e+08</td>\n",
              "      <td>11.57</td>\n",
              "    </tr>\n",
              "    <tr>\n",
              "      <th>2015-01-02</th>\n",
              "      <td>PETRE12</td>\n",
              "      <td>0.55</td>\n",
              "      <td>12.00</td>\n",
              "      <td>2015-05-18</td>\n",
              "      <td>call</td>\n",
              "      <td>0.361111</td>\n",
              "      <td>9.36</td>\n",
              "      <td>4.675479e+08</td>\n",
              "      <td>11.57</td>\n",
              "    </tr>\n",
              "    <tr>\n",
              "      <th>2015-01-02</th>\n",
              "      <td>PETRD78</td>\n",
              "      <td>0.43</td>\n",
              "      <td>12.41</td>\n",
              "      <td>2015-04-20</td>\n",
              "      <td>call</td>\n",
              "      <td>0.289683</td>\n",
              "      <td>9.36</td>\n",
              "      <td>4.675479e+08</td>\n",
              "      <td>11.57</td>\n",
              "    </tr>\n",
              "    <tr>\n",
              "      <th>...</th>\n",
              "      <td>...</td>\n",
              "      <td>...</td>\n",
              "      <td>...</td>\n",
              "      <td>...</td>\n",
              "      <td>...</td>\n",
              "      <td>...</td>\n",
              "      <td>...</td>\n",
              "      <td>...</td>\n",
              "      <td>...</td>\n",
              "    </tr>\n",
              "    <tr>\n",
              "      <th>2019-12-13</th>\n",
              "      <td>PETRX347</td>\n",
              "      <td>4.35</td>\n",
              "      <td>34.31</td>\n",
              "      <td>2019-12-16</td>\n",
              "      <td>put</td>\n",
              "      <td>0.003968</td>\n",
              "      <td>29.98</td>\n",
              "      <td>3.172882e+09</td>\n",
              "      <td>4.90</td>\n",
              "    </tr>\n",
              "    <tr>\n",
              "      <th>2019-12-13</th>\n",
              "      <td>PETRX311</td>\n",
              "      <td>0.84</td>\n",
              "      <td>30.81</td>\n",
              "      <td>2019-12-16</td>\n",
              "      <td>put</td>\n",
              "      <td>0.003968</td>\n",
              "      <td>29.98</td>\n",
              "      <td>3.172882e+09</td>\n",
              "      <td>4.90</td>\n",
              "    </tr>\n",
              "    <tr>\n",
              "      <th>2019-12-13</th>\n",
              "      <td>PETRL347</td>\n",
              "      <td>0.01</td>\n",
              "      <td>34.31</td>\n",
              "      <td>2019-12-16</td>\n",
              "      <td>call</td>\n",
              "      <td>0.003968</td>\n",
              "      <td>29.98</td>\n",
              "      <td>3.172882e+09</td>\n",
              "      <td>4.90</td>\n",
              "    </tr>\n",
              "    <tr>\n",
              "      <th>2019-12-13</th>\n",
              "      <td>PETRX286</td>\n",
              "      <td>0.02</td>\n",
              "      <td>28.31</td>\n",
              "      <td>2019-12-16</td>\n",
              "      <td>put</td>\n",
              "      <td>0.003968</td>\n",
              "      <td>29.98</td>\n",
              "      <td>3.172882e+09</td>\n",
              "      <td>4.90</td>\n",
              "    </tr>\n",
              "    <tr>\n",
              "      <th>2019-12-13</th>\n",
              "      <td>PETRX391</td>\n",
              "      <td>8.68</td>\n",
              "      <td>38.81</td>\n",
              "      <td>2019-12-16</td>\n",
              "      <td>put</td>\n",
              "      <td>0.003968</td>\n",
              "      <td>29.98</td>\n",
              "      <td>3.172882e+09</td>\n",
              "      <td>4.90</td>\n",
              "    </tr>\n",
              "  </tbody>\n",
              "</table>\n",
              "<p>234593 rows × 9 columns</p>\n",
              "</div>"
            ],
            "text/plain": [
              "              option  value      X  ...      S        volume      r\n",
              "date                                ...                            \n",
              "2015-01-02   PETRL44   0.50  17.00  ...   9.36  4.675479e+08  11.57\n",
              "2015-01-02   PETRF14   0.45  14.00  ...   9.36  4.675479e+08  11.57\n",
              "2015-01-02   PETRE14   0.41  14.00  ...   9.36  4.675479e+08  11.57\n",
              "2015-01-02   PETRE12   0.55  12.00  ...   9.36  4.675479e+08  11.57\n",
              "2015-01-02   PETRD78   0.43  12.41  ...   9.36  4.675479e+08  11.57\n",
              "...              ...    ...    ...  ...    ...           ...    ...\n",
              "2019-12-13  PETRX347   4.35  34.31  ...  29.98  3.172882e+09   4.90\n",
              "2019-12-13  PETRX311   0.84  30.81  ...  29.98  3.172882e+09   4.90\n",
              "2019-12-13  PETRL347   0.01  34.31  ...  29.98  3.172882e+09   4.90\n",
              "2019-12-13  PETRX286   0.02  28.31  ...  29.98  3.172882e+09   4.90\n",
              "2019-12-13  PETRX391   8.68  38.81  ...  29.98  3.172882e+09   4.90\n",
              "\n",
              "[234593 rows x 9 columns]"
            ]
          },
          "metadata": {
            "tags": []
          },
          "execution_count": 13
        }
      ]
    },
    {
      "cell_type": "markdown",
      "metadata": {
        "id": "BvSWhPZVZpk9"
      },
      "source": [
        "# GARCH (1,1)"
      ]
    },
    {
      "cell_type": "code",
      "metadata": {
        "id": "2cUve3maUH-j",
        "outputId": "0f89aac9-7467-4cb6-aa7e-a0de27f7b2a2",
        "colab": {
          "base_uri": "https://localhost:8080/",
          "height": 309
        }
      },
      "source": [
        "!pip install arch"
      ],
      "execution_count": null,
      "outputs": [
        {
          "output_type": "stream",
          "text": [
            "Collecting arch\n",
            "\u001b[?25l  Downloading https://files.pythonhosted.org/packages/7f/5c/ef80e96f2cdc6c2d293b7e4688888a4428963c966fbb0c749c9078e68bb6/arch-4.15-cp36-cp36m-manylinux1_x86_64.whl (790kB)\n",
            "\u001b[K     |████████████████████████████████| 798kB 4.4MB/s \n",
            "\u001b[?25hRequirement already satisfied: numpy>=1.14 in /usr/local/lib/python3.6/dist-packages (from arch) (1.18.5)\n",
            "Requirement already satisfied: cython>=0.29.14 in /usr/local/lib/python3.6/dist-packages (from arch) (0.29.20)\n",
            "Collecting property-cached>=1.6.3\n",
            "  Downloading https://files.pythonhosted.org/packages/5c/6c/94d8e520b20a2502e508e1c558f338061cf409cbee78fd6a3a5c6ae812bd/property_cached-1.6.4-py2.py3-none-any.whl\n",
            "Requirement already satisfied: statsmodels>=0.9 in /usr/local/lib/python3.6/dist-packages (from arch) (0.10.2)\n",
            "Requirement already satisfied: pandas>=0.23 in /usr/local/lib/python3.6/dist-packages (from arch) (1.0.5)\n",
            "Requirement already satisfied: scipy>=1.0.1 in /usr/local/lib/python3.6/dist-packages (from arch) (1.4.1)\n",
            "Requirement already satisfied: patsy>=0.4.0 in /usr/local/lib/python3.6/dist-packages (from statsmodels>=0.9->arch) (0.5.1)\n",
            "Requirement already satisfied: pytz>=2017.2 in /usr/local/lib/python3.6/dist-packages (from pandas>=0.23->arch) (2018.9)\n",
            "Requirement already satisfied: python-dateutil>=2.6.1 in /usr/local/lib/python3.6/dist-packages (from pandas>=0.23->arch) (2.8.1)\n",
            "Requirement already satisfied: six in /usr/local/lib/python3.6/dist-packages (from patsy>=0.4.0->statsmodels>=0.9->arch) (1.12.0)\n",
            "Installing collected packages: property-cached, arch\n",
            "Successfully installed arch-4.15 property-cached-1.6.4\n"
          ],
          "name": "stdout"
        }
      ]
    },
    {
      "cell_type": "markdown",
      "metadata": {
        "id": "vE6OmO7yCdHN"
      },
      "source": [
        "## Returns\n",
        "Retornos Diários = $\\ln\\left(\\dfrac{S_{i}}{S_{i-1}}\\right) \\cong  \\left(\\dfrac{S_{i} - S_{i-1}}{S_{i-1}}\\right)$ \n",
        "\n",
        "\n",
        "Variância =  $\\sigma^{2}_{n} = \\dfrac{1}{m} \\sum^{m}_{i=1} u_{n}^2$"
      ]
    },
    {
      "cell_type": "code",
      "metadata": {
        "id": "QWOCTwoTCAbs",
        "cellView": "both",
        "outputId": "720c2acd-1d85-4b45-f2fb-f50a63109cd8",
        "colab": {
          "base_uri": "https://localhost:8080/",
          "height": 235
        }
      },
      "source": [
        "spot['return'] = np.log(spot['S'] / spot['S'].shift(1))\n",
        "spot = spot.dropna()\n",
        "spot['var'] = spot['return']**2\n",
        "spot.head()"
      ],
      "execution_count": null,
      "outputs": [
        {
          "output_type": "execute_result",
          "data": {
            "text/html": [
              "<div>\n",
              "<style scoped>\n",
              "    .dataframe tbody tr th:only-of-type {\n",
              "        vertical-align: middle;\n",
              "    }\n",
              "\n",
              "    .dataframe tbody tr th {\n",
              "        vertical-align: top;\n",
              "    }\n",
              "\n",
              "    .dataframe thead th {\n",
              "        text-align: right;\n",
              "    }\n",
              "</style>\n",
              "<table border=\"1\" class=\"dataframe\">\n",
              "  <thead>\n",
              "    <tr style=\"text-align: right;\">\n",
              "      <th></th>\n",
              "      <th>S</th>\n",
              "      <th>volume</th>\n",
              "      <th>return</th>\n",
              "      <th>var</th>\n",
              "    </tr>\n",
              "    <tr>\n",
              "      <th>date</th>\n",
              "      <th></th>\n",
              "      <th></th>\n",
              "      <th></th>\n",
              "      <th></th>\n",
              "    </tr>\n",
              "  </thead>\n",
              "  <tbody>\n",
              "    <tr>\n",
              "      <th>2015-01-05</th>\n",
              "      <td>8.61</td>\n",
              "      <td>674783884.0</td>\n",
              "      <td>-0.083521</td>\n",
              "      <td>0.006976</td>\n",
              "    </tr>\n",
              "    <tr>\n",
              "      <th>2015-01-06</th>\n",
              "      <td>8.33</td>\n",
              "      <td>706839884.0</td>\n",
              "      <td>-0.033061</td>\n",
              "      <td>0.001093</td>\n",
              "    </tr>\n",
              "    <tr>\n",
              "      <th>2015-01-07</th>\n",
              "      <td>8.67</td>\n",
              "      <td>733268924.0</td>\n",
              "      <td>0.040005</td>\n",
              "      <td>0.001600</td>\n",
              "    </tr>\n",
              "    <tr>\n",
              "      <th>2015-01-08</th>\n",
              "      <td>9.18</td>\n",
              "      <td>754338635.0</td>\n",
              "      <td>0.057158</td>\n",
              "      <td>0.003267</td>\n",
              "    </tr>\n",
              "    <tr>\n",
              "      <th>2015-01-09</th>\n",
              "      <td>9.40</td>\n",
              "      <td>460371734.0</td>\n",
              "      <td>0.023682</td>\n",
              "      <td>0.000561</td>\n",
              "    </tr>\n",
              "  </tbody>\n",
              "</table>\n",
              "</div>"
            ],
            "text/plain": [
              "               S       volume    return       var\n",
              "date                                             \n",
              "2015-01-05  8.61  674783884.0 -0.083521  0.006976\n",
              "2015-01-06  8.33  706839884.0 -0.033061  0.001093\n",
              "2015-01-07  8.67  733268924.0  0.040005  0.001600\n",
              "2015-01-08  9.18  754338635.0  0.057158  0.003267\n",
              "2015-01-09  9.40  460371734.0  0.023682  0.000561"
            ]
          },
          "metadata": {
            "tags": []
          },
          "execution_count": 14
        }
      ]
    },
    {
      "cell_type": "code",
      "metadata": {
        "id": "_aTEr86yI-xo",
        "cellView": "both",
        "outputId": "7796d732-ca94-43b8-dddc-d1e4d0eee613",
        "colab": {
          "base_uri": "https://localhost:8080/",
          "height": 279
        }
      },
      "source": [
        "fig, ax = plt.subplots(figsize=(20, 4))\n",
        "ax.plot(spot['return'])\n",
        "ax.set_ylabel('Retorno')\n",
        "ax.set_xlabel('Data')\n",
        "plt.show()"
      ],
      "execution_count": null,
      "outputs": [
        {
          "output_type": "display_data",
          "data": {
            "image/png": "[encoded data removed]",
            "text/plain": [
              "<Figure size 1440x288 with 1 Axes>"
            ]
          },
          "metadata": {
            "tags": [],
            "needs_background": "light"
          }
        }
      ]
    },
    {
      "cell_type": "markdown",
      "metadata": {
        "id": "bF_1VyhuZ1Xo"
      },
      "source": [
        "## GARCH (with a Constant Mean)"
      ]
    },
    {
      "cell_type": "code",
      "metadata": {
        "id": "dnIIs4QARaLe",
        "outputId": "d17d2f51-2a70-48e3-a21e-97c8c9155db1",
        "colab": {
          "base_uri": "https://localhost:8080/",
          "height": 544
        }
      },
      "source": [
        "from arch import arch_model\n",
        "\n",
        "am = arch_model(spot['return'], p=1, o=0, q=1)\n",
        "res = am.fit(update_freq=5)\n",
        "garch = res.conditional_volatility * math.sqrt(252) * 100\n",
        "garch = garch.rename(\"sigma\")\n",
        "print(res.summary())"
      ],
      "execution_count": null,
      "outputs": [
        {
          "output_type": "stream",
          "text": [
            "Iteration:      5,   Func. Count:     48,   Neg. LLF: -2637.187948724134\n",
            "Optimization terminated successfully.    (Exit mode 0)\n",
            "            Current function value: -2637.1967668680472\n",
            "            Iterations: 8\n",
            "            Function evaluations: 82\n",
            "            Gradient evaluations: 8\n",
            "                     Constant Mean - GARCH Model Results                      \n",
            "==============================================================================\n",
            "Dep. Variable:                 return   R-squared:                      -0.000\n",
            "Mean Model:             Constant Mean   Adj. R-squared:                 -0.000\n",
            "Vol Model:                      GARCH   Log-Likelihood:                2637.20\n",
            "Distribution:                  Normal   AIC:                          -5266.39\n",
            "Method:            Maximum Likelihood   BIC:                          -5245.92\n",
            "                                        No. Observations:                 1233\n",
            "Date:                Mon, Jul 13 2020   Df Residuals:                     1229\n",
            "Time:                        00:27:58   Df Model:                            4\n",
            "                                  Mean Model                                 \n",
            "=============================================================================\n",
            "                 coef    std err          t      P>|t|       95.0% Conf. Int.\n",
            "-----------------------------------------------------------------------------\n",
            "mu         1.2886e-03  7.810e-04      1.650  9.897e-02 [-2.422e-04,2.819e-03]\n",
            "                              Volatility Model                              \n",
            "============================================================================\n",
            "                 coef    std err          t      P>|t|      95.0% Conf. Int.\n",
            "----------------------------------------------------------------------------\n",
            "omega      2.0231e-05  1.999e-06     10.122  4.434e-24 [1.631e-05,2.415e-05]\n",
            "alpha[1]       0.0960  2.015e-02      4.763  1.911e-06   [5.647e-02,  0.135]\n",
            "beta[1]        0.8847  1.593e-02     55.522      0.000     [  0.853,  0.916]\n",
            "============================================================================\n",
            "\n",
            "Covariance estimator: robust\n"
          ],
          "name": "stdout"
        }
      ]
    },
    {
      "cell_type": "markdown",
      "metadata": {
        "id": "d1AAbUFMg9-0"
      },
      "source": [
        "### Plot"
      ]
    },
    {
      "cell_type": "code",
      "metadata": {
        "id": "ik2xyLz-aeqy",
        "cellView": "both",
        "outputId": "29108ddb-41e3-43b0-8ec3-dcc8444d69a3",
        "colab": {
          "base_uri": "https://localhost:8080/",
          "height": 281
        }
      },
      "source": [
        "fig, axs = plt.subplots(figsize=(20, 4))\n",
        "axs.plot(garch)\n",
        "axs.set_ylabel('Volatilidade (%)')\n",
        "axs.set_xlabel('Data')\n",
        "plt.show()"
      ],
      "execution_count": null,
      "outputs": [
        {
          "output_type": "display_data",
          "data": {
            "image/png": "[encoded data removed]",
            "text/plain": [
              "<Figure size 1440x288 with 1 Axes>"
            ]
          },
          "metadata": {
            "tags": [],
            "needs_background": "light"
          }
        }
      ]
    },
    {
      "cell_type": "code",
      "metadata": {
        "id": "oxpod5BI-jaQ",
        "outputId": "caa79139-2e22-4d69-cd44-b64ce4b384f2",
        "colab": {
          "base_uri": "https://localhost:8080/",
          "height": 235
        }
      },
      "source": [
        "data = data.merge(right=garch, right_index=True, left_index=True)\n",
        "data = data.rename(columns={'cond_vol': 'vol'})\n",
        "data.head()"
      ],
      "execution_count": null,
      "outputs": [
        {
          "output_type": "execute_result",
          "data": {
            "text/html": [
              "<div>\n",
              "<style scoped>\n",
              "    .dataframe tbody tr th:only-of-type {\n",
              "        vertical-align: middle;\n",
              "    }\n",
              "\n",
              "    .dataframe tbody tr th {\n",
              "        vertical-align: top;\n",
              "    }\n",
              "\n",
              "    .dataframe thead th {\n",
              "        text-align: right;\n",
              "    }\n",
              "</style>\n",
              "<table border=\"1\" class=\"dataframe\">\n",
              "  <thead>\n",
              "    <tr style=\"text-align: right;\">\n",
              "      <th></th>\n",
              "      <th>option</th>\n",
              "      <th>value</th>\n",
              "      <th>X</th>\n",
              "      <th>expire</th>\n",
              "      <th>option_type</th>\n",
              "      <th>T</th>\n",
              "      <th>S</th>\n",
              "      <th>volume</th>\n",
              "      <th>r</th>\n",
              "      <th>sigma</th>\n",
              "    </tr>\n",
              "    <tr>\n",
              "      <th>date</th>\n",
              "      <th></th>\n",
              "      <th></th>\n",
              "      <th></th>\n",
              "      <th></th>\n",
              "      <th></th>\n",
              "      <th></th>\n",
              "      <th></th>\n",
              "      <th></th>\n",
              "      <th></th>\n",
              "      <th></th>\n",
              "    </tr>\n",
              "  </thead>\n",
              "  <tbody>\n",
              "    <tr>\n",
              "      <th>2015-01-05</th>\n",
              "      <td>PETRC53</td>\n",
              "      <td>0.65</td>\n",
              "      <td>9.61</td>\n",
              "      <td>2015-03-16</td>\n",
              "      <td>call</td>\n",
              "      <td>0.190476</td>\n",
              "      <td>8.61</td>\n",
              "      <td>674783884.0</td>\n",
              "      <td>11.57</td>\n",
              "      <td>77.182444</td>\n",
              "    </tr>\n",
              "    <tr>\n",
              "      <th>2015-01-05</th>\n",
              "      <td>PETRC50</td>\n",
              "      <td>0.90</td>\n",
              "      <td>9.01</td>\n",
              "      <td>2015-03-16</td>\n",
              "      <td>call</td>\n",
              "      <td>0.190476</td>\n",
              "      <td>8.61</td>\n",
              "      <td>674783884.0</td>\n",
              "      <td>11.57</td>\n",
              "      <td>77.182444</td>\n",
              "    </tr>\n",
              "    <tr>\n",
              "      <th>2015-01-05</th>\n",
              "      <td>PETRC51</td>\n",
              "      <td>0.81</td>\n",
              "      <td>9.21</td>\n",
              "      <td>2015-03-16</td>\n",
              "      <td>call</td>\n",
              "      <td>0.190476</td>\n",
              "      <td>8.61</td>\n",
              "      <td>674783884.0</td>\n",
              "      <td>11.57</td>\n",
              "      <td>77.182444</td>\n",
              "    </tr>\n",
              "    <tr>\n",
              "      <th>2015-01-05</th>\n",
              "      <td>PETRC52</td>\n",
              "      <td>0.73</td>\n",
              "      <td>9.41</td>\n",
              "      <td>2015-03-16</td>\n",
              "      <td>call</td>\n",
              "      <td>0.190476</td>\n",
              "      <td>8.61</td>\n",
              "      <td>674783884.0</td>\n",
              "      <td>11.57</td>\n",
              "      <td>77.182444</td>\n",
              "    </tr>\n",
              "    <tr>\n",
              "      <th>2015-01-05</th>\n",
              "      <td>PETRC54</td>\n",
              "      <td>0.61</td>\n",
              "      <td>9.81</td>\n",
              "      <td>2015-03-16</td>\n",
              "      <td>call</td>\n",
              "      <td>0.190476</td>\n",
              "      <td>8.61</td>\n",
              "      <td>674783884.0</td>\n",
              "      <td>11.57</td>\n",
              "      <td>77.182444</td>\n",
              "    </tr>\n",
              "  </tbody>\n",
              "</table>\n",
              "</div>"
            ],
            "text/plain": [
              "             option  value     X  ...       volume      r      sigma\n",
              "date                              ...                               \n",
              "2015-01-05  PETRC53   0.65  9.61  ...  674783884.0  11.57  77.182444\n",
              "2015-01-05  PETRC50   0.90  9.01  ...  674783884.0  11.57  77.182444\n",
              "2015-01-05  PETRC51   0.81  9.21  ...  674783884.0  11.57  77.182444\n",
              "2015-01-05  PETRC52   0.73  9.41  ...  674783884.0  11.57  77.182444\n",
              "2015-01-05  PETRC54   0.61  9.81  ...  674783884.0  11.57  77.182444\n",
              "\n",
              "[5 rows x 10 columns]"
            ]
          },
          "metadata": {
            "tags": []
          },
          "execution_count": 18
        }
      ]
    },
    {
      "cell_type": "code",
      "metadata": {
        "id": "BlmbEmNV-zlY"
      },
      "source": [
        "cols = ['option', 'S', 'X', 'T', 'r', 'sigma', 'option_type', 'value']\n",
        "data.to_csv('/content/drive/My Drive/Datasets/data_option.csv')"
      ],
      "execution_count": null,
      "outputs": []
    },
    {
      "cell_type": "code",
      "metadata": {
        "id": "ZDx982krlPf0",
        "outputId": "2fd716b7-8f83-471a-f7d1-b1208ffa4940",
        "colab": {
          "base_uri": "https://localhost:8080/",
          "height": 450
        }
      },
      "source": [
        "data[data['option_type'] == 'put']"
      ],
      "execution_count": null,
      "outputs": [
        {
          "output_type": "execute_result",
          "data": {
            "text/html": [
              "<div>\n",
              "<style scoped>\n",
              "    .dataframe tbody tr th:only-of-type {\n",
              "        vertical-align: middle;\n",
              "    }\n",
              "\n",
              "    .dataframe tbody tr th {\n",
              "        vertical-align: top;\n",
              "    }\n",
              "\n",
              "    .dataframe thead th {\n",
              "        text-align: right;\n",
              "    }\n",
              "</style>\n",
              "<table border=\"1\" class=\"dataframe\">\n",
              "  <thead>\n",
              "    <tr style=\"text-align: right;\">\n",
              "      <th></th>\n",
              "      <th>option</th>\n",
              "      <th>value</th>\n",
              "      <th>X</th>\n",
              "      <th>expire</th>\n",
              "      <th>option_type</th>\n",
              "      <th>T</th>\n",
              "      <th>S</th>\n",
              "      <th>volume</th>\n",
              "      <th>r</th>\n",
              "      <th>sigma</th>\n",
              "    </tr>\n",
              "    <tr>\n",
              "      <th>date</th>\n",
              "      <th></th>\n",
              "      <th></th>\n",
              "      <th></th>\n",
              "      <th></th>\n",
              "      <th></th>\n",
              "      <th></th>\n",
              "      <th></th>\n",
              "      <th></th>\n",
              "      <th></th>\n",
              "      <th></th>\n",
              "    </tr>\n",
              "  </thead>\n",
              "  <tbody>\n",
              "    <tr>\n",
              "      <th>2015-01-05</th>\n",
              "      <td>PETRO51</td>\n",
              "      <td>1.14</td>\n",
              "      <td>9.21</td>\n",
              "      <td>2015-03-16</td>\n",
              "      <td>put</td>\n",
              "      <td>0.190476</td>\n",
              "      <td>8.61</td>\n",
              "      <td>6.747839e+08</td>\n",
              "      <td>11.57</td>\n",
              "      <td>77.182444</td>\n",
              "    </tr>\n",
              "    <tr>\n",
              "      <th>2015-01-05</th>\n",
              "      <td>PETRN65</td>\n",
              "      <td>6.80</td>\n",
              "      <td>15.66</td>\n",
              "      <td>2015-02-09</td>\n",
              "      <td>put</td>\n",
              "      <td>0.099206</td>\n",
              "      <td>8.61</td>\n",
              "      <td>6.747839e+08</td>\n",
              "      <td>11.57</td>\n",
              "      <td>77.182444</td>\n",
              "    </tr>\n",
              "    <tr>\n",
              "      <th>2015-01-05</th>\n",
              "      <td>PETRN67</td>\n",
              "      <td>0.96</td>\n",
              "      <td>9.11</td>\n",
              "      <td>2015-02-09</td>\n",
              "      <td>put</td>\n",
              "      <td>0.099206</td>\n",
              "      <td>8.61</td>\n",
              "      <td>6.747839e+08</td>\n",
              "      <td>11.57</td>\n",
              "      <td>77.182444</td>\n",
              "    </tr>\n",
              "    <tr>\n",
              "      <th>2015-01-05</th>\n",
              "      <td>PETRN68</td>\n",
              "      <td>0.85</td>\n",
              "      <td>8.91</td>\n",
              "      <td>2015-02-09</td>\n",
              "      <td>put</td>\n",
              "      <td>0.099206</td>\n",
              "      <td>8.61</td>\n",
              "      <td>6.747839e+08</td>\n",
              "      <td>11.57</td>\n",
              "      <td>77.182444</td>\n",
              "    </tr>\n",
              "    <tr>\n",
              "      <th>2015-01-05</th>\n",
              "      <td>PETRN70</td>\n",
              "      <td>2.10</td>\n",
              "      <td>10.66</td>\n",
              "      <td>2015-02-09</td>\n",
              "      <td>put</td>\n",
              "      <td>0.099206</td>\n",
              "      <td>8.61</td>\n",
              "      <td>6.747839e+08</td>\n",
              "      <td>11.57</td>\n",
              "      <td>77.182444</td>\n",
              "    </tr>\n",
              "    <tr>\n",
              "      <th>...</th>\n",
              "      <td>...</td>\n",
              "      <td>...</td>\n",
              "      <td>...</td>\n",
              "      <td>...</td>\n",
              "      <td>...</td>\n",
              "      <td>...</td>\n",
              "      <td>...</td>\n",
              "      <td>...</td>\n",
              "      <td>...</td>\n",
              "      <td>...</td>\n",
              "    </tr>\n",
              "    <tr>\n",
              "      <th>2019-12-13</th>\n",
              "      <td>PETRX265</td>\n",
              "      <td>0.01</td>\n",
              "      <td>26.06</td>\n",
              "      <td>2019-12-16</td>\n",
              "      <td>put</td>\n",
              "      <td>0.003968</td>\n",
              "      <td>29.98</td>\n",
              "      <td>3.172882e+09</td>\n",
              "      <td>4.90</td>\n",
              "      <td>28.228712</td>\n",
              "    </tr>\n",
              "    <tr>\n",
              "      <th>2019-12-13</th>\n",
              "      <td>PETRX347</td>\n",
              "      <td>4.35</td>\n",
              "      <td>34.31</td>\n",
              "      <td>2019-12-16</td>\n",
              "      <td>put</td>\n",
              "      <td>0.003968</td>\n",
              "      <td>29.98</td>\n",
              "      <td>3.172882e+09</td>\n",
              "      <td>4.90</td>\n",
              "      <td>28.228712</td>\n",
              "    </tr>\n",
              "    <tr>\n",
              "      <th>2019-12-13</th>\n",
              "      <td>PETRX311</td>\n",
              "      <td>0.84</td>\n",
              "      <td>30.81</td>\n",
              "      <td>2019-12-16</td>\n",
              "      <td>put</td>\n",
              "      <td>0.003968</td>\n",
              "      <td>29.98</td>\n",
              "      <td>3.172882e+09</td>\n",
              "      <td>4.90</td>\n",
              "      <td>28.228712</td>\n",
              "    </tr>\n",
              "    <tr>\n",
              "      <th>2019-12-13</th>\n",
              "      <td>PETRX286</td>\n",
              "      <td>0.02</td>\n",
              "      <td>28.31</td>\n",
              "      <td>2019-12-16</td>\n",
              "      <td>put</td>\n",
              "      <td>0.003968</td>\n",
              "      <td>29.98</td>\n",
              "      <td>3.172882e+09</td>\n",
              "      <td>4.90</td>\n",
              "      <td>28.228712</td>\n",
              "    </tr>\n",
              "    <tr>\n",
              "      <th>2019-12-13</th>\n",
              "      <td>PETRX391</td>\n",
              "      <td>8.68</td>\n",
              "      <td>38.81</td>\n",
              "      <td>2019-12-16</td>\n",
              "      <td>put</td>\n",
              "      <td>0.003968</td>\n",
              "      <td>29.98</td>\n",
              "      <td>3.172882e+09</td>\n",
              "      <td>4.90</td>\n",
              "      <td>28.228712</td>\n",
              "    </tr>\n",
              "  </tbody>\n",
              "</table>\n",
              "<p>88748 rows × 10 columns</p>\n",
              "</div>"
            ],
            "text/plain": [
              "              option  value      X  ...        volume      r      sigma\n",
              "date                                ...                                \n",
              "2015-01-05   PETRO51   1.14   9.21  ...  6.747839e+08  11.57  77.182444\n",
              "2015-01-05   PETRN65   6.80  15.66  ...  6.747839e+08  11.57  77.182444\n",
              "2015-01-05   PETRN67   0.96   9.11  ...  6.747839e+08  11.57  77.182444\n",
              "2015-01-05   PETRN68   0.85   8.91  ...  6.747839e+08  11.57  77.182444\n",
              "2015-01-05   PETRN70   2.10  10.66  ...  6.747839e+08  11.57  77.182444\n",
              "...              ...    ...    ...  ...           ...    ...        ...\n",
              "2019-12-13  PETRX265   0.01  26.06  ...  3.172882e+09   4.90  28.228712\n",
              "2019-12-13  PETRX347   4.35  34.31  ...  3.172882e+09   4.90  28.228712\n",
              "2019-12-13  PETRX311   0.84  30.81  ...  3.172882e+09   4.90  28.228712\n",
              "2019-12-13  PETRX286   0.02  28.31  ...  3.172882e+09   4.90  28.228712\n",
              "2019-12-13  PETRX391   8.68  38.81  ...  3.172882e+09   4.90  28.228712\n",
              "\n",
              "[88748 rows x 10 columns]"
            ]
          },
          "metadata": {
            "tags": []
          },
          "execution_count": 20
        }
      ]
    },
    {
      "cell_type": "code",
      "metadata": {
        "id": "lVlMRnUTlTe9"
      },
      "source": [
        ""
      ],
      "execution_count": null,
      "outputs": []
    }
  ]
}