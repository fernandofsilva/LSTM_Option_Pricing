{
  "nbformat": 4,
  "nbformat_minor": 0,
  "metadata": {
    "colab": {
      "name": "Notebook Options.ipynb",
      "provenance": [],
      "collapsed_sections": [],
      "mount_file_id": "1TEaMvfVpTx4mmq-qlBPbuaBvlP0ADrOq",
      "authorship_tag": "ABX9TyNBPykd9qVAZbWCBBrEGKLU",
      "include_colab_link": true
    },
    "kernelspec": {
      "name": "python3",
      "display_name": "Python 3"
    }
  },
  "cells": [
    {
      "cell_type": "markdown",
      "metadata": {
        "id": "view-in-github",
        "colab_type": "text"
      },
      "source": [
        "<a href=\"https://colab.research.google.com/github/fernandofsilva/thesis/blob/main/Notebook_Options.ipynb\" target=\"_parent\"><img src=\"https://colab.research.google.com/assets/colab-badge.svg\" alt=\"Open In Colab\"/></a>"
      ]
    },
    {
      "cell_type": "markdown",
      "metadata": {
        "id": "zrjsxkunCyoZ"
      },
      "source": [
        "# Setup "
      ]
    },
    {
      "cell_type": "code",
      "metadata": {
        "id": "3DZomw4VC1p-",
        "cellView": "both"
      },
      "source": [
        "import pandas as pd\n",
        "import numpy as np\n",
        "import math\n",
        "\n",
        "import warnings\n",
        "warnings.simplefilter('ignore')\n",
        "\n",
        "%matplotlib inline\n",
        "import matplotlib.pyplot as plt\n",
        "import seaborn\n",
        "\n",
        "seaborn.set_style('darkgrid')\n",
        "\n",
        "ticker = 'VALE3'\n",
        "mode = 'DNN'"
      ],
      "execution_count": null,
      "outputs": []
    },
    {
      "cell_type": "markdown",
      "metadata": {
        "id": "yOmepTpGC15d"
      },
      "source": [
        "# Load data\n",
        "\n",
        "Load data quotes from all symbols"
      ]
    },
    {
      "cell_type": "code",
      "metadata": {
        "id": "eAFy0p5rE83j",
        "cellView": "both",
        "outputId": "9fa9aff1-c086-4f7b-ab14-915e65489951",
        "colab": {
          "base_uri": "https://localhost:8080/",
          "height": 204
        }
      },
      "source": [
        "raw_data = pd.read_csv('/content/drive/My Drive/Datasets/cotacao.csv.gz')\n",
        "raw_data.head()"
      ],
      "execution_count": null,
      "outputs": [
        {
          "output_type": "execute_result",
          "data": {
            "text/html": [
              "<div>\n",
              "<style scoped>\n",
              "    .dataframe tbody tr th:only-of-type {\n",
              "        vertical-align: middle;\n",
              "    }\n",
              "\n",
              "    .dataframe tbody tr th {\n",
              "        vertical-align: top;\n",
              "    }\n",
              "\n",
              "    .dataframe thead th {\n",
              "        text-align: right;\n",
              "    }\n",
              "</style>\n",
              "<table border=\"1\" class=\"dataframe\">\n",
              "  <thead>\n",
              "    <tr style=\"text-align: right;\">\n",
              "      <th></th>\n",
              "      <th>TIPREG</th>\n",
              "      <th>DATPRG</th>\n",
              "      <th>CODBDI</th>\n",
              "      <th>CODNEG</th>\n",
              "      <th>TPMERC</th>\n",
              "      <th>NOMRES</th>\n",
              "      <th>ESPECI</th>\n",
              "      <th>PRAZOT</th>\n",
              "      <th>MODREF</th>\n",
              "      <th>PREABE</th>\n",
              "      <th>PREMAX</th>\n",
              "      <th>PREMIN</th>\n",
              "      <th>PREMED</th>\n",
              "      <th>PREULT</th>\n",
              "      <th>PREOFC</th>\n",
              "      <th>PREOFV</th>\n",
              "      <th>TOTNEG</th>\n",
              "      <th>QUATOT</th>\n",
              "      <th>VOLTOT</th>\n",
              "      <th>PREEXE</th>\n",
              "      <th>INDOPC</th>\n",
              "      <th>DATVEN</th>\n",
              "      <th>FATCOT</th>\n",
              "      <th>PTOEXE</th>\n",
              "      <th>CODISI</th>\n",
              "      <th>DISMES</th>\n",
              "    </tr>\n",
              "  </thead>\n",
              "  <tbody>\n",
              "    <tr>\n",
              "      <th>0</th>\n",
              "      <td>1</td>\n",
              "      <td>2015-01-02</td>\n",
              "      <td>2</td>\n",
              "      <td>AAPL34</td>\n",
              "      <td>10</td>\n",
              "      <td>APPLE</td>\n",
              "      <td>DRN</td>\n",
              "      <td>NaN</td>\n",
              "      <td>R$</td>\n",
              "      <td>29.65</td>\n",
              "      <td>29.65</td>\n",
              "      <td>29.45</td>\n",
              "      <td>29.61</td>\n",
              "      <td>29.45</td>\n",
              "      <td>29.20</td>\n",
              "      <td>0.00</td>\n",
              "      <td>2</td>\n",
              "      <td>32300</td>\n",
              "      <td>9.564350e+05</td>\n",
              "      <td>0.0</td>\n",
              "      <td>0</td>\n",
              "      <td>9999-12-31</td>\n",
              "      <td>1</td>\n",
              "      <td>0</td>\n",
              "      <td>BRAAPLBDR004</td>\n",
              "      <td>111</td>\n",
              "    </tr>\n",
              "    <tr>\n",
              "      <th>1</th>\n",
              "      <td>1</td>\n",
              "      <td>2015-01-02</td>\n",
              "      <td>2</td>\n",
              "      <td>ABCB4</td>\n",
              "      <td>10</td>\n",
              "      <td>ABC BRASIL</td>\n",
              "      <td>PN EJS N2</td>\n",
              "      <td>NaN</td>\n",
              "      <td>R$</td>\n",
              "      <td>12.85</td>\n",
              "      <td>12.85</td>\n",
              "      <td>12.35</td>\n",
              "      <td>12.54</td>\n",
              "      <td>12.55</td>\n",
              "      <td>12.55</td>\n",
              "      <td>12.56</td>\n",
              "      <td>531</td>\n",
              "      <td>117100</td>\n",
              "      <td>1.469337e+06</td>\n",
              "      <td>0.0</td>\n",
              "      <td>0</td>\n",
              "      <td>9999-12-31</td>\n",
              "      <td>1</td>\n",
              "      <td>0</td>\n",
              "      <td>BRABCBACNPR4</td>\n",
              "      <td>123</td>\n",
              "    </tr>\n",
              "    <tr>\n",
              "      <th>2</th>\n",
              "      <td>1</td>\n",
              "      <td>2015-01-02</td>\n",
              "      <td>96</td>\n",
              "      <td>ABCB4F</td>\n",
              "      <td>20</td>\n",
              "      <td>ABC BRASIL</td>\n",
              "      <td>PN EJS N2</td>\n",
              "      <td>NaN</td>\n",
              "      <td>R$</td>\n",
              "      <td>12.83</td>\n",
              "      <td>12.83</td>\n",
              "      <td>12.48</td>\n",
              "      <td>12.69</td>\n",
              "      <td>12.48</td>\n",
              "      <td>12.53</td>\n",
              "      <td>12.86</td>\n",
              "      <td>5</td>\n",
              "      <td>208</td>\n",
              "      <td>2.641260e+03</td>\n",
              "      <td>0.0</td>\n",
              "      <td>0</td>\n",
              "      <td>9999-12-31</td>\n",
              "      <td>1</td>\n",
              "      <td>0</td>\n",
              "      <td>BRABCBACNPR4</td>\n",
              "      <td>123</td>\n",
              "    </tr>\n",
              "    <tr>\n",
              "      <th>3</th>\n",
              "      <td>1</td>\n",
              "      <td>2015-01-02</td>\n",
              "      <td>12</td>\n",
              "      <td>ABCP11</td>\n",
              "      <td>10</td>\n",
              "      <td>FII ABC IMOB</td>\n",
              "      <td>CI ER</td>\n",
              "      <td>NaN</td>\n",
              "      <td>R$</td>\n",
              "      <td>9.72</td>\n",
              "      <td>9.72</td>\n",
              "      <td>8.01</td>\n",
              "      <td>9.64</td>\n",
              "      <td>9.64</td>\n",
              "      <td>9.31</td>\n",
              "      <td>9.64</td>\n",
              "      <td>9</td>\n",
              "      <td>496</td>\n",
              "      <td>4.781490e+03</td>\n",
              "      <td>0.0</td>\n",
              "      <td>0</td>\n",
              "      <td>9999-12-31</td>\n",
              "      <td>1</td>\n",
              "      <td>0</td>\n",
              "      <td>BRABCPCTF000</td>\n",
              "      <td>231</td>\n",
              "    </tr>\n",
              "    <tr>\n",
              "      <th>4</th>\n",
              "      <td>1</td>\n",
              "      <td>2015-01-02</td>\n",
              "      <td>2</td>\n",
              "      <td>ABEV3</td>\n",
              "      <td>10</td>\n",
              "      <td>AMBEV S/A</td>\n",
              "      <td>ON EJ</td>\n",
              "      <td>NaN</td>\n",
              "      <td>R$</td>\n",
              "      <td>16.14</td>\n",
              "      <td>16.56</td>\n",
              "      <td>15.77</td>\n",
              "      <td>16.08</td>\n",
              "      <td>16.01</td>\n",
              "      <td>15.91</td>\n",
              "      <td>16.01</td>\n",
              "      <td>21543</td>\n",
              "      <td>19110800</td>\n",
              "      <td>3.073420e+08</td>\n",
              "      <td>0.0</td>\n",
              "      <td>0</td>\n",
              "      <td>9999-12-31</td>\n",
              "      <td>1</td>\n",
              "      <td>0</td>\n",
              "      <td>BRABEVACNOR1</td>\n",
              "      <td>106</td>\n",
              "    </tr>\n",
              "  </tbody>\n",
              "</table>\n",
              "</div>"
            ],
            "text/plain": [
              "   TIPREG      DATPRG  CODBDI  CODNEG  ...  FATCOT PTOEXE        CODISI  DISMES\n",
              "0       1  2015-01-02       2  AAPL34  ...       1      0  BRAAPLBDR004     111\n",
              "1       1  2015-01-02       2   ABCB4  ...       1      0  BRABCBACNPR4     123\n",
              "2       1  2015-01-02      96  ABCB4F  ...       1      0  BRABCBACNPR4     123\n",
              "3       1  2015-01-02      12  ABCP11  ...       1      0  BRABCPCTF000     231\n",
              "4       1  2015-01-02       2   ABEV3  ...       1      0  BRABEVACNOR1     106\n",
              "\n",
              "[5 rows x 26 columns]"
            ]
          },
          "metadata": {
            "tags": []
          },
          "execution_count": 89
        }
      ]
    },
    {
      "cell_type": "markdown",
      "metadata": {
        "id": "-hQVonIqJKCQ"
      },
      "source": [
        "## Spot data"
      ]
    },
    {
      "cell_type": "code",
      "metadata": {
        "id": "DFtqq0c5JkUM",
        "outputId": "2bf0525b-94c7-423e-fdfb-2e9bbb74f105",
        "colab": {
          "base_uri": "https://localhost:8080/",
          "height": 235
        }
      },
      "source": [
        "# Filter data from VALE3\n",
        "spot = raw_data[raw_data['CODNEG'] == ticker]\n",
        "\n",
        "# Dict to rename the columns\n",
        "dict_ref = {\n",
        "    'DATPRG': 'date',\n",
        "    'PREULT': 'S',\n",
        "    'VOLTOT': 'volume'\n",
        "}\n",
        "\n",
        "# Rename the columns and subset\n",
        "spot = spot.rename(columns=dict_ref)\n",
        "spot = spot[dict_ref.values()]\n",
        "\n",
        "# Format and subset date\n",
        "spot['date'] = pd.to_datetime(spot['date'])\n",
        "spot = spot.sort_values(by='date')\n",
        "spot.index = spot['date']\n",
        "spot = spot.drop(['date'], axis=1)\n",
        "\n",
        "spot.head()"
      ],
      "execution_count": null,
      "outputs": [
        {
          "output_type": "execute_result",
          "data": {
            "text/html": [
              "<div>\n",
              "<style scoped>\n",
              "    .dataframe tbody tr th:only-of-type {\n",
              "        vertical-align: middle;\n",
              "    }\n",
              "\n",
              "    .dataframe tbody tr th {\n",
              "        vertical-align: top;\n",
              "    }\n",
              "\n",
              "    .dataframe thead th {\n",
              "        text-align: right;\n",
              "    }\n",
              "</style>\n",
              "<table border=\"1\" class=\"dataframe\">\n",
              "  <thead>\n",
              "    <tr style=\"text-align: right;\">\n",
              "      <th></th>\n",
              "      <th>S</th>\n",
              "      <th>volume</th>\n",
              "    </tr>\n",
              "    <tr>\n",
              "      <th>date</th>\n",
              "      <th></th>\n",
              "      <th></th>\n",
              "    </tr>\n",
              "  </thead>\n",
              "  <tbody>\n",
              "    <tr>\n",
              "      <th>2015-01-02</th>\n",
              "      <td>21.28</td>\n",
              "      <td>120672152.0</td>\n",
              "    </tr>\n",
              "    <tr>\n",
              "      <th>2015-01-05</th>\n",
              "      <td>20.96</td>\n",
              "      <td>173776434.0</td>\n",
              "    </tr>\n",
              "    <tr>\n",
              "      <th>2015-01-06</th>\n",
              "      <td>21.80</td>\n",
              "      <td>212788714.0</td>\n",
              "    </tr>\n",
              "    <tr>\n",
              "      <th>2015-01-07</th>\n",
              "      <td>22.60</td>\n",
              "      <td>135618045.0</td>\n",
              "    </tr>\n",
              "    <tr>\n",
              "      <th>2015-01-08</th>\n",
              "      <td>22.84</td>\n",
              "      <td>104941063.0</td>\n",
              "    </tr>\n",
              "  </tbody>\n",
              "</table>\n",
              "</div>"
            ],
            "text/plain": [
              "                S       volume\n",
              "date                          \n",
              "2015-01-02  21.28  120672152.0\n",
              "2015-01-05  20.96  173776434.0\n",
              "2015-01-06  21.80  212788714.0\n",
              "2015-01-07  22.60  135618045.0\n",
              "2015-01-08  22.84  104941063.0"
            ]
          },
          "metadata": {
            "tags": []
          },
          "execution_count": 90
        }
      ]
    },
    {
      "cell_type": "code",
      "metadata": {
        "id": "2RLShs2SGYzB",
        "cellView": "both",
        "outputId": "ea2eae2d-e3c2-4d2d-ba8c-3816b5b71e40",
        "colab": {
          "base_uri": "https://localhost:8080/",
          "height": 279
        }
      },
      "source": [
        "# Plot\n",
        "fig, ax = plt.subplots(figsize=(20, 4))\n",
        "ax.plot(spot['S'])\n",
        "ax.set_ylabel('Valor R$')\n",
        "ax.set_xlabel('Data')\n",
        "plt.show()"
      ],
      "execution_count": null,
      "outputs": [
        {
          "output_type": "display_data",
          "data": {
            "image/png": "[encoded data removed]",
            "text/plain": [
              "<Figure size 1440x288 with 1 Axes>"
            ]
          },
          "metadata": {
            "tags": []
          }
        }
      ]
    },
    {
      "cell_type": "markdown",
      "metadata": {
        "id": "NIlNtMESGH-L"
      },
      "source": [
        "## Options"
      ]
    },
    {
      "cell_type": "markdown",
      "metadata": {
        "id": "sWpiVzbUFRP_"
      },
      "source": [
        "### Filter Options data"
      ]
    },
    {
      "cell_type": "code",
      "metadata": {
        "id": "0yLA6iURJqg5",
        "outputId": "5d0493f5-662f-4946-9544-287aeee5b982",
        "colab": {
          "base_uri": "https://localhost:8080/",
          "height": 204
        }
      },
      "source": [
        "# Dict to rename the columns\n",
        "dict_ref = {\n",
        "    'DATPRG': 'date',\n",
        "    'CODNEG': 'option',\n",
        "    'PREULT': 'value',\n",
        "    'PREEXE': 'X',\n",
        "    'DATVEN': 'expire',\n",
        "    'TPMERC': 'option_type'\n",
        "}\n",
        "\n",
        "# Rename the columns\n",
        "option = raw_data.rename(columns=dict_ref)\n",
        "\n",
        "# Filter options data\n",
        "option = option[option['option_type'].isin([70, 80])]\n",
        "option = option[option['option'].str.startswith(ticker[:-1])]\n",
        "option = option[dict_ref.values()]\n",
        "\n",
        "# Dict symbol type\n",
        "TPMERC = {70: 'call', 80: 'put'}\n",
        "\n",
        "# Replace options types\n",
        "option['option_type'] = option['option_type'].replace(TPMERC)\n",
        "option.head()"
      ],
      "execution_count": null,
      "outputs": [
        {
          "output_type": "execute_result",
          "data": {
            "text/html": [
              "<div>\n",
              "<style scoped>\n",
              "    .dataframe tbody tr th:only-of-type {\n",
              "        vertical-align: middle;\n",
              "    }\n",
              "\n",
              "    .dataframe tbody tr th {\n",
              "        vertical-align: top;\n",
              "    }\n",
              "\n",
              "    .dataframe thead th {\n",
              "        text-align: right;\n",
              "    }\n",
              "</style>\n",
              "<table border=\"1\" class=\"dataframe\">\n",
              "  <thead>\n",
              "    <tr style=\"text-align: right;\">\n",
              "      <th></th>\n",
              "      <th>date</th>\n",
              "      <th>option</th>\n",
              "      <th>value</th>\n",
              "      <th>X</th>\n",
              "      <th>expire</th>\n",
              "      <th>option_type</th>\n",
              "    </tr>\n",
              "  </thead>\n",
              "  <tbody>\n",
              "    <tr>\n",
              "      <th>1266</th>\n",
              "      <td>2015-01-02</td>\n",
              "      <td>VALEA15</td>\n",
              "      <td>2.98</td>\n",
              "      <td>15.85</td>\n",
              "      <td>2015-01-19</td>\n",
              "      <td>call</td>\n",
              "    </tr>\n",
              "    <tr>\n",
              "      <th>1267</th>\n",
              "      <td>2015-01-02</td>\n",
              "      <td>VALEA17</td>\n",
              "      <td>2.25</td>\n",
              "      <td>16.85</td>\n",
              "      <td>2015-01-19</td>\n",
              "      <td>call</td>\n",
              "    </tr>\n",
              "    <tr>\n",
              "      <th>1268</th>\n",
              "      <td>2015-01-02</td>\n",
              "      <td>VALEA18</td>\n",
              "      <td>1.28</td>\n",
              "      <td>17.85</td>\n",
              "      <td>2015-01-19</td>\n",
              "      <td>call</td>\n",
              "    </tr>\n",
              "    <tr>\n",
              "      <th>1269</th>\n",
              "      <td>2015-01-02</td>\n",
              "      <td>VALEA19</td>\n",
              "      <td>0.44</td>\n",
              "      <td>19.10</td>\n",
              "      <td>2015-01-19</td>\n",
              "      <td>call</td>\n",
              "    </tr>\n",
              "    <tr>\n",
              "      <th>1270</th>\n",
              "      <td>2015-01-02</td>\n",
              "      <td>VALEA20</td>\n",
              "      <td>0.18</td>\n",
              "      <td>19.85</td>\n",
              "      <td>2015-01-19</td>\n",
              "      <td>call</td>\n",
              "    </tr>\n",
              "  </tbody>\n",
              "</table>\n",
              "</div>"
            ],
            "text/plain": [
              "            date   option  value      X      expire option_type\n",
              "1266  2015-01-02  VALEA15   2.98  15.85  2015-01-19        call\n",
              "1267  2015-01-02  VALEA17   2.25  16.85  2015-01-19        call\n",
              "1268  2015-01-02  VALEA18   1.28  17.85  2015-01-19        call\n",
              "1269  2015-01-02  VALEA19   0.44  19.10  2015-01-19        call\n",
              "1270  2015-01-02  VALEA20   0.18  19.85  2015-01-19        call"
            ]
          },
          "metadata": {
            "tags": []
          },
          "execution_count": 92
        }
      ]
    },
    {
      "cell_type": "markdown",
      "metadata": {
        "id": "F4GjVZwNGd0z"
      },
      "source": [
        "### T calculation"
      ]
    },
    {
      "cell_type": "code",
      "metadata": {
        "id": "iTjFRNxmrD12",
        "outputId": "c6043ac1-da3f-4000-85d1-a94f21c4dae1",
        "colab": {
          "base_uri": "https://localhost:8080/",
          "height": 235
        }
      },
      "source": [
        "# Get unique days\n",
        "workday = pd.DataFrame({'day': option['date'].unique()})\n",
        "workday['day'] = pd.to_datetime(workday['day'])\n",
        "workday = workday.sort_values(by='day')\n",
        "\n",
        "# Create T\n",
        "T = list()\n",
        "\n",
        "for index, row in option.iterrows():\n",
        "    T.append(workday[(workday['day'] >= row.date) & (workday['day'] <= row.expire)].shape[0] - 1)\n",
        "\n",
        "option['T'] = T\n",
        "option['T'] = option['T'] / 252\n",
        "\n",
        "# Format and subset date\n",
        "option['date'] = pd.to_datetime(option['date'])\n",
        "option['expire'] = pd.to_datetime(option['expire'])\n",
        "option = option.sort_values(by='date')\n",
        "\n",
        "# Set index\n",
        "option.index = option['date']\n",
        "option = option.drop(['date'], axis=1)\n",
        "\n",
        "option.head()"
      ],
      "execution_count": null,
      "outputs": [
        {
          "output_type": "execute_result",
          "data": {
            "text/html": [
              "<div>\n",
              "<style scoped>\n",
              "    .dataframe tbody tr th:only-of-type {\n",
              "        vertical-align: middle;\n",
              "    }\n",
              "\n",
              "    .dataframe tbody tr th {\n",
              "        vertical-align: top;\n",
              "    }\n",
              "\n",
              "    .dataframe thead th {\n",
              "        text-align: right;\n",
              "    }\n",
              "</style>\n",
              "<table border=\"1\" class=\"dataframe\">\n",
              "  <thead>\n",
              "    <tr style=\"text-align: right;\">\n",
              "      <th></th>\n",
              "      <th>option</th>\n",
              "      <th>value</th>\n",
              "      <th>X</th>\n",
              "      <th>expire</th>\n",
              "      <th>option_type</th>\n",
              "      <th>T</th>\n",
              "    </tr>\n",
              "    <tr>\n",
              "      <th>date</th>\n",
              "      <th></th>\n",
              "      <th></th>\n",
              "      <th></th>\n",
              "      <th></th>\n",
              "      <th></th>\n",
              "      <th></th>\n",
              "    </tr>\n",
              "  </thead>\n",
              "  <tbody>\n",
              "    <tr>\n",
              "      <th>2015-01-02</th>\n",
              "      <td>VALEA15</td>\n",
              "      <td>2.98</td>\n",
              "      <td>15.85</td>\n",
              "      <td>2015-01-19</td>\n",
              "      <td>call</td>\n",
              "      <td>0.043651</td>\n",
              "    </tr>\n",
              "    <tr>\n",
              "      <th>2015-01-02</th>\n",
              "      <td>VALEM45</td>\n",
              "      <td>0.01</td>\n",
              "      <td>14.35</td>\n",
              "      <td>2015-01-19</td>\n",
              "      <td>put</td>\n",
              "      <td>0.043651</td>\n",
              "    </tr>\n",
              "    <tr>\n",
              "      <th>2015-01-02</th>\n",
              "      <td>VALEM44</td>\n",
              "      <td>0.01</td>\n",
              "      <td>14.85</td>\n",
              "      <td>2015-01-19</td>\n",
              "      <td>put</td>\n",
              "      <td>0.043651</td>\n",
              "    </tr>\n",
              "    <tr>\n",
              "      <th>2015-01-02</th>\n",
              "      <td>VALEM32</td>\n",
              "      <td>11.46</td>\n",
              "      <td>30.35</td>\n",
              "      <td>2015-01-19</td>\n",
              "      <td>put</td>\n",
              "      <td>0.043651</td>\n",
              "    </tr>\n",
              "    <tr>\n",
              "      <th>2015-01-02</th>\n",
              "      <td>VALEM20</td>\n",
              "      <td>1.14</td>\n",
              "      <td>19.85</td>\n",
              "      <td>2015-01-19</td>\n",
              "      <td>put</td>\n",
              "      <td>0.043651</td>\n",
              "    </tr>\n",
              "  </tbody>\n",
              "</table>\n",
              "</div>"
            ],
            "text/plain": [
              "             option  value      X     expire option_type         T\n",
              "date                                                              \n",
              "2015-01-02  VALEA15   2.98  15.85 2015-01-19        call  0.043651\n",
              "2015-01-02  VALEM45   0.01  14.35 2015-01-19         put  0.043651\n",
              "2015-01-02  VALEM44   0.01  14.85 2015-01-19         put  0.043651\n",
              "2015-01-02  VALEM32  11.46  30.35 2015-01-19         put  0.043651\n",
              "2015-01-02  VALEM20   1.14  19.85 2015-01-19         put  0.043651"
            ]
          },
          "metadata": {
            "tags": []
          },
          "execution_count": 93
        }
      ]
    },
    {
      "cell_type": "markdown",
      "metadata": {
        "id": "mSNgkKJXn6b4"
      },
      "source": [
        "### Reference Dataframe"
      ]
    },
    {
      "cell_type": "code",
      "metadata": {
        "id": "oC3-o3LPn55u",
        "outputId": "c3712e0a-7a0a-4815-a06c-ad8649173f1a",
        "colab": {
          "base_uri": "https://localhost:8080/",
          "height": 204
        }
      },
      "source": [
        "# Get list with unique expire date\n",
        "l = option['expire'].sort_values().unique()\n",
        "\n",
        "# Create empty dataframe\n",
        "reference = pd.DataFrame()\n",
        "\n",
        "# Loop over the list\n",
        "for index, (start, end) in enumerate(zip(l, l[1:])):\n",
        "\n",
        "    # Count number of days between dates\n",
        "    aux = pd.DataFrame(\n",
        "        {'start': [start],\n",
        "         'end': [end],\n",
        "         'count': [workday[(workday['day'] >= start) & (workday['day'] < end)].shape[0]]},\n",
        "         index=[index]\n",
        "    )\n",
        "    \n",
        "    # Append in the dataframe\n",
        "    reference = reference.append(aux)\n",
        "\n",
        "reference = reference[reference['count'] >= 18]\n",
        "\n",
        "reference.head()"
      ],
      "execution_count": null,
      "outputs": [
        {
          "output_type": "execute_result",
          "data": {
            "text/html": [
              "<div>\n",
              "<style scoped>\n",
              "    .dataframe tbody tr th:only-of-type {\n",
              "        vertical-align: middle;\n",
              "    }\n",
              "\n",
              "    .dataframe tbody tr th {\n",
              "        vertical-align: top;\n",
              "    }\n",
              "\n",
              "    .dataframe thead th {\n",
              "        text-align: right;\n",
              "    }\n",
              "</style>\n",
              "<table border=\"1\" class=\"dataframe\">\n",
              "  <thead>\n",
              "    <tr style=\"text-align: right;\">\n",
              "      <th></th>\n",
              "      <th>start</th>\n",
              "      <th>end</th>\n",
              "      <th>count</th>\n",
              "    </tr>\n",
              "  </thead>\n",
              "  <tbody>\n",
              "    <tr>\n",
              "      <th>1</th>\n",
              "      <td>2015-02-09</td>\n",
              "      <td>2015-03-16</td>\n",
              "      <td>23</td>\n",
              "    </tr>\n",
              "    <tr>\n",
              "      <th>2</th>\n",
              "      <td>2015-03-16</td>\n",
              "      <td>2015-04-20</td>\n",
              "      <td>24</td>\n",
              "    </tr>\n",
              "    <tr>\n",
              "      <th>3</th>\n",
              "      <td>2015-04-20</td>\n",
              "      <td>2015-05-18</td>\n",
              "      <td>18</td>\n",
              "    </tr>\n",
              "    <tr>\n",
              "      <th>4</th>\n",
              "      <td>2015-05-18</td>\n",
              "      <td>2015-06-15</td>\n",
              "      <td>19</td>\n",
              "    </tr>\n",
              "    <tr>\n",
              "      <th>5</th>\n",
              "      <td>2015-06-15</td>\n",
              "      <td>2015-07-20</td>\n",
              "      <td>24</td>\n",
              "    </tr>\n",
              "  </tbody>\n",
              "</table>\n",
              "</div>"
            ],
            "text/plain": [
              "       start        end  count\n",
              "1 2015-02-09 2015-03-16     23\n",
              "2 2015-03-16 2015-04-20     24\n",
              "3 2015-04-20 2015-05-18     18\n",
              "4 2015-05-18 2015-06-15     19\n",
              "5 2015-06-15 2015-07-20     24"
            ]
          },
          "metadata": {
            "tags": []
          },
          "execution_count": 94
        }
      ]
    },
    {
      "cell_type": "markdown",
      "metadata": {
        "id": "486vmflPytAU"
      },
      "source": [
        "### Filter data"
      ]
    },
    {
      "cell_type": "code",
      "metadata": {
        "id": "Q2q5SVeOvamB",
        "outputId": "0248f3f7-a4be-49cf-a9f5-99aa93118236",
        "colab": {
          "base_uri": "https://localhost:8080/",
          "height": 235
        }
      },
      "source": [
        "option_data = pd.DataFrame()\n",
        "\n",
        "for index, row in reference.iterrows():\n",
        "\n",
        "    # Select data according expire date\n",
        "    aux = option[option['expire'] == row['end']]\n",
        "\n",
        "    # Select data within the month\n",
        "    aux = aux[row['start']:row['end']]\n",
        "\n",
        "    # Count the number of day the options were trade\n",
        "    count = aux.groupby(by=['option'], as_index=False).agg({'value': 'count'})\n",
        "\n",
        "    # Select options that were traded every day in the period\n",
        "    symbols = count.loc[count['value'] == row['count'], 'option']\n",
        "\n",
        "    # Filter with just options were traded every day in the period\n",
        "    aux = aux[aux['option'].isin(symbols)]\n",
        "\n",
        "    # Get last 18 days\n",
        "    for symbol in aux['option'].unique():\n",
        "        \n",
        "        # Append data of the last 18 days befores expire date\n",
        "        option_data = option_data.append(aux[aux['option'] == symbol].iloc[-18:,:])\n",
        "\n",
        "option_data.head()"
      ],
      "execution_count": null,
      "outputs": [
        {
          "output_type": "execute_result",
          "data": {
            "text/html": [
              "<div>\n",
              "<style scoped>\n",
              "    .dataframe tbody tr th:only-of-type {\n",
              "        vertical-align: middle;\n",
              "    }\n",
              "\n",
              "    .dataframe tbody tr th {\n",
              "        vertical-align: top;\n",
              "    }\n",
              "\n",
              "    .dataframe thead th {\n",
              "        text-align: right;\n",
              "    }\n",
              "</style>\n",
              "<table border=\"1\" class=\"dataframe\">\n",
              "  <thead>\n",
              "    <tr style=\"text-align: right;\">\n",
              "      <th></th>\n",
              "      <th>option</th>\n",
              "      <th>value</th>\n",
              "      <th>X</th>\n",
              "      <th>expire</th>\n",
              "      <th>option_type</th>\n",
              "      <th>T</th>\n",
              "    </tr>\n",
              "    <tr>\n",
              "      <th>date</th>\n",
              "      <th></th>\n",
              "      <th></th>\n",
              "      <th></th>\n",
              "      <th></th>\n",
              "      <th></th>\n",
              "      <th></th>\n",
              "    </tr>\n",
              "  </thead>\n",
              "  <tbody>\n",
              "    <tr>\n",
              "      <th>2015-02-18</th>\n",
              "      <td>VALEO14</td>\n",
              "      <td>0.03</td>\n",
              "      <td>14.35</td>\n",
              "      <td>2015-03-16</td>\n",
              "      <td>put</td>\n",
              "      <td>0.071429</td>\n",
              "    </tr>\n",
              "    <tr>\n",
              "      <th>2015-02-19</th>\n",
              "      <td>VALEO14</td>\n",
              "      <td>0.02</td>\n",
              "      <td>14.35</td>\n",
              "      <td>2015-03-16</td>\n",
              "      <td>put</td>\n",
              "      <td>0.067460</td>\n",
              "    </tr>\n",
              "    <tr>\n",
              "      <th>2015-02-20</th>\n",
              "      <td>VALEO14</td>\n",
              "      <td>0.02</td>\n",
              "      <td>14.35</td>\n",
              "      <td>2015-03-16</td>\n",
              "      <td>put</td>\n",
              "      <td>0.063492</td>\n",
              "    </tr>\n",
              "    <tr>\n",
              "      <th>2015-02-23</th>\n",
              "      <td>VALEO14</td>\n",
              "      <td>0.03</td>\n",
              "      <td>14.35</td>\n",
              "      <td>2015-03-16</td>\n",
              "      <td>put</td>\n",
              "      <td>0.059524</td>\n",
              "    </tr>\n",
              "    <tr>\n",
              "      <th>2015-02-24</th>\n",
              "      <td>VALEO14</td>\n",
              "      <td>0.02</td>\n",
              "      <td>14.35</td>\n",
              "      <td>2015-03-16</td>\n",
              "      <td>put</td>\n",
              "      <td>0.055556</td>\n",
              "    </tr>\n",
              "  </tbody>\n",
              "</table>\n",
              "</div>"
            ],
            "text/plain": [
              "             option  value      X     expire option_type         T\n",
              "date                                                              \n",
              "2015-02-18  VALEO14   0.03  14.35 2015-03-16         put  0.071429\n",
              "2015-02-19  VALEO14   0.02  14.35 2015-03-16         put  0.067460\n",
              "2015-02-20  VALEO14   0.02  14.35 2015-03-16         put  0.063492\n",
              "2015-02-23  VALEO14   0.03  14.35 2015-03-16         put  0.059524\n",
              "2015-02-24  VALEO14   0.02  14.35 2015-03-16         put  0.055556"
            ]
          },
          "metadata": {
            "tags": []
          },
          "execution_count": 95
        }
      ]
    },
    {
      "cell_type": "code",
      "metadata": {
        "id": "HIRF0Ww3wRju",
        "outputId": "fafffb80-3b52-4d18-e9b6-9300b8174c89",
        "colab": {
          "base_uri": "https://localhost:8080/",
          "height": 308
        }
      },
      "source": [
        "# Plot\n",
        "fig, ax = plt.subplots(figsize=(20, 4))\n",
        "fig.suptitle('Option VALEG19')\n",
        "ax.plot(option_data.loc[(option_data['option'] == 'VALEG19') & (option_data['expire'] == '2017-07-17'), 'value'])\n",
        "ax.set_ylabel('Valor R$')\n",
        "ax.set_xlabel('Data')\n",
        "plt.show()"
      ],
      "execution_count": null,
      "outputs": [
        {
          "output_type": "display_data",
          "data": {
            "image/png": "[encoded data removed]",
            "text/plain": [
              "<Figure size 1440x288 with 1 Axes>"
            ]
          },
          "metadata": {
            "tags": []
          }
        }
      ]
    },
    {
      "cell_type": "markdown",
      "metadata": {
        "id": "uickV9NHIeVu"
      },
      "source": [
        "## CDI"
      ]
    },
    {
      "cell_type": "code",
      "metadata": {
        "id": "_VCr7vK_Ifvp"
      },
      "source": [
        "cdi = pd.read_csv('/content/drive/My Drive/Datasets/cdi.csv', usecols=['date', 'cdi'])\n",
        "\n",
        "# # Format and subset date\n",
        "cdi['date'] = pd.to_datetime(cdi['date'], format='%d/%m/%y')\n",
        "cdi = cdi.sort_values(by='date')\n",
        "\n",
        "# Filter using the first date\n",
        "cdi = cdi[cdi['date'].dt.month != cdi['date'].dt.month.shift(1)]"
      ],
      "execution_count": null,
      "outputs": []
    },
    {
      "cell_type": "code",
      "metadata": {
        "id": "DeAhHKBLM-7s"
      },
      "source": [
        "# Create date range\n",
        "date = pd.DataFrame({'date': pd.date_range(start='1/1/2015', end='12/31/2020')})\n",
        "\n",
        "# Merge with cdi\n",
        "date = date.merge(right=cdi, how='left', on='date')\n",
        "\n",
        "# Fill Nan\n",
        "date['cdi'] = date['cdi'].fillna(method='ffill')\n",
        "cdi = date.dropna()"
      ],
      "execution_count": null,
      "outputs": []
    },
    {
      "cell_type": "code",
      "metadata": {
        "id": "PBNLOTreNoAg",
        "outputId": "deab334e-bd32-43d2-e108-f4802b07aef6",
        "colab": {
          "base_uri": "https://localhost:8080/",
          "height": 235
        }
      },
      "source": [
        "# Create index\n",
        "cdi = cdi.rename(columns={'cdi': 'r'})\n",
        "cdi.index = cdi['date']\n",
        "cdi = cdi.drop(['date'], axis=1)\n",
        "cdi.head()"
      ],
      "execution_count": null,
      "outputs": [
        {
          "output_type": "execute_result",
          "data": {
            "text/html": [
              "<div>\n",
              "<style scoped>\n",
              "    .dataframe tbody tr th:only-of-type {\n",
              "        vertical-align: middle;\n",
              "    }\n",
              "\n",
              "    .dataframe tbody tr th {\n",
              "        vertical-align: top;\n",
              "    }\n",
              "\n",
              "    .dataframe thead th {\n",
              "        text-align: right;\n",
              "    }\n",
              "</style>\n",
              "<table border=\"1\" class=\"dataframe\">\n",
              "  <thead>\n",
              "    <tr style=\"text-align: right;\">\n",
              "      <th></th>\n",
              "      <th>r</th>\n",
              "    </tr>\n",
              "    <tr>\n",
              "      <th>date</th>\n",
              "      <th></th>\n",
              "    </tr>\n",
              "  </thead>\n",
              "  <tbody>\n",
              "    <tr>\n",
              "      <th>2015-01-02</th>\n",
              "      <td>11.57</td>\n",
              "    </tr>\n",
              "    <tr>\n",
              "      <th>2015-01-03</th>\n",
              "      <td>11.57</td>\n",
              "    </tr>\n",
              "    <tr>\n",
              "      <th>2015-01-04</th>\n",
              "      <td>11.57</td>\n",
              "    </tr>\n",
              "    <tr>\n",
              "      <th>2015-01-05</th>\n",
              "      <td>11.57</td>\n",
              "    </tr>\n",
              "    <tr>\n",
              "      <th>2015-01-06</th>\n",
              "      <td>11.57</td>\n",
              "    </tr>\n",
              "  </tbody>\n",
              "</table>\n",
              "</div>"
            ],
            "text/plain": [
              "                r\n",
              "date             \n",
              "2015-01-02  11.57\n",
              "2015-01-03  11.57\n",
              "2015-01-04  11.57\n",
              "2015-01-05  11.57\n",
              "2015-01-06  11.57"
            ]
          },
          "metadata": {
            "tags": []
          },
          "execution_count": 99
        }
      ]
    },
    {
      "cell_type": "code",
      "metadata": {
        "id": "9JADQq-PJPks",
        "outputId": "ead7b2dc-0fe1-4e24-dde5-a38df977f3fd",
        "colab": {
          "base_uri": "https://localhost:8080/",
          "height": 283
        }
      },
      "source": [
        "fig, ax = plt.subplots(figsize=(20, 4))\n",
        "ax.plot(cdi)\n",
        "ax.set_ylabel('Taxa de Juros (%)')\n",
        "ax.set_ylim(3, 16)\n",
        "ax.set_xlabel('Data')\n",
        "plt.show()"
      ],
      "execution_count": null,
      "outputs": [
        {
          "output_type": "display_data",
          "data": {
            "image/png": "[encoded data removed]",
            "text/plain": [
              "<Figure size 1440x288 with 1 Axes>"
            ]
          },
          "metadata": {
            "tags": []
          }
        }
      ]
    },
    {
      "cell_type": "markdown",
      "metadata": {
        "id": "lnE_mAyjY8VF"
      },
      "source": [
        "## Data Merge"
      ]
    },
    {
      "cell_type": "code",
      "metadata": {
        "id": "83RAAQxdY7tP",
        "outputId": "b4404751-97f7-415c-c898-d33cc71bc543",
        "colab": {
          "base_uri": "https://localhost:8080/",
          "height": 235
        }
      },
      "source": [
        "# Merge data\n",
        "if mode == 'DNN':\n",
        "    data = option.merge(right=spot, right_index=True, left_index=True)\n",
        "else:\n",
        "    data = option_data.merge(right=spot, right_index=True, left_index=True)\n",
        "\n",
        "data = data.merge(right=cdi, right_index=True, left_index=True)\n",
        "data.head()"
      ],
      "execution_count": null,
      "outputs": [
        {
          "output_type": "execute_result",
          "data": {
            "text/html": [
              "<div>\n",
              "<style scoped>\n",
              "    .dataframe tbody tr th:only-of-type {\n",
              "        vertical-align: middle;\n",
              "    }\n",
              "\n",
              "    .dataframe tbody tr th {\n",
              "        vertical-align: top;\n",
              "    }\n",
              "\n",
              "    .dataframe thead th {\n",
              "        text-align: right;\n",
              "    }\n",
              "</style>\n",
              "<table border=\"1\" class=\"dataframe\">\n",
              "  <thead>\n",
              "    <tr style=\"text-align: right;\">\n",
              "      <th></th>\n",
              "      <th>option</th>\n",
              "      <th>value</th>\n",
              "      <th>X</th>\n",
              "      <th>expire</th>\n",
              "      <th>option_type</th>\n",
              "      <th>T</th>\n",
              "      <th>S</th>\n",
              "      <th>volume</th>\n",
              "      <th>r</th>\n",
              "    </tr>\n",
              "    <tr>\n",
              "      <th>date</th>\n",
              "      <th></th>\n",
              "      <th></th>\n",
              "      <th></th>\n",
              "      <th></th>\n",
              "      <th></th>\n",
              "      <th></th>\n",
              "      <th></th>\n",
              "      <th></th>\n",
              "      <th></th>\n",
              "    </tr>\n",
              "  </thead>\n",
              "  <tbody>\n",
              "    <tr>\n",
              "      <th>2015-01-02</th>\n",
              "      <td>VALEA15</td>\n",
              "      <td>2.98</td>\n",
              "      <td>15.85</td>\n",
              "      <td>2015-01-19</td>\n",
              "      <td>call</td>\n",
              "      <td>0.043651</td>\n",
              "      <td>21.28</td>\n",
              "      <td>120672152.0</td>\n",
              "      <td>11.57</td>\n",
              "    </tr>\n",
              "    <tr>\n",
              "      <th>2015-01-02</th>\n",
              "      <td>VALEM45</td>\n",
              "      <td>0.01</td>\n",
              "      <td>14.35</td>\n",
              "      <td>2015-01-19</td>\n",
              "      <td>put</td>\n",
              "      <td>0.043651</td>\n",
              "      <td>21.28</td>\n",
              "      <td>120672152.0</td>\n",
              "      <td>11.57</td>\n",
              "    </tr>\n",
              "    <tr>\n",
              "      <th>2015-01-02</th>\n",
              "      <td>VALEM44</td>\n",
              "      <td>0.01</td>\n",
              "      <td>14.85</td>\n",
              "      <td>2015-01-19</td>\n",
              "      <td>put</td>\n",
              "      <td>0.043651</td>\n",
              "      <td>21.28</td>\n",
              "      <td>120672152.0</td>\n",
              "      <td>11.57</td>\n",
              "    </tr>\n",
              "    <tr>\n",
              "      <th>2015-01-02</th>\n",
              "      <td>VALEM32</td>\n",
              "      <td>11.46</td>\n",
              "      <td>30.35</td>\n",
              "      <td>2015-01-19</td>\n",
              "      <td>put</td>\n",
              "      <td>0.043651</td>\n",
              "      <td>21.28</td>\n",
              "      <td>120672152.0</td>\n",
              "      <td>11.57</td>\n",
              "    </tr>\n",
              "    <tr>\n",
              "      <th>2015-01-02</th>\n",
              "      <td>VALEM20</td>\n",
              "      <td>1.14</td>\n",
              "      <td>19.85</td>\n",
              "      <td>2015-01-19</td>\n",
              "      <td>put</td>\n",
              "      <td>0.043651</td>\n",
              "      <td>21.28</td>\n",
              "      <td>120672152.0</td>\n",
              "      <td>11.57</td>\n",
              "    </tr>\n",
              "  </tbody>\n",
              "</table>\n",
              "</div>"
            ],
            "text/plain": [
              "             option  value      X  ...      S       volume      r\n",
              "date                               ...                           \n",
              "2015-01-02  VALEA15   2.98  15.85  ...  21.28  120672152.0  11.57\n",
              "2015-01-02  VALEM45   0.01  14.35  ...  21.28  120672152.0  11.57\n",
              "2015-01-02  VALEM44   0.01  14.85  ...  21.28  120672152.0  11.57\n",
              "2015-01-02  VALEM32  11.46  30.35  ...  21.28  120672152.0  11.57\n",
              "2015-01-02  VALEM20   1.14  19.85  ...  21.28  120672152.0  11.57\n",
              "\n",
              "[5 rows x 9 columns]"
            ]
          },
          "metadata": {
            "tags": []
          },
          "execution_count": 101
        }
      ]
    },
    {
      "cell_type": "code",
      "metadata": {
        "id": "Oo0oxesw9AC3",
        "outputId": "f293cfcf-d329-45b3-f607-1e15a99c9e97",
        "colab": {
          "base_uri": "https://localhost:8080/",
          "height": 308
        }
      },
      "source": [
        "# Plot\n",
        "fig, ax = plt.subplots(figsize=(20, 4))\n",
        "fig.suptitle('Option VALEG19')\n",
        "ax.plot(data.loc[(data['option'] == 'VALEG19') & (data['expire'] == '2017-07-17'), 'value'], label='Option')\n",
        "ax.plot(data.loc[(data['option'] == 'VALEG19') & (data['expire'] == '2017-07-17'), 'S'], label='Spot')\n",
        "ax.plot(data.loc[(data['option'] == 'VALEG19') & (data['expire'] == '2017-07-17'), 'X'], label='Strike')\n",
        "ax.set_ylabel('Valor R$')\n",
        "ax.set_xlabel('Data')\n",
        "ax.legend()\n",
        "plt.show()"
      ],
      "execution_count": null,
      "outputs": [
        {
          "output_type": "display_data",
          "data": {
            "image/png": "[encoded data removed]",
            "text/plain": [
              "<Figure size 1440x288 with 1 Axes>"
            ]
          },
          "metadata": {
            "tags": []
          }
        }
      ]
    },
    {
      "cell_type": "markdown",
      "metadata": {
        "id": "BvSWhPZVZpk9"
      },
      "source": [
        "# GARCH (1,1)"
      ]
    },
    {
      "cell_type": "markdown",
      "metadata": {
        "id": "vE6OmO7yCdHN"
      },
      "source": [
        "## Returns"
      ]
    },
    {
      "cell_type": "code",
      "metadata": {
        "id": "QWOCTwoTCAbs",
        "cellView": "both",
        "outputId": "53994bfd-fb48-4b53-93a1-6b8567ca51cb",
        "colab": {
          "base_uri": "https://localhost:8080/",
          "height": 235
        }
      },
      "source": [
        "spot['return'] = np.log(spot['S'] / spot['S'].shift(1))\n",
        "spot = spot.dropna()\n",
        "spot['var'] = spot['return']**2\n",
        "spot.head()"
      ],
      "execution_count": null,
      "outputs": [
        {
          "output_type": "execute_result",
          "data": {
            "text/html": [
              "<div>\n",
              "<style scoped>\n",
              "    .dataframe tbody tr th:only-of-type {\n",
              "        vertical-align: middle;\n",
              "    }\n",
              "\n",
              "    .dataframe tbody tr th {\n",
              "        vertical-align: top;\n",
              "    }\n",
              "\n",
              "    .dataframe thead th {\n",
              "        text-align: right;\n",
              "    }\n",
              "</style>\n",
              "<table border=\"1\" class=\"dataframe\">\n",
              "  <thead>\n",
              "    <tr style=\"text-align: right;\">\n",
              "      <th></th>\n",
              "      <th>S</th>\n",
              "      <th>volume</th>\n",
              "      <th>return</th>\n",
              "      <th>var</th>\n",
              "    </tr>\n",
              "    <tr>\n",
              "      <th>date</th>\n",
              "      <th></th>\n",
              "      <th></th>\n",
              "      <th></th>\n",
              "      <th></th>\n",
              "    </tr>\n",
              "  </thead>\n",
              "  <tbody>\n",
              "    <tr>\n",
              "      <th>2015-01-05</th>\n",
              "      <td>20.96</td>\n",
              "      <td>173776434.0</td>\n",
              "      <td>-0.015152</td>\n",
              "      <td>0.000230</td>\n",
              "    </tr>\n",
              "    <tr>\n",
              "      <th>2015-01-06</th>\n",
              "      <td>21.80</td>\n",
              "      <td>212788714.0</td>\n",
              "      <td>0.039294</td>\n",
              "      <td>0.001544</td>\n",
              "    </tr>\n",
              "    <tr>\n",
              "      <th>2015-01-07</th>\n",
              "      <td>22.60</td>\n",
              "      <td>135618045.0</td>\n",
              "      <td>0.036040</td>\n",
              "      <td>0.001299</td>\n",
              "    </tr>\n",
              "    <tr>\n",
              "      <th>2015-01-08</th>\n",
              "      <td>22.84</td>\n",
              "      <td>104941063.0</td>\n",
              "      <td>0.010563</td>\n",
              "      <td>0.000112</td>\n",
              "    </tr>\n",
              "    <tr>\n",
              "      <th>2015-01-09</th>\n",
              "      <td>22.35</td>\n",
              "      <td>80426260.0</td>\n",
              "      <td>-0.021687</td>\n",
              "      <td>0.000470</td>\n",
              "    </tr>\n",
              "  </tbody>\n",
              "</table>\n",
              "</div>"
            ],
            "text/plain": [
              "                S       volume    return       var\n",
              "date                                              \n",
              "2015-01-05  20.96  173776434.0 -0.015152  0.000230\n",
              "2015-01-06  21.80  212788714.0  0.039294  0.001544\n",
              "2015-01-07  22.60  135618045.0  0.036040  0.001299\n",
              "2015-01-08  22.84  104941063.0  0.010563  0.000112\n",
              "2015-01-09  22.35   80426260.0 -0.021687  0.000470"
            ]
          },
          "metadata": {
            "tags": []
          },
          "execution_count": 103
        }
      ]
    },
    {
      "cell_type": "code",
      "metadata": {
        "id": "_aTEr86yI-xo",
        "cellView": "both",
        "outputId": "23676750-bdc1-4b06-af7e-162a473ada1a",
        "colab": {
          "base_uri": "https://localhost:8080/",
          "height": 279
        }
      },
      "source": [
        "fig, ax = plt.subplots(figsize=(20, 4))\n",
        "ax.plot(spot['return'])\n",
        "ax.set_ylabel('Retorno')\n",
        "ax.set_xlabel('Data')\n",
        "plt.show()"
      ],
      "execution_count": null,
      "outputs": [
        {
          "output_type": "display_data",
          "data": {
            "image/png": "[encoded data removed]",
            "text/plain": [
              "<Figure size 1440x288 with 1 Axes>"
            ]
          },
          "metadata": {
            "tags": []
          }
        }
      ]
    },
    {
      "cell_type": "markdown",
      "metadata": {
        "id": "bF_1VyhuZ1Xo"
      },
      "source": [
        "## GARCH (with a Constant Mean)"
      ]
    },
    {
      "cell_type": "code",
      "metadata": {
        "id": "dnIIs4QARaLe",
        "outputId": "a19ceeb9-3cb5-41bc-dae4-3ffc6f4afbbd",
        "colab": {
          "base_uri": "https://localhost:8080/"
        }
      },
      "source": [
        "from arch import arch_model\n",
        "\n",
        "am = arch_model(spot['return'], p=1, o=0, q=1)\n",
        "res = am.fit(update_freq=5)\n",
        "garch = res.conditional_volatility * math.sqrt(252) * 100\n",
        "garch = garch.rename(\"sigma\")\n",
        "print(res.summary())"
      ],
      "execution_count": null,
      "outputs": [
        {
          "output_type": "stream",
          "text": [
            "Optimization terminated successfully.    (Exit mode 0)\n",
            "            Current function value: -2811.1712433775374\n",
            "            Iterations: 6\n",
            "            Function evaluations: 19\n",
            "            Gradient evaluations: 2\n",
            "                     Constant Mean - GARCH Model Results                      \n",
            "==============================================================================\n",
            "Dep. Variable:                 return   R-squared:                      -0.000\n",
            "Mean Model:             Constant Mean   Adj. R-squared:                 -0.000\n",
            "Vol Model:                      GARCH   Log-Likelihood:                2811.17\n",
            "Distribution:                  Normal   AIC:                          -5614.34\n",
            "Method:            Maximum Likelihood   BIC:                          -5593.53\n",
            "                                        No. Observations:                 1343\n",
            "Date:                Sun, Nov 01 2020   Df Residuals:                     1339\n",
            "Time:                        22:28:00   Df Model:                            4\n",
            "                                  Mean Model                                 \n",
            "=============================================================================\n",
            "                 coef    std err          t      P>|t|       95.0% Conf. Int.\n",
            "-----------------------------------------------------------------------------\n",
            "mu         5.3557e-04  8.468e-04      0.632      0.527 [-1.124e-03,2.195e-03]\n",
            "                              Volatility Model                              \n",
            "============================================================================\n",
            "                 coef    std err          t      P>|t|      95.0% Conf. Int.\n",
            "----------------------------------------------------------------------------\n",
            "omega      2.1315e-05  1.715e-06     12.430  1.795e-35 [1.795e-05,2.468e-05]\n",
            "alpha[1]       0.0500  1.663e-02      3.007  2.639e-03 [1.741e-02,8.259e-02]\n",
            "beta[1]        0.9300  1.744e-02     53.318      0.000     [  0.896,  0.964]\n",
            "============================================================================\n",
            "\n",
            "Covariance estimator: robust\n"
          ],
          "name": "stdout"
        }
      ]
    },
    {
      "cell_type": "markdown",
      "metadata": {
        "id": "d1AAbUFMg9-0"
      },
      "source": [
        "### Plot"
      ]
    },
    {
      "cell_type": "code",
      "metadata": {
        "id": "ik2xyLz-aeqy",
        "cellView": "both",
        "outputId": "ac85e36b-1fa3-42f6-e0ca-68c6edaaf715",
        "colab": {
          "base_uri": "https://localhost:8080/",
          "height": 279
        }
      },
      "source": [
        "fig, axs = plt.subplots(figsize=(20, 4))\n",
        "axs.plot(garch)\n",
        "axs.set_ylabel('Volatilidade (%)')\n",
        "axs.set_xlabel('Data')\n",
        "plt.show()"
      ],
      "execution_count": null,
      "outputs": [
        {
          "output_type": "display_data",
          "data": {
            "image/png": "[encoded data removed]",
            "text/plain": [
              "<Figure size 1440x288 with 1 Axes>"
            ]
          },
          "metadata": {
            "tags": []
          }
        }
      ]
    },
    {
      "cell_type": "code",
      "metadata": {
        "id": "oxpod5BI-jaQ",
        "outputId": "04e7273b-4851-4c94-a534-2d4f6d5252cc",
        "colab": {
          "base_uri": "https://localhost:8080/",
          "height": 235
        }
      },
      "source": [
        "data = data.merge(right=garch, right_index=True, left_index=True)\n",
        "data = data.rename(columns={'cond_vol': 'vol'})\n",
        "data.head()"
      ],
      "execution_count": null,
      "outputs": [
        {
          "output_type": "execute_result",
          "data": {
            "text/html": [
              "<div>\n",
              "<style scoped>\n",
              "    .dataframe tbody tr th:only-of-type {\n",
              "        vertical-align: middle;\n",
              "    }\n",
              "\n",
              "    .dataframe tbody tr th {\n",
              "        vertical-align: top;\n",
              "    }\n",
              "\n",
              "    .dataframe thead th {\n",
              "        text-align: right;\n",
              "    }\n",
              "</style>\n",
              "<table border=\"1\" class=\"dataframe\">\n",
              "  <thead>\n",
              "    <tr style=\"text-align: right;\">\n",
              "      <th></th>\n",
              "      <th>option</th>\n",
              "      <th>value</th>\n",
              "      <th>X</th>\n",
              "      <th>expire</th>\n",
              "      <th>option_type</th>\n",
              "      <th>T</th>\n",
              "      <th>S</th>\n",
              "      <th>volume</th>\n",
              "      <th>r</th>\n",
              "      <th>sigma</th>\n",
              "    </tr>\n",
              "    <tr>\n",
              "      <th>date</th>\n",
              "      <th></th>\n",
              "      <th></th>\n",
              "      <th></th>\n",
              "      <th></th>\n",
              "      <th></th>\n",
              "      <th></th>\n",
              "      <th></th>\n",
              "      <th></th>\n",
              "      <th></th>\n",
              "      <th></th>\n",
              "    </tr>\n",
              "  </thead>\n",
              "  <tbody>\n",
              "    <tr>\n",
              "      <th>2015-01-05</th>\n",
              "      <td>VALEM18</td>\n",
              "      <td>0.27</td>\n",
              "      <td>17.85</td>\n",
              "      <td>2015-01-19</td>\n",
              "      <td>put</td>\n",
              "      <td>0.039683</td>\n",
              "      <td>20.96</td>\n",
              "      <td>173776434.0</td>\n",
              "      <td>11.57</td>\n",
              "      <td>53.922216</td>\n",
              "    </tr>\n",
              "    <tr>\n",
              "      <th>2015-01-05</th>\n",
              "      <td>VALEM19</td>\n",
              "      <td>0.86</td>\n",
              "      <td>19.10</td>\n",
              "      <td>2015-01-19</td>\n",
              "      <td>put</td>\n",
              "      <td>0.039683</td>\n",
              "      <td>20.96</td>\n",
              "      <td>173776434.0</td>\n",
              "      <td>11.57</td>\n",
              "      <td>53.922216</td>\n",
              "    </tr>\n",
              "    <tr>\n",
              "      <th>2015-01-05</th>\n",
              "      <td>VALEM20</td>\n",
              "      <td>1.44</td>\n",
              "      <td>19.85</td>\n",
              "      <td>2015-01-19</td>\n",
              "      <td>put</td>\n",
              "      <td>0.039683</td>\n",
              "      <td>20.96</td>\n",
              "      <td>173776434.0</td>\n",
              "      <td>11.57</td>\n",
              "      <td>53.922216</td>\n",
              "    </tr>\n",
              "    <tr>\n",
              "      <th>2015-01-05</th>\n",
              "      <td>VALEM32</td>\n",
              "      <td>12.00</td>\n",
              "      <td>30.35</td>\n",
              "      <td>2015-01-19</td>\n",
              "      <td>put</td>\n",
              "      <td>0.039683</td>\n",
              "      <td>20.96</td>\n",
              "      <td>173776434.0</td>\n",
              "      <td>11.57</td>\n",
              "      <td>53.922216</td>\n",
              "    </tr>\n",
              "    <tr>\n",
              "      <th>2015-01-05</th>\n",
              "      <td>VALEM47</td>\n",
              "      <td>0.06</td>\n",
              "      <td>16.35</td>\n",
              "      <td>2015-01-19</td>\n",
              "      <td>put</td>\n",
              "      <td>0.039683</td>\n",
              "      <td>20.96</td>\n",
              "      <td>173776434.0</td>\n",
              "      <td>11.57</td>\n",
              "      <td>53.922216</td>\n",
              "    </tr>\n",
              "  </tbody>\n",
              "</table>\n",
              "</div>"
            ],
            "text/plain": [
              "             option  value      X  ...       volume      r      sigma\n",
              "date                               ...                               \n",
              "2015-01-05  VALEM18   0.27  17.85  ...  173776434.0  11.57  53.922216\n",
              "2015-01-05  VALEM19   0.86  19.10  ...  173776434.0  11.57  53.922216\n",
              "2015-01-05  VALEM20   1.44  19.85  ...  173776434.0  11.57  53.922216\n",
              "2015-01-05  VALEM32  12.00  30.35  ...  173776434.0  11.57  53.922216\n",
              "2015-01-05  VALEM47   0.06  16.35  ...  173776434.0  11.57  53.922216\n",
              "\n",
              "[5 rows x 10 columns]"
            ]
          },
          "metadata": {
            "tags": []
          },
          "execution_count": 107
        }
      ]
    },
    {
      "cell_type": "markdown",
      "metadata": {
        "id": "ewHZnu07Kvsp"
      },
      "source": [
        "# Black-Scholes"
      ]
    },
    {
      "cell_type": "code",
      "metadata": {
        "id": "hoIbCiufKu0N"
      },
      "source": [
        "from scipy.stats import norm\n",
        "\n",
        "# Auxiliary function for d_one risk-adjusted probability\n",
        "def d11(S, X, T, r, sigma):\n",
        "    \"\"\"This is an auxiliary function and is not intended to be called externally.\"\"\"\n",
        "    return (np.log(S/X) + (r + 0.5 * sigma**2)*T) / (sigma * np.sqrt(T))\n",
        "\n",
        "# Auxiliary function for d_two risk-adjusted probability\n",
        "def d21(d1, T, sigma):\n",
        "    \"\"\"This is an auxiliary function and is not intended to be called externally.\"\"\"\n",
        "    return d1 - sigma * np.sqrt(T)\n",
        "\n",
        "# Definition of the Black-Scholes delta function\n",
        "def bs_delta(S, X, T, r, sigma, option_type):\n",
        "    \"\"\"Compute the delta of the Black-Scholes option pricing formula.\n",
        "\n",
        "    Arguments:\n",
        "    S           -- the current spot price of the underlying stock\n",
        "    X           -- the option strike price\n",
        "    T           -- the time until maturity (in fractions of a year)\n",
        "    r           -- the risk-free interest rate\n",
        "    sigma       -- the returns volatility of the underlying stock\n",
        "    option_type -- the option type, either 'call' or 'put'\n",
        "\n",
        "    Returns: a numpy.float_ representing the delta value\n",
        "    Exceptions raised: ValueError if option_type is not 'call' or 'put'\n",
        "    \"\"\"\n",
        "    if option_type == 'call':\n",
        "        return norm.cdf(d11(S, X, T, r, sigma))\n",
        "    elif option_type == 'put':\n",
        "        return norm.cdf(-d11(S, X, T, r, sigma))\n",
        "    else:\n",
        "        # Raise an error if the option_type is neither a call nor a put\n",
        "        raise ValueError(\"Option type is either 'call' or 'put'.\")\n",
        "\n",
        "# Definition of the Black-Scholes European option pricing formula\n",
        "def black_scholes(S, X, T, r, sigma, option_type):\n",
        "    \"\"\"Price a European option using the Black-Scholes option pricing formula.\n",
        "\n",
        "    Arguments:\n",
        "    S           -- the current spot price of the underlying stock\n",
        "    X           -- the option strike price\n",
        "    T           -- the time until maturity (in fractions of a year)\n",
        "    r           -- the risk-free interest rate\n",
        "    sigma       -- the returns volatility of the underlying stock\n",
        "    option_type -- the option type, either 'call' or 'put'\n",
        "\n",
        "    Returns: a numpy.float_ representing the option value\n",
        "    Exceptions raised: ValueError if option_type is not 'call' or 'put'\n",
        "    \"\"\"\n",
        "    d_one = d11(S, X, T, r, sigma)\n",
        "    d_two = d21(d_one, T, sigma)\n",
        "    if option_type == 'call':\n",
        "        return S * norm.cdf(d_one) - np.exp(-r * T) * X * norm.cdf(d_two)\n",
        "    elif option_type == 'put':\n",
        "        return -(S * norm.cdf(-d_one) - np.exp(-r * T) * X * norm.cdf(-d_two))\n",
        "    else:\n",
        "        # Raise an error if the option_type is neither a call nor a put\n",
        "        raise ValueError(\"Option type is either 'call' or 'put'.\")\n",
        "\n",
        "def bs_pandas(row):\n",
        "    value = black_scholes(\n",
        "        row['S'], row['X'], row['T'], row['r']/100, row['sigma']/100, row['option_type']\n",
        "    )\n",
        "    return round(value, 2)\n",
        "\n",
        "def delta_pandas(row):\n",
        "    value = bs_delta(\n",
        "        row['S'], row['X'], row['T'], row['r']/100, row['sigma']/100, row['option_type']\n",
        "    )\n",
        "    return int(round(value * 100, 0))"
      ],
      "execution_count": null,
      "outputs": []
    },
    {
      "cell_type": "code",
      "metadata": {
        "id": "YLKQKVzzYYQB"
      },
      "source": [
        "def newton_vol_call(S, K, T, C, r, sigma):\n",
        "    \n",
        "    #S: spot price\n",
        "    #K: strike price\n",
        "    #T: time to maturity\n",
        "    #C: Call value\n",
        "    #r: interest rate\n",
        "    #sigma: volatility of underlying asset\n",
        "    \n",
        "    d1 = (np.log(S / K) + (r - 0.5 * sigma ** 2) * T) / (sigma * np.sqrt(T))\n",
        "    d2 = (np.log(S / K) + (r - 0.5 * sigma ** 2) * T) / (sigma * np.sqrt(T))\n",
        "    \n",
        "    fx = S * norm.cdf(d1, 0.0, 1.0) - K * np.exp(-r * T) * norm.cdf(d2, 0.0, 1.0) - C\n",
        "    \n",
        "    vega = (1 / np.sqrt(2 * np.pi)) * S * np.sqrt(T) * np.exp(-(norm.cdf(d1, 0.0, 1.0) ** 2) * 0.5)\n",
        "    \n",
        "    tolerance = 0.000001\n",
        "    x0 = sigma\n",
        "    xnew  = x0\n",
        "    xold = x0 - 1\n",
        "        \n",
        "    while abs(xnew - xold) > tolerance:\n",
        "    \n",
        "        xold = xnew\n",
        "        xnew = (xnew - fx - C) / vega\n",
        "        \n",
        "        return abs(xnew)\n",
        "\n",
        "def newton_vol_put(S, K, T, P, r, sigma):\n",
        "    \n",
        "    d1 = (np.log(S / K) + (r - 0.5 * sigma ** 2) * T) / (sigma * np.sqrt(T))\n",
        "    d2 = (np.log(S / K) + (r - 0.5 * sigma ** 2) * T) / (sigma * np.sqrt(T))\n",
        "    \n",
        "    fx = K * np.exp(-r * T) * norm.cdf(-d2, 0.0, 1.0) - S * norm.cdf(-d1, 0.0, 1.0) - P\n",
        "    \n",
        "    vega = (1 / np.sqrt(2 * np.pi)) * S * np.sqrt(T) * np.exp(-(norm.cdf(d1, 0.0, 1.0) ** 2) * 0.5)\n",
        "    \n",
        "    tolerance = 0.000001\n",
        "    x0 = sigma\n",
        "    xnew  = x0\n",
        "    xold = x0 - 1\n",
        "        \n",
        "    while abs(xnew - xold) > tolerance:\n",
        "    \n",
        "        xold = xnew\n",
        "        xnew = (xnew - fx - P) / vega\n",
        "        \n",
        "        return abs(xnew)\n",
        "\n",
        "def imp_vol(row):\n",
        "    if row['option_type'] == 'call':\n",
        "        return newton_vol_call(row['S'], row['X'], row['T'], row['value'], row['r']/100, row['sigma']/100) * 100\n",
        "    else:\n",
        "        return newton_vol_put(row['S'], row['X'], row['T'], row['value'], row['r']/100, row['sigma']/100) * 100"
      ],
      "execution_count": null,
      "outputs": []
    },
    {
      "cell_type": "code",
      "metadata": {
        "id": "g8qZX4ocK0Hl",
        "outputId": "88d5a0ec-568f-4328-c525-4694c6e1d988",
        "colab": {
          "base_uri": "https://localhost:8080/",
          "height": 235
        }
      },
      "source": [
        "data['bs'] = data.apply(bs_pandas, axis=1)\n",
        "data['delta_bs'] = data.apply(delta_pandas, axis=1)\n",
        "data['imp_vol'] = data.apply(imp_vol, axis=1)\n",
        "\n",
        "data.head()"
      ],
      "execution_count": null,
      "outputs": [
        {
          "output_type": "execute_result",
          "data": {
            "text/html": [
              "<div>\n",
              "<style scoped>\n",
              "    .dataframe tbody tr th:only-of-type {\n",
              "        vertical-align: middle;\n",
              "    }\n",
              "\n",
              "    .dataframe tbody tr th {\n",
              "        vertical-align: top;\n",
              "    }\n",
              "\n",
              "    .dataframe thead th {\n",
              "        text-align: right;\n",
              "    }\n",
              "</style>\n",
              "<table border=\"1\" class=\"dataframe\">\n",
              "  <thead>\n",
              "    <tr style=\"text-align: right;\">\n",
              "      <th></th>\n",
              "      <th>option</th>\n",
              "      <th>value</th>\n",
              "      <th>X</th>\n",
              "      <th>expire</th>\n",
              "      <th>option_type</th>\n",
              "      <th>T</th>\n",
              "      <th>S</th>\n",
              "      <th>volume</th>\n",
              "      <th>r</th>\n",
              "      <th>sigma</th>\n",
              "      <th>bs</th>\n",
              "      <th>delta_bs</th>\n",
              "      <th>imp_vol</th>\n",
              "    </tr>\n",
              "    <tr>\n",
              "      <th>date</th>\n",
              "      <th></th>\n",
              "      <th></th>\n",
              "      <th></th>\n",
              "      <th></th>\n",
              "      <th></th>\n",
              "      <th></th>\n",
              "      <th></th>\n",
              "      <th></th>\n",
              "      <th></th>\n",
              "      <th></th>\n",
              "      <th></th>\n",
              "      <th></th>\n",
              "      <th></th>\n",
              "    </tr>\n",
              "  </thead>\n",
              "  <tbody>\n",
              "    <tr>\n",
              "      <th>2015-01-05</th>\n",
              "      <td>VALEM18</td>\n",
              "      <td>0.27</td>\n",
              "      <td>17.85</td>\n",
              "      <td>2015-01-19</td>\n",
              "      <td>put</td>\n",
              "      <td>0.039683</td>\n",
              "      <td>20.96</td>\n",
              "      <td>173776434.0</td>\n",
              "      <td>11.57</td>\n",
              "      <td>53.922216</td>\n",
              "      <td>0.06</td>\n",
              "      <td>6</td>\n",
              "      <td>70.295437</td>\n",
              "    </tr>\n",
              "    <tr>\n",
              "      <th>2015-01-05</th>\n",
              "      <td>VALEM19</td>\n",
              "      <td>0.86</td>\n",
              "      <td>19.10</td>\n",
              "      <td>2015-01-19</td>\n",
              "      <td>put</td>\n",
              "      <td>0.039683</td>\n",
              "      <td>20.96</td>\n",
              "      <td>173776434.0</td>\n",
              "      <td>11.57</td>\n",
              "      <td>53.922216</td>\n",
              "      <td>0.21</td>\n",
              "      <td>17</td>\n",
              "      <td>76.433360</td>\n",
              "    </tr>\n",
              "    <tr>\n",
              "      <th>2015-01-05</th>\n",
              "      <td>VALEM20</td>\n",
              "      <td>1.44</td>\n",
              "      <td>19.85</td>\n",
              "      <td>2015-01-19</td>\n",
              "      <td>put</td>\n",
              "      <td>0.039683</td>\n",
              "      <td>20.96</td>\n",
              "      <td>173776434.0</td>\n",
              "      <td>11.57</td>\n",
              "      <td>53.922216</td>\n",
              "      <td>0.40</td>\n",
              "      <td>27</td>\n",
              "      <td>69.433512</td>\n",
              "    </tr>\n",
              "    <tr>\n",
              "      <th>2015-01-05</th>\n",
              "      <td>VALEM32</td>\n",
              "      <td>12.00</td>\n",
              "      <td>30.35</td>\n",
              "      <td>2015-01-19</td>\n",
              "      <td>put</td>\n",
              "      <td>0.039683</td>\n",
              "      <td>20.96</td>\n",
              "      <td>173776434.0</td>\n",
              "      <td>11.57</td>\n",
              "      <td>53.922216</td>\n",
              "      <td>9.25</td>\n",
              "      <td>100</td>\n",
              "      <td>522.851771</td>\n",
              "    </tr>\n",
              "    <tr>\n",
              "      <th>2015-01-05</th>\n",
              "      <td>VALEM47</td>\n",
              "      <td>0.06</td>\n",
              "      <td>16.35</td>\n",
              "      <td>2015-01-19</td>\n",
              "      <td>put</td>\n",
              "      <td>0.039683</td>\n",
              "      <td>20.96</td>\n",
              "      <td>173776434.0</td>\n",
              "      <td>11.57</td>\n",
              "      <td>53.922216</td>\n",
              "      <td>0.01</td>\n",
              "      <td>1</td>\n",
              "      <td>57.709577</td>\n",
              "    </tr>\n",
              "  </tbody>\n",
              "</table>\n",
              "</div>"
            ],
            "text/plain": [
              "             option  value      X  ...    bs delta_bs     imp_vol\n",
              "date                               ...                           \n",
              "2015-01-05  VALEM18   0.27  17.85  ...  0.06        6   70.295437\n",
              "2015-01-05  VALEM19   0.86  19.10  ...  0.21       17   76.433360\n",
              "2015-01-05  VALEM20   1.44  19.85  ...  0.40       27   69.433512\n",
              "2015-01-05  VALEM32  12.00  30.35  ...  9.25      100  522.851771\n",
              "2015-01-05  VALEM47   0.06  16.35  ...  0.01        1   57.709577\n",
              "\n",
              "[5 rows x 13 columns]"
            ]
          },
          "metadata": {
            "tags": []
          },
          "execution_count": 110
        }
      ]
    },
    {
      "cell_type": "code",
      "metadata": {
        "id": "-aqkkMjDjPUi"
      },
      "source": [
        "import numpy as np\n",
        "from scipy.stats import norm\n",
        "N = norm.cdf\n",
        "\n",
        "def bs_call(S, K, T, r, vol):\n",
        "    d1 = (np.log(S/K) + (r + 0.5*vol**2)*T) / (vol*np.sqrt(T))\n",
        "    d2 = d1 - vol * np.sqrt(T)\n",
        "    return S * norm.cdf(d1) - np.exp(-r * T) * K * norm.cdf(d2)\n",
        "\n",
        "def bs_vega(S, K, T, r, sigma):\n",
        "    d1 = (np.log(S / K) + (r + 0.5 * sigma ** 2) * T) / (sigma * np.sqrt(T))\n",
        "    return S * norm.pdf(d1) * np.sqrt(T)\n",
        "\n",
        "def find_vol(target_value, S, K, T, r, *args):\n",
        "    MAX_ITERATIONS = 200\n",
        "    PRECISION = 1.0e-5\n",
        "    sigma = 0.5\n",
        "    for i in range(0, MAX_ITERATIONS):\n",
        "        price = bs_call(S, K, T, r, sigma)\n",
        "        vega = bs_vega(S, K, T, r, sigma)\n",
        "        diff = target_value - price  # our root\n",
        "        if (abs(diff) < PRECISION):\n",
        "            return sigma\n",
        "        sigma = sigma + diff/vega # f(x) / f'(x)\n",
        "    return sigma # value wasn't found, return best guess so far"
      ],
      "execution_count": null,
      "outputs": []
    },
    {
      "cell_type": "markdown",
      "metadata": {
        "id": "3zkTZmx0_s0N"
      },
      "source": [
        "# Save to file"
      ]
    },
    {
      "cell_type": "code",
      "metadata": {
        "id": "3YjXD9dbQtUu"
      },
      "source": [
        "# Filter to the last valid expire date\n",
        "data = data[data['expire'] <= '2020-05-18']"
      ],
      "execution_count": null,
      "outputs": []
    },
    {
      "cell_type": "code",
      "metadata": {
        "id": "BlmbEmNV-zlY"
      },
      "source": [
        "# cols = ['option', 'S', 'X', 'T', 'r', 'sigma', 'option_type', 'value']\n",
        "data.to_csv(f'/content/drive/My Drive/Datasets/data_option_{ticker}_{mode}.csv')\n",
        "data.to_excel(f'/content/drive/My Drive/Datasets/data_option_{ticker}_{mode}.xlsx')"
      ],
      "execution_count": null,
      "outputs": []
    },
    {
      "cell_type": "code",
      "metadata": {
        "id": "-suyyLfLnvjz"
      },
      "source": [
        ""
      ],
      "execution_count": null,
      "outputs": []
    }
  ]
}