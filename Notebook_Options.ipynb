{
  "nbformat": 4,
  "nbformat_minor": 0,
  "metadata": {
    "colab": {
      "name": "Notebook Options.ipynb",
      "provenance": [],
      "collapsed_sections": [],
      "mount_file_id": "1TEaMvfVpTx4mmq-qlBPbuaBvlP0ADrOq",
      "authorship_tag": "ABX9TyM+nQk259esqe1O5xtsxs4A",
      "include_colab_link": true
    },
    "kernelspec": {
      "name": "python3",
      "display_name": "Python 3"
    }
  },
  "cells": [
    {
      "cell_type": "markdown",
      "metadata": {
        "id": "view-in-github",
        "colab_type": "text"
      },
      "source": [
        "<a href=\"https://colab.research.google.com/github/fernandofsilva/thesis/blob/main/Notebook_Options.ipynb\" target=\"_parent\"><img src=\"https://colab.research.google.com/assets/colab-badge.svg\" alt=\"Open In Colab\"/></a>"
      ]
    },
    {
      "cell_type": "markdown",
      "metadata": {
        "id": "zrjsxkunCyoZ"
      },
      "source": [
        "# Setup "
      ]
    },
    {
      "cell_type": "code",
      "metadata": {
        "id": "3DZomw4VC1p-",
        "cellView": "both"
      },
      "source": [
        "import pandas as pd\n",
        "import numpy as np\n",
        "import math\n",
        "\n",
        "import warnings\n",
        "warnings.simplefilter('ignore')\n",
        "\n",
        "%matplotlib inline\n",
        "import matplotlib.pyplot as plt\n",
        "import seaborn\n",
        "\n",
        "seaborn.set_style('darkgrid')"
      ],
      "execution_count": 1,
      "outputs": []
    },
    {
      "cell_type": "markdown",
      "metadata": {
        "id": "yOmepTpGC15d"
      },
      "source": [
        "# Load data"
      ]
    },
    {
      "cell_type": "code",
      "metadata": {
        "id": "eAFy0p5rE83j",
        "cellView": "both",
        "outputId": "02ea95ec-f251-4bde-a435-a4361fd3a7e6",
        "colab": {
          "base_uri": "https://localhost:8080/",
          "height": 309
        }
      },
      "source": [
        "raw_data = pd.read_csv('/content/drive/My Drive/Datasets/cotacao.csv.gz')\n",
        "raw_data.head()"
      ],
      "execution_count": 2,
      "outputs": [
        {
          "output_type": "execute_result",
          "data": {
            "text/html": [
              "<div>\n",
              "<style scoped>\n",
              "    .dataframe tbody tr th:only-of-type {\n",
              "        vertical-align: middle;\n",
              "    }\n",
              "\n",
              "    .dataframe tbody tr th {\n",
              "        vertical-align: top;\n",
              "    }\n",
              "\n",
              "    .dataframe thead th {\n",
              "        text-align: right;\n",
              "    }\n",
              "</style>\n",
              "<table border=\"1\" class=\"dataframe\">\n",
              "  <thead>\n",
              "    <tr style=\"text-align: right;\">\n",
              "      <th></th>\n",
              "      <th>TIPREG</th>\n",
              "      <th>DATPRG</th>\n",
              "      <th>CODBDI</th>\n",
              "      <th>CODNEG</th>\n",
              "      <th>TPMERC</th>\n",
              "      <th>NOMRES</th>\n",
              "      <th>ESPECI</th>\n",
              "      <th>PRAZOT</th>\n",
              "      <th>MODREF</th>\n",
              "      <th>PREABE</th>\n",
              "      <th>PREMAX</th>\n",
              "      <th>PREMIN</th>\n",
              "      <th>PREMED</th>\n",
              "      <th>PREULT</th>\n",
              "      <th>PREOFC</th>\n",
              "      <th>PREOFV</th>\n",
              "      <th>TOTNEG</th>\n",
              "      <th>QUATOT</th>\n",
              "      <th>VOLTOT</th>\n",
              "      <th>PREEXE</th>\n",
              "      <th>INDOPC</th>\n",
              "      <th>DATVEN</th>\n",
              "      <th>FATCOT</th>\n",
              "      <th>PTOEXE</th>\n",
              "      <th>CODISI</th>\n",
              "      <th>DISMES</th>\n",
              "    </tr>\n",
              "  </thead>\n",
              "  <tbody>\n",
              "    <tr>\n",
              "      <th>0</th>\n",
              "      <td>1</td>\n",
              "      <td>2015-01-02</td>\n",
              "      <td>2</td>\n",
              "      <td>AAPL34</td>\n",
              "      <td>10</td>\n",
              "      <td>APPLE</td>\n",
              "      <td>DRN</td>\n",
              "      <td>NaN</td>\n",
              "      <td>R$</td>\n",
              "      <td>29.65</td>\n",
              "      <td>29.65</td>\n",
              "      <td>29.45</td>\n",
              "      <td>29.61</td>\n",
              "      <td>29.45</td>\n",
              "      <td>29.20</td>\n",
              "      <td>0.00</td>\n",
              "      <td>2</td>\n",
              "      <td>32300</td>\n",
              "      <td>9.564350e+05</td>\n",
              "      <td>0.0</td>\n",
              "      <td>0</td>\n",
              "      <td>9999-12-31</td>\n",
              "      <td>1</td>\n",
              "      <td>0</td>\n",
              "      <td>BRAAPLBDR004</td>\n",
              "      <td>111</td>\n",
              "    </tr>\n",
              "    <tr>\n",
              "      <th>1</th>\n",
              "      <td>1</td>\n",
              "      <td>2015-01-02</td>\n",
              "      <td>2</td>\n",
              "      <td>ABCB4</td>\n",
              "      <td>10</td>\n",
              "      <td>ABC BRASIL</td>\n",
              "      <td>PN EJS N2</td>\n",
              "      <td>NaN</td>\n",
              "      <td>R$</td>\n",
              "      <td>12.85</td>\n",
              "      <td>12.85</td>\n",
              "      <td>12.35</td>\n",
              "      <td>12.54</td>\n",
              "      <td>12.55</td>\n",
              "      <td>12.55</td>\n",
              "      <td>12.56</td>\n",
              "      <td>531</td>\n",
              "      <td>117100</td>\n",
              "      <td>1.469337e+06</td>\n",
              "      <td>0.0</td>\n",
              "      <td>0</td>\n",
              "      <td>9999-12-31</td>\n",
              "      <td>1</td>\n",
              "      <td>0</td>\n",
              "      <td>BRABCBACNPR4</td>\n",
              "      <td>123</td>\n",
              "    </tr>\n",
              "    <tr>\n",
              "      <th>2</th>\n",
              "      <td>1</td>\n",
              "      <td>2015-01-02</td>\n",
              "      <td>96</td>\n",
              "      <td>ABCB4F</td>\n",
              "      <td>20</td>\n",
              "      <td>ABC BRASIL</td>\n",
              "      <td>PN EJS N2</td>\n",
              "      <td>NaN</td>\n",
              "      <td>R$</td>\n",
              "      <td>12.83</td>\n",
              "      <td>12.83</td>\n",
              "      <td>12.48</td>\n",
              "      <td>12.69</td>\n",
              "      <td>12.48</td>\n",
              "      <td>12.53</td>\n",
              "      <td>12.86</td>\n",
              "      <td>5</td>\n",
              "      <td>208</td>\n",
              "      <td>2.641260e+03</td>\n",
              "      <td>0.0</td>\n",
              "      <td>0</td>\n",
              "      <td>9999-12-31</td>\n",
              "      <td>1</td>\n",
              "      <td>0</td>\n",
              "      <td>BRABCBACNPR4</td>\n",
              "      <td>123</td>\n",
              "    </tr>\n",
              "    <tr>\n",
              "      <th>3</th>\n",
              "      <td>1</td>\n",
              "      <td>2015-01-02</td>\n",
              "      <td>12</td>\n",
              "      <td>ABCP11</td>\n",
              "      <td>10</td>\n",
              "      <td>FII ABC IMOB</td>\n",
              "      <td>CI ER</td>\n",
              "      <td>NaN</td>\n",
              "      <td>R$</td>\n",
              "      <td>9.72</td>\n",
              "      <td>9.72</td>\n",
              "      <td>8.01</td>\n",
              "      <td>9.64</td>\n",
              "      <td>9.64</td>\n",
              "      <td>9.31</td>\n",
              "      <td>9.64</td>\n",
              "      <td>9</td>\n",
              "      <td>496</td>\n",
              "      <td>4.781490e+03</td>\n",
              "      <td>0.0</td>\n",
              "      <td>0</td>\n",
              "      <td>9999-12-31</td>\n",
              "      <td>1</td>\n",
              "      <td>0</td>\n",
              "      <td>BRABCPCTF000</td>\n",
              "      <td>231</td>\n",
              "    </tr>\n",
              "    <tr>\n",
              "      <th>4</th>\n",
              "      <td>1</td>\n",
              "      <td>2015-01-02</td>\n",
              "      <td>2</td>\n",
              "      <td>ABEV3</td>\n",
              "      <td>10</td>\n",
              "      <td>AMBEV S/A</td>\n",
              "      <td>ON EJ</td>\n",
              "      <td>NaN</td>\n",
              "      <td>R$</td>\n",
              "      <td>16.14</td>\n",
              "      <td>16.56</td>\n",
              "      <td>15.77</td>\n",
              "      <td>16.08</td>\n",
              "      <td>16.01</td>\n",
              "      <td>15.91</td>\n",
              "      <td>16.01</td>\n",
              "      <td>21543</td>\n",
              "      <td>19110800</td>\n",
              "      <td>3.073420e+08</td>\n",
              "      <td>0.0</td>\n",
              "      <td>0</td>\n",
              "      <td>9999-12-31</td>\n",
              "      <td>1</td>\n",
              "      <td>0</td>\n",
              "      <td>BRABEVACNOR1</td>\n",
              "      <td>106</td>\n",
              "    </tr>\n",
              "  </tbody>\n",
              "</table>\n",
              "</div>"
            ],
            "text/plain": [
              "   TIPREG      DATPRG  CODBDI  CODNEG  ...  FATCOT PTOEXE        CODISI  DISMES\n",
              "0       1  2015-01-02       2  AAPL34  ...       1      0  BRAAPLBDR004     111\n",
              "1       1  2015-01-02       2   ABCB4  ...       1      0  BRABCBACNPR4     123\n",
              "2       1  2015-01-02      96  ABCB4F  ...       1      0  BRABCBACNPR4     123\n",
              "3       1  2015-01-02      12  ABCP11  ...       1      0  BRABCPCTF000     231\n",
              "4       1  2015-01-02       2   ABEV3  ...       1      0  BRABEVACNOR1     106\n",
              "\n",
              "[5 rows x 26 columns]"
            ]
          },
          "metadata": {
            "tags": []
          },
          "execution_count": 2
        }
      ]
    },
    {
      "cell_type": "markdown",
      "metadata": {
        "id": "-hQVonIqJKCQ"
      },
      "source": [
        "### Spot data"
      ]
    },
    {
      "cell_type": "code",
      "metadata": {
        "id": "DFtqq0c5JkUM",
        "outputId": "db33a66e-2d6e-401d-b3c0-680005f66700",
        "colab": {
          "base_uri": "https://localhost:8080/",
          "height": 235
        }
      },
      "source": [
        "# Filter data\n",
        "spot = raw_data[raw_data['CODNEG'] == 'VALE3']\n",
        "\n",
        "# Dict to rename the columns\n",
        "dict_ref = {\n",
        "    'DATPRG': 'date',\n",
        "    'PREULT': 'S',\n",
        "    'VOLTOT': 'volume'\n",
        "}\n",
        "\n",
        "# Rename the columns and subset\n",
        "spot = spot.rename(columns=dict_ref)\n",
        "spot = spot[dict_ref.values()]\n",
        "\n",
        "# Format and subset date\n",
        "spot['date'] = pd.to_datetime(spot['date'])\n",
        "spot = spot.sort_values(by='date')\n",
        "spot = spot[spot['date'] < '01-01-2020']\n",
        "spot.index = spot['date']\n",
        "spot = spot.drop(['date'], axis=1)\n",
        "\n",
        "spot.head()"
      ],
      "execution_count": 3,
      "outputs": [
        {
          "output_type": "execute_result",
          "data": {
            "text/html": [
              "<div>\n",
              "<style scoped>\n",
              "    .dataframe tbody tr th:only-of-type {\n",
              "        vertical-align: middle;\n",
              "    }\n",
              "\n",
              "    .dataframe tbody tr th {\n",
              "        vertical-align: top;\n",
              "    }\n",
              "\n",
              "    .dataframe thead th {\n",
              "        text-align: right;\n",
              "    }\n",
              "</style>\n",
              "<table border=\"1\" class=\"dataframe\">\n",
              "  <thead>\n",
              "    <tr style=\"text-align: right;\">\n",
              "      <th></th>\n",
              "      <th>S</th>\n",
              "      <th>volume</th>\n",
              "    </tr>\n",
              "    <tr>\n",
              "      <th>date</th>\n",
              "      <th></th>\n",
              "      <th></th>\n",
              "    </tr>\n",
              "  </thead>\n",
              "  <tbody>\n",
              "    <tr>\n",
              "      <th>2015-01-02</th>\n",
              "      <td>21.28</td>\n",
              "      <td>120672152.0</td>\n",
              "    </tr>\n",
              "    <tr>\n",
              "      <th>2015-01-05</th>\n",
              "      <td>20.96</td>\n",
              "      <td>173776434.0</td>\n",
              "    </tr>\n",
              "    <tr>\n",
              "      <th>2015-01-06</th>\n",
              "      <td>21.80</td>\n",
              "      <td>212788714.0</td>\n",
              "    </tr>\n",
              "    <tr>\n",
              "      <th>2015-01-07</th>\n",
              "      <td>22.60</td>\n",
              "      <td>135618045.0</td>\n",
              "    </tr>\n",
              "    <tr>\n",
              "      <th>2015-01-08</th>\n",
              "      <td>22.84</td>\n",
              "      <td>104941063.0</td>\n",
              "    </tr>\n",
              "  </tbody>\n",
              "</table>\n",
              "</div>"
            ],
            "text/plain": [
              "                S       volume\n",
              "date                          \n",
              "2015-01-02  21.28  120672152.0\n",
              "2015-01-05  20.96  173776434.0\n",
              "2015-01-06  21.80  212788714.0\n",
              "2015-01-07  22.60  135618045.0\n",
              "2015-01-08  22.84  104941063.0"
            ]
          },
          "metadata": {
            "tags": []
          },
          "execution_count": 3
        }
      ]
    },
    {
      "cell_type": "code",
      "metadata": {
        "id": "2RLShs2SGYzB",
        "cellView": "both",
        "outputId": "0247248e-3c51-490b-eee1-dc844ccc5b4b",
        "colab": {
          "base_uri": "https://localhost:8080/",
          "height": 279
        }
      },
      "source": [
        "# Plot\n",
        "fig, ax = plt.subplots(figsize=(20, 4))\n",
        "ax.plot(spot['S'])\n",
        "ax.set_ylabel('Valor R$')\n",
        "ax.set_xlabel('Data')\n",
        "plt.show()"
      ],
      "execution_count": 4,
      "outputs": [
        {
          "output_type": "display_data",
          "data": {
            "image/png": "[encoded data removed]",
            "text/plain": [
              "<Figure size 1440x288 with 1 Axes>"
            ]
          },
          "metadata": {
            "tags": [],
            "needs_background": "light"
          }
        }
      ]
    },
    {
      "cell_type": "markdown",
      "metadata": {
        "id": "NIlNtMESGH-L"
      },
      "source": [
        "## Options"
      ]
    },
    {
      "cell_type": "code",
      "metadata": {
        "id": "0yLA6iURJqg5",
        "outputId": "7ccef907-67cc-4e2c-d2ae-2c5eea54883b",
        "colab": {
          "base_uri": "https://localhost:8080/",
          "height": 235
        }
      },
      "source": [
        "# Dict to rename the columns\n",
        "dict_ref = {\n",
        "    'DATPRG': 'date',\n",
        "    'CODNEG': 'option',\n",
        "    'PREULT': 'value',\n",
        "    'PREEXE': 'X',\n",
        "    'DATVEN': 'expire',\n",
        "    'TPMERC': 'option_type'\n",
        "}\n",
        "\n",
        "# Rename the columns\n",
        "option = raw_data.rename(columns=dict_ref)\n",
        "\n",
        "# Filter\n",
        "option = option[option['option_type'].isin([70, 80])]\n",
        "option = option[option['option'].str.startswith('VALE')]\n",
        "option = option[dict_ref.values()]\n",
        "\n",
        "# Dict symbol type\n",
        "TPMERC = {70: 'call', 80: 'put'}\n",
        "\n",
        "# Replace types\n",
        "option['option_type'] = option['option_type'].replace(TPMERC)\n",
        "\n",
        "workday = pd.DataFrame({'day': option['date'].unique()})\n",
        "workday['day'] = pd.to_datetime(workday['day'])\n",
        "workday = workday.sort_values(by='day')\n",
        "\n",
        "# Create T\n",
        "T = list()\n",
        "\n",
        "for index, row in option.iterrows():\n",
        "    T.append(workday[(workday['day'] >= row.date) & (workday['day'] <= row.expire)].shape[0] - 1)\n",
        "\n",
        "option['T'] = T\n",
        "option['T'] = option['T'] / 252\n",
        "\n",
        "# Format and subset date\n",
        "option['date'] = pd.to_datetime(option['date'])\n",
        "option['expire'] = pd.to_datetime(option['expire'])\n",
        "option = option.sort_values(by='date')\n",
        "\n",
        "# Filter dates\n",
        "option = option[(option['date'] < '01-01-2020') &\n",
        "                (option['expire'] > '2015-01-19') &\n",
        "                (option['expire'] <= '2019-12-16')]\n",
        "\n",
        "option.index = option['date']\n",
        "option = option.drop(['date'], axis=1)\n",
        "\n",
        "option.head()"
      ],
      "execution_count": 5,
      "outputs": [
        {
          "output_type": "execute_result",
          "data": {
            "text/html": [
              "<div>\n",
              "<style scoped>\n",
              "    .dataframe tbody tr th:only-of-type {\n",
              "        vertical-align: middle;\n",
              "    }\n",
              "\n",
              "    .dataframe tbody tr th {\n",
              "        vertical-align: top;\n",
              "    }\n",
              "\n",
              "    .dataframe thead th {\n",
              "        text-align: right;\n",
              "    }\n",
              "</style>\n",
              "<table border=\"1\" class=\"dataframe\">\n",
              "  <thead>\n",
              "    <tr style=\"text-align: right;\">\n",
              "      <th></th>\n",
              "      <th>option</th>\n",
              "      <th>value</th>\n",
              "      <th>X</th>\n",
              "      <th>expire</th>\n",
              "      <th>option_type</th>\n",
              "      <th>T</th>\n",
              "    </tr>\n",
              "    <tr>\n",
              "      <th>date</th>\n",
              "      <th></th>\n",
              "      <th></th>\n",
              "      <th></th>\n",
              "      <th></th>\n",
              "      <th></th>\n",
              "      <th></th>\n",
              "    </tr>\n",
              "  </thead>\n",
              "  <tbody>\n",
              "    <tr>\n",
              "      <th>2015-01-02</th>\n",
              "      <td>VALED16</td>\n",
              "      <td>3.41</td>\n",
              "      <td>16.35</td>\n",
              "      <td>2015-04-20</td>\n",
              "      <td>call</td>\n",
              "      <td>0.289683</td>\n",
              "    </tr>\n",
              "    <tr>\n",
              "      <th>2015-01-02</th>\n",
              "      <td>VALEC76</td>\n",
              "      <td>0.13</td>\n",
              "      <td>23.85</td>\n",
              "      <td>2015-03-16</td>\n",
              "      <td>call</td>\n",
              "      <td>0.194444</td>\n",
              "    </tr>\n",
              "    <tr>\n",
              "      <th>2015-01-02</th>\n",
              "      <td>VALEC52</td>\n",
              "      <td>0.19</td>\n",
              "      <td>22.85</td>\n",
              "      <td>2015-03-16</td>\n",
              "      <td>call</td>\n",
              "      <td>0.194444</td>\n",
              "    </tr>\n",
              "    <tr>\n",
              "      <th>2015-01-02</th>\n",
              "      <td>VALEC51</td>\n",
              "      <td>0.36</td>\n",
              "      <td>21.85</td>\n",
              "      <td>2015-03-16</td>\n",
              "      <td>call</td>\n",
              "      <td>0.194444</td>\n",
              "    </tr>\n",
              "    <tr>\n",
              "      <th>2015-01-02</th>\n",
              "      <td>VALEC26</td>\n",
              "      <td>0.05</td>\n",
              "      <td>25.35</td>\n",
              "      <td>2015-03-16</td>\n",
              "      <td>call</td>\n",
              "      <td>0.194444</td>\n",
              "    </tr>\n",
              "  </tbody>\n",
              "</table>\n",
              "</div>"
            ],
            "text/plain": [
              "             option  value      X     expire option_type         T\n",
              "date                                                              \n",
              "2015-01-02  VALED16   3.41  16.35 2015-04-20        call  0.289683\n",
              "2015-01-02  VALEC76   0.13  23.85 2015-03-16        call  0.194444\n",
              "2015-01-02  VALEC52   0.19  22.85 2015-03-16        call  0.194444\n",
              "2015-01-02  VALEC51   0.36  21.85 2015-03-16        call  0.194444\n",
              "2015-01-02  VALEC26   0.05  25.35 2015-03-16        call  0.194444"
            ]
          },
          "metadata": {
            "tags": []
          },
          "execution_count": 5
        }
      ]
    },
    {
      "cell_type": "code",
      "metadata": {
        "id": "iTjFRNxmrD12",
        "outputId": "59fb666b-cdf2-42af-c663-4ddf85965505",
        "colab": {
          "base_uri": "https://localhost:8080/",
          "height": 450
        }
      },
      "source": [
        "option[['option', 'T']].groupby(['option']).agg({'T': 'count'}).sort_values(by='T')"
      ],
      "execution_count": 10,
      "outputs": [
        {
          "output_type": "execute_result",
          "data": {
            "text/html": [
              "<div>\n",
              "<style scoped>\n",
              "    .dataframe tbody tr th:only-of-type {\n",
              "        vertical-align: middle;\n",
              "    }\n",
              "\n",
              "    .dataframe tbody tr th {\n",
              "        vertical-align: top;\n",
              "    }\n",
              "\n",
              "    .dataframe thead th {\n",
              "        text-align: right;\n",
              "    }\n",
              "</style>\n",
              "<table border=\"1\" class=\"dataframe\">\n",
              "  <thead>\n",
              "    <tr style=\"text-align: right;\">\n",
              "      <th></th>\n",
              "      <th>T</th>\n",
              "    </tr>\n",
              "    <tr>\n",
              "      <th>option</th>\n",
              "      <th></th>\n",
              "    </tr>\n",
              "  </thead>\n",
              "  <tbody>\n",
              "    <tr>\n",
              "      <th>VALEX99</th>\n",
              "      <td>1</td>\n",
              "    </tr>\n",
              "    <tr>\n",
              "      <th>VALET391</th>\n",
              "      <td>1</td>\n",
              "    </tr>\n",
              "    <tr>\n",
              "      <th>VALEK305</th>\n",
              "      <td>1</td>\n",
              "    </tr>\n",
              "    <tr>\n",
              "      <th>VALEK373</th>\n",
              "      <td>1</td>\n",
              "    </tr>\n",
              "    <tr>\n",
              "      <th>VALEX39</th>\n",
              "      <td>1</td>\n",
              "    </tr>\n",
              "    <tr>\n",
              "      <th>...</th>\n",
              "      <td>...</td>\n",
              "    </tr>\n",
              "    <tr>\n",
              "      <th>VALEG19</th>\n",
              "      <td>161</td>\n",
              "    </tr>\n",
              "    <tr>\n",
              "      <th>VALEE23</th>\n",
              "      <td>163</td>\n",
              "    </tr>\n",
              "    <tr>\n",
              "      <th>VALEG18</th>\n",
              "      <td>167</td>\n",
              "    </tr>\n",
              "    <tr>\n",
              "      <th>VALEK60</th>\n",
              "      <td>184</td>\n",
              "    </tr>\n",
              "    <tr>\n",
              "      <th>VALEF14</th>\n",
              "      <td>185</td>\n",
              "    </tr>\n",
              "  </tbody>\n",
              "</table>\n",
              "<p>5329 rows × 1 columns</p>\n",
              "</div>"
            ],
            "text/plain": [
              "            T\n",
              "option       \n",
              "VALEX99     1\n",
              "VALET391    1\n",
              "VALEK305    1\n",
              "VALEK373    1\n",
              "VALEX39     1\n",
              "...       ...\n",
              "VALEG19   161\n",
              "VALEE23   163\n",
              "VALEG18   167\n",
              "VALEK60   184\n",
              "VALEF14   185\n",
              "\n",
              "[5329 rows x 1 columns]"
            ]
          },
          "metadata": {
            "tags": []
          },
          "execution_count": 10
        }
      ]
    },
    {
      "cell_type": "code",
      "metadata": {
        "id": "iuJG1ap_suOP",
        "outputId": "69068b25-c82c-4e94-fcc1-3c3d96249792",
        "colab": {
          "base_uri": "https://localhost:8080/",
          "height": 450
        }
      },
      "source": [
        "option[option['option'] == 'VALEG19']"
      ],
      "execution_count": 13,
      "outputs": [
        {
          "output_type": "execute_result",
          "data": {
            "text/html": [
              "<div>\n",
              "<style scoped>\n",
              "    .dataframe tbody tr th:only-of-type {\n",
              "        vertical-align: middle;\n",
              "    }\n",
              "\n",
              "    .dataframe tbody tr th {\n",
              "        vertical-align: top;\n",
              "    }\n",
              "\n",
              "    .dataframe thead th {\n",
              "        text-align: right;\n",
              "    }\n",
              "</style>\n",
              "<table border=\"1\" class=\"dataframe\">\n",
              "  <thead>\n",
              "    <tr style=\"text-align: right;\">\n",
              "      <th></th>\n",
              "      <th>option</th>\n",
              "      <th>value</th>\n",
              "      <th>X</th>\n",
              "      <th>expire</th>\n",
              "      <th>option_type</th>\n",
              "      <th>T</th>\n",
              "    </tr>\n",
              "    <tr>\n",
              "      <th>date</th>\n",
              "      <th></th>\n",
              "      <th></th>\n",
              "      <th></th>\n",
              "      <th></th>\n",
              "      <th></th>\n",
              "      <th></th>\n",
              "    </tr>\n",
              "  </thead>\n",
              "  <tbody>\n",
              "    <tr>\n",
              "      <th>2015-02-09</th>\n",
              "      <td>VALEG19</td>\n",
              "      <td>1.54</td>\n",
              "      <td>19.11</td>\n",
              "      <td>2015-07-20</td>\n",
              "      <td>call</td>\n",
              "      <td>0.428571</td>\n",
              "    </tr>\n",
              "    <tr>\n",
              "      <th>2015-02-12</th>\n",
              "      <td>VALEG19</td>\n",
              "      <td>1.90</td>\n",
              "      <td>19.11</td>\n",
              "      <td>2015-07-20</td>\n",
              "      <td>call</td>\n",
              "      <td>0.416667</td>\n",
              "    </tr>\n",
              "    <tr>\n",
              "      <th>2015-02-20</th>\n",
              "      <td>VALEG19</td>\n",
              "      <td>2.25</td>\n",
              "      <td>19.11</td>\n",
              "      <td>2015-07-20</td>\n",
              "      <td>call</td>\n",
              "      <td>0.400794</td>\n",
              "    </tr>\n",
              "    <tr>\n",
              "      <th>2015-03-10</th>\n",
              "      <td>VALEG19</td>\n",
              "      <td>0.75</td>\n",
              "      <td>19.11</td>\n",
              "      <td>2015-07-20</td>\n",
              "      <td>call</td>\n",
              "      <td>0.353175</td>\n",
              "    </tr>\n",
              "    <tr>\n",
              "      <th>2015-03-12</th>\n",
              "      <td>VALEG19</td>\n",
              "      <td>0.60</td>\n",
              "      <td>19.11</td>\n",
              "      <td>2015-07-20</td>\n",
              "      <td>call</td>\n",
              "      <td>0.345238</td>\n",
              "    </tr>\n",
              "    <tr>\n",
              "      <th>...</th>\n",
              "      <td>...</td>\n",
              "      <td>...</td>\n",
              "      <td>...</td>\n",
              "      <td>...</td>\n",
              "      <td>...</td>\n",
              "      <td>...</td>\n",
              "    </tr>\n",
              "    <tr>\n",
              "      <th>2017-07-10</th>\n",
              "      <td>VALEG19</td>\n",
              "      <td>0.92</td>\n",
              "      <td>26.97</td>\n",
              "      <td>2017-07-17</td>\n",
              "      <td>call</td>\n",
              "      <td>0.019841</td>\n",
              "    </tr>\n",
              "    <tr>\n",
              "      <th>2017-07-11</th>\n",
              "      <td>VALEG19</td>\n",
              "      <td>1.20</td>\n",
              "      <td>26.97</td>\n",
              "      <td>2017-07-17</td>\n",
              "      <td>call</td>\n",
              "      <td>0.015873</td>\n",
              "    </tr>\n",
              "    <tr>\n",
              "      <th>2017-07-12</th>\n",
              "      <td>VALEG19</td>\n",
              "      <td>1.19</td>\n",
              "      <td>26.97</td>\n",
              "      <td>2017-07-17</td>\n",
              "      <td>call</td>\n",
              "      <td>0.011905</td>\n",
              "    </tr>\n",
              "    <tr>\n",
              "      <th>2017-07-13</th>\n",
              "      <td>VALEG19</td>\n",
              "      <td>0.60</td>\n",
              "      <td>26.97</td>\n",
              "      <td>2017-07-17</td>\n",
              "      <td>call</td>\n",
              "      <td>0.007937</td>\n",
              "    </tr>\n",
              "    <tr>\n",
              "      <th>2017-07-14</th>\n",
              "      <td>VALEG19</td>\n",
              "      <td>0.89</td>\n",
              "      <td>26.97</td>\n",
              "      <td>2017-07-17</td>\n",
              "      <td>call</td>\n",
              "      <td>0.003968</td>\n",
              "    </tr>\n",
              "  </tbody>\n",
              "</table>\n",
              "<p>161 rows × 6 columns</p>\n",
              "</div>"
            ],
            "text/plain": [
              "             option  value      X     expire option_type         T\n",
              "date                                                              \n",
              "2015-02-09  VALEG19   1.54  19.11 2015-07-20        call  0.428571\n",
              "2015-02-12  VALEG19   1.90  19.11 2015-07-20        call  0.416667\n",
              "2015-02-20  VALEG19   2.25  19.11 2015-07-20        call  0.400794\n",
              "2015-03-10  VALEG19   0.75  19.11 2015-07-20        call  0.353175\n",
              "2015-03-12  VALEG19   0.60  19.11 2015-07-20        call  0.345238\n",
              "...             ...    ...    ...        ...         ...       ...\n",
              "2017-07-10  VALEG19   0.92  26.97 2017-07-17        call  0.019841\n",
              "2017-07-11  VALEG19   1.20  26.97 2017-07-17        call  0.015873\n",
              "2017-07-12  VALEG19   1.19  26.97 2017-07-17        call  0.011905\n",
              "2017-07-13  VALEG19   0.60  26.97 2017-07-17        call  0.007937\n",
              "2017-07-14  VALEG19   0.89  26.97 2017-07-17        call  0.003968\n",
              "\n",
              "[161 rows x 6 columns]"
            ]
          },
          "metadata": {
            "tags": []
          },
          "execution_count": 13
        }
      ]
    },
    {
      "cell_type": "code",
      "metadata": {
        "id": "sITHdTpPXg9G",
        "outputId": "7c409fe5-a8ac-444f-c407-a94f17acb224",
        "colab": {
          "base_uri": "https://localhost:8080/",
          "height": 308
        }
      },
      "source": [
        "# Plot\n",
        "fig, ax = plt.subplots(figsize=(20, 4))\n",
        "fig.suptitle('Option VALEG19')\n",
        "ax.plot(option.loc[(option['option'] == 'VALEG19') & (option['expire'] == '2017-07-17'), 'value'])\n",
        "ax.set_ylabel('Valor R$')\n",
        "ax.set_xlabel('Data')\n",
        "plt.show()"
      ],
      "execution_count": 14,
      "outputs": [
        {
          "output_type": "display_data",
          "data": {
            "image/png": "[encoded data removed]",
            "text/plain": [
              "<Figure size 1440x288 with 1 Axes>"
            ]
          },
          "metadata": {
            "tags": [],
            "needs_background": "light"
          }
        }
      ]
    },
    {
      "cell_type": "markdown",
      "metadata": {
        "id": "uickV9NHIeVu"
      },
      "source": [
        "## CDI"
      ]
    },
    {
      "cell_type": "code",
      "metadata": {
        "id": "_VCr7vK_Ifvp"
      },
      "source": [
        "cdi = pd.read_csv('/content/drive/My Drive/Datasets/cdi.csv', usecols=['date', 'cdi'])\n",
        "\n",
        "# # Format and subset date\n",
        "cdi['date'] = pd.to_datetime(cdi['date'], format='%d/%m/%y')\n",
        "cdi = cdi.sort_values(by='date')\n",
        "\n",
        "# Filter using the first date\n",
        "cdi = cdi[cdi['date'].dt.month != cdi['date'].dt.month.shift(1)]"
      ],
      "execution_count": 15,
      "outputs": []
    },
    {
      "cell_type": "code",
      "metadata": {
        "id": "DeAhHKBLM-7s"
      },
      "source": [
        "# Create date range\n",
        "date = pd.DataFrame({'date': pd.date_range(start='1/1/2015', end='12/31/2020')})\n",
        "\n",
        "# Merge with cdi\n",
        "date = date.merge(right=cdi, how='left', on='date')\n",
        "\n",
        "# Fill Nan\n",
        "date['cdi'] = date['cdi'].fillna(method='ffill')\n",
        "cdi = date.dropna()"
      ],
      "execution_count": 16,
      "outputs": []
    },
    {
      "cell_type": "code",
      "metadata": {
        "id": "PBNLOTreNoAg",
        "outputId": "11416e97-228d-4225-e026-733d5085d718",
        "colab": {
          "base_uri": "https://localhost:8080/",
          "height": 235
        }
      },
      "source": [
        "# Create index\n",
        "cdi = cdi.rename(columns={'cdi': 'r'})\n",
        "cdi = cdi[cdi['date'] < '01-01-2020']\n",
        "cdi.index = cdi['date']\n",
        "cdi = cdi.drop(['date'], axis=1)\n",
        "cdi.head()"
      ],
      "execution_count": 17,
      "outputs": [
        {
          "output_type": "execute_result",
          "data": {
            "text/html": [
              "<div>\n",
              "<style scoped>\n",
              "    .dataframe tbody tr th:only-of-type {\n",
              "        vertical-align: middle;\n",
              "    }\n",
              "\n",
              "    .dataframe tbody tr th {\n",
              "        vertical-align: top;\n",
              "    }\n",
              "\n",
              "    .dataframe thead th {\n",
              "        text-align: right;\n",
              "    }\n",
              "</style>\n",
              "<table border=\"1\" class=\"dataframe\">\n",
              "  <thead>\n",
              "    <tr style=\"text-align: right;\">\n",
              "      <th></th>\n",
              "      <th>r</th>\n",
              "    </tr>\n",
              "    <tr>\n",
              "      <th>date</th>\n",
              "      <th></th>\n",
              "    </tr>\n",
              "  </thead>\n",
              "  <tbody>\n",
              "    <tr>\n",
              "      <th>2015-01-02</th>\n",
              "      <td>11.57</td>\n",
              "    </tr>\n",
              "    <tr>\n",
              "      <th>2015-01-03</th>\n",
              "      <td>11.57</td>\n",
              "    </tr>\n",
              "    <tr>\n",
              "      <th>2015-01-04</th>\n",
              "      <td>11.57</td>\n",
              "    </tr>\n",
              "    <tr>\n",
              "      <th>2015-01-05</th>\n",
              "      <td>11.57</td>\n",
              "    </tr>\n",
              "    <tr>\n",
              "      <th>2015-01-06</th>\n",
              "      <td>11.57</td>\n",
              "    </tr>\n",
              "  </tbody>\n",
              "</table>\n",
              "</div>"
            ],
            "text/plain": [
              "                r\n",
              "date             \n",
              "2015-01-02  11.57\n",
              "2015-01-03  11.57\n",
              "2015-01-04  11.57\n",
              "2015-01-05  11.57\n",
              "2015-01-06  11.57"
            ]
          },
          "metadata": {
            "tags": []
          },
          "execution_count": 17
        }
      ]
    },
    {
      "cell_type": "code",
      "metadata": {
        "id": "9JADQq-PJPks",
        "outputId": "24f4c810-db66-45f6-89b8-b3190f3ee73e",
        "colab": {
          "base_uri": "https://localhost:8080/",
          "height": 283
        }
      },
      "source": [
        "fig, ax = plt.subplots(figsize=(20, 4))\n",
        "ax.plot(cdi)\n",
        "ax.set_ylabel('Taxa de Juros (%)')\n",
        "ax.set_ylim(3, 16)\n",
        "ax.set_xlabel('Data')\n",
        "plt.show()"
      ],
      "execution_count": 18,
      "outputs": [
        {
          "output_type": "display_data",
          "data": {
            "image/png": "[encoded data removed]",
            "text/plain": [
              "<Figure size 1440x288 with 1 Axes>"
            ]
          },
          "metadata": {
            "tags": [],
            "needs_background": "light"
          }
        }
      ]
    },
    {
      "cell_type": "markdown",
      "metadata": {
        "id": "lnE_mAyjY8VF"
      },
      "source": [
        "## Data Merge"
      ]
    },
    {
      "cell_type": "code",
      "metadata": {
        "id": "83RAAQxdY7tP",
        "outputId": "6d13c73c-ef0c-4842-bff5-4b60d99cf1e6",
        "colab": {
          "base_uri": "https://localhost:8080/",
          "height": 235
        }
      },
      "source": [
        "# Merge data\n",
        "data = option.merge(right=spot, right_index=True, left_index=True)\n",
        "data = data.merge(right=cdi, right_index=True, left_index=True)\n",
        "data.head()"
      ],
      "execution_count": 19,
      "outputs": [
        {
          "output_type": "execute_result",
          "data": {
            "text/html": [
              "<div>\n",
              "<style scoped>\n",
              "    .dataframe tbody tr th:only-of-type {\n",
              "        vertical-align: middle;\n",
              "    }\n",
              "\n",
              "    .dataframe tbody tr th {\n",
              "        vertical-align: top;\n",
              "    }\n",
              "\n",
              "    .dataframe thead th {\n",
              "        text-align: right;\n",
              "    }\n",
              "</style>\n",
              "<table border=\"1\" class=\"dataframe\">\n",
              "  <thead>\n",
              "    <tr style=\"text-align: right;\">\n",
              "      <th></th>\n",
              "      <th>option</th>\n",
              "      <th>value</th>\n",
              "      <th>X</th>\n",
              "      <th>expire</th>\n",
              "      <th>option_type</th>\n",
              "      <th>T</th>\n",
              "      <th>S</th>\n",
              "      <th>volume</th>\n",
              "      <th>r</th>\n",
              "    </tr>\n",
              "    <tr>\n",
              "      <th>date</th>\n",
              "      <th></th>\n",
              "      <th></th>\n",
              "      <th></th>\n",
              "      <th></th>\n",
              "      <th></th>\n",
              "      <th></th>\n",
              "      <th></th>\n",
              "      <th></th>\n",
              "      <th></th>\n",
              "    </tr>\n",
              "  </thead>\n",
              "  <tbody>\n",
              "    <tr>\n",
              "      <th>2015-01-02</th>\n",
              "      <td>VALED16</td>\n",
              "      <td>3.41</td>\n",
              "      <td>16.35</td>\n",
              "      <td>2015-04-20</td>\n",
              "      <td>call</td>\n",
              "      <td>0.289683</td>\n",
              "      <td>21.28</td>\n",
              "      <td>120672152.0</td>\n",
              "      <td>11.57</td>\n",
              "    </tr>\n",
              "    <tr>\n",
              "      <th>2015-01-02</th>\n",
              "      <td>VALEC76</td>\n",
              "      <td>0.13</td>\n",
              "      <td>23.85</td>\n",
              "      <td>2015-03-16</td>\n",
              "      <td>call</td>\n",
              "      <td>0.194444</td>\n",
              "      <td>21.28</td>\n",
              "      <td>120672152.0</td>\n",
              "      <td>11.57</td>\n",
              "    </tr>\n",
              "    <tr>\n",
              "      <th>2015-01-02</th>\n",
              "      <td>VALEC52</td>\n",
              "      <td>0.19</td>\n",
              "      <td>22.85</td>\n",
              "      <td>2015-03-16</td>\n",
              "      <td>call</td>\n",
              "      <td>0.194444</td>\n",
              "      <td>21.28</td>\n",
              "      <td>120672152.0</td>\n",
              "      <td>11.57</td>\n",
              "    </tr>\n",
              "    <tr>\n",
              "      <th>2015-01-02</th>\n",
              "      <td>VALEC51</td>\n",
              "      <td>0.36</td>\n",
              "      <td>21.85</td>\n",
              "      <td>2015-03-16</td>\n",
              "      <td>call</td>\n",
              "      <td>0.194444</td>\n",
              "      <td>21.28</td>\n",
              "      <td>120672152.0</td>\n",
              "      <td>11.57</td>\n",
              "    </tr>\n",
              "    <tr>\n",
              "      <th>2015-01-02</th>\n",
              "      <td>VALEC26</td>\n",
              "      <td>0.05</td>\n",
              "      <td>25.35</td>\n",
              "      <td>2015-03-16</td>\n",
              "      <td>call</td>\n",
              "      <td>0.194444</td>\n",
              "      <td>21.28</td>\n",
              "      <td>120672152.0</td>\n",
              "      <td>11.57</td>\n",
              "    </tr>\n",
              "  </tbody>\n",
              "</table>\n",
              "</div>"
            ],
            "text/plain": [
              "             option  value      X  ...      S       volume      r\n",
              "date                               ...                           \n",
              "2015-01-02  VALED16   3.41  16.35  ...  21.28  120672152.0  11.57\n",
              "2015-01-02  VALEC76   0.13  23.85  ...  21.28  120672152.0  11.57\n",
              "2015-01-02  VALEC52   0.19  22.85  ...  21.28  120672152.0  11.57\n",
              "2015-01-02  VALEC51   0.36  21.85  ...  21.28  120672152.0  11.57\n",
              "2015-01-02  VALEC26   0.05  25.35  ...  21.28  120672152.0  11.57\n",
              "\n",
              "[5 rows x 9 columns]"
            ]
          },
          "metadata": {
            "tags": []
          },
          "execution_count": 19
        }
      ]
    },
    {
      "cell_type": "code",
      "metadata": {
        "id": "FmVC8Hx8Z0Hh",
        "outputId": "9218f5aa-035e-4a8d-ffa7-3426f286a3a9",
        "colab": {
          "base_uri": "https://localhost:8080/",
          "height": 308
        }
      },
      "source": [
        "# Plot\n",
        "fig, ax = plt.subplots(figsize=(20, 4))\n",
        "fig.suptitle('Option VALEG19')\n",
        "ax.plot(data.loc[(option['option'] == 'VALEG19') & (option['expire'] == '2017-07-17'), 'value'], label='Option')\n",
        "ax.plot(data.loc[(option['option'] == 'VALEG19') & (option['expire'] == '2017-07-17'), 'S'], label='Spot')\n",
        "ax.plot(data.loc[(option['option'] == 'VALEG19') & (option['expire'] == '2017-07-17'), 'X'], label='Strike')\n",
        "ax.set_ylabel('Valor R$')\n",
        "ax.set_xlabel('Data')\n",
        "ax.legend()\n",
        "plt.show()"
      ],
      "execution_count": 20,
      "outputs": [
        {
          "output_type": "display_data",
          "data": {
            "image/png": "[encoded data removed]",
            "text/plain": [
              "<Figure size 1440x288 with 1 Axes>"
            ]
          },
          "metadata": {
            "tags": [],
            "needs_background": "light"
          }
        }
      ]
    },
    {
      "cell_type": "code",
      "metadata": {
        "id": "QDIOdDBvBDD3",
        "outputId": "4f1d25e2-5ee9-43c4-eea2-9ea0bdd2e6d4",
        "colab": {
          "base_uri": "https://localhost:8080/",
          "height": 450
        }
      },
      "source": [
        "data"
      ],
      "execution_count": 21,
      "outputs": [
        {
          "output_type": "execute_result",
          "data": {
            "text/html": [
              "<div>\n",
              "<style scoped>\n",
              "    .dataframe tbody tr th:only-of-type {\n",
              "        vertical-align: middle;\n",
              "    }\n",
              "\n",
              "    .dataframe tbody tr th {\n",
              "        vertical-align: top;\n",
              "    }\n",
              "\n",
              "    .dataframe thead th {\n",
              "        text-align: right;\n",
              "    }\n",
              "</style>\n",
              "<table border=\"1\" class=\"dataframe\">\n",
              "  <thead>\n",
              "    <tr style=\"text-align: right;\">\n",
              "      <th></th>\n",
              "      <th>option</th>\n",
              "      <th>value</th>\n",
              "      <th>X</th>\n",
              "      <th>expire</th>\n",
              "      <th>option_type</th>\n",
              "      <th>T</th>\n",
              "      <th>S</th>\n",
              "      <th>volume</th>\n",
              "      <th>r</th>\n",
              "    </tr>\n",
              "    <tr>\n",
              "      <th>date</th>\n",
              "      <th></th>\n",
              "      <th></th>\n",
              "      <th></th>\n",
              "      <th></th>\n",
              "      <th></th>\n",
              "      <th></th>\n",
              "      <th></th>\n",
              "      <th></th>\n",
              "      <th></th>\n",
              "    </tr>\n",
              "  </thead>\n",
              "  <tbody>\n",
              "    <tr>\n",
              "      <th>2015-01-02</th>\n",
              "      <td>VALED16</td>\n",
              "      <td>3.41</td>\n",
              "      <td>16.35</td>\n",
              "      <td>2015-04-20</td>\n",
              "      <td>call</td>\n",
              "      <td>0.289683</td>\n",
              "      <td>21.28</td>\n",
              "      <td>1.206722e+08</td>\n",
              "      <td>11.57</td>\n",
              "    </tr>\n",
              "    <tr>\n",
              "      <th>2015-01-02</th>\n",
              "      <td>VALEC76</td>\n",
              "      <td>0.13</td>\n",
              "      <td>23.85</td>\n",
              "      <td>2015-03-16</td>\n",
              "      <td>call</td>\n",
              "      <td>0.194444</td>\n",
              "      <td>21.28</td>\n",
              "      <td>1.206722e+08</td>\n",
              "      <td>11.57</td>\n",
              "    </tr>\n",
              "    <tr>\n",
              "      <th>2015-01-02</th>\n",
              "      <td>VALEC52</td>\n",
              "      <td>0.19</td>\n",
              "      <td>22.85</td>\n",
              "      <td>2015-03-16</td>\n",
              "      <td>call</td>\n",
              "      <td>0.194444</td>\n",
              "      <td>21.28</td>\n",
              "      <td>1.206722e+08</td>\n",
              "      <td>11.57</td>\n",
              "    </tr>\n",
              "    <tr>\n",
              "      <th>2015-01-02</th>\n",
              "      <td>VALEC51</td>\n",
              "      <td>0.36</td>\n",
              "      <td>21.85</td>\n",
              "      <td>2015-03-16</td>\n",
              "      <td>call</td>\n",
              "      <td>0.194444</td>\n",
              "      <td>21.28</td>\n",
              "      <td>1.206722e+08</td>\n",
              "      <td>11.57</td>\n",
              "    </tr>\n",
              "    <tr>\n",
              "      <th>2015-01-02</th>\n",
              "      <td>VALEC26</td>\n",
              "      <td>0.05</td>\n",
              "      <td>25.35</td>\n",
              "      <td>2015-03-16</td>\n",
              "      <td>call</td>\n",
              "      <td>0.194444</td>\n",
              "      <td>21.28</td>\n",
              "      <td>1.206722e+08</td>\n",
              "      <td>11.57</td>\n",
              "    </tr>\n",
              "    <tr>\n",
              "      <th>...</th>\n",
              "      <td>...</td>\n",
              "      <td>...</td>\n",
              "      <td>...</td>\n",
              "      <td>...</td>\n",
              "      <td>...</td>\n",
              "      <td>...</td>\n",
              "      <td>...</td>\n",
              "      <td>...</td>\n",
              "      <td>...</td>\n",
              "    </tr>\n",
              "    <tr>\n",
              "      <th>2019-12-13</th>\n",
              "      <td>VALEX465</td>\n",
              "      <td>0.01</td>\n",
              "      <td>46.55</td>\n",
              "      <td>2019-12-16</td>\n",
              "      <td>put</td>\n",
              "      <td>0.003968</td>\n",
              "      <td>53.76</td>\n",
              "      <td>1.506382e+09</td>\n",
              "      <td>4.90</td>\n",
              "    </tr>\n",
              "    <tr>\n",
              "      <th>2019-12-13</th>\n",
              "      <td>VALEX580</td>\n",
              "      <td>4.67</td>\n",
              "      <td>58.05</td>\n",
              "      <td>2019-12-16</td>\n",
              "      <td>put</td>\n",
              "      <td>0.003968</td>\n",
              "      <td>53.76</td>\n",
              "      <td>1.506382e+09</td>\n",
              "      <td>4.90</td>\n",
              "    </tr>\n",
              "    <tr>\n",
              "      <th>2019-12-13</th>\n",
              "      <td>VALEX480</td>\n",
              "      <td>0.01</td>\n",
              "      <td>48.05</td>\n",
              "      <td>2019-12-16</td>\n",
              "      <td>put</td>\n",
              "      <td>0.003968</td>\n",
              "      <td>53.76</td>\n",
              "      <td>1.506382e+09</td>\n",
              "      <td>4.90</td>\n",
              "    </tr>\n",
              "    <tr>\n",
              "      <th>2019-12-13</th>\n",
              "      <td>VALEX570</td>\n",
              "      <td>3.85</td>\n",
              "      <td>57.05</td>\n",
              "      <td>2019-12-16</td>\n",
              "      <td>put</td>\n",
              "      <td>0.003968</td>\n",
              "      <td>53.76</td>\n",
              "      <td>1.506382e+09</td>\n",
              "      <td>4.90</td>\n",
              "    </tr>\n",
              "    <tr>\n",
              "      <th>2019-12-13</th>\n",
              "      <td>VALEX510</td>\n",
              "      <td>0.01</td>\n",
              "      <td>51.05</td>\n",
              "      <td>2019-12-16</td>\n",
              "      <td>put</td>\n",
              "      <td>0.003968</td>\n",
              "      <td>53.76</td>\n",
              "      <td>1.506382e+09</td>\n",
              "      <td>4.90</td>\n",
              "    </tr>\n",
              "  </tbody>\n",
              "</table>\n",
              "<p>196573 rows × 9 columns</p>\n",
              "</div>"
            ],
            "text/plain": [
              "              option  value      X  ...      S        volume      r\n",
              "date                                ...                            \n",
              "2015-01-02   VALED16   3.41  16.35  ...  21.28  1.206722e+08  11.57\n",
              "2015-01-02   VALEC76   0.13  23.85  ...  21.28  1.206722e+08  11.57\n",
              "2015-01-02   VALEC52   0.19  22.85  ...  21.28  1.206722e+08  11.57\n",
              "2015-01-02   VALEC51   0.36  21.85  ...  21.28  1.206722e+08  11.57\n",
              "2015-01-02   VALEC26   0.05  25.35  ...  21.28  1.206722e+08  11.57\n",
              "...              ...    ...    ...  ...    ...           ...    ...\n",
              "2019-12-13  VALEX465   0.01  46.55  ...  53.76  1.506382e+09   4.90\n",
              "2019-12-13  VALEX580   4.67  58.05  ...  53.76  1.506382e+09   4.90\n",
              "2019-12-13  VALEX480   0.01  48.05  ...  53.76  1.506382e+09   4.90\n",
              "2019-12-13  VALEX570   3.85  57.05  ...  53.76  1.506382e+09   4.90\n",
              "2019-12-13  VALEX510   0.01  51.05  ...  53.76  1.506382e+09   4.90\n",
              "\n",
              "[196573 rows x 9 columns]"
            ]
          },
          "metadata": {
            "tags": []
          },
          "execution_count": 21
        }
      ]
    },
    {
      "cell_type": "markdown",
      "metadata": {
        "id": "BvSWhPZVZpk9"
      },
      "source": [
        "# GARCH (1,1)"
      ]
    },
    {
      "cell_type": "code",
      "metadata": {
        "id": "2cUve3maUH-j",
        "outputId": "a4495349-1ef7-4d90-e94e-597878a63b28",
        "colab": {
          "base_uri": "https://localhost:8080/",
          "height": 309
        }
      },
      "source": [
        "!pip install arch"
      ],
      "execution_count": 22,
      "outputs": [
        {
          "output_type": "stream",
          "text": [
            "Collecting arch\n",
            "\u001b[?25l  Downloading https://files.pythonhosted.org/packages/7f/5c/ef80e96f2cdc6c2d293b7e4688888a4428963c966fbb0c749c9078e68bb6/arch-4.15-cp36-cp36m-manylinux1_x86_64.whl (790kB)\n",
            "\u001b[K     |████████████████████████████████| 798kB 2.8MB/s \n",
            "\u001b[?25hCollecting property-cached>=1.6.3\n",
            "  Downloading https://files.pythonhosted.org/packages/5c/6c/94d8e520b20a2502e508e1c558f338061cf409cbee78fd6a3a5c6ae812bd/property_cached-1.6.4-py2.py3-none-any.whl\n",
            "Requirement already satisfied: cython>=0.29.14 in /usr/local/lib/python3.6/dist-packages (from arch) (0.29.21)\n",
            "Requirement already satisfied: scipy>=1.0.1 in /usr/local/lib/python3.6/dist-packages (from arch) (1.4.1)\n",
            "Requirement already satisfied: numpy>=1.14 in /usr/local/lib/python3.6/dist-packages (from arch) (1.18.5)\n",
            "Requirement already satisfied: pandas>=0.23 in /usr/local/lib/python3.6/dist-packages (from arch) (1.1.3)\n",
            "Requirement already satisfied: statsmodels>=0.9 in /usr/local/lib/python3.6/dist-packages (from arch) (0.10.2)\n",
            "Requirement already satisfied: python-dateutil>=2.7.3 in /usr/local/lib/python3.6/dist-packages (from pandas>=0.23->arch) (2.8.1)\n",
            "Requirement already satisfied: pytz>=2017.2 in /usr/local/lib/python3.6/dist-packages (from pandas>=0.23->arch) (2018.9)\n",
            "Requirement already satisfied: patsy>=0.4.0 in /usr/local/lib/python3.6/dist-packages (from statsmodels>=0.9->arch) (0.5.1)\n",
            "Requirement already satisfied: six>=1.5 in /usr/local/lib/python3.6/dist-packages (from python-dateutil>=2.7.3->pandas>=0.23->arch) (1.15.0)\n",
            "Installing collected packages: property-cached, arch\n",
            "Successfully installed arch-4.15 property-cached-1.6.4\n"
          ],
          "name": "stdout"
        }
      ]
    },
    {
      "cell_type": "markdown",
      "metadata": {
        "id": "vE6OmO7yCdHN"
      },
      "source": [
        "## Returns\n",
        "Retornos Diários = $\\ln\\left(\\dfrac{S_{i}}{S_{i-1}}\\right) \\cong  \\left(\\dfrac{S_{i} - S_{i-1}}{S_{i-1}}\\right)$ \n",
        "\n",
        "\n",
        "Variância =  $\\sigma^{2}_{n} = \\dfrac{1}{m} \\sum^{m}_{i=1} u_{n}^2$"
      ]
    },
    {
      "cell_type": "code",
      "metadata": {
        "id": "QWOCTwoTCAbs",
        "cellView": "both",
        "outputId": "13d7509e-c8d2-4f00-f492-a845b0e895af",
        "colab": {
          "base_uri": "https://localhost:8080/",
          "height": 235
        }
      },
      "source": [
        "spot['return'] = np.log(spot['S'] / spot['S'].shift(1))\n",
        "spot = spot.dropna()\n",
        "spot['var'] = spot['return']**2\n",
        "spot.head()"
      ],
      "execution_count": 23,
      "outputs": [
        {
          "output_type": "execute_result",
          "data": {
            "text/html": [
              "<div>\n",
              "<style scoped>\n",
              "    .dataframe tbody tr th:only-of-type {\n",
              "        vertical-align: middle;\n",
              "    }\n",
              "\n",
              "    .dataframe tbody tr th {\n",
              "        vertical-align: top;\n",
              "    }\n",
              "\n",
              "    .dataframe thead th {\n",
              "        text-align: right;\n",
              "    }\n",
              "</style>\n",
              "<table border=\"1\" class=\"dataframe\">\n",
              "  <thead>\n",
              "    <tr style=\"text-align: right;\">\n",
              "      <th></th>\n",
              "      <th>S</th>\n",
              "      <th>volume</th>\n",
              "      <th>return</th>\n",
              "      <th>var</th>\n",
              "    </tr>\n",
              "    <tr>\n",
              "      <th>date</th>\n",
              "      <th></th>\n",
              "      <th></th>\n",
              "      <th></th>\n",
              "      <th></th>\n",
              "    </tr>\n",
              "  </thead>\n",
              "  <tbody>\n",
              "    <tr>\n",
              "      <th>2015-01-05</th>\n",
              "      <td>20.96</td>\n",
              "      <td>173776434.0</td>\n",
              "      <td>-0.015152</td>\n",
              "      <td>0.000230</td>\n",
              "    </tr>\n",
              "    <tr>\n",
              "      <th>2015-01-06</th>\n",
              "      <td>21.80</td>\n",
              "      <td>212788714.0</td>\n",
              "      <td>0.039294</td>\n",
              "      <td>0.001544</td>\n",
              "    </tr>\n",
              "    <tr>\n",
              "      <th>2015-01-07</th>\n",
              "      <td>22.60</td>\n",
              "      <td>135618045.0</td>\n",
              "      <td>0.036040</td>\n",
              "      <td>0.001299</td>\n",
              "    </tr>\n",
              "    <tr>\n",
              "      <th>2015-01-08</th>\n",
              "      <td>22.84</td>\n",
              "      <td>104941063.0</td>\n",
              "      <td>0.010563</td>\n",
              "      <td>0.000112</td>\n",
              "    </tr>\n",
              "    <tr>\n",
              "      <th>2015-01-09</th>\n",
              "      <td>22.35</td>\n",
              "      <td>80426260.0</td>\n",
              "      <td>-0.021687</td>\n",
              "      <td>0.000470</td>\n",
              "    </tr>\n",
              "  </tbody>\n",
              "</table>\n",
              "</div>"
            ],
            "text/plain": [
              "                S       volume    return       var\n",
              "date                                              \n",
              "2015-01-05  20.96  173776434.0 -0.015152  0.000230\n",
              "2015-01-06  21.80  212788714.0  0.039294  0.001544\n",
              "2015-01-07  22.60  135618045.0  0.036040  0.001299\n",
              "2015-01-08  22.84  104941063.0  0.010563  0.000112\n",
              "2015-01-09  22.35   80426260.0 -0.021687  0.000470"
            ]
          },
          "metadata": {
            "tags": []
          },
          "execution_count": 23
        }
      ]
    },
    {
      "cell_type": "code",
      "metadata": {
        "id": "_aTEr86yI-xo",
        "cellView": "both",
        "outputId": "ed4c1adf-f4fd-4eb6-b873-10edff855376",
        "colab": {
          "base_uri": "https://localhost:8080/",
          "height": 279
        }
      },
      "source": [
        "fig, ax = plt.subplots(figsize=(20, 4))\n",
        "ax.plot(spot['return'])\n",
        "ax.set_ylabel('Retorno')\n",
        "ax.set_xlabel('Data')\n",
        "plt.show()"
      ],
      "execution_count": 24,
      "outputs": [
        {
          "output_type": "display_data",
          "data": {
            "image/png": "[encoded data removed]",
            "text/plain": [
              "<Figure size 1440x288 with 1 Axes>"
            ]
          },
          "metadata": {
            "tags": [],
            "needs_background": "light"
          }
        }
      ]
    },
    {
      "cell_type": "markdown",
      "metadata": {
        "id": "bF_1VyhuZ1Xo"
      },
      "source": [
        "## GARCH (with a Constant Mean)"
      ]
    },
    {
      "cell_type": "code",
      "metadata": {
        "id": "dnIIs4QARaLe",
        "outputId": "637e3d32-a4fb-48c6-d7c6-2039a3b7d28d",
        "colab": {
          "base_uri": "https://localhost:8080/",
          "height": 561
        }
      },
      "source": [
        "from arch import arch_model\n",
        "\n",
        "am = arch_model(spot['return'], p=1, o=0, q=1)\n",
        "res = am.fit(update_freq=5)\n",
        "garch = res.conditional_volatility * math.sqrt(252) * 100\n",
        "garch = garch.rename(\"sigma\")\n",
        "print(res.summary())"
      ],
      "execution_count": 25,
      "outputs": [
        {
          "output_type": "stream",
          "text": [
            "Iteration:      5,   Func. Count:     47,   Neg. LLF: -2615.3345754043685\n",
            "Iteration:     10,   Func. Count:     83,   Neg. LLF: -2616.5329632350813\n",
            "Optimization terminated successfully.    (Exit mode 0)\n",
            "            Current function value: -2616.5402333216234\n",
            "            Iterations: 12\n",
            "            Function evaluations: 108\n",
            "            Gradient evaluations: 12\n",
            "                     Constant Mean - GARCH Model Results                      \n",
            "==============================================================================\n",
            "Dep. Variable:                 return   R-squared:                      -0.000\n",
            "Mean Model:             Constant Mean   Adj. R-squared:                 -0.000\n",
            "Vol Model:                      GARCH   Log-Likelihood:                2616.54\n",
            "Distribution:                  Normal   AIC:                          -5225.08\n",
            "Method:            Maximum Likelihood   BIC:                          -5204.61\n",
            "                                        No. Observations:                 1233\n",
            "Date:                Tue, Oct 27 2020   Df Residuals:                     1229\n",
            "Time:                        01:41:14   Df Model:                            4\n",
            "                                  Mean Model                                 \n",
            "=============================================================================\n",
            "                 coef    std err          t      P>|t|       95.0% Conf. Int.\n",
            "-----------------------------------------------------------------------------\n",
            "mu         6.3357e-04  8.122e-04      0.780      0.435 [-9.583e-04,2.225e-03]\n",
            "                              Volatility Model                              \n",
            "============================================================================\n",
            "                 coef    std err          t      P>|t|      95.0% Conf. Int.\n",
            "----------------------------------------------------------------------------\n",
            "omega      1.0103e-05  6.060e-12  1.667e+06      0.000 [1.010e-05,1.010e-05]\n",
            "alpha[1]       0.0336  1.279e-02      2.626  8.631e-03 [8.525e-03,5.867e-02]\n",
            "beta[1]        0.9555  1.532e-02     62.377      0.000     [  0.925,  0.985]\n",
            "============================================================================\n",
            "\n",
            "Covariance estimator: robust\n"
          ],
          "name": "stdout"
        }
      ]
    },
    {
      "cell_type": "markdown",
      "metadata": {
        "id": "d1AAbUFMg9-0"
      },
      "source": [
        "### Plot"
      ]
    },
    {
      "cell_type": "code",
      "metadata": {
        "id": "ik2xyLz-aeqy",
        "cellView": "both",
        "outputId": "451893ac-6566-4259-fd1b-e7919bcf7af6",
        "colab": {
          "base_uri": "https://localhost:8080/",
          "height": 279
        }
      },
      "source": [
        "fig, axs = plt.subplots(figsize=(20, 4))\n",
        "axs.plot(garch)\n",
        "axs.set_ylabel('Volatilidade (%)')\n",
        "axs.set_xlabel('Data')\n",
        "plt.show()"
      ],
      "execution_count": 26,
      "outputs": [
        {
          "output_type": "display_data",
          "data": {
            "image/png": "[encoded data removed]",
            "text/plain": [
              "<Figure size 1440x288 with 1 Axes>"
            ]
          },
          "metadata": {
            "tags": [],
            "needs_background": "light"
          }
        }
      ]
    },
    {
      "cell_type": "code",
      "metadata": {
        "id": "oxpod5BI-jaQ",
        "outputId": "aefe6aae-2800-4643-e333-cfa9fb85d054",
        "colab": {
          "base_uri": "https://localhost:8080/",
          "height": 235
        }
      },
      "source": [
        "data = data.merge(right=garch, right_index=True, left_index=True)\n",
        "data = data.rename(columns={'cond_vol': 'vol'})\n",
        "data.head()"
      ],
      "execution_count": 27,
      "outputs": [
        {
          "output_type": "execute_result",
          "data": {
            "text/html": [
              "<div>\n",
              "<style scoped>\n",
              "    .dataframe tbody tr th:only-of-type {\n",
              "        vertical-align: middle;\n",
              "    }\n",
              "\n",
              "    .dataframe tbody tr th {\n",
              "        vertical-align: top;\n",
              "    }\n",
              "\n",
              "    .dataframe thead th {\n",
              "        text-align: right;\n",
              "    }\n",
              "</style>\n",
              "<table border=\"1\" class=\"dataframe\">\n",
              "  <thead>\n",
              "    <tr style=\"text-align: right;\">\n",
              "      <th></th>\n",
              "      <th>option</th>\n",
              "      <th>value</th>\n",
              "      <th>X</th>\n",
              "      <th>expire</th>\n",
              "      <th>option_type</th>\n",
              "      <th>T</th>\n",
              "      <th>S</th>\n",
              "      <th>volume</th>\n",
              "      <th>r</th>\n",
              "      <th>sigma</th>\n",
              "    </tr>\n",
              "    <tr>\n",
              "      <th>date</th>\n",
              "      <th></th>\n",
              "      <th></th>\n",
              "      <th></th>\n",
              "      <th></th>\n",
              "      <th></th>\n",
              "      <th></th>\n",
              "      <th></th>\n",
              "      <th></th>\n",
              "      <th></th>\n",
              "      <th></th>\n",
              "    </tr>\n",
              "  </thead>\n",
              "  <tbody>\n",
              "    <tr>\n",
              "      <th>2015-01-05</th>\n",
              "      <td>VALEC17</td>\n",
              "      <td>2.11</td>\n",
              "      <td>17.35</td>\n",
              "      <td>2015-03-16</td>\n",
              "      <td>call</td>\n",
              "      <td>0.190476</td>\n",
              "      <td>20.96</td>\n",
              "      <td>173776434.0</td>\n",
              "      <td>11.57</td>\n",
              "      <td>53.907341</td>\n",
              "    </tr>\n",
              "    <tr>\n",
              "      <th>2015-01-05</th>\n",
              "      <td>VALEC78</td>\n",
              "      <td>0.04</td>\n",
              "      <td>24.85</td>\n",
              "      <td>2015-03-16</td>\n",
              "      <td>call</td>\n",
              "      <td>0.190476</td>\n",
              "      <td>20.96</td>\n",
              "      <td>173776434.0</td>\n",
              "      <td>11.57</td>\n",
              "      <td>53.907341</td>\n",
              "    </tr>\n",
              "    <tr>\n",
              "      <th>2015-01-05</th>\n",
              "      <td>VALEC77</td>\n",
              "      <td>0.06</td>\n",
              "      <td>24.35</td>\n",
              "      <td>2015-03-16</td>\n",
              "      <td>call</td>\n",
              "      <td>0.190476</td>\n",
              "      <td>20.96</td>\n",
              "      <td>173776434.0</td>\n",
              "      <td>11.57</td>\n",
              "      <td>53.907341</td>\n",
              "    </tr>\n",
              "    <tr>\n",
              "      <th>2015-01-05</th>\n",
              "      <td>VALEC76</td>\n",
              "      <td>0.08</td>\n",
              "      <td>23.85</td>\n",
              "      <td>2015-03-16</td>\n",
              "      <td>call</td>\n",
              "      <td>0.190476</td>\n",
              "      <td>20.96</td>\n",
              "      <td>173776434.0</td>\n",
              "      <td>11.57</td>\n",
              "      <td>53.907341</td>\n",
              "    </tr>\n",
              "    <tr>\n",
              "      <th>2015-01-05</th>\n",
              "      <td>VALEC51</td>\n",
              "      <td>0.29</td>\n",
              "      <td>21.85</td>\n",
              "      <td>2015-03-16</td>\n",
              "      <td>call</td>\n",
              "      <td>0.190476</td>\n",
              "      <td>20.96</td>\n",
              "      <td>173776434.0</td>\n",
              "      <td>11.57</td>\n",
              "      <td>53.907341</td>\n",
              "    </tr>\n",
              "  </tbody>\n",
              "</table>\n",
              "</div>"
            ],
            "text/plain": [
              "             option  value      X  ...       volume      r      sigma\n",
              "date                               ...                               \n",
              "2015-01-05  VALEC17   2.11  17.35  ...  173776434.0  11.57  53.907341\n",
              "2015-01-05  VALEC78   0.04  24.85  ...  173776434.0  11.57  53.907341\n",
              "2015-01-05  VALEC77   0.06  24.35  ...  173776434.0  11.57  53.907341\n",
              "2015-01-05  VALEC76   0.08  23.85  ...  173776434.0  11.57  53.907341\n",
              "2015-01-05  VALEC51   0.29  21.85  ...  173776434.0  11.57  53.907341\n",
              "\n",
              "[5 rows x 10 columns]"
            ]
          },
          "metadata": {
            "tags": []
          },
          "execution_count": 27
        }
      ]
    },
    {
      "cell_type": "code",
      "metadata": {
        "id": "BlmbEmNV-zlY"
      },
      "source": [
        "cols = ['option', 'S', 'X', 'T', 'r', 'sigma', 'option_type', 'value']\n",
        "data.to_csv('/content/drive/My Drive/Datasets/data_option.csv')"
      ],
      "execution_count": 28,
      "outputs": []
    },
    {
      "cell_type": "code",
      "metadata": {
        "id": "ZDx982krlPf0",
        "outputId": "f026eb70-cdff-449a-d3c9-98144afd1dbc",
        "colab": {
          "base_uri": "https://localhost:8080/",
          "height": 450
        }
      },
      "source": [
        "data[data['option_type'] == 'put']"
      ],
      "execution_count": 29,
      "outputs": [
        {
          "output_type": "execute_result",
          "data": {
            "text/html": [
              "<div>\n",
              "<style scoped>\n",
              "    .dataframe tbody tr th:only-of-type {\n",
              "        vertical-align: middle;\n",
              "    }\n",
              "\n",
              "    .dataframe tbody tr th {\n",
              "        vertical-align: top;\n",
              "    }\n",
              "\n",
              "    .dataframe thead th {\n",
              "        text-align: right;\n",
              "    }\n",
              "</style>\n",
              "<table border=\"1\" class=\"dataframe\">\n",
              "  <thead>\n",
              "    <tr style=\"text-align: right;\">\n",
              "      <th></th>\n",
              "      <th>option</th>\n",
              "      <th>value</th>\n",
              "      <th>X</th>\n",
              "      <th>expire</th>\n",
              "      <th>option_type</th>\n",
              "      <th>T</th>\n",
              "      <th>S</th>\n",
              "      <th>volume</th>\n",
              "      <th>r</th>\n",
              "      <th>sigma</th>\n",
              "    </tr>\n",
              "    <tr>\n",
              "      <th>date</th>\n",
              "      <th></th>\n",
              "      <th></th>\n",
              "      <th></th>\n",
              "      <th></th>\n",
              "      <th></th>\n",
              "      <th></th>\n",
              "      <th></th>\n",
              "      <th></th>\n",
              "      <th></th>\n",
              "      <th></th>\n",
              "    </tr>\n",
              "  </thead>\n",
              "  <tbody>\n",
              "    <tr>\n",
              "      <th>2015-01-05</th>\n",
              "      <td>VALEO19</td>\n",
              "      <td>1.50</td>\n",
              "      <td>19.35</td>\n",
              "      <td>2015-03-16</td>\n",
              "      <td>put</td>\n",
              "      <td>0.190476</td>\n",
              "      <td>20.96</td>\n",
              "      <td>1.737764e+08</td>\n",
              "      <td>11.57</td>\n",
              "      <td>53.907341</td>\n",
              "    </tr>\n",
              "    <tr>\n",
              "      <th>2015-01-05</th>\n",
              "      <td>VALEO18</td>\n",
              "      <td>0.93</td>\n",
              "      <td>18.35</td>\n",
              "      <td>2015-03-16</td>\n",
              "      <td>put</td>\n",
              "      <td>0.190476</td>\n",
              "      <td>20.96</td>\n",
              "      <td>1.737764e+08</td>\n",
              "      <td>11.57</td>\n",
              "      <td>53.907341</td>\n",
              "    </tr>\n",
              "    <tr>\n",
              "      <th>2015-01-05</th>\n",
              "      <td>VALEN83</td>\n",
              "      <td>2.23</td>\n",
              "      <td>20.85</td>\n",
              "      <td>2015-02-09</td>\n",
              "      <td>put</td>\n",
              "      <td>0.099206</td>\n",
              "      <td>20.96</td>\n",
              "      <td>1.737764e+08</td>\n",
              "      <td>11.57</td>\n",
              "      <td>53.907341</td>\n",
              "    </tr>\n",
              "    <tr>\n",
              "      <th>2015-01-05</th>\n",
              "      <td>VALEN81</td>\n",
              "      <td>0.95</td>\n",
              "      <td>18.85</td>\n",
              "      <td>2015-02-09</td>\n",
              "      <td>put</td>\n",
              "      <td>0.099206</td>\n",
              "      <td>20.96</td>\n",
              "      <td>1.737764e+08</td>\n",
              "      <td>11.57</td>\n",
              "      <td>53.907341</td>\n",
              "    </tr>\n",
              "    <tr>\n",
              "      <th>2015-01-05</th>\n",
              "      <td>VALEN80</td>\n",
              "      <td>0.49</td>\n",
              "      <td>17.85</td>\n",
              "      <td>2015-02-09</td>\n",
              "      <td>put</td>\n",
              "      <td>0.099206</td>\n",
              "      <td>20.96</td>\n",
              "      <td>1.737764e+08</td>\n",
              "      <td>11.57</td>\n",
              "      <td>53.907341</td>\n",
              "    </tr>\n",
              "    <tr>\n",
              "      <th>...</th>\n",
              "      <td>...</td>\n",
              "      <td>...</td>\n",
              "      <td>...</td>\n",
              "      <td>...</td>\n",
              "      <td>...</td>\n",
              "      <td>...</td>\n",
              "      <td>...</td>\n",
              "      <td>...</td>\n",
              "      <td>...</td>\n",
              "      <td>...</td>\n",
              "    </tr>\n",
              "    <tr>\n",
              "      <th>2019-12-13</th>\n",
              "      <td>VALEX465</td>\n",
              "      <td>0.01</td>\n",
              "      <td>46.55</td>\n",
              "      <td>2019-12-16</td>\n",
              "      <td>put</td>\n",
              "      <td>0.003968</td>\n",
              "      <td>53.76</td>\n",
              "      <td>1.506382e+09</td>\n",
              "      <td>4.90</td>\n",
              "      <td>32.283598</td>\n",
              "    </tr>\n",
              "    <tr>\n",
              "      <th>2019-12-13</th>\n",
              "      <td>VALEX580</td>\n",
              "      <td>4.67</td>\n",
              "      <td>58.05</td>\n",
              "      <td>2019-12-16</td>\n",
              "      <td>put</td>\n",
              "      <td>0.003968</td>\n",
              "      <td>53.76</td>\n",
              "      <td>1.506382e+09</td>\n",
              "      <td>4.90</td>\n",
              "      <td>32.283598</td>\n",
              "    </tr>\n",
              "    <tr>\n",
              "      <th>2019-12-13</th>\n",
              "      <td>VALEX480</td>\n",
              "      <td>0.01</td>\n",
              "      <td>48.05</td>\n",
              "      <td>2019-12-16</td>\n",
              "      <td>put</td>\n",
              "      <td>0.003968</td>\n",
              "      <td>53.76</td>\n",
              "      <td>1.506382e+09</td>\n",
              "      <td>4.90</td>\n",
              "      <td>32.283598</td>\n",
              "    </tr>\n",
              "    <tr>\n",
              "      <th>2019-12-13</th>\n",
              "      <td>VALEX570</td>\n",
              "      <td>3.85</td>\n",
              "      <td>57.05</td>\n",
              "      <td>2019-12-16</td>\n",
              "      <td>put</td>\n",
              "      <td>0.003968</td>\n",
              "      <td>53.76</td>\n",
              "      <td>1.506382e+09</td>\n",
              "      <td>4.90</td>\n",
              "      <td>32.283598</td>\n",
              "    </tr>\n",
              "    <tr>\n",
              "      <th>2019-12-13</th>\n",
              "      <td>VALEX510</td>\n",
              "      <td>0.01</td>\n",
              "      <td>51.05</td>\n",
              "      <td>2019-12-16</td>\n",
              "      <td>put</td>\n",
              "      <td>0.003968</td>\n",
              "      <td>53.76</td>\n",
              "      <td>1.506382e+09</td>\n",
              "      <td>4.90</td>\n",
              "      <td>32.283598</td>\n",
              "    </tr>\n",
              "  </tbody>\n",
              "</table>\n",
              "<p>81284 rows × 10 columns</p>\n",
              "</div>"
            ],
            "text/plain": [
              "              option  value      X  ...        volume      r      sigma\n",
              "date                                ...                                \n",
              "2015-01-05   VALEO19   1.50  19.35  ...  1.737764e+08  11.57  53.907341\n",
              "2015-01-05   VALEO18   0.93  18.35  ...  1.737764e+08  11.57  53.907341\n",
              "2015-01-05   VALEN83   2.23  20.85  ...  1.737764e+08  11.57  53.907341\n",
              "2015-01-05   VALEN81   0.95  18.85  ...  1.737764e+08  11.57  53.907341\n",
              "2015-01-05   VALEN80   0.49  17.85  ...  1.737764e+08  11.57  53.907341\n",
              "...              ...    ...    ...  ...           ...    ...        ...\n",
              "2019-12-13  VALEX465   0.01  46.55  ...  1.506382e+09   4.90  32.283598\n",
              "2019-12-13  VALEX580   4.67  58.05  ...  1.506382e+09   4.90  32.283598\n",
              "2019-12-13  VALEX480   0.01  48.05  ...  1.506382e+09   4.90  32.283598\n",
              "2019-12-13  VALEX570   3.85  57.05  ...  1.506382e+09   4.90  32.283598\n",
              "2019-12-13  VALEX510   0.01  51.05  ...  1.506382e+09   4.90  32.283598\n",
              "\n",
              "[81284 rows x 10 columns]"
            ]
          },
          "metadata": {
            "tags": []
          },
          "execution_count": 29
        }
      ]
    },
    {
      "cell_type": "code",
      "metadata": {
        "id": "lVlMRnUTlTe9"
      },
      "source": [
        ""
      ],
      "execution_count": null,
      "outputs": []
    }
  ]
}